{
 "cells": [
  {
   "cell_type": "code",
   "execution_count": 1,
   "id": "initial_id",
   "metadata": {
    "collapsed": true,
    "ExecuteTime": {
     "end_time": "2023-11-30T18:03:09.446781900Z",
     "start_time": "2023-11-30T18:03:07.054349Z"
    }
   },
   "outputs": [],
   "source": [
    "import pandas as pd"
   ]
  },
  {
   "cell_type": "markdown",
   "source": [
    "Дадена е една Пандас табела podatoci, која се состои од колоните 'matichen', 'ime', 'prezime', 'ulica', 'broj' и 'naseleno mesto'. Во таа табела недостасува по некој податок во сите колони. За да се работи само со колоните 'matichen', 'ime' и 'prezime', направена е нова табела lichni. Тоа се постогнува со наредбата (под претпоставка дека библиотеката pandas е вчитана со скратеното име pd)"
   ],
   "metadata": {
    "collapsed": false
   },
   "id": "47163f1a6c9d347e"
  },
  {
   "cell_type": "code",
   "execution_count": 5,
   "outputs": [
    {
     "data": {
      "text/plain": "       matichen        ime     prezime      ulica        broj naseleno mesto\n0  2.911000e+10  Dimitrija     Timeski  broj 3432   5020582.0         Skopje\n1  1.324913e+09      Jovan  Jovanovski       None  49249230.0          Shtip\n2           NaN      Ivana     Ivanova  broj 3141         NaN          Veles",
      "text/html": "<div>\n<style scoped>\n    .dataframe tbody tr th:only-of-type {\n        vertical-align: middle;\n    }\n\n    .dataframe tbody tr th {\n        vertical-align: top;\n    }\n\n    .dataframe thead th {\n        text-align: right;\n    }\n</style>\n<table border=\"1\" class=\"dataframe\">\n  <thead>\n    <tr style=\"text-align: right;\">\n      <th></th>\n      <th>matichen</th>\n      <th>ime</th>\n      <th>prezime</th>\n      <th>ulica</th>\n      <th>broj</th>\n      <th>naseleno mesto</th>\n    </tr>\n  </thead>\n  <tbody>\n    <tr>\n      <th>0</th>\n      <td>2.911000e+10</td>\n      <td>Dimitrija</td>\n      <td>Timeski</td>\n      <td>broj 3432</td>\n      <td>5020582.0</td>\n      <td>Skopje</td>\n    </tr>\n    <tr>\n      <th>1</th>\n      <td>1.324913e+09</td>\n      <td>Jovan</td>\n      <td>Jovanovski</td>\n      <td>None</td>\n      <td>49249230.0</td>\n      <td>Shtip</td>\n    </tr>\n    <tr>\n      <th>2</th>\n      <td>NaN</td>\n      <td>Ivana</td>\n      <td>Ivanova</td>\n      <td>broj 3141</td>\n      <td>NaN</td>\n      <td>Veles</td>\n    </tr>\n  </tbody>\n</table>\n</div>"
     },
     "execution_count": 5,
     "metadata": {},
     "output_type": "execute_result"
    }
   ],
   "source": [
    "data = {'matichen': [29110002304, 1324913204, None], 'ime': [\"Dimitrija\", \"Jovan\", \"Ivana\"],\n",
    "        'prezime': [\"Timeski\", \"Jovanovski\", \"Ivanova\"], 'ulica': [\"broj 3432\", None, \"broj 3141\"],\n",
    "        'broj': [5020582, 49249230, None],\n",
    "        'naseleno mesto': [\"Skopje\", \"Shtip\", \"Veles\"]}\n",
    "podatoci = pd.DataFrame(data)\n",
    "podatoci.head()"
   ],
   "metadata": {
    "collapsed": false,
    "ExecuteTime": {
     "end_time": "2023-11-30T18:06:25.542871Z",
     "start_time": "2023-11-30T18:06:25.524379700Z"
    }
   },
   "id": "c74e4a47eb2b5106"
  },
  {
   "cell_type": "code",
   "execution_count": 14,
   "outputs": [
    {
     "data": {
      "text/plain": "       matichen        ime     prezime\n0  2.911000e+10  Dimitrija     Timeski\n1  1.324913e+09      Jovan  Jovanovski\n2           NaN      Ivana     Ivanova",
      "text/html": "<div>\n<style scoped>\n    .dataframe tbody tr th:only-of-type {\n        vertical-align: middle;\n    }\n\n    .dataframe tbody tr th {\n        vertical-align: top;\n    }\n\n    .dataframe thead th {\n        text-align: right;\n    }\n</style>\n<table border=\"1\" class=\"dataframe\">\n  <thead>\n    <tr style=\"text-align: right;\">\n      <th></th>\n      <th>matichen</th>\n      <th>ime</th>\n      <th>prezime</th>\n    </tr>\n  </thead>\n  <tbody>\n    <tr>\n      <th>0</th>\n      <td>2.911000e+10</td>\n      <td>Dimitrija</td>\n      <td>Timeski</td>\n    </tr>\n    <tr>\n      <th>1</th>\n      <td>1.324913e+09</td>\n      <td>Jovan</td>\n      <td>Jovanovski</td>\n    </tr>\n    <tr>\n      <th>2</th>\n      <td>NaN</td>\n      <td>Ivana</td>\n      <td>Ivanova</td>\n    </tr>\n  </tbody>\n</table>\n</div>"
     },
     "execution_count": 14,
     "metadata": {},
     "output_type": "execute_result"
    }
   ],
   "source": [
    "lichni = podatoci[['matichen', 'ime', 'prezime']]\n",
    "lichni"
   ],
   "metadata": {
    "collapsed": false,
    "ExecuteTime": {
     "end_time": "2023-11-30T18:10:19.515161600Z",
     "start_time": "2023-11-30T18:10:19.497631100Z"
    }
   },
   "id": "a9d2db3bcf0c2da5"
  },
  {
   "cell_type": "code",
   "execution_count": 15,
   "outputs": [
    {
     "data": {
      "text/plain": "       matichen        ime     prezime\n0  2.911000e+10  Dimitrija     Timeski\n1  1.324913e+09      Jovan  Jovanovski\n2           NaN      Ivana     Ivanova",
      "text/html": "<div>\n<style scoped>\n    .dataframe tbody tr th:only-of-type {\n        vertical-align: middle;\n    }\n\n    .dataframe tbody tr th {\n        vertical-align: top;\n    }\n\n    .dataframe thead th {\n        text-align: right;\n    }\n</style>\n<table border=\"1\" class=\"dataframe\">\n  <thead>\n    <tr style=\"text-align: right;\">\n      <th></th>\n      <th>matichen</th>\n      <th>ime</th>\n      <th>prezime</th>\n    </tr>\n  </thead>\n  <tbody>\n    <tr>\n      <th>0</th>\n      <td>2.911000e+10</td>\n      <td>Dimitrija</td>\n      <td>Timeski</td>\n    </tr>\n    <tr>\n      <th>1</th>\n      <td>1.324913e+09</td>\n      <td>Jovan</td>\n      <td>Jovanovski</td>\n    </tr>\n    <tr>\n      <th>2</th>\n      <td>NaN</td>\n      <td>Ivana</td>\n      <td>Ivanova</td>\n    </tr>\n  </tbody>\n</table>\n</div>"
     },
     "execution_count": 15,
     "metadata": {},
     "output_type": "execute_result"
    }
   ],
   "source": [
    "lichni = podatoci.drop(labels=['ulica', 'broj', 'naseleno mesto'], axis=1)\n",
    "lichni"
   ],
   "metadata": {
    "collapsed": false,
    "ExecuteTime": {
     "end_time": "2023-11-30T18:10:19.744233500Z",
     "start_time": "2023-11-30T18:10:19.725163300Z"
    }
   },
   "id": "2e265808f5862af3"
  },
  {
   "cell_type": "markdown",
   "source": [
    "Во една Пандас табела sistematski е даден список од систематски преглед и има колони 'matichen', 'pol', 'visina', 'tezhina'. Потребно е да се земат само податоците за женските. Таа цел може да се постигне со следните два чекори (под претпоставка дека е вчитана библиотеката pandas со скратеното име pd)"
   ],
   "metadata": {
    "collapsed": false
   },
   "id": "9498b1796d75566f"
  },
  {
   "cell_type": "code",
   "execution_count": 24,
   "outputs": [
    {
     "data": {
      "text/plain": "    matichen      pol  visina  tezhina\n0  324324123   mashki   175.5       86\n1   32141234  zhenski   169.2       92\n2     134124  zhenski   255.2       66",
      "text/html": "<div>\n<style scoped>\n    .dataframe tbody tr th:only-of-type {\n        vertical-align: middle;\n    }\n\n    .dataframe tbody tr th {\n        vertical-align: top;\n    }\n\n    .dataframe thead th {\n        text-align: right;\n    }\n</style>\n<table border=\"1\" class=\"dataframe\">\n  <thead>\n    <tr style=\"text-align: right;\">\n      <th></th>\n      <th>matichen</th>\n      <th>pol</th>\n      <th>visina</th>\n      <th>tezhina</th>\n    </tr>\n  </thead>\n  <tbody>\n    <tr>\n      <th>0</th>\n      <td>324324123</td>\n      <td>mashki</td>\n      <td>175.5</td>\n      <td>86</td>\n    </tr>\n    <tr>\n      <th>1</th>\n      <td>32141234</td>\n      <td>zhenski</td>\n      <td>169.2</td>\n      <td>92</td>\n    </tr>\n    <tr>\n      <th>2</th>\n      <td>134124</td>\n      <td>zhenski</td>\n      <td>255.2</td>\n      <td>66</td>\n    </tr>\n  </tbody>\n</table>\n</div>"
     },
     "execution_count": 24,
     "metadata": {},
     "output_type": "execute_result"
    }
   ],
   "source": [
    "data2 = {'matichen': [324324123, 32141234, 134124], 'pol': [\"mashki\", \"zhenski\", \"zhenski\"],\n",
    "         'visina': [175.5, 169.2, 255.2],\n",
    "         'tezhina': [86, 92, 66]}\n",
    "sistematski = pd.DataFrame(data2)\n",
    "sistematski.head()"
   ],
   "metadata": {
    "collapsed": false,
    "ExecuteTime": {
     "end_time": "2023-11-30T18:15:43.013788200Z",
     "start_time": "2023-11-30T18:15:42.977989400Z"
    }
   },
   "id": "15c315e443be3dbb"
  },
  {
   "cell_type": "code",
   "execution_count": 25,
   "outputs": [
    {
     "data": {
      "text/plain": "    matichen      pol  visina  tezhina\n0  324324123   mashki   175.5       86\n1   32141234  zhenski   169.2       92\n2     134124  zhenski   255.2       66",
      "text/html": "<div>\n<style scoped>\n    .dataframe tbody tr th:only-of-type {\n        vertical-align: middle;\n    }\n\n    .dataframe tbody tr th {\n        vertical-align: top;\n    }\n\n    .dataframe thead th {\n        text-align: right;\n    }\n</style>\n<table border=\"1\" class=\"dataframe\">\n  <thead>\n    <tr style=\"text-align: right;\">\n      <th></th>\n      <th>matichen</th>\n      <th>pol</th>\n      <th>visina</th>\n      <th>tezhina</th>\n    </tr>\n  </thead>\n  <tbody>\n    <tr>\n      <th>0</th>\n      <td>324324123</td>\n      <td>mashki</td>\n      <td>175.5</td>\n      <td>86</td>\n    </tr>\n    <tr>\n      <th>1</th>\n      <td>32141234</td>\n      <td>zhenski</td>\n      <td>169.2</td>\n      <td>92</td>\n    </tr>\n    <tr>\n      <th>2</th>\n      <td>134124</td>\n      <td>zhenski</td>\n      <td>255.2</td>\n      <td>66</td>\n    </tr>\n  </tbody>\n</table>\n</div>"
     },
     "execution_count": 25,
     "metadata": {},
     "output_type": "execute_result"
    }
   ],
   "source": [
    "Grupirani = sistematski.groupby('pol')\n",
    "Grupirani.head()"
   ],
   "metadata": {
    "collapsed": false,
    "ExecuteTime": {
     "end_time": "2023-11-30T18:15:43.248574300Z",
     "start_time": "2023-11-30T18:15:43.191801700Z"
    }
   },
   "id": "80670c6f386ce886"
  },
  {
   "cell_type": "code",
   "execution_count": 27,
   "outputs": [
    {
     "data": {
      "text/plain": "   matichen      pol  visina  tezhina\n1  32141234  zhenski   169.2       92\n2    134124  zhenski   255.2       66",
      "text/html": "<div>\n<style scoped>\n    .dataframe tbody tr th:only-of-type {\n        vertical-align: middle;\n    }\n\n    .dataframe tbody tr th {\n        vertical-align: top;\n    }\n\n    .dataframe thead th {\n        text-align: right;\n    }\n</style>\n<table border=\"1\" class=\"dataframe\">\n  <thead>\n    <tr style=\"text-align: right;\">\n      <th></th>\n      <th>matichen</th>\n      <th>pol</th>\n      <th>visina</th>\n      <th>tezhina</th>\n    </tr>\n  </thead>\n  <tbody>\n    <tr>\n      <th>1</th>\n      <td>32141234</td>\n      <td>zhenski</td>\n      <td>169.2</td>\n      <td>92</td>\n    </tr>\n    <tr>\n      <th>2</th>\n      <td>134124</td>\n      <td>zhenski</td>\n      <td>255.2</td>\n      <td>66</td>\n    </tr>\n  </tbody>\n</table>\n</div>"
     },
     "execution_count": 27,
     "metadata": {},
     "output_type": "execute_result"
    }
   ],
   "source": [
    "Grupirani.get_group('zhenski')"
   ],
   "metadata": {
    "collapsed": false,
    "ExecuteTime": {
     "end_time": "2023-11-30T18:15:47.799655200Z",
     "start_time": "2023-11-30T18:15:47.779669Z"
    }
   },
   "id": "2db95dc820bd3cb2"
  },
  {
   "cell_type": "markdown",
   "source": [
    "Дадена е табелата studenti со колони 'indeks', 'ime', 'prezime', 'predmet', 'ocena', во која што се запишани сите оцени за сите предмети за сите студенти. Потребно е да се најде просечната оцена на секој студент. Тоа на едноставен начин може да се постигне со помош на пивот табела со следната наредба (сметаме дека библиотеката pandas е веќе вчитана со скратено име pd)"
   ],
   "metadata": {
    "collapsed": false
   },
   "id": "154dce3dfacfd29c"
  },
  {
   "cell_type": "code",
   "execution_count": 50,
   "outputs": [
    {
     "data": {
      "text/plain": "   indeks        ime     prezime predmet  ocena\n0  203235  Dimitrija     Timeski     WBS      9\n1  203235  Dimitrija     Timeski      WP     10\n2  203235  Dimitrija     Timeski      DS      7\n3  203235  Dimitrija     Timeski     APS      9\n4  240522      Jovan  Jovanovski      DS      6\n5  350924      Ivana     Ivanova      WP      5",
      "text/html": "<div>\n<style scoped>\n    .dataframe tbody tr th:only-of-type {\n        vertical-align: middle;\n    }\n\n    .dataframe tbody tr th {\n        vertical-align: top;\n    }\n\n    .dataframe thead th {\n        text-align: right;\n    }\n</style>\n<table border=\"1\" class=\"dataframe\">\n  <thead>\n    <tr style=\"text-align: right;\">\n      <th></th>\n      <th>indeks</th>\n      <th>ime</th>\n      <th>prezime</th>\n      <th>predmet</th>\n      <th>ocena</th>\n    </tr>\n  </thead>\n  <tbody>\n    <tr>\n      <th>0</th>\n      <td>203235</td>\n      <td>Dimitrija</td>\n      <td>Timeski</td>\n      <td>WBS</td>\n      <td>9</td>\n    </tr>\n    <tr>\n      <th>1</th>\n      <td>203235</td>\n      <td>Dimitrija</td>\n      <td>Timeski</td>\n      <td>WP</td>\n      <td>10</td>\n    </tr>\n    <tr>\n      <th>2</th>\n      <td>203235</td>\n      <td>Dimitrija</td>\n      <td>Timeski</td>\n      <td>DS</td>\n      <td>7</td>\n    </tr>\n    <tr>\n      <th>3</th>\n      <td>203235</td>\n      <td>Dimitrija</td>\n      <td>Timeski</td>\n      <td>APS</td>\n      <td>9</td>\n    </tr>\n    <tr>\n      <th>4</th>\n      <td>240522</td>\n      <td>Jovan</td>\n      <td>Jovanovski</td>\n      <td>DS</td>\n      <td>6</td>\n    </tr>\n    <tr>\n      <th>5</th>\n      <td>350924</td>\n      <td>Ivana</td>\n      <td>Ivanova</td>\n      <td>WP</td>\n      <td>5</td>\n    </tr>\n  </tbody>\n</table>\n</div>"
     },
     "execution_count": 50,
     "metadata": {},
     "output_type": "execute_result"
    }
   ],
   "source": [
    "data3 = {'indeks': [203235, 203235, 203235, 203235, 240522, 350924],\n",
    "        'ime': [\"Dimitrija\", \"Dimitrija\", \"Dimitrija\", \"Dimitrija\", \"Jovan\", \"Ivana\"],\n",
    "        'prezime': [\"Timeski\", \"Timeski\", \"Timeski\", \"Timeski\", \"Jovanovski\", \"Ivanova\"],\n",
    "        'predmet': [\"WBS\", \"WP\", \"DS\", \"APS\", \"DS\", \"WP\"],\n",
    "        'ocena': [9, 10, 7, 9, 6, 5]}\n",
    "studenti = pd.DataFrame(data3)\n",
    "studenti.head(10)"
   ],
   "metadata": {
    "collapsed": false,
    "ExecuteTime": {
     "end_time": "2023-11-30T18:29:12.111302200Z",
     "start_time": "2023-11-30T18:29:12.061292Z"
    }
   },
   "id": "fde37bf5366b909d"
  },
  {
   "cell_type": "code",
   "execution_count": 51,
   "outputs": [],
   "source": [
    "Prosek = pd.pivot_table(data=studenti, index=\"indeks\", aggfunc=\"mean\")"
   ],
   "metadata": {
    "collapsed": false,
    "ExecuteTime": {
     "end_time": "2023-11-30T18:29:12.301802100Z",
     "start_time": "2023-11-30T18:29:12.266847400Z"
    }
   },
   "id": "20ad1463487d88d1"
  },
  {
   "cell_type": "code",
   "execution_count": 52,
   "outputs": [
    {
     "data": {
      "text/plain": "        ocena\nindeks       \n203235   8.75\n240522   6.00\n350924   5.00",
      "text/html": "<div>\n<style scoped>\n    .dataframe tbody tr th:only-of-type {\n        vertical-align: middle;\n    }\n\n    .dataframe tbody tr th {\n        vertical-align: top;\n    }\n\n    .dataframe thead th {\n        text-align: right;\n    }\n</style>\n<table border=\"1\" class=\"dataframe\">\n  <thead>\n    <tr style=\"text-align: right;\">\n      <th></th>\n      <th>ocena</th>\n    </tr>\n    <tr>\n      <th>indeks</th>\n      <th></th>\n    </tr>\n  </thead>\n  <tbody>\n    <tr>\n      <th>203235</th>\n      <td>8.75</td>\n    </tr>\n    <tr>\n      <th>240522</th>\n      <td>6.00</td>\n    </tr>\n    <tr>\n      <th>350924</th>\n      <td>5.00</td>\n    </tr>\n  </tbody>\n</table>\n</div>"
     },
     "execution_count": 52,
     "metadata": {},
     "output_type": "execute_result"
    }
   ],
   "source": [
    "Prosek"
   ],
   "metadata": {
    "collapsed": false,
    "ExecuteTime": {
     "end_time": "2023-11-30T18:29:12.592286400Z",
     "start_time": "2023-11-30T18:29:12.561357900Z"
    }
   },
   "id": "f5ea4929106d9c6a"
  },
  {
   "cell_type": "markdown",
   "source": [
    "Дадена е една Пандас табела studenti со колони 'indeks', ime', 'prezime', 'matichen'. Во неа индекс колоната е автоматска со редни броеви, а сакаме колоната 'matichen' да стане индекс колона. Изберете кои два чекори се потребни за да бидеме сигурни дека таа колона може да биде индекс колона\n",
    "\n"
   ],
   "metadata": {
    "collapsed": false
   },
   "id": "89b4d7532932141d"
  },
  {
   "cell_type": "code",
   "execution_count": 55,
   "outputs": [
    {
     "data": {
      "text/plain": "    indeks        ime    prezime      matichen\n0    24023  Dimitrija    Timeski  812345123456\n1  3452134      Jovan  Trajceski    9123413242\n2    23453      Ivana    Petrova     612351236",
      "text/html": "<div>\n<style scoped>\n    .dataframe tbody tr th:only-of-type {\n        vertical-align: middle;\n    }\n\n    .dataframe tbody tr th {\n        vertical-align: top;\n    }\n\n    .dataframe thead th {\n        text-align: right;\n    }\n</style>\n<table border=\"1\" class=\"dataframe\">\n  <thead>\n    <tr style=\"text-align: right;\">\n      <th></th>\n      <th>indeks</th>\n      <th>ime</th>\n      <th>prezime</th>\n      <th>matichen</th>\n    </tr>\n  </thead>\n  <tbody>\n    <tr>\n      <th>0</th>\n      <td>24023</td>\n      <td>Dimitrija</td>\n      <td>Timeski</td>\n      <td>812345123456</td>\n    </tr>\n    <tr>\n      <th>1</th>\n      <td>3452134</td>\n      <td>Jovan</td>\n      <td>Trajceski</td>\n      <td>9123413242</td>\n    </tr>\n    <tr>\n      <th>2</th>\n      <td>23453</td>\n      <td>Ivana</td>\n      <td>Petrova</td>\n      <td>612351236</td>\n    </tr>\n  </tbody>\n</table>\n</div>"
     },
     "execution_count": 55,
     "metadata": {},
     "output_type": "execute_result"
    }
   ],
   "source": [
    "data4 = {'indeks': [24023, 3452134, 23453], 'ime': [\"Dimitrija\", \"Jovan\", \"Ivana\"],\n",
    "         'prezime': [\"Timeski\",\"Trajceski\",\"Petrova\"],\n",
    "         'matichen': [812345123456, 9123413242, 612351236]}\n",
    "studenti = pd.DataFrame(data4)\n",
    "studenti.head()"
   ],
   "metadata": {
    "collapsed": false,
    "ExecuteTime": {
     "end_time": "2023-11-30T18:30:46.671604100Z",
     "start_time": "2023-11-30T18:30:46.620532500Z"
    }
   },
   "id": "c2dfd57dcccec21f"
  },
  {
   "cell_type": "code",
   "execution_count": 58,
   "outputs": [
    {
     "data": {
      "text/plain": "True"
     },
     "execution_count": 58,
     "metadata": {},
     "output_type": "execute_result"
    }
   ],
   "source": [
    "studenti['matichen'].is_unique"
   ],
   "metadata": {
    "collapsed": false,
    "ExecuteTime": {
     "end_time": "2023-11-30T18:30:57.605660100Z",
     "start_time": "2023-11-30T18:30:57.572595300Z"
    }
   },
   "id": "9c0bae16c63454c1"
  },
  {
   "cell_type": "code",
   "execution_count": 59,
   "outputs": [
    {
     "data": {
      "text/plain": "               indeks        ime    prezime\nmatichen                                   \n812345123456    24023  Dimitrija    Timeski\n9123413242    3452134      Jovan  Trajceski\n612351236       23453      Ivana    Petrova",
      "text/html": "<div>\n<style scoped>\n    .dataframe tbody tr th:only-of-type {\n        vertical-align: middle;\n    }\n\n    .dataframe tbody tr th {\n        vertical-align: top;\n    }\n\n    .dataframe thead th {\n        text-align: right;\n    }\n</style>\n<table border=\"1\" class=\"dataframe\">\n  <thead>\n    <tr style=\"text-align: right;\">\n      <th></th>\n      <th>indeks</th>\n      <th>ime</th>\n      <th>prezime</th>\n    </tr>\n    <tr>\n      <th>matichen</th>\n      <th></th>\n      <th></th>\n      <th></th>\n    </tr>\n  </thead>\n  <tbody>\n    <tr>\n      <th>812345123456</th>\n      <td>24023</td>\n      <td>Dimitrija</td>\n      <td>Timeski</td>\n    </tr>\n    <tr>\n      <th>9123413242</th>\n      <td>3452134</td>\n      <td>Jovan</td>\n      <td>Trajceski</td>\n    </tr>\n    <tr>\n      <th>612351236</th>\n      <td>23453</td>\n      <td>Ivana</td>\n      <td>Petrova</td>\n    </tr>\n  </tbody>\n</table>\n</div>"
     },
     "execution_count": 59,
     "metadata": {},
     "output_type": "execute_result"
    }
   ],
   "source": [
    "studenti.set_index('matichen', inplace=True)\n",
    "studenti.head()"
   ],
   "metadata": {
    "collapsed": false,
    "ExecuteTime": {
     "end_time": "2023-11-30T18:31:22.239718700Z",
     "start_time": "2023-11-30T18:31:22.176909800Z"
    }
   },
   "id": "221df401dcacda5"
  },
  {
   "cell_type": "code",
   "execution_count": null,
   "outputs": [],
   "source": [],
   "metadata": {
    "collapsed": false
   },
   "id": "d3d2e2b699f2cdb6"
  }
 ],
 "metadata": {
  "kernelspec": {
   "display_name": "Python 3",
   "language": "python",
   "name": "python3"
  },
  "language_info": {
   "codemirror_mode": {
    "name": "ipython",
    "version": 2
   },
   "file_extension": ".py",
   "mimetype": "text/x-python",
   "name": "python",
   "nbconvert_exporter": "python",
   "pygments_lexer": "ipython2",
   "version": "2.7.6"
  }
 },
 "nbformat": 4,
 "nbformat_minor": 5
}
