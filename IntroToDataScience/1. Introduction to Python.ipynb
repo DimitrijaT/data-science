{
 "nbformat": 4,
 "nbformat_minor": 0,
 "metadata": {
  "colab": {
   "provenance": []
  },
  "kernelspec": {
   "name": "python3",
   "language": "python",
   "display_name": "Python 3 (ipykernel)"
  },
  "language_info": {
   "name": "python"
  }
 },
 "cells": [
  {
   "cell_type": "markdown",
   "source": [
    "# Аудиториска вежба 1: Introduction to Python"
   ],
   "metadata": {
    "id": "QHtK2QkBp_1l"
   }
  },
  {
   "cell_type": "markdown",
   "source": [
    "### Utils"
   ],
   "metadata": {
    "id": "msMABK3kCDOO"
   }
  },
  {
   "cell_type": "markdown",
   "source": [
    "*Note: When using any function, Ctrl + Space is your best friend!*\n",
    "\n",
    "*Note: Ctrl + / will comment out any selected code!*"
   ],
   "metadata": {
    "id": "5SNa8VtFCHN9"
   }
  },
  {
   "cell_type": "markdown",
   "source": [
    "### Expressions"
   ],
   "metadata": {
    "id": "_DtzOamurN8w"
   }
  },
  {
   "cell_type": "code",
   "source": [
    "3 * 5"
   ],
   "metadata": {
    "colab": {
     "base_uri": "https://localhost:8080/"
    },
    "id": "L-7R1Fleprce",
    "outputId": "babd94ed-6564-4709-d8f1-af8bc9a02ec1",
    "ExecuteTime": {
     "end_time": "2023-12-03T01:17:33.131879600Z",
     "start_time": "2023-12-03T01:17:33.103297700Z"
    }
   },
   "execution_count": 135,
   "outputs": [
    {
     "data": {
      "text/plain": "15"
     },
     "execution_count": 135,
     "metadata": {},
     "output_type": "execute_result"
    }
   ]
  },
  {
   "cell_type": "code",
   "source": [
    "print(2 + 3)\n",
    "print(7 * 9)"
   ],
   "metadata": {
    "colab": {
     "base_uri": "https://localhost:8080/"
    },
    "id": "BVN-iz7ox9og",
    "outputId": "e61160ad-a333-49ad-b550-a71285f06951",
    "ExecuteTime": {
     "end_time": "2023-12-03T01:17:33.408232600Z",
     "start_time": "2023-12-03T01:17:33.363587Z"
    }
   },
   "execution_count": 136,
   "outputs": [
    {
     "name": "stdout",
     "output_type": "stream",
     "text": [
      "5\n",
      "63\n"
     ]
    }
   ]
  },
  {
   "cell_type": "code",
   "source": [
    "print(3 / 4)"
   ],
   "metadata": {
    "colab": {
     "base_uri": "https://localhost:8080/"
    },
    "id": "D6aPqXjrrTgP",
    "outputId": "a5a7c5c5-9953-4a81-adec-a40fe2896904",
    "ExecuteTime": {
     "end_time": "2023-12-03T01:17:33.594190500Z",
     "start_time": "2023-12-03T01:17:33.558076Z"
    }
   },
   "execution_count": 137,
   "outputs": [
    {
     "name": "stdout",
     "output_type": "stream",
     "text": [
      "0.75\n"
     ]
    }
   ]
  },
  {
   "cell_type": "code",
   "source": [
    "2 + 4 * 5"
   ],
   "metadata": {
    "colab": {
     "base_uri": "https://localhost:8080/"
    },
    "id": "UW5hr_7drXEk",
    "outputId": "f159ff18-1524-4212-db32-da83b0525b86",
    "ExecuteTime": {
     "end_time": "2023-12-03T01:17:33.868584100Z",
     "start_time": "2023-12-03T01:17:33.815658Z"
    }
   },
   "execution_count": 138,
   "outputs": [
    {
     "data": {
      "text/plain": "22"
     },
     "execution_count": 138,
     "metadata": {},
     "output_type": "execute_result"
    }
   ]
  },
  {
   "cell_type": "code",
   "source": [
    "(2 + 4) * 5"
   ],
   "metadata": {
    "colab": {
     "base_uri": "https://localhost:8080/"
    },
    "id": "LP4_FwLIroMj",
    "outputId": "887f38bd-dae4-4207-d238-4a87bc984ba0",
    "ExecuteTime": {
     "end_time": "2023-12-03T01:17:34.123922600Z",
     "start_time": "2023-12-03T01:17:34.090634Z"
    }
   },
   "execution_count": 139,
   "outputs": [
    {
     "data": {
      "text/plain": "30"
     },
     "execution_count": 139,
     "metadata": {},
     "output_type": "execute_result"
    }
   ]
  },
  {
   "cell_type": "code",
   "source": [
    "#Note: the two * in the symbol ** must be joined together!\n",
    "3 ** 2 "
   ],
   "metadata": {
    "colab": {
     "base_uri": "https://localhost:8080/"
    },
    "id": "lzsr-GWhrqXM",
    "outputId": "0ad7618f-5163-458b-b721-963b80640d24",
    "ExecuteTime": {
     "end_time": "2023-12-03T01:17:34.246052100Z",
     "start_time": "2023-12-03T01:17:34.201991200Z"
    }
   },
   "execution_count": 140,
   "outputs": [
    {
     "data": {
      "text/plain": "9"
     },
     "execution_count": 140,
     "metadata": {},
     "output_type": "execute_result"
    }
   ]
  },
  {
   "cell_type": "code",
   "source": [
    "1 + 2 + 3 * 4 * 10 ** 6 / 4 + 200"
   ],
   "metadata": {
    "colab": {
     "base_uri": "https://localhost:8080/"
    },
    "id": "btuX8eJlrzbq",
    "outputId": "7843f6a0-4163-4888-95df-32f65b419489",
    "ExecuteTime": {
     "end_time": "2023-12-03T01:17:34.556348800Z",
     "start_time": "2023-12-03T01:17:34.521933300Z"
    }
   },
   "execution_count": 141,
   "outputs": [
    {
     "data": {
      "text/plain": "3000203.0"
     },
     "execution_count": 141,
     "metadata": {},
     "output_type": "execute_result"
    }
   ]
  },
  {
   "cell_type": "code",
   "source": [
    "1 + 2 + (3 * 4 * 10) ** 6 / 4 + 200"
   ],
   "metadata": {
    "colab": {
     "base_uri": "https://localhost:8080/"
    },
    "id": "8bTbLZgWsKHw",
    "outputId": "bd1a84ce-5506-4e75-8127-6c474425096f",
    "ExecuteTime": {
     "end_time": "2023-12-03T01:17:34.802102400Z",
     "start_time": "2023-12-03T01:17:34.722620100Z"
    }
   },
   "execution_count": 142,
   "outputs": [
    {
     "data": {
      "text/plain": "746496000203.0"
     },
     "execution_count": 142,
     "metadata": {},
     "output_type": "execute_result"
    }
   ]
  },
  {
   "cell_type": "markdown",
   "source": [
    "### Variables"
   ],
   "metadata": {
    "id": "SZSr4ZB4sO55"
   }
  },
  {
   "cell_type": "code",
   "source": [
    "x = 10\n",
    "y = 5\n",
    "z = 9\n",
    "k = 7.9"
   ],
   "metadata": {
    "id": "Fyv11K3NsMyS",
    "ExecuteTime": {
     "end_time": "2023-12-03T01:17:38.240183700Z",
     "start_time": "2023-12-03T01:17:38.206852300Z"
    }
   },
   "execution_count": 143,
   "outputs": []
  },
  {
   "cell_type": "code",
   "source": [
    "type(x)"
   ],
   "metadata": {
    "colab": {
     "base_uri": "https://localhost:8080/"
    },
    "id": "3dwlCUY6tftx",
    "outputId": "5c77e025-3ec5-4464-aa2f-785fac1fee43",
    "ExecuteTime": {
     "end_time": "2023-12-03T01:17:38.491820700Z",
     "start_time": "2023-12-03T01:17:38.462466700Z"
    }
   },
   "execution_count": 144,
   "outputs": [
    {
     "data": {
      "text/plain": "int"
     },
     "execution_count": 144,
     "metadata": {},
     "output_type": "execute_result"
    }
   ]
  },
  {
   "cell_type": "code",
   "source": [
    "type(k)"
   ],
   "metadata": {
    "colab": {
     "base_uri": "https://localhost:8080/"
    },
    "id": "dqV1-drgtjGL",
    "outputId": "8d7ed177-328c-4744-bbf5-121179ccce5f",
    "ExecuteTime": {
     "end_time": "2023-12-03T01:17:38.663103500Z",
     "start_time": "2023-12-03T01:17:38.629772700Z"
    }
   },
   "execution_count": 145,
   "outputs": [
    {
     "data": {
      "text/plain": "float"
     },
     "execution_count": 145,
     "metadata": {},
     "output_type": "execute_result"
    }
   ]
  },
  {
   "cell_type": "code",
   "source": [
    "q = x + y\n",
    "q"
   ],
   "metadata": {
    "colab": {
     "base_uri": "https://localhost:8080/"
    },
    "id": "EJjk34hPsd2e",
    "outputId": "6e444f5a-12d7-44c9-f725-99fe21408895",
    "ExecuteTime": {
     "end_time": "2023-12-03T01:17:38.816136600Z",
     "start_time": "2023-12-03T01:17:38.772083500Z"
    }
   },
   "execution_count": 146,
   "outputs": [
    {
     "data": {
      "text/plain": "15"
     },
     "execution_count": 146,
     "metadata": {},
     "output_type": "execute_result"
    }
   ]
  },
  {
   "cell_type": "code",
   "source": [
    "print(q)"
   ],
   "metadata": {
    "colab": {
     "base_uri": "https://localhost:8080/"
    },
    "id": "NGCq3BMAshYL",
    "outputId": "63f51bbb-fabb-4c15-9a3a-e03954091551",
    "ExecuteTime": {
     "end_time": "2023-12-03T01:17:38.991306800Z",
     "start_time": "2023-12-03T01:17:38.940636700Z"
    }
   },
   "execution_count": 147,
   "outputs": [
    {
     "name": "stdout",
     "output_type": "stream",
     "text": [
      "15\n"
     ]
    }
   ]
  },
  {
   "cell_type": "code",
   "source": [
    "a = 8989717\n",
    "b = 81818\n",
    "(a - b) / a"
   ],
   "metadata": {
    "colab": {
     "base_uri": "https://localhost:8080/"
    },
    "id": "1f0G6sF0smEr",
    "outputId": "6d7645ff-3f1c-478e-fe65-1a4aab231596",
    "ExecuteTime": {
     "end_time": "2023-12-03T01:17:39.215807400Z",
     "start_time": "2023-12-03T01:17:39.181256Z"
    }
   },
   "execution_count": 148,
   "outputs": [
    {
     "data": {
      "text/plain": "0.9908987123843832"
     },
     "execution_count": 148,
     "metadata": {},
     "output_type": "execute_result"
    }
   ]
  },
  {
   "cell_type": "code",
   "source": [
    "t = \"dummy text\""
   ],
   "metadata": {
    "id": "vauaQRI2ssO5",
    "ExecuteTime": {
     "end_time": "2023-12-03T01:17:39.416077400Z",
     "start_time": "2023-12-03T01:17:39.362981800Z"
    }
   },
   "execution_count": 149,
   "outputs": []
  },
  {
   "cell_type": "code",
   "source": [
    "type(t)"
   ],
   "metadata": {
    "colab": {
     "base_uri": "https://localhost:8080/"
    },
    "id": "FST_skD_tqj0",
    "outputId": "eebb146b-11c2-44b6-e272-8db5952c51aa",
    "ExecuteTime": {
     "end_time": "2023-12-03T01:17:39.587949400Z",
     "start_time": "2023-12-03T01:17:39.527217300Z"
    }
   },
   "execution_count": 150,
   "outputs": [
    {
     "data": {
      "text/plain": "str"
     },
     "execution_count": 150,
     "metadata": {},
     "output_type": "execute_result"
    }
   ]
  },
  {
   "cell_type": "code",
   "source": [
    "c = 'a'"
   ],
   "metadata": {
    "id": "13Us2zggtUZW",
    "ExecuteTime": {
     "end_time": "2023-12-03T01:17:39.745656300Z",
     "start_time": "2023-12-03T01:17:39.672034800Z"
    }
   },
   "execution_count": 151,
   "outputs": []
  },
  {
   "cell_type": "code",
   "source": [
    "type(c)"
   ],
   "metadata": {
    "colab": {
     "base_uri": "https://localhost:8080/"
    },
    "id": "pY9m6LzLtt1p",
    "outputId": "792625b6-8454-44ac-e96a-35fc0bb8894e",
    "ExecuteTime": {
     "end_time": "2023-12-03T01:17:39.954048500Z",
     "start_time": "2023-12-03T01:17:39.921106100Z"
    }
   },
   "execution_count": 152,
   "outputs": [
    {
     "data": {
      "text/plain": "str"
     },
     "execution_count": 152,
     "metadata": {},
     "output_type": "execute_result"
    }
   ]
  },
  {
   "cell_type": "code",
   "source": [
    "x = 'ashshlkjh'"
   ],
   "metadata": {
    "id": "dhOloVh7tYvT",
    "ExecuteTime": {
     "end_time": "2023-12-03T01:17:40.150192500Z",
     "start_time": "2023-12-03T01:17:40.104562200Z"
    }
   },
   "execution_count": 153,
   "outputs": []
  },
  {
   "cell_type": "code",
   "source": [
    "type(x)"
   ],
   "metadata": {
    "colab": {
     "base_uri": "https://localhost:8080/"
    },
    "id": "st7n-BJktdzU",
    "outputId": "6526ed6a-1df5-48a8-a5f2-c62131183939",
    "ExecuteTime": {
     "end_time": "2023-12-03T01:17:40.310326700Z",
     "start_time": "2023-12-03T01:17:40.241265600Z"
    }
   },
   "execution_count": 154,
   "outputs": [
    {
     "data": {
      "text/plain": "str"
     },
     "execution_count": 154,
     "metadata": {},
     "output_type": "execute_result"
    }
   ]
  },
  {
   "cell_type": "code",
   "source": [
    "first = \"first string\"\n",
    "second = \"second string\"\n",
    "\n",
    "result_string = first + \" \" + second\n",
    "result_string"
   ],
   "metadata": {
    "colab": {
     "base_uri": "https://localhost:8080/"
    },
    "id": "CNhAfjR5wsnt",
    "outputId": "a27a8769-7722-446a-d862-0f00a2b16d75",
    "ExecuteTime": {
     "end_time": "2023-12-03T01:17:40.527956400Z",
     "start_time": "2023-12-03T01:17:40.493467900Z"
    }
   },
   "execution_count": 155,
   "outputs": [
    {
     "data": {
      "text/plain": "'first string second string'"
     },
     "execution_count": 155,
     "metadata": {},
     "output_type": "execute_result"
    }
   ]
  },
  {
   "cell_type": "code",
   "source": [
    "result_string = first + second\n",
    "result_string"
   ],
   "metadata": {
    "colab": {
     "base_uri": "https://localhost:8080/"
    },
    "id": "KV14ftmcw8Qp",
    "outputId": "6eded7c5-32ce-46f3-eaba-a94b99b74680",
    "ExecuteTime": {
     "end_time": "2023-12-03T01:17:40.762857Z",
     "start_time": "2023-12-03T01:17:40.727123800Z"
    }
   },
   "execution_count": 156,
   "outputs": [
    {
     "data": {
      "text/plain": "'first stringsecond string'"
     },
     "execution_count": 156,
     "metadata": {},
     "output_type": "execute_result"
    }
   ]
  },
  {
   "cell_type": "code",
   "source": [
    "#Note: There is a difference between '' and \"\" in Python when using the sign ' in the sentence.\n",
    "\n",
    "s = \"This won't work if I had the other type of quotes!\"\n",
    "s"
   ],
   "metadata": {
    "colab": {
     "base_uri": "https://localhost:8080/"
    },
    "id": "Yz_eY8ZoxAW-",
    "outputId": "dc2711a7-8a6f-40d8-8157-6aa15a88075c",
    "ExecuteTime": {
     "end_time": "2023-12-03T01:17:40.945299600Z",
     "start_time": "2023-12-03T01:17:40.898319700Z"
    }
   },
   "execution_count": 157,
   "outputs": [
    {
     "data": {
      "text/plain": "\"This won't work if I had the other type of quotes!\""
     },
     "execution_count": 157,
     "metadata": {},
     "output_type": "execute_result"
    }
   ]
  },
  {
   "cell_type": "code",
   "source": [
    "#Note: The + sign won't work in concatanation unless all operands are of type string.\n",
    "\n",
    "print(\"Congrats! You are now \" + str(10) + \" years old!\")\n",
    "print(\"What are you taling about? This can't be \" + str(True) + \"!\")"
   ],
   "metadata": {
    "colab": {
     "base_uri": "https://localhost:8080/"
    },
    "id": "LgeetWWsxe0L",
    "outputId": "68535ee5-2aac-4c17-a262-f2270b9a54e5",
    "ExecuteTime": {
     "end_time": "2023-12-03T01:17:41.274916100Z",
     "start_time": "2023-12-03T01:17:41.242334400Z"
    }
   },
   "execution_count": 158,
   "outputs": [
    {
     "name": "stdout",
     "output_type": "stream",
     "text": [
      "Congrats! You are now 10 years old!\n",
      "What are you taling about? This can't be True!\n"
     ]
    }
   ]
  },
  {
   "cell_type": "code",
   "source": [
    "#Note: Evaluation without print() works well in Google Colab, but will show only the last evaluation line as result.\n",
    "3 + 2\n",
    "4 + 6"
   ],
   "metadata": {
    "colab": {
     "base_uri": "https://localhost:8080/"
    },
    "id": "ghLENIbUt9JE",
    "outputId": "62fba40c-84a3-4747-9789-3d8f990c1e73",
    "ExecuteTime": {
     "end_time": "2023-12-03T01:17:41.445894400Z",
     "start_time": "2023-12-03T01:17:41.409670200Z"
    }
   },
   "execution_count": 159,
   "outputs": [
    {
     "data": {
      "text/plain": "10"
     },
     "execution_count": 159,
     "metadata": {},
     "output_type": "execute_result"
    }
   ]
  },
  {
   "cell_type": "code",
   "source": [
    "#Note: 1e5 for example means 1 * 10^5.\n",
    "1e5"
   ],
   "metadata": {
    "colab": {
     "base_uri": "https://localhost:8080/"
    },
    "id": "_VV7lEYrt_L1",
    "outputId": "d16ee164-a003-48a0-b80e-c9919201021d",
    "ExecuteTime": {
     "end_time": "2023-12-03T01:17:41.597979800Z",
     "start_time": "2023-12-03T01:17:41.559471800Z"
    }
   },
   "execution_count": 160,
   "outputs": [
    {
     "data": {
      "text/plain": "100000.0"
     },
     "execution_count": 160,
     "metadata": {},
     "output_type": "execute_result"
    }
   ]
  },
  {
   "cell_type": "code",
   "source": [
    "1e-5"
   ],
   "metadata": {
    "colab": {
     "base_uri": "https://localhost:8080/"
    },
    "id": "aag7UO8Bupdy",
    "outputId": "49442515-d25a-4f91-b3ea-fba3a8661b96",
    "ExecuteTime": {
     "end_time": "2023-12-03T01:17:41.906010900Z",
     "start_time": "2023-12-03T01:17:41.865240900Z"
    }
   },
   "execution_count": 161,
   "outputs": [
    {
     "data": {
      "text/plain": "1e-05"
     },
     "execution_count": 161,
     "metadata": {},
     "output_type": "execute_result"
    }
   ]
  },
  {
   "cell_type": "code",
   "source": [
    "#Note: In Python we can make use of f-strings to format text with embedded python expressions.\n",
    "r = 1e-5\n",
    "\n",
    "print(f'{r:.10f}')\n",
    "print(f'{r:.5f}')"
   ],
   "metadata": {
    "colab": {
     "base_uri": "https://localhost:8080/"
    },
    "id": "LYKDDuQvusaY",
    "outputId": "0c6ee95f-3cd0-4456-ebf3-1771c8b3fb62",
    "ExecuteTime": {
     "end_time": "2023-12-03T01:17:42.184670700Z",
     "start_time": "2023-12-03T01:17:42.101110800Z"
    }
   },
   "execution_count": 162,
   "outputs": [
    {
     "name": "stdout",
     "output_type": "stream",
     "text": [
      "0.0000100000\n",
      "0.00001\n"
     ]
    }
   ]
  },
  {
   "cell_type": "markdown",
   "source": [
    "### Functions"
   ],
   "metadata": {
    "id": "efLtFzb5vt9X"
   }
  },
  {
   "cell_type": "code",
   "source": [
    "bool(0)"
   ],
   "metadata": {
    "colab": {
     "base_uri": "https://localhost:8080/"
    },
    "id": "d9VH6zf_CWT3",
    "outputId": "ed15510b-4ba8-4182-d623-c1052e0e035d",
    "ExecuteTime": {
     "end_time": "2023-12-03T01:17:46.262761600Z",
     "start_time": "2023-12-03T01:17:46.223895400Z"
    }
   },
   "execution_count": 164,
   "outputs": [
    {
     "data": {
      "text/plain": "False"
     },
     "execution_count": 164,
     "metadata": {},
     "output_type": "execute_result"
    }
   ]
  },
  {
   "cell_type": "code",
   "source": [
    "bool(90)"
   ],
   "metadata": {
    "colab": {
     "base_uri": "https://localhost:8080/"
    },
    "id": "xqEoyQuECdBu",
    "outputId": "6c9c1e3d-b457-422b-a619-0327664ebed1",
    "ExecuteTime": {
     "end_time": "2023-12-03T01:17:46.491043600Z",
     "start_time": "2023-12-03T01:17:46.461554500Z"
    }
   },
   "execution_count": 165,
   "outputs": [
    {
     "data": {
      "text/plain": "True"
     },
     "execution_count": 165,
     "metadata": {},
     "output_type": "execute_result"
    }
   ]
  },
  {
   "cell_type": "code",
   "source": [
    "bool(\"Text\")"
   ],
   "metadata": {
    "colab": {
     "base_uri": "https://localhost:8080/"
    },
    "id": "kP-MPnK7CY-W",
    "outputId": "ed4d507c-70c3-4330-8534-914b26ab781c",
    "ExecuteTime": {
     "end_time": "2023-12-03T01:17:46.677979700Z",
     "start_time": "2023-12-03T01:17:46.613526Z"
    }
   },
   "execution_count": 166,
   "outputs": [
    {
     "data": {
      "text/plain": "True"
     },
     "execution_count": 166,
     "metadata": {},
     "output_type": "execute_result"
    }
   ]
  },
  {
   "cell_type": "code",
   "source": [
    "bool(\"\")"
   ],
   "metadata": {
    "colab": {
     "base_uri": "https://localhost:8080/"
    },
    "id": "63C3RXl2CbE1",
    "outputId": "007040e9-df60-4ab2-c2ba-547e46ea9118",
    "ExecuteTime": {
     "end_time": "2023-12-03T01:17:46.830184600Z",
     "start_time": "2023-12-03T01:17:46.772028500Z"
    }
   },
   "execution_count": 167,
   "outputs": [
    {
     "data": {
      "text/plain": "False"
     },
     "execution_count": 167,
     "metadata": {},
     "output_type": "execute_result"
    }
   ]
  },
  {
   "cell_type": "code",
   "source": [
    "10 > 9 + 1"
   ],
   "metadata": {
    "colab": {
     "base_uri": "https://localhost:8080/"
    },
    "id": "q-Dz2624C678",
    "outputId": "6a4587b1-2a13-42f4-a5b9-e1afe888d92b",
    "ExecuteTime": {
     "end_time": "2023-12-03T01:17:46.957067600Z",
     "start_time": "2023-12-03T01:17:46.896570100Z"
    }
   },
   "execution_count": 168,
   "outputs": [
    {
     "data": {
      "text/plain": "False"
     },
     "execution_count": 168,
     "metadata": {},
     "output_type": "execute_result"
    }
   ]
  },
  {
   "cell_type": "code",
   "source": [
    "complex(1, 5)"
   ],
   "metadata": {
    "colab": {
     "base_uri": "https://localhost:8080/"
    },
    "id": "W-hkn-ARu1pP",
    "outputId": "05d56a2d-85f2-43cc-8824-73a338a70a1c",
    "ExecuteTime": {
     "end_time": "2023-12-03T01:17:47.080941700Z",
     "start_time": "2023-12-03T01:17:47.035506800Z"
    }
   },
   "execution_count": 169,
   "outputs": [
    {
     "data": {
      "text/plain": "(1+5j)"
     },
     "execution_count": 169,
     "metadata": {},
     "output_type": "execute_result"
    }
   ]
  },
  {
   "cell_type": "code",
   "source": [
    "abs(-10)"
   ],
   "metadata": {
    "colab": {
     "base_uri": "https://localhost:8080/"
    },
    "id": "Pcwx32dhwJLa",
    "outputId": "7249fe15-40ec-4054-c0b4-df846d54607e",
    "ExecuteTime": {
     "end_time": "2023-12-03T01:17:47.203609900Z",
     "start_time": "2023-12-03T01:17:47.135938200Z"
    }
   },
   "execution_count": 170,
   "outputs": [
    {
     "data": {
      "text/plain": "10"
     },
     "execution_count": 170,
     "metadata": {},
     "output_type": "execute_result"
    }
   ]
  },
  {
   "cell_type": "code",
   "source": [
    "round(10 - 3.4)"
   ],
   "metadata": {
    "colab": {
     "base_uri": "https://localhost:8080/"
    },
    "id": "kqIVCQGFCpiH",
    "outputId": "e6d23cc2-7026-4333-9e38-635909ae6b9f",
    "ExecuteTime": {
     "end_time": "2023-12-03T01:17:47.492538500Z",
     "start_time": "2023-12-03T01:17:47.452036700Z"
    }
   },
   "execution_count": 171,
   "outputs": [
    {
     "data": {
      "text/plain": "7"
     },
     "execution_count": 171,
     "metadata": {},
     "output_type": "execute_result"
    }
   ]
  },
  {
   "cell_type": "code",
   "source": [
    "max(3, 6)"
   ],
   "metadata": {
    "colab": {
     "base_uri": "https://localhost:8080/"
    },
    "id": "p9VjvN4bCvLZ",
    "outputId": "8adecf2b-fb22-4a9d-b265-9f3795288f85",
    "ExecuteTime": {
     "end_time": "2023-12-03T01:17:47.765211300Z",
     "start_time": "2023-12-03T01:17:47.668151700Z"
    }
   },
   "execution_count": 172,
   "outputs": [
    {
     "data": {
      "text/plain": "6"
     },
     "execution_count": 172,
     "metadata": {},
     "output_type": "execute_result"
    }
   ]
  },
  {
   "cell_type": "code",
   "source": [
    "max(10, 5+10, 10+10)"
   ],
   "metadata": {
    "colab": {
     "base_uri": "https://localhost:8080/"
    },
    "id": "tW-QdOIJCxOh",
    "outputId": "77322603-647a-4396-8b4e-19dd402442ab",
    "ExecuteTime": {
     "end_time": "2023-12-03T01:17:47.911664100Z",
     "start_time": "2023-12-03T01:17:47.877992600Z"
    }
   },
   "execution_count": 173,
   "outputs": [
    {
     "data": {
      "text/plain": "20"
     },
     "execution_count": 173,
     "metadata": {},
     "output_type": "execute_result"
    }
   ]
  },
  {
   "cell_type": "code",
   "source": [
    "max(5, min(10, 20), 8)"
   ],
   "metadata": {
    "colab": {
     "base_uri": "https://localhost:8080/"
    },
    "id": "WK9BWyNKC1cA",
    "outputId": "c6af9d06-5457-4603-c6b4-d23eb5e0a6a1",
    "ExecuteTime": {
     "end_time": "2023-12-03T01:17:48.102912Z",
     "start_time": "2023-12-03T01:17:48.053463600Z"
    }
   },
   "execution_count": 174,
   "outputs": [
    {
     "data": {
      "text/plain": "10"
     },
     "execution_count": 174,
     "metadata": {},
     "output_type": "execute_result"
    }
   ]
  },
  {
   "cell_type": "code",
   "source": [
    "max(\"Data\", \"Science\")"
   ],
   "metadata": {
    "colab": {
     "base_uri": "https://localhost:8080/"
    },
    "id": "VL697T6XDwHg",
    "outputId": "816dea91-07b3-428e-a869-01e7203af433",
    "ExecuteTime": {
     "end_time": "2023-12-03T01:17:48.269076600Z",
     "start_time": "2023-12-03T01:17:48.216562300Z"
    }
   },
   "execution_count": 175,
   "outputs": [
    {
     "data": {
      "text/plain": "'Science'"
     },
     "execution_count": 175,
     "metadata": {},
     "output_type": "execute_result"
    }
   ]
  },
  {
   "cell_type": "code",
   "source": [
    "max(\"A\", \"BBB\")"
   ],
   "metadata": {
    "colab": {
     "base_uri": "https://localhost:8080/"
    },
    "id": "Z1dxdz6WD0q9",
    "outputId": "52f50046-74c0-4da9-be5c-08a71bbd034b",
    "ExecuteTime": {
     "end_time": "2023-12-03T01:17:48.407042900Z",
     "start_time": "2023-12-03T01:17:48.367580Z"
    }
   },
   "execution_count": 176,
   "outputs": [
    {
     "data": {
      "text/plain": "'BBB'"
     },
     "execution_count": 176,
     "metadata": {},
     "output_type": "execute_result"
    }
   ]
  },
  {
   "cell_type": "code",
   "source": [
    "len('Data Science')"
   ],
   "metadata": {
    "colab": {
     "base_uri": "https://localhost:8080/"
    },
    "id": "RY79133aD3pg",
    "outputId": "b47fc3aa-3797-4625-b84e-a5a6f44afb81",
    "ExecuteTime": {
     "end_time": "2023-12-03T01:17:48.602551500Z",
     "start_time": "2023-12-03T01:17:48.546242Z"
    }
   },
   "execution_count": 177,
   "outputs": [
    {
     "data": {
      "text/plain": "12"
     },
     "execution_count": 177,
     "metadata": {},
     "output_type": "execute_result"
    }
   ]
  },
  {
   "cell_type": "code",
   "source": [
    "'data science'.upper()"
   ],
   "metadata": {
    "colab": {
     "base_uri": "https://localhost:8080/"
    },
    "id": "6sYu5OlfD7B5",
    "outputId": "c0e60f9d-c75d-46af-ef6e-3428d581c9fb",
    "ExecuteTime": {
     "end_time": "2023-12-03T01:17:48.780079100Z",
     "start_time": "2023-12-03T01:17:48.730806400Z"
    }
   },
   "execution_count": 178,
   "outputs": [
    {
     "data": {
      "text/plain": "'DATA SCIENCE'"
     },
     "execution_count": 178,
     "metadata": {},
     "output_type": "execute_result"
    }
   ]
  },
  {
   "cell_type": "code",
   "source": [
    "'DATA SCIENCE'.lower()"
   ],
   "metadata": {
    "colab": {
     "base_uri": "https://localhost:8080/"
    },
    "id": "4SZGJHHYEe48",
    "outputId": "879b7255-217f-48ff-d840-0d5b7a28284a",
    "ExecuteTime": {
     "end_time": "2023-12-03T01:17:48.961937100Z",
     "start_time": "2023-12-03T01:17:48.899315600Z"
    }
   },
   "execution_count": 179,
   "outputs": [
    {
     "data": {
      "text/plain": "'data science'"
     },
     "execution_count": 179,
     "metadata": {},
     "output_type": "execute_result"
    }
   ]
  },
  {
   "cell_type": "code",
   "source": [
    "'DATA science'.lower()"
   ],
   "metadata": {
    "colab": {
     "base_uri": "https://localhost:8080/"
    },
    "id": "88GbQBibEntE",
    "outputId": "6a92c165-4640-487a-c60e-644f9ff91ecf",
    "ExecuteTime": {
     "end_time": "2023-12-03T01:17:49.107934800Z",
     "start_time": "2023-12-03T01:17:49.064050400Z"
    }
   },
   "execution_count": 180,
   "outputs": [
    {
     "data": {
      "text/plain": "'data science'"
     },
     "execution_count": 180,
     "metadata": {},
     "output_type": "execute_result"
    }
   ]
  },
  {
   "cell_type": "code",
   "source": [
    "'xxta science'.replace('xx', 'da')"
   ],
   "metadata": {
    "colab": {
     "base_uri": "https://localhost:8080/"
    },
    "id": "TKcrgmvvD9ps",
    "outputId": "d117d765-b5a5-4eba-c94e-5c77ecec6719",
    "ExecuteTime": {
     "end_time": "2023-12-03T01:17:49.246797100Z",
     "start_time": "2023-12-03T01:17:49.206170700Z"
    }
   },
   "execution_count": 181,
   "outputs": [
    {
     "data": {
      "text/plain": "'data science'"
     },
     "execution_count": 181,
     "metadata": {},
     "output_type": "execute_result"
    }
   ]
  },
  {
   "cell_type": "code",
   "source": [
    "'xxta science'.replace('xx', 'da').upper()"
   ],
   "metadata": {
    "colab": {
     "base_uri": "https://localhost:8080/"
    },
    "id": "n9znRWNsEEho",
    "outputId": "6af23d8e-2a37-416e-cccf-e7f840b765f3",
    "ExecuteTime": {
     "end_time": "2023-12-03T01:17:49.386408700Z",
     "start_time": "2023-12-03T01:17:49.337932700Z"
    }
   },
   "execution_count": 182,
   "outputs": [
    {
     "data": {
      "text/plain": "'DATA SCIENCE'"
     },
     "execution_count": 182,
     "metadata": {},
     "output_type": "execute_result"
    }
   ]
  },
  {
   "cell_type": "code",
   "source": [
    "'Data' < 'Science' < 'Data Science'"
   ],
   "metadata": {
    "colab": {
     "base_uri": "https://localhost:8080/"
    },
    "id": "SlsBbXEfEtTM",
    "outputId": "d41feba8-f2dd-43dd-b737-194e2a8d4585",
    "ExecuteTime": {
     "end_time": "2023-12-03T01:17:49.540338Z",
     "start_time": "2023-12-03T01:17:49.486479200Z"
    }
   },
   "execution_count": 183,
   "outputs": [
    {
     "data": {
      "text/plain": "False"
     },
     "execution_count": 183,
     "metadata": {},
     "output_type": "execute_result"
    }
   ]
  },
  {
   "cell_type": "code",
   "source": [
    "'Data' < 'Data Science' < 'Science'"
   ],
   "metadata": {
    "colab": {
     "base_uri": "https://localhost:8080/"
    },
    "id": "puddKA1OEyFb",
    "outputId": "3d35f7be-6785-4cad-a982-37322dce933d",
    "ExecuteTime": {
     "end_time": "2023-12-03T01:17:50.222246Z",
     "start_time": "2023-12-03T01:17:50.151629800Z"
    }
   },
   "execution_count": 184,
   "outputs": [
    {
     "data": {
      "text/plain": "True"
     },
     "execution_count": 184,
     "metadata": {},
     "output_type": "execute_result"
    }
   ]
  },
  {
   "cell_type": "markdown",
   "source": [
    "#### Modules"
   ],
   "metadata": {
    "collapsed": false
   }
  },
  {
   "cell_type": "markdown",
   "source": [
    "Note: Modules are collections of functions. We use an import statement to provide access to a particular module."
   ],
   "metadata": {
    "id": "gBIpZRrEDBYQ"
   }
  },
  {
   "cell_type": "code",
   "source": [
    "import math\n",
    "import operator"
   ],
   "metadata": {
    "id": "X3dWzDZ3DJjf",
    "ExecuteTime": {
     "end_time": "2023-12-03T01:17:51.126855600Z",
     "start_time": "2023-12-03T01:17:51.089309Z"
    }
   },
   "execution_count": 185,
   "outputs": []
  },
  {
   "cell_type": "code",
   "source": [
    "math.sqrt(25)"
   ],
   "metadata": {
    "colab": {
     "base_uri": "https://localhost:8080/"
    },
    "id": "2w26R0JkDXrh",
    "outputId": "63bae7c0-3fbc-4dff-b980-173cbed5f801",
    "ExecuteTime": {
     "end_time": "2023-12-03T01:17:51.394636700Z",
     "start_time": "2023-12-03T01:17:51.354609300Z"
    }
   },
   "execution_count": 186,
   "outputs": [
    {
     "data": {
      "text/plain": "5.0"
     },
     "execution_count": 186,
     "metadata": {},
     "output_type": "execute_result"
    }
   ]
  },
  {
   "cell_type": "code",
   "source": [
    "math.sqrt(operator.add(3, 6))"
   ],
   "metadata": {
    "colab": {
     "base_uri": "https://localhost:8080/"
    },
    "id": "CCeXsnlxDeiX",
    "outputId": "7ca96bdf-eb15-4dd2-e8bc-131da5a0b2bb",
    "ExecuteTime": {
     "end_time": "2023-12-03T01:17:51.567244100Z",
     "start_time": "2023-12-03T01:17:51.532279700Z"
    }
   },
   "execution_count": 187,
   "outputs": [
    {
     "data": {
      "text/plain": "3.0"
     },
     "execution_count": 187,
     "metadata": {},
     "output_type": "execute_result"
    }
   ]
  },
  {
   "cell_type": "code",
   "source": [
    "math.log(64, 2)"
   ],
   "metadata": {
    "colab": {
     "base_uri": "https://localhost:8080/"
    },
    "id": "7DM0q-qlDi37",
    "outputId": "6b0a9ee1-3b87-4217-d1b1-aba0fba51800",
    "ExecuteTime": {
     "end_time": "2023-12-03T01:17:51.710368400Z",
     "start_time": "2023-12-03T01:17:51.677709Z"
    }
   },
   "execution_count": 188,
   "outputs": [
    {
     "data": {
      "text/plain": "6.0"
     },
     "execution_count": 188,
     "metadata": {},
     "output_type": "execute_result"
    }
   ]
  },
  {
   "cell_type": "code",
   "source": [
    "#Note: We can check the type of functions, i.e. whether they are built-in or not.\n",
    "\n",
    "type(max)"
   ],
   "metadata": {
    "colab": {
     "base_uri": "https://localhost:8080/"
    },
    "id": "FLiSol2tE4Iz",
    "outputId": "d241b24e-05e3-478e-96ec-db0ec41663bc",
    "ExecuteTime": {
     "end_time": "2023-12-03T01:17:51.942618900Z",
     "start_time": "2023-12-03T01:17:51.858612Z"
    }
   },
   "execution_count": 189,
   "outputs": [
    {
     "data": {
      "text/plain": "builtin_function_or_method"
     },
     "execution_count": 189,
     "metadata": {},
     "output_type": "execute_result"
    }
   ]
  },
  {
   "cell_type": "markdown",
   "source": [
    "###Data Structures\n",
    "\n",
    "![image.png](data:image/png;base64,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)"
   ],
   "metadata": {
    "id": "OFTkQ2mDHQZe"
   }
  },
  {
   "cell_type": "markdown",
   "source": [
    "#### List"
   ],
   "metadata": {
    "id": "GEnJ3KqTHcjn"
   }
  },
  {
   "cell_type": "code",
   "source": [
    "L = []\n",
    "\n",
    "for i in range(10):\n",
    "  L.append(i)\n",
    "\n",
    "L"
   ],
   "metadata": {
    "colab": {
     "base_uri": "https://localhost:8080/"
    },
    "id": "U8tuwGGKHcQn",
    "outputId": "c0a67d64-959f-463e-b952-f064484e2a12",
    "ExecuteTime": {
     "end_time": "2023-12-03T01:17:52.435751300Z",
     "start_time": "2023-12-03T01:17:52.392609700Z"
    }
   },
   "execution_count": 190,
   "outputs": [
    {
     "data": {
      "text/plain": "[0, 1, 2, 3, 4, 5, 6, 7, 8, 9]"
     },
     "execution_count": 190,
     "metadata": {},
     "output_type": "execute_result"
    }
   ]
  },
  {
   "cell_type": "code",
   "source": [
    "L = []\n",
    "\n",
    "for i in range(0, 10, 2):\n",
    "  L.append(i)\n",
    "\n",
    "L"
   ],
   "metadata": {
    "colab": {
     "base_uri": "https://localhost:8080/"
    },
    "id": "UfJsfhpeHlRq",
    "outputId": "878cc136-c571-4bfc-807f-4d2cedb891e0",
    "ExecuteTime": {
     "end_time": "2023-12-03T01:17:52.663524400Z",
     "start_time": "2023-12-03T01:17:52.632790500Z"
    }
   },
   "execution_count": 191,
   "outputs": [
    {
     "data": {
      "text/plain": "[0, 2, 4, 6, 8]"
     },
     "execution_count": 191,
     "metadata": {},
     "output_type": "execute_result"
    }
   ]
  },
  {
   "cell_type": "code",
   "source": [
    "L = [i * 3 for i in range(5)]\n",
    "L"
   ],
   "metadata": {
    "colab": {
     "base_uri": "https://localhost:8080/"
    },
    "id": "T8N2i1vyHocW",
    "outputId": "fea1cb40-41e3-476f-f9cf-9f4e0f385a00",
    "ExecuteTime": {
     "end_time": "2023-12-03T01:17:53.054375900Z",
     "start_time": "2023-12-03T01:17:53.003736100Z"
    }
   },
   "execution_count": 192,
   "outputs": [
    {
     "data": {
      "text/plain": "[0, 3, 6, 9, 12]"
     },
     "execution_count": 192,
     "metadata": {},
     "output_type": "execute_result"
    }
   ]
  },
  {
   "cell_type": "code",
   "source": [
    "lists = [[1, 2], [3, 4], [5, 6]]\n",
    "\n",
    "res = []\n",
    "\n",
    "for list in lists:\n",
    "  res.append(list)\n",
    "\n",
    "res"
   ],
   "metadata": {
    "colab": {
     "base_uri": "https://localhost:8080/"
    },
    "id": "cjGPKqDpHuTJ",
    "outputId": "5e81928e-6978-4f97-f486-f19dc0175134",
    "ExecuteTime": {
     "end_time": "2023-12-03T01:17:53.558297300Z",
     "start_time": "2023-12-03T01:17:53.517935600Z"
    }
   },
   "execution_count": 193,
   "outputs": [
    {
     "data": {
      "text/plain": "[[1, 2], [3, 4], [5, 6]]"
     },
     "execution_count": 193,
     "metadata": {},
     "output_type": "execute_result"
    }
   ]
  },
  {
   "cell_type": "code",
   "source": [
    "lists = [[1,2], [3, 4], [5, 6]]\n",
    "\n",
    "res = []\n",
    "\n",
    "for list in lists:\n",
    "  res.extend(list)\n",
    "\n",
    "res"
   ],
   "metadata": {
    "colab": {
     "base_uri": "https://localhost:8080/"
    },
    "id": "27q4VrOwIBLa",
    "outputId": "dcd27a8b-6642-491f-bdda-6e3334457d54",
    "ExecuteTime": {
     "end_time": "2023-12-03T01:17:53.759980500Z",
     "start_time": "2023-12-03T01:17:53.724225800Z"
    }
   },
   "execution_count": 194,
   "outputs": [
    {
     "data": {
      "text/plain": "[1, 2, 3, 4, 5, 6]"
     },
     "execution_count": 194,
     "metadata": {},
     "output_type": "execute_result"
    }
   ]
  },
  {
   "cell_type": "code",
   "source": [
    "1 in [3, 4, 1, 6]"
   ],
   "metadata": {
    "colab": {
     "base_uri": "https://localhost:8080/"
    },
    "id": "bPHEBHYtIF_t",
    "outputId": "2b96c6c7-9f41-400e-d852-abee78f71ba1",
    "ExecuteTime": {
     "end_time": "2023-12-03T01:17:54.099265200Z",
     "start_time": "2023-12-03T01:17:54.063822300Z"
    }
   },
   "execution_count": 195,
   "outputs": [
    {
     "data": {
      "text/plain": "True"
     },
     "execution_count": 195,
     "metadata": {},
     "output_type": "execute_result"
    }
   ]
  },
  {
   "cell_type": "code",
   "source": [
    "[3, 4] in lists"
   ],
   "metadata": {
    "colab": {
     "base_uri": "https://localhost:8080/"
    },
    "id": "fam3XClzIJSi",
    "outputId": "195159b9-d9a1-4ff0-d367-16d7921b6f56",
    "ExecuteTime": {
     "end_time": "2023-12-03T01:17:54.278797300Z",
     "start_time": "2023-12-03T01:17:54.249134900Z"
    }
   },
   "execution_count": 196,
   "outputs": [
    {
     "data": {
      "text/plain": "True"
     },
     "execution_count": 196,
     "metadata": {},
     "output_type": "execute_result"
    }
   ]
  },
  {
   "cell_type": "code",
   "source": [
    "len([2, 6, 7])"
   ],
   "metadata": {
    "colab": {
     "base_uri": "https://localhost:8080/"
    },
    "id": "TGQCTQTNIL-a",
    "outputId": "31cc73c2-26ac-4410-eead-3f54f52b270e",
    "ExecuteTime": {
     "end_time": "2023-12-03T01:17:54.524558400Z",
     "start_time": "2023-12-03T01:17:54.495162500Z"
    }
   },
   "execution_count": 197,
   "outputs": [
    {
     "data": {
      "text/plain": "3"
     },
     "execution_count": 197,
     "metadata": {},
     "output_type": "execute_result"
    }
   ]
  },
  {
   "cell_type": "code",
   "source": [
    "L = [3, 5, 6, 7, 1, 2, 8, 9, 10, 23, 0, 11]\n",
    "L.sort()\n",
    "\n",
    "L"
   ],
   "metadata": {
    "colab": {
     "base_uri": "https://localhost:8080/"
    },
    "id": "ap4OU2nWIPaA",
    "outputId": "1f41d285-c244-4764-8ec4-ea6811164b44",
    "ExecuteTime": {
     "end_time": "2023-12-03T01:17:54.735292200Z",
     "start_time": "2023-12-03T01:17:54.703413100Z"
    }
   },
   "execution_count": 198,
   "outputs": [
    {
     "data": {
      "text/plain": "[0, 1, 2, 3, 5, 6, 7, 8, 9, 10, 11, 23]"
     },
     "execution_count": 198,
     "metadata": {},
     "output_type": "execute_result"
    }
   ]
  },
  {
   "cell_type": "code",
   "source": [
    "L = ['Ana', 45, True]\n",
    "#Note: Can't sort a list when the elements are of mixed types!\n",
    "# L.sort()\n",
    "L"
   ],
   "metadata": {
    "colab": {
     "base_uri": "https://localhost:8080/"
    },
    "id": "RrjD8rf0IXNc",
    "outputId": "8b573464-b6b9-45a7-9cf9-85a6c99c2499",
    "ExecuteTime": {
     "end_time": "2023-12-03T01:17:54.904238500Z",
     "start_time": "2023-12-03T01:17:54.851306900Z"
    }
   },
   "execution_count": 199,
   "outputs": [
    {
     "data": {
      "text/plain": "['Ana', 45, True]"
     },
     "execution_count": 199,
     "metadata": {},
     "output_type": "execute_result"
    }
   ]
  },
  {
   "cell_type": "code",
   "source": [
    "L[-1]"
   ],
   "metadata": {
    "colab": {
     "base_uri": "https://localhost:8080/"
    },
    "id": "ygLW7LVzJU8j",
    "outputId": "c455b9be-d3c1-460f-ab2c-79458bc4dfd6",
    "ExecuteTime": {
     "end_time": "2023-12-03T01:15:09.591349800Z",
     "start_time": "2023-12-03T01:15:09.530100400Z"
    }
   },
   "execution_count": 66,
   "outputs": [
    {
     "data": {
      "text/plain": "True"
     },
     "execution_count": 66,
     "metadata": {},
     "output_type": "execute_result"
    }
   ]
  },
  {
   "cell_type": "code",
   "source": [
    "L[0]"
   ],
   "metadata": {
    "colab": {
     "base_uri": "https://localhost:8080/"
    },
    "id": "vf-83-mpJYXK",
    "outputId": "effd2fa0-981e-4847-d6ba-760b9218a1a8",
    "ExecuteTime": {
     "end_time": "2023-12-03T01:15:09.883808900Z",
     "start_time": "2023-12-03T01:15:09.743319400Z"
    }
   },
   "execution_count": 67,
   "outputs": [
    {
     "data": {
      "text/plain": "'Ana'"
     },
     "execution_count": 67,
     "metadata": {},
     "output_type": "execute_result"
    }
   ]
  },
  {
   "cell_type": "markdown",
   "source": [
    "#### Tuple"
   ],
   "metadata": {
    "id": "vCBvbWNqJbho"
   }
  },
  {
   "cell_type": "code",
   "source": [
    "t = (1, 2, 3)\n",
    "t"
   ],
   "metadata": {
    "colab": {
     "base_uri": "https://localhost:8080/"
    },
    "id": "Jpag7-dNJdbp",
    "outputId": "eca009a8-31a2-4045-95a9-a1c5017d244d",
    "ExecuteTime": {
     "end_time": "2023-12-03T01:15:10.183847400Z",
     "start_time": "2023-12-03T01:15:10.135215300Z"
    }
   },
   "execution_count": 68,
   "outputs": [
    {
     "data": {
      "text/plain": "(1, 2, 3)"
     },
     "execution_count": 68,
     "metadata": {},
     "output_type": "execute_result"
    }
   ]
  },
  {
   "cell_type": "code",
   "source": [
    "len(t)"
   ],
   "metadata": {
    "colab": {
     "base_uri": "https://localhost:8080/"
    },
    "id": "ElGBnccaJhAN",
    "outputId": "4b9309fb-1976-4596-d090-7245d51931ab",
    "ExecuteTime": {
     "end_time": "2023-12-03T01:15:10.375647900Z",
     "start_time": "2023-12-03T01:15:10.345650600Z"
    }
   },
   "execution_count": 69,
   "outputs": [
    {
     "data": {
      "text/plain": "3"
     },
     "execution_count": 69,
     "metadata": {},
     "output_type": "execute_result"
    }
   ]
  },
  {
   "cell_type": "code",
   "source": [
    "t[0]"
   ],
   "metadata": {
    "colab": {
     "base_uri": "https://localhost:8080/"
    },
    "id": "gIfWWow0Jivp",
    "outputId": "cc1cdb50-755a-483d-ba85-e778ac702126",
    "ExecuteTime": {
     "end_time": "2023-12-03T01:15:10.686885700Z",
     "start_time": "2023-12-03T01:15:10.630959500Z"
    }
   },
   "execution_count": 70,
   "outputs": [
    {
     "data": {
      "text/plain": "1"
     },
     "execution_count": 70,
     "metadata": {},
     "output_type": "execute_result"
    }
   ]
  },
  {
   "cell_type": "code",
   "source": [
    "#Note: A tuple is immutable! The following lines result in ERROR!\n",
    "\n",
    "# t[1] = 4\n",
    "\n",
    "# t.append(4)"
   ],
   "metadata": {
    "id": "VnVqgszNJkrl",
    "ExecuteTime": {
     "end_time": "2023-12-03T01:15:11.176494100Z",
     "start_time": "2023-12-03T01:15:11.099978500Z"
    }
   },
   "execution_count": 71,
   "outputs": []
  },
  {
   "cell_type": "markdown",
   "source": [
    "#### Dictionary"
   ],
   "metadata": {
    "id": "nVD4yomtJ7Vd"
   }
  },
  {
   "cell_type": "code",
   "source": [
    "books = {'Pride and Prejudice':2, 'Moby-Dick':7, 'Pinokio':3}\n",
    "books"
   ],
   "metadata": {
    "colab": {
     "base_uri": "https://localhost:8080/"
    },
    "id": "hAfLxMH_J9K_",
    "outputId": "625aa813-2eac-4d7e-ddd7-74c4c1be23e0",
    "ExecuteTime": {
     "end_time": "2023-12-03T01:15:24.464148100Z",
     "start_time": "2023-12-03T01:15:24.432406100Z"
    }
   },
   "execution_count": 75,
   "outputs": [
    {
     "data": {
      "text/plain": "{'Pride and Prejudice': 2, 'Moby-Dick': 7, 'Pinokio': 3}"
     },
     "execution_count": 75,
     "metadata": {},
     "output_type": "execute_result"
    }
   ]
  },
  {
   "cell_type": "code",
   "source": [
    "books['Pride and Prejudice']"
   ],
   "metadata": {
    "colab": {
     "base_uri": "https://localhost:8080/"
    },
    "id": "1qP8wCdXKQLZ",
    "outputId": "b0d7e690-37ad-4998-c5ad-230588f41636",
    "ExecuteTime": {
     "end_time": "2023-12-03T01:15:24.704651300Z",
     "start_time": "2023-12-03T01:15:24.673513100Z"
    }
   },
   "execution_count": 76,
   "outputs": [
    {
     "data": {
      "text/plain": "2"
     },
     "execution_count": 76,
     "metadata": {},
     "output_type": "execute_result"
    }
   ]
  },
  {
   "cell_type": "code",
   "source": [
    "books['Pride and Prejudice'] = 10\n",
    "books['Pride and Prejudice']"
   ],
   "metadata": {
    "colab": {
     "base_uri": "https://localhost:8080/"
    },
    "id": "PpeZMIxiKTnf",
    "outputId": "fdec1d26-022f-44d9-8cd2-2f7a4a304f8e",
    "ExecuteTime": {
     "end_time": "2023-12-03T01:15:25.064259800Z",
     "start_time": "2023-12-03T01:15:25.026243900Z"
    }
   },
   "execution_count": 77,
   "outputs": [
    {
     "data": {
      "text/plain": "10"
     },
     "execution_count": 77,
     "metadata": {},
     "output_type": "execute_result"
    }
   ]
  },
  {
   "cell_type": "code",
   "source": [
    "books['To Kill a Mockingbird'] = 8\n",
    "books"
   ],
   "metadata": {
    "colab": {
     "base_uri": "https://localhost:8080/"
    },
    "id": "r3Kp1_znKXmM",
    "outputId": "93665d89-51e6-4e41-af2c-c605920a2231",
    "ExecuteTime": {
     "end_time": "2023-12-03T01:15:25.331420400Z",
     "start_time": "2023-12-03T01:15:25.240491400Z"
    }
   },
   "execution_count": 78,
   "outputs": [
    {
     "data": {
      "text/plain": "{'Pride and Prejudice': 10,\n 'Moby-Dick': 7,\n 'Pinokio': 3,\n 'To Kill a Mockingbird': 8}"
     },
     "execution_count": 78,
     "metadata": {},
     "output_type": "execute_result"
    }
   ]
  },
  {
   "cell_type": "markdown",
   "source": [
    "#### Set"
   ],
   "metadata": {
    "id": "HqUh52lyKi5p"
   }
  },
  {
   "cell_type": "code",
   "source": [
    "primes = {2, 3, 5, 7}\n",
    "odds = {1, 3, 5, 7, 9}"
   ],
   "metadata": {
    "id": "kX6jnm5CKk0y",
    "ExecuteTime": {
     "end_time": "2023-12-03T01:15:25.628109400Z",
     "start_time": "2023-12-03T01:15:25.549624600Z"
    }
   },
   "execution_count": 79,
   "outputs": []
  },
  {
   "cell_type": "code",
   "source": [
    "#Note: Elements in sets are unique!\n",
    "primes = {2, 2, 2, 2, 2, 3, 3, 5, 7, 2, 2}\n",
    "primes"
   ],
   "metadata": {
    "colab": {
     "base_uri": "https://localhost:8080/"
    },
    "id": "ooLnlSxlKr0b",
    "outputId": "8ae94d86-b296-49eb-f20c-b141133c7724",
    "ExecuteTime": {
     "end_time": "2023-12-03T01:15:25.820238300Z",
     "start_time": "2023-12-03T01:15:25.712714200Z"
    }
   },
   "execution_count": 80,
   "outputs": [
    {
     "data": {
      "text/plain": "{2, 3, 5, 7}"
     },
     "execution_count": 80,
     "metadata": {},
     "output_type": "execute_result"
    }
   ]
  },
  {
   "cell_type": "code",
   "source": [
    "#Note: Set union joins intems found in either set into one resulting set. \n",
    "#Note: We can create a union with the | operator or with the union() method.\n",
    "primes | odds\n",
    "\n",
    "primes.union(odds)"
   ],
   "metadata": {
    "colab": {
     "base_uri": "https://localhost:8080/"
    },
    "id": "Z5607X6iK3ho",
    "outputId": "afe114ba-c987-4131-cd0c-4bc260b6b306",
    "ExecuteTime": {
     "end_time": "2023-12-03T01:15:25.903418600Z",
     "start_time": "2023-12-03T01:15:25.811687800Z"
    }
   },
   "execution_count": 81,
   "outputs": [
    {
     "data": {
      "text/plain": "{1, 2, 3, 5, 7, 9}"
     },
     "execution_count": 81,
     "metadata": {},
     "output_type": "execute_result"
    }
   ]
  },
  {
   "cell_type": "code",
   "source": [
    "#Note: Set intersection joins intems found in both sets into one resulting set. \n",
    "#Note: We can create an intersection with the & operator or with the intersection() method.\n",
    "primes & odds\n",
    "\n",
    "primes.intersection(odds)"
   ],
   "metadata": {
    "colab": {
     "base_uri": "https://localhost:8080/"
    },
    "id": "nhVYO8VXLK0x",
    "outputId": "37276f79-c2d7-42ef-aaeb-269a6399aa6c",
    "ExecuteTime": {
     "end_time": "2023-12-03T01:15:26.045051Z",
     "start_time": "2023-12-03T01:15:25.977879500Z"
    }
   },
   "execution_count": 82,
   "outputs": [
    {
     "data": {
      "text/plain": "{3, 5, 7}"
     },
     "execution_count": 82,
     "metadata": {},
     "output_type": "execute_result"
    }
   ]
  },
  {
   "cell_type": "code",
   "source": [
    "#Note: Set difference includes items found in the first but not in the second set into one resulting set. \n",
    "#Note: We can create a difference with the - operator or with the difference() method.\n",
    "primes - odds\n",
    "\n",
    "primes.difference(odds)"
   ],
   "metadata": {
    "colab": {
     "base_uri": "https://localhost:8080/"
    },
    "id": "u9dky2F5LUj9",
    "outputId": "7dfeb718-a4f8-4a9f-d157-de52552d5a94",
    "ExecuteTime": {
     "end_time": "2023-12-03T01:15:26.647191700Z",
     "start_time": "2023-12-03T01:15:26.447565100Z"
    }
   },
   "execution_count": 83,
   "outputs": [
    {
     "data": {
      "text/plain": "{2}"
     },
     "execution_count": 83,
     "metadata": {},
     "output_type": "execute_result"
    }
   ]
  },
  {
   "cell_type": "code",
   "source": [
    "#Note: Symmetric set difference includes items found one and not the other set into one resulting set. \n",
    "#Note: We can create a symmetric difference with the ^ operator or with the symmetric_difference() method.\n",
    "primes ^ odds\n",
    "\n",
    "primes.symmetric_difference(odds)"
   ],
   "metadata": {
    "colab": {
     "base_uri": "https://localhost:8080/"
    },
    "id": "sup4FCiML21q",
    "outputId": "4c3d41b3-aa7b-4122-f3ce-6ed4a3f70b24",
    "ExecuteTime": {
     "end_time": "2023-12-03T01:15:26.748638800Z",
     "start_time": "2023-12-03T01:15:26.494836100Z"
    }
   },
   "execution_count": 84,
   "outputs": [
    {
     "data": {
      "text/plain": "{1, 2, 9}"
     },
     "execution_count": 84,
     "metadata": {},
     "output_type": "execute_result"
    }
   ]
  },
  {
   "cell_type": "markdown",
   "source": [
    "### Control Flow"
   ],
   "metadata": {
    "id": "g0g_E39QMvmd"
   }
  },
  {
   "cell_type": "markdown",
   "source": [
    "#### If-Else, If-Elif-Else (Shown with user-defined functions)"
   ],
   "metadata": {
    "id": "wMA9j42ENCHb"
   }
  },
  {
   "cell_type": "code",
   "source": [
    "def test_positive(x):\n",
    "  if x >= 0:\n",
    "    return True\n",
    "  else:\n",
    "    return False"
   ],
   "metadata": {
    "id": "LlT4T4YgMvHd",
    "ExecuteTime": {
     "end_time": "2023-12-03T01:15:26.806728400Z",
     "start_time": "2023-12-03T01:15:26.695873300Z"
    }
   },
   "execution_count": 85,
   "outputs": []
  },
  {
   "cell_type": "code",
   "source": [
    "test_positive(0)"
   ],
   "metadata": {
    "colab": {
     "base_uri": "https://localhost:8080/"
    },
    "id": "zoFag5NhNrDT",
    "outputId": "291374db-f09e-47f7-c4dd-9534ec6c0666",
    "ExecuteTime": {
     "end_time": "2023-12-03T01:15:26.942402100Z",
     "start_time": "2023-12-03T01:15:26.711104300Z"
    }
   },
   "execution_count": 86,
   "outputs": [
    {
     "data": {
      "text/plain": "True"
     },
     "execution_count": 86,
     "metadata": {},
     "output_type": "execute_result"
    }
   ]
  },
  {
   "cell_type": "code",
   "source": [
    "test_positive(12)"
   ],
   "metadata": {
    "colab": {
     "base_uri": "https://localhost:8080/"
    },
    "id": "7yUOAnLCNuLJ",
    "outputId": "634ac823-d96d-45e3-8ead-1d11abb3048a",
    "ExecuteTime": {
     "end_time": "2023-12-03T01:15:27.070949500Z",
     "start_time": "2023-12-03T01:15:26.917189500Z"
    }
   },
   "execution_count": 87,
   "outputs": [
    {
     "data": {
      "text/plain": "True"
     },
     "execution_count": 87,
     "metadata": {},
     "output_type": "execute_result"
    }
   ]
  },
  {
   "cell_type": "code",
   "source": [
    "test_positive(-19)"
   ],
   "metadata": {
    "colab": {
     "base_uri": "https://localhost:8080/"
    },
    "id": "YCkFu1QiNwTA",
    "outputId": "20dce8ad-c6b0-449a-fb60-647e33104daf",
    "ExecuteTime": {
     "end_time": "2023-12-03T01:15:27.241472Z",
     "start_time": "2023-12-03T01:15:27.122330400Z"
    }
   },
   "execution_count": 88,
   "outputs": [
    {
     "data": {
      "text/plain": "False"
     },
     "execution_count": 88,
     "metadata": {},
     "output_type": "execute_result"
    }
   ]
  },
  {
   "cell_type": "code",
   "source": [
    "def test_positive_advanced(x):\n",
    "  if x > 0:\n",
    "    print(\"positive\")\n",
    "  elif x == 0:\n",
    "    print(\"zero\")\n",
    "  else:\n",
    "    print(\"negative\")"
   ],
   "metadata": {
    "id": "E5RbJiBmNy7Q",
    "ExecuteTime": {
     "end_time": "2023-12-03T01:15:27.614728500Z",
     "start_time": "2023-12-03T01:15:27.573305200Z"
    }
   },
   "execution_count": 89,
   "outputs": []
  },
  {
   "cell_type": "code",
   "source": [
    "test_positive_advanced(0)"
   ],
   "metadata": {
    "colab": {
     "base_uri": "https://localhost:8080/"
    },
    "id": "FEnCc0KXOAGZ",
    "outputId": "56eccc53-4395-482e-9564-e082d3626373",
    "ExecuteTime": {
     "end_time": "2023-12-03T01:15:27.781784400Z",
     "start_time": "2023-12-03T01:15:27.751053200Z"
    }
   },
   "execution_count": 90,
   "outputs": [
    {
     "name": "stdout",
     "output_type": "stream",
     "text": [
      "zero\n"
     ]
    }
   ]
  },
  {
   "cell_type": "code",
   "source": [
    "test_positive_advanced(15)"
   ],
   "metadata": {
    "colab": {
     "base_uri": "https://localhost:8080/"
    },
    "id": "zpdU46CXOCWU",
    "outputId": "94823fec-ed7b-47d6-9271-a092828c36f3",
    "ExecuteTime": {
     "end_time": "2023-12-03T01:15:27.955924Z",
     "start_time": "2023-12-03T01:15:27.922492800Z"
    }
   },
   "execution_count": 91,
   "outputs": [
    {
     "name": "stdout",
     "output_type": "stream",
     "text": [
      "positive\n"
     ]
    }
   ]
  },
  {
   "cell_type": "code",
   "source": [
    "test_positive_advanced(-10)"
   ],
   "metadata": {
    "colab": {
     "base_uri": "https://localhost:8080/"
    },
    "id": "92J5WB4yODi1",
    "outputId": "6712324a-3b35-49b5-9b94-ad8640738b17",
    "ExecuteTime": {
     "end_time": "2023-12-03T01:15:28.248726100Z",
     "start_time": "2023-12-03T01:15:28.178638800Z"
    }
   },
   "execution_count": 92,
   "outputs": [
    {
     "name": "stdout",
     "output_type": "stream",
     "text": [
      "negative\n"
     ]
    }
   ]
  },
  {
   "cell_type": "markdown",
   "source": [
    "#### Loops"
   ],
   "metadata": {
    "id": "GOrJtZD6OGCO"
   }
  },
  {
   "cell_type": "code",
   "source": [
    "for n in [1, 9, 8, 10]:\n",
    "  print(n)"
   ],
   "metadata": {
    "colab": {
     "base_uri": "https://localhost:8080/"
    },
    "id": "8mbGWhEbOLj0",
    "outputId": "097e8f19-8492-4187-adc5-8dc8c099e7e8",
    "ExecuteTime": {
     "end_time": "2023-12-03T01:15:28.717478800Z",
     "start_time": "2023-12-03T01:15:28.677754300Z"
    }
   },
   "execution_count": 93,
   "outputs": [
    {
     "name": "stdout",
     "output_type": "stream",
     "text": [
      "1\n",
      "9\n",
      "8\n",
      "10\n"
     ]
    }
   ]
  },
  {
   "cell_type": "code",
   "source": [
    "for num in [1, 9, 8, 10]:\n",
    "  print(num, end=' ')"
   ],
   "metadata": {
    "colab": {
     "base_uri": "https://localhost:8080/"
    },
    "id": "bXKoNcObOR_N",
    "outputId": "ac158d84-f8b6-48b4-ea8f-d03b017a82aa",
    "ExecuteTime": {
     "end_time": "2023-12-03T01:15:28.976054200Z",
     "start_time": "2023-12-03T01:15:28.922681800Z"
    }
   },
   "execution_count": 94,
   "outputs": [
    {
     "name": "stdout",
     "output_type": "stream",
     "text": [
      "1 9 8 10 "
     ]
    }
   ]
  },
  {
   "cell_type": "code",
   "source": [
    "i = 0\n",
    "\n",
    "while i < 10:\n",
    "  print(i, end=' ')\n",
    "  i += 2"
   ],
   "metadata": {
    "colab": {
     "base_uri": "https://localhost:8080/"
    },
    "id": "fPheTRteObvR",
    "outputId": "d1480a3d-02e5-4e21-b826-c72959ae46b9",
    "ExecuteTime": {
     "end_time": "2023-12-03T01:15:29.202367800Z",
     "start_time": "2023-12-03T01:15:29.152429800Z"
    }
   },
   "execution_count": 95,
   "outputs": [
    {
     "name": "stdout",
     "output_type": "stream",
     "text": [
      "0 2 4 6 8 "
     ]
    }
   ]
  },
  {
   "cell_type": "markdown",
   "source": [
    "#### Break and continue"
   ],
   "metadata": {
    "id": "dkOAMfIAOns1"
   }
  },
  {
   "cell_type": "code",
   "source": [
    "for num in range(15):\n",
    "  if num % 2 != 0:\n",
    "    continue\n",
    "  print(num, end=' ')"
   ],
   "metadata": {
    "colab": {
     "base_uri": "https://localhost:8080/"
    },
    "id": "N-NxT31GOmYh",
    "outputId": "7a747d5d-ef96-4416-e66e-381ddf166597",
    "ExecuteTime": {
     "end_time": "2023-12-03T01:15:29.642320800Z",
     "start_time": "2023-12-03T01:15:29.590366800Z"
    }
   },
   "execution_count": 96,
   "outputs": [
    {
     "name": "stdout",
     "output_type": "stream",
     "text": [
      "0 2 4 6 8 10 12 14 "
     ]
    }
   ]
  },
  {
   "cell_type": "code",
   "source": [
    "a, b = 1, 2\n",
    "L = []\n",
    "\n",
    "while True:\n",
    "  (a, b) = (b, a + b)\n",
    "  if a > 100:\n",
    "    break\n",
    "  L.append(a)\n",
    "\n",
    "L"
   ],
   "metadata": {
    "colab": {
     "base_uri": "https://localhost:8080/"
    },
    "id": "uvs0rm1MO5NV",
    "outputId": "c7da4dbf-14ef-4652-84aa-83e33465b02b",
    "ExecuteTime": {
     "end_time": "2023-12-03T01:15:29.868794Z",
     "start_time": "2023-12-03T01:15:29.817529100Z"
    }
   },
   "execution_count": 97,
   "outputs": [
    {
     "data": {
      "text/plain": "[2, 3, 5, 8, 13, 21, 34, 55, 89]"
     },
     "execution_count": 97,
     "metadata": {},
     "output_type": "execute_result"
    }
   ]
  },
  {
   "cell_type": "markdown",
   "source": [
    "### Custom Functions, Errors and Exceptions"
   ],
   "metadata": {
    "id": "0s9m53WKPLRe"
   }
  },
  {
   "cell_type": "code",
   "source": [
    "def fibonacci(n, a=0, b=1):\n",
    "  L = []\n",
    "  while len(L) < n:\n",
    "    a, b = b, a+b\n",
    "    L.append(a)\n",
    "  return L"
   ],
   "metadata": {
    "id": "bIQ2EzHpPYam",
    "ExecuteTime": {
     "end_time": "2023-12-03T01:15:30.281158100Z",
     "start_time": "2023-12-03T01:15:30.240330500Z"
    }
   },
   "execution_count": 98,
   "outputs": []
  },
  {
   "cell_type": "code",
   "source": [
    "fibonacci(10)"
   ],
   "metadata": {
    "colab": {
     "base_uri": "https://localhost:8080/"
    },
    "id": "lSwxix4RPobR",
    "outputId": "f4d713dd-c156-41f2-e166-1a347ca80c62",
    "ExecuteTime": {
     "end_time": "2023-12-03T01:15:30.520974500Z",
     "start_time": "2023-12-03T01:15:30.460263100Z"
    }
   },
   "execution_count": 99,
   "outputs": [
    {
     "data": {
      "text/plain": "[1, 1, 2, 3, 5, 8, 13, 21, 34, 55]"
     },
     "execution_count": 99,
     "metadata": {},
     "output_type": "execute_result"
    }
   ]
  },
  {
   "cell_type": "code",
   "source": [
    "fibonacci(10, 0, 2)"
   ],
   "metadata": {
    "colab": {
     "base_uri": "https://localhost:8080/"
    },
    "id": "Uq3MLRPDPqS-",
    "outputId": "0205f672-4bae-427e-a2c1-2cb56ac2d4af",
    "ExecuteTime": {
     "end_time": "2023-12-03T01:15:30.766563600Z",
     "start_time": "2023-12-03T01:15:30.693564600Z"
    }
   },
   "execution_count": 100,
   "outputs": [
    {
     "data": {
      "text/plain": "[2, 2, 4, 6, 10, 16, 26, 42, 68, 110]"
     },
     "execution_count": 100,
     "metadata": {},
     "output_type": "execute_result"
    }
   ]
  },
  {
   "cell_type": "code",
   "source": [
    "#Note: The following line will result in error of type ZeroDivisionError.\n",
    "# 5 / 0"
   ],
   "metadata": {
    "id": "MOMxPZXwPyX3",
    "ExecuteTime": {
     "end_time": "2023-12-03T01:15:30.940864200Z",
     "start_time": "2023-12-03T01:15:30.893494400Z"
    }
   },
   "execution_count": 101,
   "outputs": []
  },
  {
   "cell_type": "code",
   "source": [
    "try:\n",
    "  x = 1/0\n",
    "  print(\"Running smoothly! Awesome!\")\n",
    "except:\n",
    "  print(\"Oops! An error has occured!\")"
   ],
   "metadata": {
    "colab": {
     "base_uri": "https://localhost:8080/"
    },
    "id": "PyFBpAgxP77Z",
    "outputId": "12ef9a56-9e00-4f1a-a2ac-08ee35f39545",
    "ExecuteTime": {
     "end_time": "2023-12-03T01:15:31.161894200Z",
     "start_time": "2023-12-03T01:15:31.112155900Z"
    }
   },
   "execution_count": 102,
   "outputs": [
    {
     "name": "stdout",
     "output_type": "stream",
     "text": [
      "Oops! An error has occured!\n"
     ]
    }
   ]
  },
  {
   "cell_type": "markdown",
   "source": [
    "### Data Science Tools"
   ],
   "metadata": {
    "id": "9s-OpKv8QtwH"
   }
  },
  {
   "cell_type": "markdown",
   "source": [
    "#### Working with Sequences using NumPy (Numerical Python)\n",
    "\n",
    "*Note: Sequence is a generic term for an ordered set. Strings, lists and tuples are all sequences.*"
   ],
   "metadata": {
    "id": "TSfxp9iiBUaT"
   }
  },
  {
   "cell_type": "code",
   "source": [
    "#Resource: https://numpy.org/\n",
    "#Note: NumPy means Numerical Python\n",
    "#Note: NumPy is a Python library for working with numerical data, multidimensional array and matrix data structures. \n",
    "#Note: NumPy API is used extensively in Pandas, SciPy, Matplotlib, scikit-learn etc.\n",
    "import numpy as np"
   ],
   "metadata": {
    "id": "tDXM-Au7BWHY",
    "ExecuteTime": {
     "end_time": "2023-12-03T01:15:32.420899900Z",
     "start_time": "2023-12-03T01:15:32.295085400Z"
    }
   },
   "execution_count": 103,
   "outputs": []
  },
  {
   "cell_type": "code",
   "source": [
    "base_temperature = 14.48\n",
    "\n",
    "temperatures = np.array([base_temperature - 0.880, base_temperature + 0.12, base_temperature + 0.69])\n",
    "temperatures"
   ],
   "metadata": {
    "colab": {
     "base_uri": "https://localhost:8080/"
    },
    "id": "lyRlaDRcGj-U",
    "outputId": "c8849972-9985-4045-deba-123bf430caf4",
    "ExecuteTime": {
     "end_time": "2023-12-03T01:15:32.559133500Z",
     "start_time": "2023-12-03T01:15:32.526365100Z"
    }
   },
   "execution_count": 104,
   "outputs": [
    {
     "data": {
      "text/plain": "array([13.6 , 14.6 , 15.17])"
     },
     "execution_count": 104,
     "metadata": {},
     "output_type": "execute_result"
    }
   ]
  },
  {
   "cell_type": "code",
   "source": [
    "type(temperatures)"
   ],
   "metadata": {
    "colab": {
     "base_uri": "https://localhost:8080/"
    },
    "id": "uiMBSwmNG7-r",
    "outputId": "48ff9bed-54a3-4c4c-fb8f-57cfc0491955",
    "ExecuteTime": {
     "end_time": "2023-12-03T01:15:33.160551800Z",
     "start_time": "2023-12-03T01:15:32.932667600Z"
    }
   },
   "execution_count": 105,
   "outputs": [
    {
     "data": {
      "text/plain": "numpy.ndarray"
     },
     "execution_count": 105,
     "metadata": {},
     "output_type": "execute_result"
    }
   ]
  },
  {
   "cell_type": "code",
   "source": [
    "farenheit_temps = (9/5) * temperatures + 32\n",
    "farenheit_temps"
   ],
   "metadata": {
    "colab": {
     "base_uri": "https://localhost:8080/"
    },
    "id": "RAlKFD1GIySC",
    "outputId": "035239eb-bb60-4bc4-ae7a-be638ec3b9c7",
    "ExecuteTime": {
     "end_time": "2023-12-03T01:15:33.610227900Z",
     "start_time": "2023-12-03T01:15:33.177442200Z"
    }
   },
   "execution_count": 106,
   "outputs": [
    {
     "data": {
      "text/plain": "array([56.48 , 58.28 , 59.306])"
     },
     "execution_count": 106,
     "metadata": {},
     "output_type": "execute_result"
    }
   ]
  },
  {
   "cell_type": "code",
   "source": [
    "temperatures = [base_temperature, base_temperature + 20, base_temperature * 10]\n",
    "temperatures"
   ],
   "metadata": {
    "colab": {
     "base_uri": "https://localhost:8080/"
    },
    "id": "18F0T3YZHA-x",
    "outputId": "373ede3c-f20d-4a3e-bb25-333940a97c81",
    "ExecuteTime": {
     "end_time": "2023-12-03T01:15:33.727884Z",
     "start_time": "2023-12-03T01:15:33.429050300Z"
    }
   },
   "execution_count": 107,
   "outputs": [
    {
     "data": {
      "text/plain": "[14.48, 34.480000000000004, 144.8]"
     },
     "execution_count": 107,
     "metadata": {},
     "output_type": "execute_result"
    }
   ]
  },
  {
   "cell_type": "code",
   "source": [
    "type(temperatures)"
   ],
   "metadata": {
    "colab": {
     "base_uri": "https://localhost:8080/"
    },
    "id": "6xMDrHmIHF_X",
    "outputId": "ae9771ed-f01c-42d5-960f-0df85fe261a7",
    "ExecuteTime": {
     "end_time": "2023-12-03T01:15:34.691578300Z",
     "start_time": "2023-12-03T01:15:34.632459200Z"
    }
   },
   "execution_count": 108,
   "outputs": [
    {
     "data": {
      "text/plain": "list"
     },
     "execution_count": 108,
     "metadata": {},
     "output_type": "execute_result"
    }
   ]
  },
  {
   "cell_type": "code",
   "source": [
    "np.arange(5)"
   ],
   "metadata": {
    "colab": {
     "base_uri": "https://localhost:8080/"
    },
    "id": "EGW1XLgRJG72",
    "outputId": "7f10e8a7-bb61-4681-832d-40848113cbe6",
    "ExecuteTime": {
     "end_time": "2023-12-03T01:15:34.901592600Z",
     "start_time": "2023-12-03T01:15:34.867094600Z"
    }
   },
   "execution_count": 109,
   "outputs": [
    {
     "data": {
      "text/plain": "array([0, 1, 2, 3, 4])"
     },
     "execution_count": 109,
     "metadata": {},
     "output_type": "execute_result"
    }
   ]
  },
  {
   "cell_type": "code",
   "source": [
    "np.arange(0, 10, 5)"
   ],
   "metadata": {
    "colab": {
     "base_uri": "https://localhost:8080/"
    },
    "id": "PQBoUvk0JK-y",
    "outputId": "4390dfc8-4114-4dd3-a6ba-15254f552567",
    "ExecuteTime": {
     "end_time": "2023-12-03T01:15:35.223986300Z",
     "start_time": "2023-12-03T01:15:35.143969900Z"
    }
   },
   "execution_count": 110,
   "outputs": [
    {
     "data": {
      "text/plain": "array([0, 5])"
     },
     "execution_count": 110,
     "metadata": {},
     "output_type": "execute_result"
    }
   ]
  },
  {
   "cell_type": "code",
   "source": [
    "x = np.arange(1, 10)"
   ],
   "metadata": {
    "id": "1rUTPcktJOed",
    "ExecuteTime": {
     "end_time": "2023-12-03T01:15:35.521836Z",
     "start_time": "2023-12-03T01:15:35.369621400Z"
    }
   },
   "execution_count": 111,
   "outputs": []
  },
  {
   "cell_type": "code",
   "source": [
    "x"
   ],
   "metadata": {
    "colab": {
     "base_uri": "https://localhost:8080/"
    },
    "id": "sbVlNx6yRaQU",
    "outputId": "93d25635-2728-4a99-b8be-cdbdfdaf8d47",
    "ExecuteTime": {
     "end_time": "2023-12-03T01:15:35.706454200Z",
     "start_time": "2023-12-03T01:15:35.588861600Z"
    }
   },
   "execution_count": 112,
   "outputs": [
    {
     "data": {
      "text/plain": "array([1, 2, 3, 4, 5, 6, 7, 8, 9])"
     },
     "execution_count": 112,
     "metadata": {},
     "output_type": "execute_result"
    }
   ]
  },
  {
   "cell_type": "code",
   "source": [
    "x ** 2"
   ],
   "metadata": {
    "colab": {
     "base_uri": "https://localhost:8080/"
    },
    "id": "i1EbLyLORIye",
    "outputId": "c2287d57-7907-4f6b-b9df-0b28361b97a2",
    "ExecuteTime": {
     "end_time": "2023-12-03T01:15:35.942695300Z",
     "start_time": "2023-12-03T01:15:35.800839700Z"
    }
   },
   "execution_count": 113,
   "outputs": [
    {
     "data": {
      "text/plain": "array([ 1,  4,  9, 16, 25, 36, 49, 64, 81])"
     },
     "execution_count": 113,
     "metadata": {},
     "output_type": "execute_result"
    }
   ]
  },
  {
   "cell_type": "code",
   "source": [
    "M = x.reshape(3, 3)\n",
    "M"
   ],
   "metadata": {
    "colab": {
     "base_uri": "https://localhost:8080/"
    },
    "id": "zHF8etpqSHjh",
    "outputId": "fe4fca3d-aa84-4e7c-a1c7-2e734600affc",
    "ExecuteTime": {
     "end_time": "2023-12-03T01:15:36.274537400Z",
     "start_time": "2023-12-03T01:15:36.005768Z"
    }
   },
   "execution_count": 114,
   "outputs": [
    {
     "data": {
      "text/plain": "array([[1, 2, 3],\n       [4, 5, 6],\n       [7, 8, 9]])"
     },
     "execution_count": 114,
     "metadata": {},
     "output_type": "execute_result"
    }
   ]
  },
  {
   "cell_type": "code",
   "source": [
    "#Note: This is transpose.\n",
    "M.T"
   ],
   "metadata": {
    "colab": {
     "base_uri": "https://localhost:8080/"
    },
    "id": "3JoxHGt4SRXx",
    "outputId": "abd8bdd9-b515-49b7-c5e0-d158612a65c2",
    "ExecuteTime": {
     "end_time": "2023-12-03T01:15:36.328863400Z",
     "start_time": "2023-12-03T01:15:36.197577200Z"
    }
   },
   "execution_count": 115,
   "outputs": [
    {
     "data": {
      "text/plain": "array([[1, 4, 7],\n       [2, 5, 8],\n       [3, 6, 9]])"
     },
     "execution_count": 115,
     "metadata": {},
     "output_type": "execute_result"
    }
   ]
  },
  {
   "cell_type": "markdown",
   "source": [
    "####Pandas"
   ],
   "metadata": {
    "id": "iCLD5dGMTDyU"
   }
  },
  {
   "cell_type": "code",
   "source": [
    "#Resource: https://pandas.pydata.org/\n",
    "#Note: Pandas is extensively used in Data Science/ Data Analysis and Machine Learning.\n",
    "#Note: Pandas can be used for: data cleansing, data fill, data normalization, merges and joins, visualization, loading and saving data etc.\n",
    "#Note: Pandas is mostly used with labeled column-oriented data\n",
    "\n",
    "import pandas as pd"
   ],
   "metadata": {
    "id": "kOunNH_aBdxJ",
    "ExecuteTime": {
     "end_time": "2023-12-03T01:15:37.453057300Z",
     "start_time": "2023-12-03T01:15:36.938316300Z"
    }
   },
   "execution_count": 116,
   "outputs": []
  },
  {
   "cell_type": "code",
   "source": [
    "df = pd.DataFrame({'label': ['A', 'B', 'C', 'D', 'A', 'B', 'C', 'F'], 'value': [1, 2, 3, 4, 5, 6, 7, 8]})\n",
    "df"
   ],
   "metadata": {
    "colab": {
     "base_uri": "https://localhost:8080/",
     "height": 300
    },
    "id": "DdlC7GznSb8t",
    "outputId": "f9f25f49-277b-4e20-be69-742cd4e2b72b",
    "ExecuteTime": {
     "end_time": "2023-12-03T01:15:37.518753Z",
     "start_time": "2023-12-03T01:15:36.989521600Z"
    }
   },
   "execution_count": 117,
   "outputs": [
    {
     "data": {
      "text/plain": "  label  value\n0     A      1\n1     B      2\n2     C      3\n3     D      4\n4     A      5\n5     B      6\n6     C      7\n7     F      8",
      "text/html": "<div>\n<style scoped>\n    .dataframe tbody tr th:only-of-type {\n        vertical-align: middle;\n    }\n\n    .dataframe tbody tr th {\n        vertical-align: top;\n    }\n\n    .dataframe thead th {\n        text-align: right;\n    }\n</style>\n<table border=\"1\" class=\"dataframe\">\n  <thead>\n    <tr style=\"text-align: right;\">\n      <th></th>\n      <th>label</th>\n      <th>value</th>\n    </tr>\n  </thead>\n  <tbody>\n    <tr>\n      <th>0</th>\n      <td>A</td>\n      <td>1</td>\n    </tr>\n    <tr>\n      <th>1</th>\n      <td>B</td>\n      <td>2</td>\n    </tr>\n    <tr>\n      <th>2</th>\n      <td>C</td>\n      <td>3</td>\n    </tr>\n    <tr>\n      <th>3</th>\n      <td>D</td>\n      <td>4</td>\n    </tr>\n    <tr>\n      <th>4</th>\n      <td>A</td>\n      <td>5</td>\n    </tr>\n    <tr>\n      <th>5</th>\n      <td>B</td>\n      <td>6</td>\n    </tr>\n    <tr>\n      <th>6</th>\n      <td>C</td>\n      <td>7</td>\n    </tr>\n    <tr>\n      <th>7</th>\n      <td>F</td>\n      <td>8</td>\n    </tr>\n  </tbody>\n</table>\n</div>"
     },
     "execution_count": 117,
     "metadata": {},
     "output_type": "execute_result"
    }
   ]
  },
  {
   "cell_type": "code",
   "source": [
    "type(df)"
   ],
   "metadata": {
    "colab": {
     "base_uri": "https://localhost:8080/"
    },
    "id": "NGx-y3DnStb2",
    "outputId": "6632c327-5497-43e1-9ac6-6cb7eca07320",
    "ExecuteTime": {
     "end_time": "2023-12-03T01:15:37.569879200Z",
     "start_time": "2023-12-03T01:15:37.025221600Z"
    }
   },
   "execution_count": 118,
   "outputs": [
    {
     "data": {
      "text/plain": "pandas.core.frame.DataFrame"
     },
     "execution_count": 118,
     "metadata": {},
     "output_type": "execute_result"
    }
   ]
  },
  {
   "cell_type": "code",
   "source": [
    "df['label']"
   ],
   "metadata": {
    "colab": {
     "base_uri": "https://localhost:8080/"
    },
    "id": "e10W-NcGSvSE",
    "outputId": "6c135529-1c4d-441f-d474-19b57eab8fed",
    "ExecuteTime": {
     "end_time": "2023-12-03T01:15:37.618959600Z",
     "start_time": "2023-12-03T01:15:37.075067700Z"
    }
   },
   "execution_count": 119,
   "outputs": [
    {
     "data": {
      "text/plain": "0    A\n1    B\n2    C\n3    D\n4    A\n5    B\n6    C\n7    F\nName: label, dtype: object"
     },
     "execution_count": 119,
     "metadata": {},
     "output_type": "execute_result"
    }
   ]
  },
  {
   "cell_type": "code",
   "source": [
    "df.groupby('label').sum()"
   ],
   "metadata": {
    "colab": {
     "base_uri": "https://localhost:8080/",
     "height": 238
    },
    "id": "Ou9JHOrzSxYS",
    "outputId": "5d1c78a8-0ed7-4417-d7f9-ae21e1d6e956",
    "ExecuteTime": {
     "end_time": "2023-12-03T01:15:37.646393Z",
     "start_time": "2023-12-03T01:15:37.111082600Z"
    }
   },
   "execution_count": 120,
   "outputs": [
    {
     "data": {
      "text/plain": "       value\nlabel       \nA          6\nB          8\nC         10\nD          4\nF          8",
      "text/html": "<div>\n<style scoped>\n    .dataframe tbody tr th:only-of-type {\n        vertical-align: middle;\n    }\n\n    .dataframe tbody tr th {\n        vertical-align: top;\n    }\n\n    .dataframe thead th {\n        text-align: right;\n    }\n</style>\n<table border=\"1\" class=\"dataframe\">\n  <thead>\n    <tr style=\"text-align: right;\">\n      <th></th>\n      <th>value</th>\n    </tr>\n    <tr>\n      <th>label</th>\n      <th></th>\n    </tr>\n  </thead>\n  <tbody>\n    <tr>\n      <th>A</th>\n      <td>6</td>\n    </tr>\n    <tr>\n      <th>B</th>\n      <td>8</td>\n    </tr>\n    <tr>\n      <th>C</th>\n      <td>10</td>\n    </tr>\n    <tr>\n      <th>D</th>\n      <td>4</td>\n    </tr>\n    <tr>\n      <th>F</th>\n      <td>8</td>\n    </tr>\n  </tbody>\n</table>\n</div>"
     },
     "execution_count": 120,
     "metadata": {},
     "output_type": "execute_result"
    }
   ]
  },
  {
   "cell_type": "markdown",
   "source": [
    "####Matplotlib"
   ],
   "metadata": {
    "id": "QDU2B5EnTHxL"
   }
  },
  {
   "cell_type": "code",
   "source": [
    "#Resource: https://matplotlib.org/\n",
    "#Note: Matplotlib is a comprehensive library for Python visualizations.\n",
    "import matplotlib.pyplot as plt\n",
    "\n",
    "#Note: This line of code will make our graphs in the style of R's ggplot.\n",
    "plt.style.use('ggplot')"
   ],
   "metadata": {
    "id": "x7V3I4FkUOAm",
    "ExecuteTime": {
     "end_time": "2023-12-03T01:15:37.906807500Z",
     "start_time": "2023-12-03T01:15:37.198090700Z"
    }
   },
   "execution_count": 121,
   "outputs": []
  },
  {
   "cell_type": "code",
   "source": [
    "x = np.linspace(0, 10, 100)\n",
    "\n",
    "figure = plt.figure()\n",
    "plt.plot(x, np.sin(x), '-', 'b')\n",
    "plt.plot(x, np.cos(x), '--', 'r')"
   ],
   "metadata": {
    "colab": {
     "base_uri": "https://localhost:8080/",
     "height": 300
    },
    "id": "W4lv0DduUawW",
    "outputId": "916fc6a6-1454-488f-ccb4-1b4c11218f57",
    "ExecuteTime": {
     "end_time": "2023-12-03T01:15:38.021384200Z",
     "start_time": "2023-12-03T01:15:37.635271Z"
    }
   },
   "execution_count": 122,
   "outputs": [
    {
     "data": {
      "text/plain": "[<matplotlib.lines.Line2D at 0x20a0f1cbca0>,\n <matplotlib.lines.Line2D at 0x20a0f1cbcd0>]"
     },
     "execution_count": 122,
     "metadata": {},
     "output_type": "execute_result"
    },
    {
     "data": {
      "text/plain": "<Figure size 640x480 with 1 Axes>",
      "image/png": "[encoded data removed]"
     },
     "metadata": {},
     "output_type": "display_data"
    }
   ]
  },
  {
   "cell_type": "code",
   "source": [
    "plt.plot([1, 2, 3, 4], [1, 4, 9, 16])\n",
    "plt.show()"
   ],
   "metadata": {
    "colab": {
     "base_uri": "https://localhost:8080/",
     "height": 265
    },
    "id": "qgaKW1LsUrW8",
    "outputId": "f95ba286-4b08-41c7-c725-aa23e3d3b289",
    "ExecuteTime": {
     "end_time": "2023-12-03T01:15:38.044744500Z",
     "start_time": "2023-12-03T01:15:37.788694500Z"
    }
   },
   "execution_count": 123,
   "outputs": [
    {
     "data": {
      "text/plain": "<Figure size 640x480 with 1 Axes>",
      "image/png": "[encoded data removed]"
     },
     "metadata": {},
     "output_type": "display_data"
    }
   ]
  },
  {
   "cell_type": "markdown",
   "source": [
    "####SciPy (Scientific Python)"
   ],
   "metadata": {
    "id": "7LSroCvXU0Lz"
   }
  },
  {
   "cell_type": "code",
   "source": [
    "#Resource: https://scipy.org/\n",
    "#Note: SciPy is a library used for solving mathematical, scientific, engineering and technical problems in Python.\n",
    "from scipy import interpolate\n",
    "\n",
    "#Note: Interpolation is in fact determination/estimation of the value of f(x) from certain known values of the funcion.\n",
    "\n",
    "x = np.linspace(0, 10, 7)\n",
    "y = np.sin(x)\n",
    "\n",
    "funct = interpolate.interp1d(x, y, kind='cubic')\n",
    "\n",
    "x_interp = np.linspace(0, 10, 1000)\n",
    "y_interp = funct(x_interp)\n",
    "\n",
    "#Note: plt.figure() returns an empty figure\n",
    "#Note: plt.plot() returns a plot (y versus x as lines).\n",
    "#Note: 'bo' is in place of the optional parameter fmt used for formating and means 'plot x and y using blue circles'.\n",
    "plt.figure()\n",
    "plt.plot(x, y, 'bo')\n",
    "plt.plot(x_interp, y_interp)"
   ],
   "metadata": {
    "colab": {
     "base_uri": "https://localhost:8080/",
     "height": 282
    },
    "id": "i7LqUnHXVWsI",
    "outputId": "4baf8711-188a-4e1c-fbb9-66360fa94898",
    "ExecuteTime": {
     "end_time": "2023-12-03T01:15:38.502749800Z",
     "start_time": "2023-12-03T01:15:37.914930900Z"
    }
   },
   "execution_count": 124,
   "outputs": [
    {
     "data": {
      "text/plain": "[<matplotlib.lines.Line2D at 0x20a10c715b0>]"
     },
     "execution_count": 124,
     "metadata": {},
     "output_type": "execute_result"
    },
    {
     "data": {
      "text/plain": "<Figure size 640x480 with 1 Axes>",
      "image/png": "[encoded data removed]"
     },
     "metadata": {},
     "output_type": "display_data"
    }
   ]
  },
  {
   "cell_type": "markdown",
   "source": [
    "### Quiz answers"
   ],
   "metadata": {
    "id": "_yFIM1x56jdi"
   }
  },
  {
   "cell_type": "code",
   "source": [
    "#1\n",
    "#str (ten)"
   ],
   "metadata": {
    "id": "dlhkyPs-6laR",
    "ExecuteTime": {
     "end_time": "2023-12-03T01:15:39.746355600Z",
     "start_time": "2023-12-03T01:15:39.699506900Z"
    }
   },
   "execution_count": 125,
   "outputs": []
  },
  {
   "cell_type": "code",
   "source": [
    "#2\n",
    "ten = 10\n",
    "str(ten)"
   ],
   "metadata": {
    "colab": {
     "base_uri": "https://localhost:8080/"
    },
    "id": "ybcuBGHT6m4V",
    "outputId": "502946e3-604e-403d-d3ab-9e9aac2420d4",
    "ExecuteTime": {
     "end_time": "2023-12-03T01:15:40.213909800Z",
     "start_time": "2023-12-03T01:15:40.174842Z"
    }
   },
   "execution_count": 126,
   "outputs": [
    {
     "data": {
      "text/plain": "'10'"
     },
     "execution_count": 126,
     "metadata": {},
     "output_type": "execute_result"
    }
   ]
  },
  {
   "cell_type": "code",
   "source": [
    "#3\n",
    "ten = 10\n",
    "str ('ten')"
   ],
   "metadata": {
    "colab": {
     "base_uri": "https://localhost:8080/"
    },
    "id": "2L7DceZ07TXj",
    "outputId": "d91144fc-51c5-475d-c212-cfa492fecdb4",
    "ExecuteTime": {
     "end_time": "2023-12-03T01:15:40.453124700Z",
     "start_time": "2023-12-03T01:15:40.417038400Z"
    }
   },
   "execution_count": 127,
   "outputs": [
    {
     "data": {
      "text/plain": "'ten'"
     },
     "execution_count": 127,
     "metadata": {},
     "output_type": "execute_result"
    }
   ]
  },
  {
   "cell_type": "code",
   "source": [
    "#4\n",
    "ten = '10'\n",
    "str(ten + '10')"
   ],
   "metadata": {
    "colab": {
     "base_uri": "https://localhost:8080/"
    },
    "id": "2YIoUuRo7dzM",
    "outputId": "7b123b06-c0c1-44c3-dcf8-5bc3ab1d10c1",
    "ExecuteTime": {
     "end_time": "2023-12-03T01:15:40.957651400Z",
     "start_time": "2023-12-03T01:15:40.924685800Z"
    }
   },
   "execution_count": 128,
   "outputs": [
    {
     "data": {
      "text/plain": "'1010'"
     },
     "execution_count": 128,
     "metadata": {},
     "output_type": "execute_result"
    }
   ]
  },
  {
   "cell_type": "code",
   "source": [
    "#5\n",
    "x = 20\n",
    "y = 5\n",
    "z = x / y\n",
    "\n",
    "x + z"
   ],
   "metadata": {
    "colab": {
     "base_uri": "https://localhost:8080/"
    },
    "id": "hXscz1bF7i-S",
    "outputId": "bf6555aa-b11a-420d-dda7-77ef0b11e48e",
    "ExecuteTime": {
     "end_time": "2023-12-03T01:15:41.193207600Z",
     "start_time": "2023-12-03T01:15:41.160984Z"
    }
   },
   "execution_count": 129,
   "outputs": [
    {
     "data": {
      "text/plain": "24.0"
     },
     "execution_count": 129,
     "metadata": {},
     "output_type": "execute_result"
    }
   ]
  },
  {
   "cell_type": "code",
   "source": [
    "#6\n",
    "x = 20\n",
    "y = 5\n",
    "z = x / y\n",
    "\n",
    "y ** z"
   ],
   "metadata": {
    "colab": {
     "base_uri": "https://localhost:8080/"
    },
    "id": "YqaPcw9K7pjX",
    "outputId": "5dae9929-7d79-433f-ef3b-30de93c6ca1a",
    "ExecuteTime": {
     "end_time": "2023-12-03T01:15:41.528839700Z",
     "start_time": "2023-12-03T01:15:41.477057Z"
    }
   },
   "execution_count": 130,
   "outputs": [
    {
     "data": {
      "text/plain": "625.0"
     },
     "execution_count": 130,
     "metadata": {},
     "output_type": "execute_result"
    }
   ]
  },
  {
   "cell_type": "code",
   "source": [
    "#7\n",
    "x = complex(5,3)\n",
    "y = 2\n",
    "\n",
    "(len('data') + x) * y"
   ],
   "metadata": {
    "colab": {
     "base_uri": "https://localhost:8080/"
    },
    "id": "ZFpK-89DAyTv",
    "outputId": "5181c4b2-822c-48fe-cb5f-3cb084b1938f",
    "ExecuteTime": {
     "end_time": "2023-12-03T01:15:42.007422Z",
     "start_time": "2023-12-03T01:15:41.968128700Z"
    }
   },
   "execution_count": 131,
   "outputs": [
    {
     "data": {
      "text/plain": "(18+6j)"
     },
     "execution_count": 131,
     "metadata": {},
     "output_type": "execute_result"
    }
   ]
  },
  {
   "cell_type": "code",
   "source": [
    "#8\n",
    "L = [1, 'two', 3.14, [0, 3, 5]]\n",
    "L_types = [type(i) for i in L]\n",
    "\n",
    "L_types"
   ],
   "metadata": {
    "colab": {
     "base_uri": "https://localhost:8080/"
    },
    "id": "QqF0P2EZA6qT",
    "outputId": "eb2d0953-c236-4f31-ab8e-103d94b09766",
    "ExecuteTime": {
     "end_time": "2023-12-03T01:15:42.280749600Z",
     "start_time": "2023-12-03T01:15:42.228722200Z"
    }
   },
   "execution_count": 132,
   "outputs": [
    {
     "data": {
      "text/plain": "[int, str, float, list]"
     },
     "execution_count": 132,
     "metadata": {},
     "output_type": "execute_result"
    }
   ]
  },
  {
   "cell_type": "code",
   "source": [
    "#9\n",
    "np.arange(0, 10, 2)"
   ],
   "metadata": {
    "colab": {
     "base_uri": "https://localhost:8080/"
    },
    "id": "D-N5szUcBHGa",
    "outputId": "ab002b02-db3e-41dd-8464-8e732ad20556",
    "ExecuteTime": {
     "end_time": "2023-12-03T01:15:42.567568800Z",
     "start_time": "2023-12-03T01:15:42.533128600Z"
    }
   },
   "execution_count": 133,
   "outputs": [
    {
     "data": {
      "text/plain": "array([0, 2, 4, 6, 8])"
     },
     "execution_count": 133,
     "metadata": {},
     "output_type": "execute_result"
    }
   ]
  },
  {
   "cell_type": "code",
   "source": [
    "#10\n",
    "values = [i ** 2 for i in range(0, 10, 2)]\n",
    "labels = [chr(i + 65) for i in range(0, len(values))]\n",
    "df = pd.DataFrame({'label': labels, 'value': values})\n",
    "\n",
    "df"
   ],
   "metadata": {
    "colab": {
     "base_uri": "https://localhost:8080/",
     "height": 206
    },
    "id": "nPwukRGWBOMd",
    "outputId": "3b0dda21-2a3b-410a-bd43-b9a333c5dc48",
    "ExecuteTime": {
     "end_time": "2023-12-03T01:15:43.024254400Z",
     "start_time": "2023-12-03T01:15:42.893505600Z"
    }
   },
   "execution_count": 134,
   "outputs": [
    {
     "data": {
      "text/plain": "  label  value\n0     A      0\n1     B      4\n2     C     16\n3     D     36\n4     E     64",
      "text/html": "<div>\n<style scoped>\n    .dataframe tbody tr th:only-of-type {\n        vertical-align: middle;\n    }\n\n    .dataframe tbody tr th {\n        vertical-align: top;\n    }\n\n    .dataframe thead th {\n        text-align: right;\n    }\n</style>\n<table border=\"1\" class=\"dataframe\">\n  <thead>\n    <tr style=\"text-align: right;\">\n      <th></th>\n      <th>label</th>\n      <th>value</th>\n    </tr>\n  </thead>\n  <tbody>\n    <tr>\n      <th>0</th>\n      <td>A</td>\n      <td>0</td>\n    </tr>\n    <tr>\n      <th>1</th>\n      <td>B</td>\n      <td>4</td>\n    </tr>\n    <tr>\n      <th>2</th>\n      <td>C</td>\n      <td>16</td>\n    </tr>\n    <tr>\n      <th>3</th>\n      <td>D</td>\n      <td>36</td>\n    </tr>\n    <tr>\n      <th>4</th>\n      <td>E</td>\n      <td>64</td>\n    </tr>\n  </tbody>\n</table>\n</div>"
     },
     "execution_count": 134,
     "metadata": {},
     "output_type": "execute_result"
    }
   ]
  }
 ]
}
