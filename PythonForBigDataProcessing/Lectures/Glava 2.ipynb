{
 "nbformat": 4,
 "nbformat_minor": 0,
 "metadata": {
  "colab": {
   "name": "Glava 2 - NumPy.ipynb",
   "provenance": [],
   "authorship_tag": "ABX9TyP9lu03AzeDkA3qsO8jM8Te"
  },
  "kernelspec": {
   "name": "python3",
   "language": "python",
   "display_name": "Python 3 (ipykernel)"
  },
  "language_info": {
   "name": "python"
  }
 },
 "cells": [
  {
   "cell_type": "code",
   "metadata": {
    "id": "Dp1U1xS5lTPl",
    "executionInfo": {
     "status": "ok",
     "timestamp": 1628175322174,
     "user_tz": -120,
     "elapsed": 3,
     "user": {
      "displayName": "Sasho Gramatikov",
      "photoUrl": "https://lh3.googleusercontent.com/a-/AOh14GiORR1CaMGmxwNR-W7YS7ssbav8FspEHqAMlMKGkHM=s64",
      "userId": "11468980100954515276"
     }
    },
    "ExecuteTime": {
     "end_time": "2023-11-26T21:52:44.436140800Z",
     "start_time": "2023-11-26T21:52:44.395331300Z"
    }
   },
   "source": [
    "import numpy as np"
   ],
   "execution_count": 16,
   "outputs": []
  },
  {
   "cell_type": "markdown",
   "source": [
    "## Creating a list"
   ],
   "metadata": {
    "collapsed": false
   }
  },
  {
   "cell_type": "code",
   "metadata": {
    "colab": {
     "base_uri": "https://localhost:8080/"
    },
    "id": "35vWDmE-s4CX",
    "executionInfo": {
     "status": "ok",
     "timestamp": 1627558965060,
     "user_tz": -120,
     "elapsed": 235,
     "user": {
      "displayName": "Sasho Gramatikov",
      "photoUrl": "https://lh3.googleusercontent.com/a-/AOh14GiORR1CaMGmxwNR-W7YS7ssbav8FspEHqAMlMKGkHM=s64",
      "userId": "11468980100954515276"
     }
    },
    "outputId": "e582cd2d-1665-4c1c-b6b4-f88fdda64b65",
    "ExecuteTime": {
     "end_time": "2023-11-26T21:52:45.032819700Z",
     "start_time": "2023-11-26T21:52:44.932354200Z"
    }
   },
   "source": [
    "pole_1d = np.array([0, 5, 10, 15, 20])\n",
    "print(pole_1d)\n",
    "\n",
    "print(\" \")\n",
    "\n",
    "pole_2d = np.array([[1.0, 3, 5, 7],\n",
    "                    [2, 4, 6, 8]])\n",
    "print(pole_2d)\n",
    "\n",
    "print(\" \")\n",
    "\n",
    "pole_3d = np.array([[[1, 1], [2, 2]],\n",
    "                    [[3, 3], [4, 4]],\n",
    "                    [[5, 5], [6, 6]]])\n",
    "print(pole_3d)"
   ],
   "execution_count": 17,
   "outputs": [
    {
     "name": "stdout",
     "output_type": "stream",
     "text": [
      "[ 0  5 10 15 20]\n",
      " \n",
      "[[1. 3. 5. 7.]\n",
      " [2. 4. 6. 8.]]\n",
      " \n",
      "[[[1 1]\n",
      "  [2 2]]\n",
      "\n",
      " [[3 3]\n",
      "  [4 4]]\n",
      "\n",
      " [[5 5]\n",
      "  [6 6]]]\n"
     ]
    }
   ]
  },
  {
   "cell_type": "code",
   "metadata": {
    "colab": {
     "base_uri": "https://localhost:8080/"
    },
    "id": "x7FAyKQVF0X-",
    "executionInfo": {
     "status": "ok",
     "timestamp": 1627559257692,
     "user_tz": -120,
     "elapsed": 258,
     "user": {
      "displayName": "Sasho Gramatikov",
      "photoUrl": "https://lh3.googleusercontent.com/a-/AOh14GiORR1CaMGmxwNR-W7YS7ssbav8FspEHqAMlMKGkHM=s64",
      "userId": "11468980100954515276"
     }
    },
    "outputId": "5ed60ce3-ce0b-4542-93dd-738e7ec529ae",
    "ExecuteTime": {
     "end_time": "2023-11-26T21:52:45.095541300Z",
     "start_time": "2023-11-26T21:52:44.985577600Z"
    }
   },
   "source": [
    "pole_1d"
   ],
   "execution_count": 18,
   "outputs": [
    {
     "data": {
      "text/plain": "array([ 0,  5, 10, 15, 20])"
     },
     "execution_count": 18,
     "metadata": {},
     "output_type": "execute_result"
    }
   ]
  },
  {
   "cell_type": "markdown",
   "source": [
    "## List properties"
   ],
   "metadata": {
    "collapsed": false
   }
  },
  {
   "cell_type": "code",
   "metadata": {
    "colab": {
     "base_uri": "https://localhost:8080/"
    },
    "id": "mkm94CUyy4dJ",
    "executionInfo": {
     "status": "ok",
     "timestamp": 1626951774376,
     "user_tz": -120,
     "elapsed": 809,
     "user": {
      "displayName": "Sasho Gramatikov",
      "photoUrl": "https://lh3.googleusercontent.com/a-/AOh14GiORR1CaMGmxwNR-W7YS7ssbav8FspEHqAMlMKGkHM=s64",
      "userId": "11468980100954515276"
     }
    },
    "outputId": "e3ee483a-df26-46c9-e6f8-dd06e6c4371b",
    "ExecuteTime": {
     "end_time": "2023-11-26T21:52:45.901085200Z",
     "start_time": "2023-11-26T21:52:45.852157100Z"
    }
   },
   "source": [
    "print(\"(size) Broj na elementi:\", pole_2d.size)  # number of elements\n",
    "print(\"(ndim) Broj na dimenzii:\", pole_2d.ndim)  # number of dimensions\n",
    "print(\"(shape) Elementi po dimenzija:\", pole_2d.shape)  # number of elements in a dimension in tuple format\n",
    "print(\"(nbytes) Golemina vo bajti:\", pole_2d.nbytes)  # size in bytes\n",
    "print(\"(dtype) Tip na podatoci:\", pole_2d.dtype)  # type of data"
   ],
   "execution_count": 19,
   "outputs": [
    {
     "name": "stdout",
     "output_type": "stream",
     "text": [
      "(size) Broj na elementi: 8\n",
      "(ndim) Broj na dimenzii: 2\n",
      "(shape) Elementi po dimenzija: (2, 4)\n",
      "(nbytes) Golemina vo bajti: 64\n",
      "(dtype) Tip na podatoci: float64\n"
     ]
    }
   ]
  },
  {
   "cell_type": "markdown",
   "source": [
    "## dtype - data types"
   ],
   "metadata": {
    "collapsed": false
   }
  },
  {
   "cell_type": "code",
   "metadata": {
    "colab": {
     "base_uri": "https://localhost:8080/"
    },
    "id": "mwBH-SJI3cMk",
    "executionInfo": {
     "status": "ok",
     "timestamp": 1626945336000,
     "user_tz": -120,
     "elapsed": 439,
     "user": {
      "displayName": "Sasho Gramatikov",
      "photoUrl": "https://lh3.googleusercontent.com/a-/AOh14GiORR1CaMGmxwNR-W7YS7ssbav8FspEHqAMlMKGkHM=s64",
      "userId": "11468980100954515276"
     }
    },
    "outputId": "274c35c2-79c8-49f7-de87-042bd50b32ad",
    "ExecuteTime": {
     "end_time": "2023-11-26T21:52:47.521678400Z",
     "start_time": "2023-11-26T21:52:47.487139600Z"
    }
   },
   "source": [
    "pole_1d = np.array([0, 5], dtype='S3')\n",
    "print(pole_1d.dtype)\n",
    "pole_2d = np.array([[1.0, 3], [2, 4]], dtype=np.int64)\n",
    "print(pole_2d.dtype)"
   ],
   "execution_count": 20,
   "outputs": [
    {
     "name": "stdout",
     "output_type": "stream",
     "text": [
      "|S3\n",
      "int64\n"
     ]
    }
   ]
  },
  {
   "cell_type": "code",
   "metadata": {
    "colab": {
     "base_uri": "https://localhost:8080/"
    },
    "id": "pR9J4iVT4gx8",
    "executionInfo": {
     "status": "ok",
     "timestamp": 1626945428562,
     "user_tz": -120,
     "elapsed": 411,
     "user": {
      "displayName": "Sasho Gramatikov",
      "photoUrl": "https://lh3.googleusercontent.com/a-/AOh14GiORR1CaMGmxwNR-W7YS7ssbav8FspEHqAMlMKGkHM=s64",
      "userId": "11468980100954515276"
     }
    },
    "outputId": "9b608b3c-1b4f-4af3-da05-8856ec5c50f9",
    "ExecuteTime": {
     "end_time": "2023-11-26T21:52:49.326097400Z",
     "start_time": "2023-11-26T21:52:49.298971600Z"
    }
   },
   "source": [
    "pole_1d_int = pole_2d.astype(np.int32)\n",
    "print(pole_1d_int.dtype)\n",
    "pole_2d_float = pole_2d.astype('f')\n",
    "print(pole_2d_float.dtype)\n"
   ],
   "execution_count": 21,
   "outputs": [
    {
     "name": "stdout",
     "output_type": "stream",
     "text": [
      "int32\n",
      "float32\n"
     ]
    }
   ]
  },
  {
   "cell_type": "markdown",
   "source": [
    "# Functions for creating arrays"
   ],
   "metadata": {
    "collapsed": false
   }
  },
  {
   "cell_type": "code",
   "metadata": {
    "colab": {
     "base_uri": "https://localhost:8080/"
    },
    "id": "6qEEuXogofqd",
    "executionInfo": {
     "status": "ok",
     "timestamp": 1626949222637,
     "user_tz": -120,
     "elapsed": 377,
     "user": {
      "displayName": "Sasho Gramatikov",
      "photoUrl": "https://lh3.googleusercontent.com/a-/AOh14GiORR1CaMGmxwNR-W7YS7ssbav8FspEHqAMlMKGkHM=s64",
      "userId": "11468980100954515276"
     }
    },
    "outputId": "e65afd14-b5ee-4d0d-a287-5a4285040d8a",
    "ExecuteTime": {
     "end_time": "2023-11-26T21:52:51.009672900Z",
     "start_time": "2023-11-26T21:52:50.982785Z"
    }
   },
   "source": [
    "# 1D niza od 4 nuli \n",
    "nuli = np.zeros(4)\n",
    "print(nuli)\n"
   ],
   "execution_count": 22,
   "outputs": [
    {
     "name": "stdout",
     "output_type": "stream",
     "text": [
      "[0. 0. 0. 0.]\n"
     ]
    }
   ]
  },
  {
   "cell_type": "code",
   "metadata": {
    "colab": {
     "base_uri": "https://localhost:8080/"
    },
    "id": "n7THjhDHulWG",
    "executionInfo": {
     "status": "ok",
     "timestamp": 1626949231479,
     "user_tz": -120,
     "elapsed": 413,
     "user": {
      "displayName": "Sasho Gramatikov",
      "photoUrl": "https://lh3.googleusercontent.com/a-/AOh14GiORR1CaMGmxwNR-W7YS7ssbav8FspEHqAMlMKGkHM=s64",
      "userId": "11468980100954515276"
     }
    },
    "outputId": "3de8d425-75d0-445c-f9e3-cf5f097e0b5b",
    "ExecuteTime": {
     "end_time": "2023-11-26T21:52:53.653132900Z",
     "start_time": "2023-11-26T21:52:53.620711600Z"
    }
   },
   "source": [
    "# 2x3 niza od edinici od tipot int16 \n",
    "edinici = np.ones((2, 3), dtype=np.int16)\n",
    "print(edinici)\n"
   ],
   "execution_count": 23,
   "outputs": [
    {
     "name": "stdout",
     "output_type": "stream",
     "text": [
      "[[1 1 1]\n",
      " [1 1 1]]\n"
     ]
    }
   ]
  },
  {
   "cell_type": "code",
   "metadata": {
    "colab": {
     "base_uri": "https://localhost:8080/"
    },
    "id": "HAXfVwYzuo4C",
    "executionInfo": {
     "status": "ok",
     "timestamp": 1626949232298,
     "user_tz": -120,
     "elapsed": 3,
     "user": {
      "displayName": "Sasho Gramatikov",
      "photoUrl": "https://lh3.googleusercontent.com/a-/AOh14GiORR1CaMGmxwNR-W7YS7ssbav8FspEHqAMlMKGkHM=s64",
      "userId": "11468980100954515276"
     }
    },
    "outputId": "0c6e067f-4b50-4c43-d9de-10a6a04fbd30",
    "ExecuteTime": {
     "end_time": "2023-11-26T21:53:03.169065400Z",
     "start_time": "2023-11-26T21:53:03.128821300Z"
    }
   },
   "source": [
    "# 2x2 niza od vrednosti 3\n",
    "dvojki = np.full((2, 2), 3)\n",
    "print(dvojki)\n"
   ],
   "execution_count": 25,
   "outputs": [
    {
     "name": "stdout",
     "output_type": "stream",
     "text": [
      "[[3 3]\n",
      " [3 3]]\n"
     ]
    }
   ]
  },
  {
   "cell_type": "code",
   "metadata": {
    "colab": {
     "base_uri": "https://localhost:8080/"
    },
    "id": "2v8QBczBurhv",
    "executionInfo": {
     "status": "ok",
     "timestamp": 1626949235078,
     "user_tz": -120,
     "elapsed": 4,
     "user": {
      "displayName": "Sasho Gramatikov",
      "photoUrl": "https://lh3.googleusercontent.com/a-/AOh14GiORR1CaMGmxwNR-W7YS7ssbav8FspEHqAMlMKGkHM=s64",
      "userId": "11468980100954515276"
     }
    },
    "outputId": "e4a9edc8-4e8e-4775-9e47-181938f3b19b",
    "ExecuteTime": {
     "end_time": "2023-11-26T21:54:35.210166100Z",
     "start_time": "2023-11-26T21:54:35.154137100Z"
    }
   },
   "source": [
    "# 2x2 niza od nuli so edinici na glavanta dijagonala\n",
    "identitet = np.identity(2, dtype='i')  # dtype = int\n",
    "print(identitet)\n"
   ],
   "execution_count": 27,
   "outputs": [
    {
     "name": "stdout",
     "output_type": "stream",
     "text": [
      "[[1 0]\n",
      " [0 1]]\n"
     ]
    }
   ]
  },
  {
   "cell_type": "code",
   "metadata": {
    "colab": {
     "base_uri": "https://localhost:8080/"
    },
    "id": "s8q4FRKkuu6r",
    "executionInfo": {
     "status": "ok",
     "timestamp": 1626949237879,
     "user_tz": -120,
     "elapsed": 4,
     "user": {
      "displayName": "Sasho Gramatikov",
      "photoUrl": "https://lh3.googleusercontent.com/a-/AOh14GiORR1CaMGmxwNR-W7YS7ssbav8FspEHqAMlMKGkHM=s64",
      "userId": "11468980100954515276"
     }
    },
    "outputId": "ecc901b0-f53b-4d33-f053-adb8fcbf5095",
    "ExecuteTime": {
     "end_time": "2023-11-26T21:54:35.542394700Z",
     "start_time": "2023-11-26T21:54:35.513880700Z"
    }
   },
   "source": [
    "rastechka = np.arange(0, 12, 3)\n",
    "print(rastechka)"
   ],
   "execution_count": 28,
   "outputs": [
    {
     "name": "stdout",
     "output_type": "stream",
     "text": [
      "[0 3 6 9]\n"
     ]
    }
   ]
  },
  {
   "cell_type": "code",
   "metadata": {
    "colab": {
     "base_uri": "https://localhost:8080/"
    },
    "id": "yjMy-Filw1xX",
    "executionInfo": {
     "status": "ok",
     "timestamp": 1626951262661,
     "user_tz": -120,
     "elapsed": 378,
     "user": {
      "displayName": "Sasho Gramatikov",
      "photoUrl": "https://lh3.googleusercontent.com/a-/AOh14GiORR1CaMGmxwNR-W7YS7ssbav8FspEHqAMlMKGkHM=s64",
      "userId": "11468980100954515276"
     }
    },
    "outputId": "0fdcb935-459a-4e5d-87b6-b569b806a471",
    "ExecuteTime": {
     "end_time": "2023-11-26T21:54:45.317088700Z",
     "start_time": "2023-11-26T21:54:45.267048700Z"
    }
   },
   "source": [
    "# 2x3 niza od slucjani broevi vo opseg 0 do 1\n",
    "sluchajni = np.random.random(size=(2, 3))\n",
    "print(sluchajni)\n",
    "# 2x5 niza od celi slucjani broevi vo opseg 10 do 20\n",
    "sluchajni_celi = np.random.randint(10, 20, size=(2, 5))\n",
    "print(sluchajni_celi)\n",
    "# 1D niza od slucjani broevi so normalna raspredelba\n",
    "# so sr. vred. 0 i std. dev. 2\n",
    "slucjani_normalna = np.random.normal(0, 4, 6)\n",
    "print(slucjani_normalna)\n"
   ],
   "execution_count": 29,
   "outputs": [
    {
     "name": "stdout",
     "output_type": "stream",
     "text": [
      "[[0.20715577 0.09765307 0.22855334]\n",
      " [0.82507554 0.71498324 0.46346673]]\n",
      "[[13 12 16 18 14]\n",
      " [19 12 15 15 15]]\n",
      "[-1.80625285 -6.91840463 -0.52428779  2.25396398  4.63818371  1.99435409]\n"
     ]
    }
   ]
  },
  {
   "cell_type": "markdown",
   "metadata": {
    "id": "Dmd72HYKG8KH"
   },
   "source": [
    "## Пристап до податоци/елементи"
   ]
  },
  {
   "cell_type": "code",
   "metadata": {
    "colab": {
     "base_uri": "https://localhost:8080/"
    },
    "id": "QF5g9wjaG-u3",
    "executionInfo": {
     "status": "ok",
     "timestamp": 1627031797818,
     "user_tz": -120,
     "elapsed": 368,
     "user": {
      "displayName": "Sasho Gramatikov",
      "photoUrl": "https://lh3.googleusercontent.com/a-/AOh14GiORR1CaMGmxwNR-W7YS7ssbav8FspEHqAMlMKGkHM=s64",
      "userId": "11468980100954515276"
     }
    },
    "outputId": "9c7ef849-ab9f-4bbc-8eb8-7af161874e4c",
    "ExecuteTime": {
     "end_time": "2023-11-26T21:56:56.460291600Z",
     "start_time": "2023-11-26T21:56:56.415137700Z"
    }
   },
   "source": [
    "pole_1d = np.array([2, 4, 6, 8, 10, 12, 14])\n",
    "print(pole_1d[2])\n",
    "print(pole_1d[1:5:3])  # start:end:step [1, 1+3=4,] -> [4, 10]\n",
    "print(pole_1d[::-2])"
   ],
   "execution_count": 32,
   "outputs": [
    {
     "name": "stdout",
     "output_type": "stream",
     "text": [
      "6\n",
      "[ 4 10]\n",
      "[14 10  6  2]\n"
     ]
    }
   ]
  },
  {
   "cell_type": "code",
   "metadata": {
    "colab": {
     "base_uri": "https://localhost:8080/"
    },
    "id": "nJ5GB28NcVum",
    "executionInfo": {
     "status": "ok",
     "timestamp": 1627064614132,
     "user_tz": -120,
     "elapsed": 228,
     "user": {
      "displayName": "Sasho Gramatikov",
      "photoUrl": "https://lh3.googleusercontent.com/a-/AOh14GiORR1CaMGmxwNR-W7YS7ssbav8FspEHqAMlMKGkHM=s64",
      "userId": "11468980100954515276"
     }
    },
    "outputId": "4e11413f-4c79-4f3c-fc29-6790a26abf93",
    "ExecuteTime": {
     "end_time": "2023-11-26T21:57:10.025215900Z",
     "start_time": "2023-11-26T21:57:09.979357700Z"
    }
   },
   "source": [
    "pole_2d = np.array([[0, 10, 20, 30, 40],\n",
    "                    [50, 60, 70, 80, 90],\n",
    "                    [100, 110, 120, 130, 140],\n",
    "                    [150, 160, 170, 180, 190]])\n",
    "print(pole_2d[1, 2])  # element od redica 1 i kolona 2\n",
    "print(pole_2d[1:3, 1:4])  # site elementi od redica 1 do 2 i kolona 1 do 3\n",
    "print(pole_2d[1:, 1:4:2])  # site elementi od redica 1 do kraj i sekoj vtor od kolona 1 do 3 \n",
    "print(pole_2d[2:, :4])  # site elementi od redica 2 do rkaj i od prva kolona do kolona 3\n",
    "print(pole_2d[::2, :])  # site elementi od sekoja vtora redica od site koloni\n",
    "print(pole_2d[:, -1])  # site elementi od poslednata kolona "
   ],
   "execution_count": 33,
   "outputs": [
    {
     "name": "stdout",
     "output_type": "stream",
     "text": [
      "70\n",
      "[[ 60  70  80]\n",
      " [110 120 130]]\n",
      "[[ 60  80]\n",
      " [110 130]\n",
      " [160 180]]\n",
      "[[100 110 120 130]\n",
      " [150 160 170 180]]\n",
      "[[  0  10  20  30  40]\n",
      " [100 110 120 130 140]]\n",
      "[ 40  90 140 190]\n"
     ]
    }
   ]
  },
  {
   "cell_type": "markdown",
   "metadata": {
    "id": "QiA7X1U0nvZv"
   },
   "source": [
    "## Филтрирање"
   ]
  },
  {
   "cell_type": "code",
   "metadata": {
    "colab": {
     "base_uri": "https://localhost:8080/"
    },
    "id": "czuJQ4uJnzwx",
    "executionInfo": {
     "status": "ok",
     "timestamp": 1627032246604,
     "user_tz": -120,
     "elapsed": 359,
     "user": {
      "displayName": "Sasho Gramatikov",
      "photoUrl": "https://lh3.googleusercontent.com/a-/AOh14GiORR1CaMGmxwNR-W7YS7ssbav8FspEHqAMlMKGkHM=s64",
      "userId": "11468980100954515276"
     }
    },
    "outputId": "9541a02b-894e-43b5-e11a-6f7dd0dd7935",
    "ExecuteTime": {
     "end_time": "2023-11-26T22:12:11.905297600Z",
     "start_time": "2023-11-26T22:12:11.864048Z"
    }
   },
   "source": [
    "print(\"Pole:\", pole_1d)\n",
    "dellivi_so_4 = (pole_1d % 4 == 0)  # True ako elementot e delliv so 4\n",
    "print(\"Maska:\", dellivi_so_4)\n",
    "print(\"Pole[maska]:\", pole_1d[dellivi_so_4])"
   ],
   "execution_count": 34,
   "outputs": [
    {
     "name": "stdout",
     "output_type": "stream",
     "text": [
      "Pole: [ 2  4  6  8 10 12 14]\n",
      "Maska: [False  True False  True False  True False]\n",
      "Pole[maska]: [ 4  8 12]\n"
     ]
    }
   ]
  },
  {
   "cell_type": "code",
   "metadata": {
    "colab": {
     "base_uri": "https://localhost:8080/"
    },
    "id": "SO8yvgjnwD9U",
    "executionInfo": {
     "status": "ok",
     "timestamp": 1627033765264,
     "user_tz": -120,
     "elapsed": 368,
     "user": {
      "displayName": "Sasho Gramatikov",
      "photoUrl": "https://lh3.googleusercontent.com/a-/AOh14GiORR1CaMGmxwNR-W7YS7ssbav8FspEHqAMlMKGkHM=s64",
      "userId": "11468980100954515276"
     }
    },
    "outputId": "39f7bb72-1d57-471d-bcc3-4ff29007a9b3",
    "ExecuteTime": {
     "end_time": "2023-11-26T22:13:30.993768900Z",
     "start_time": "2023-11-26T22:13:30.941528800Z"
    }
   },
   "source": [
    "# pechatenje na broevi koi ne se dellivi so 4\n",
    "print(pole_1d[pole_1d % 4 > 0])"
   ],
   "execution_count": 35,
   "outputs": [
    {
     "name": "stdout",
     "output_type": "stream",
     "text": [
      "[ 2  6 10 14]\n"
     ]
    }
   ]
  },
  {
   "cell_type": "code",
   "metadata": {
    "colab": {
     "base_uri": "https://localhost:8080/"
    },
    "id": "QmwlHUyctkuI",
    "executionInfo": {
     "status": "ok",
     "timestamp": 1627039968952,
     "user_tz": -120,
     "elapsed": 384,
     "user": {
      "displayName": "Sasho Gramatikov",
      "photoUrl": "https://lh3.googleusercontent.com/a-/AOh14GiORR1CaMGmxwNR-W7YS7ssbav8FspEHqAMlMKGkHM=s64",
      "userId": "11468980100954515276"
     }
    },
    "outputId": "6ec01328-6112-4a58-9880-0f3acbfdaccc",
    "ExecuteTime": {
     "end_time": "2023-11-26T22:13:31.650702200Z",
     "start_time": "2023-11-26T22:13:31.617017300Z"
    }
   },
   "source": [
    "denovi = np.array([\"Ponedelnik\", \"Vtornik\", \"Sreda\", \"Chetvrtok\", \"Petok\", \"Sabota\", \"Nedela\"])\n",
    "temperaturi = np.array([[17, 19, 15, 10, 21, 22, 12],\n",
    "                        [27, 31, 29, 28, 35, 36, 30]])\n",
    "print(temperaturi[:, (denovi == \"Vtornik\") | (denovi == \"Chetvrtok\")])\n",
    "\n",
    "# (denovi == \"Vtornik\") | (denovi == \"Chetvrtok\") ->\n",
    "# [False, True, False, True, False, False, False]"
   ],
   "execution_count": 36,
   "outputs": [
    {
     "name": "stdout",
     "output_type": "stream",
     "text": [
      "[[19 10]\n",
      " [31 28]]\n"
     ]
    }
   ]
  },
  {
   "cell_type": "code",
   "metadata": {
    "colab": {
     "base_uri": "https://localhost:8080/"
    },
    "id": "12yVxNH7ItmS",
    "executionInfo": {
     "status": "ok",
     "timestamp": 1627040062398,
     "user_tz": -120,
     "elapsed": 395,
     "user": {
      "displayName": "Sasho Gramatikov",
      "photoUrl": "https://lh3.googleusercontent.com/a-/AOh14GiORR1CaMGmxwNR-W7YS7ssbav8FspEHqAMlMKGkHM=s64",
      "userId": "11468980100954515276"
     }
    },
    "outputId": "45d3e8d0-2810-4e99-8767-b7b1578fb4d9",
    "ExecuteTime": {
     "end_time": "2023-11-26T22:19:38.135113400Z",
     "start_time": "2023-11-26T22:19:38.089928Z"
    }
   },
   "source": [
    "niski_temperaturi = temperaturi < 20\n",
    "print(\"2D maska:\\n\", niski_temperaturi)\n",
    "print(\"1D rezultat:\\n\", temperaturi[niski_temperaturi])"
   ],
   "execution_count": 39,
   "outputs": [
    {
     "name": "stdout",
     "output_type": "stream",
     "text": [
      "2D maska:\n",
      " [[ True  True  True  True False False  True]\n",
      " [False False False False False False False]]\n",
      "1D rezultat:\n",
      " [17 19 15 10 12]\n"
     ]
    }
   ]
  },
  {
   "cell_type": "code",
   "metadata": {
    "colab": {
     "base_uri": "https://localhost:8080/"
    },
    "id": "3CgJpd66vJr2",
    "executionInfo": {
     "status": "ok",
     "timestamp": 1627033217396,
     "user_tz": -120,
     "elapsed": 363,
     "user": {
      "displayName": "Sasho Gramatikov",
      "photoUrl": "https://lh3.googleusercontent.com/a-/AOh14GiORR1CaMGmxwNR-W7YS7ssbav8FspEHqAMlMKGkHM=s64",
      "userId": "11468980100954515276"
     }
    },
    "outputId": "d560c100-df7e-44f7-f5c8-5a811b83ac81",
    "ExecuteTime": {
     "end_time": "2023-11-26T22:19:38.317374900Z",
     "start_time": "2023-11-26T22:19:38.267838Z"
    }
   },
   "source": [
    "denovi == \"Vtornik\""
   ],
   "execution_count": 40,
   "outputs": [
    {
     "data": {
      "text/plain": "array([False,  True, False, False, False, False, False])"
     },
     "execution_count": 40,
     "metadata": {},
     "output_type": "execute_result"
    }
   ]
  },
  {
   "cell_type": "markdown",
   "metadata": {
    "id": "h6J7aLj77uU6"
   },
   "source": [
    "## Пристап со низи од индекси"
   ]
  },
  {
   "cell_type": "code",
   "metadata": {
    "colab": {
     "base_uri": "https://localhost:8080/"
    },
    "id": "kD6iYSAr763p",
    "executionInfo": {
     "status": "ok",
     "timestamp": 1627041176390,
     "user_tz": -120,
     "elapsed": 372,
     "user": {
      "displayName": "Sasho Gramatikov",
      "photoUrl": "https://lh3.googleusercontent.com/a-/AOh14GiORR1CaMGmxwNR-W7YS7ssbav8FspEHqAMlMKGkHM=s64",
      "userId": "11468980100954515276"
     }
    },
    "outputId": "7a5a0ae5-d3b2-4901-f71c-794d92096cff",
    "ExecuteTime": {
     "end_time": "2023-11-26T22:19:54.062278700Z",
     "start_time": "2023-11-26T22:19:54.021141700Z"
    }
   },
   "source": [
    "print(pole_1d[[6, 1, 4]])  # elementi so indeks 6, 1 i 4\n",
    "print(pole_2d[[3, 1]])  # elementi od red so indeks 3 i 1"
   ],
   "execution_count": 42,
   "outputs": [
    {
     "name": "stdout",
     "output_type": "stream",
     "text": [
      "[14  4 10]\n",
      "[[150 160 170 180 190]\n",
      " [ 50  60  70  80  90]]\n"
     ]
    }
   ]
  },
  {
   "cell_type": "markdown",
   "metadata": {
    "id": "mnXJ9SLzGaYi"
   },
   "source": [
    "## Комбиниран пристап"
   ]
  },
  {
   "cell_type": "code",
   "metadata": {
    "colab": {
     "base_uri": "https://localhost:8080/"
    },
    "id": "vHmVlhM8mgpO",
    "executionInfo": {
     "status": "ok",
     "timestamp": 1627064868902,
     "user_tz": -120,
     "elapsed": 248,
     "user": {
      "displayName": "Sasho Gramatikov",
      "photoUrl": "https://lh3.googleusercontent.com/a-/AOh14GiORR1CaMGmxwNR-W7YS7ssbav8FspEHqAMlMKGkHM=s64",
      "userId": "11468980100954515276"
     }
    },
    "outputId": "911ed89c-da4a-4ac3-d889-fb9c02236216",
    "ExecuteTime": {
     "end_time": "2023-11-26T22:20:36.998250900Z",
     "start_time": "2023-11-26T22:20:36.946245400Z"
    }
   },
   "source": [
    "print(pole_2d[1, [4, 2, 1]])  # elementi od red 1 i koloni 4 i 2\n",
    "print(pole_2d[[1, 0], 1::2])  # elementi od red 1 i 0 i sekoja vtora kolona pocnjvajki od kolona 1"
   ],
   "execution_count": 47,
   "outputs": [
    {
     "name": "stdout",
     "output_type": "stream",
     "text": [
      "[90 70 60]\n",
      "[[60 80]\n",
      " [10 30]]\n"
     ]
    }
   ]
  },
  {
   "cell_type": "code",
   "metadata": {
    "colab": {
     "base_uri": "https://localhost:8080/"
    },
    "id": "ho_BGyah_y2_",
    "executionInfo": {
     "status": "ok",
     "timestamp": 1627041612694,
     "user_tz": -120,
     "elapsed": 371,
     "user": {
      "displayName": "Sasho Gramatikov",
      "photoUrl": "https://lh3.googleusercontent.com/a-/AOh14GiORR1CaMGmxwNR-W7YS7ssbav8FspEHqAMlMKGkHM=s64",
      "userId": "11468980100954515276"
     }
    },
    "outputId": "4e19502c-c797-4d61-e4b7-a200178bd34f",
    "ExecuteTime": {
     "end_time": "2023-11-26T22:20:37.152686Z",
     "start_time": "2023-11-26T22:20:37.101935600Z"
    }
   },
   "source": [
    "print(pole_2d[[0, 2, 1], [3, 1, 4]])  # element so koordinati (0,3), (2,1) и (1,4)"
   ],
   "execution_count": 48,
   "outputs": [
    {
     "name": "stdout",
     "output_type": "stream",
     "text": [
      "[ 30 110  90]\n"
     ]
    }
   ]
  },
  {
   "cell_type": "code",
   "metadata": {
    "colab": {
     "base_uri": "https://localhost:8080/"
    },
    "id": "KqtamIEtPEml",
    "executionInfo": {
     "status": "ok",
     "timestamp": 1627065212475,
     "user_tz": -120,
     "elapsed": 231,
     "user": {
      "displayName": "Sasho Gramatikov",
      "photoUrl": "https://lh3.googleusercontent.com/a-/AOh14GiORR1CaMGmxwNR-W7YS7ssbav8FspEHqAMlMKGkHM=s64",
      "userId": "11468980100954515276"
     }
    },
    "outputId": "938586fa-adcd-4707-9ce8-4952a61cee10",
    "ExecuteTime": {
     "end_time": "2023-11-26T22:20:37.340319700Z",
     "start_time": "2023-11-26T22:20:37.302158300Z"
    }
   },
   "source": [
    "selektirani_redici = pole_2d[[0, 2, 1]]\n",
    "print(selektirani_redici[:, [3, 1, 4]])"
   ],
   "execution_count": 49,
   "outputs": [
    {
     "name": "stdout",
     "output_type": "stream",
     "text": [
      "[[ 30  10  40]\n",
      " [130 110 140]\n",
      " [ 80  60  90]]\n"
     ]
    }
   ]
  },
  {
   "cell_type": "code",
   "metadata": {
    "colab": {
     "base_uri": "https://localhost:8080/"
    },
    "id": "db3mdqgLGigR",
    "executionInfo": {
     "status": "ok",
     "timestamp": 1627065213708,
     "user_tz": -120,
     "elapsed": 3,
     "user": {
      "displayName": "Sasho Gramatikov",
      "photoUrl": "https://lh3.googleusercontent.com/a-/AOh14GiORR1CaMGmxwNR-W7YS7ssbav8FspEHqAMlMKGkHM=s64",
      "userId": "11468980100954515276"
     }
    },
    "outputId": "9ce54855-899b-424f-9fa6-6714462f9eb2",
    "ExecuteTime": {
     "end_time": "2023-11-26T22:20:38.113551Z",
     "start_time": "2023-11-26T22:20:38.054444400Z"
    }
   },
   "source": [
    "print(pole_2d[[0, 2, 1]][:, [3, 1, 4]])  # matrica so red 0, 2, 1 i kolona 3, 1, 4"
   ],
   "execution_count": 50,
   "outputs": [
    {
     "name": "stdout",
     "output_type": "stream",
     "text": [
      "[[ 30  10  40]\n",
      " [130 110 140]\n",
      " [ 80  60  90]]\n"
     ]
    }
   ]
  },
  {
   "cell_type": "markdown",
   "metadata": {
    "id": "JI6MerZaxjJA"
   },
   "source": [
    "## Промена на вредности/елементи"
   ]
  },
  {
   "cell_type": "code",
   "metadata": {
    "colab": {
     "base_uri": "https://localhost:8080/"
    },
    "id": "ffspeTLUxl5K",
    "executionInfo": {
     "status": "ok",
     "timestamp": 1628155457135,
     "user_tz": -120,
     "elapsed": 236,
     "user": {
      "displayName": "Sasho Gramatikov",
      "photoUrl": "https://lh3.googleusercontent.com/a-/AOh14GiORR1CaMGmxwNR-W7YS7ssbav8FspEHqAMlMKGkHM=s64",
      "userId": "11468980100954515276"
     }
    },
    "outputId": "ff58b806-9f7d-4f2a-8e99-a70b5cb79bdc",
    "ExecuteTime": {
     "end_time": "2023-11-26T22:24:57.300095800Z",
     "start_time": "2023-11-26T22:24:57.261745200Z"
    }
   },
   "source": [
    "pole_2d = np.random.randint(0, 10, size=(3, 4))\n",
    "pole_2d[0, 0] = 1\n",
    "print(pole_2d)\n"
   ],
   "execution_count": 58,
   "outputs": [
    {
     "name": "stdout",
     "output_type": "stream",
     "text": [
      "[[1 8 6 9]\n",
      " [3 4 2 0]\n",
      " [9 8 3 5]]\n"
     ]
    }
   ]
  },
  {
   "cell_type": "code",
   "metadata": {
    "colab": {
     "base_uri": "https://localhost:8080/"
    },
    "id": "HIMgwnbW8YdY",
    "executionInfo": {
     "status": "ok",
     "timestamp": 1628155461679,
     "user_tz": -120,
     "elapsed": 237,
     "user": {
      "displayName": "Sasho Gramatikov",
      "photoUrl": "https://lh3.googleusercontent.com/a-/AOh14GiORR1CaMGmxwNR-W7YS7ssbav8FspEHqAMlMKGkHM=s64",
      "userId": "11468980100954515276"
     }
    },
    "outputId": "1a2e1edb-cce3-4274-a9e9-b8e09bdcce63",
    "ExecuteTime": {
     "end_time": "2023-11-26T22:24:57.716524700Z",
     "start_time": "2023-11-26T22:24:57.682039700Z"
    }
   },
   "source": [
    "pole_2d[:, 0] = 2  #site elementi na kolona 0 dobivaat vrednost 2\n",
    "pole_2d[:, 1] = [1, 2, 3]  #elementite na kolona 1 dobivaat vrednost 1, 2 i 3, soodvetno\n",
    "print(pole_2d)"
   ],
   "execution_count": 59,
   "outputs": [
    {
     "name": "stdout",
     "output_type": "stream",
     "text": [
      "[[2 1 6 9]\n",
      " [2 2 2 0]\n",
      " [2 3 3 5]]\n"
     ]
    }
   ]
  },
  {
   "cell_type": "code",
   "metadata": {
    "colab": {
     "base_uri": "https://localhost:8080/"
    },
    "id": "tfxlCZlf8nX1",
    "executionInfo": {
     "status": "ok",
     "timestamp": 1627070793855,
     "user_tz": -120,
     "elapsed": 254,
     "user": {
      "displayName": "Sasho Gramatikov",
      "photoUrl": "https://lh3.googleusercontent.com/a-/AOh14GiORR1CaMGmxwNR-W7YS7ssbav8FspEHqAMlMKGkHM=s64",
      "userId": "11468980100954515276"
     }
    },
    "outputId": "ff0eb3dd-b592-49d1-dcc4-924fb908a2f1",
    "ExecuteTime": {
     "end_time": "2023-11-26T22:24:58.839886200Z",
     "start_time": "2023-11-26T22:24:58.791131500Z"
    }
   },
   "source": [
    "pole_2d[1, 2:] = 3  #site elementi na red 1, pochnuvajki od kolona 2 dobivaat vrednost 3\n",
    "pole_2d[2, :] = [10, 20, 30, 40]  #elementite na red 2 dobivaat vrednost 10, 20, 30 i 40, soodvetno\n",
    "print(pole_2d)"
   ],
   "execution_count": 60,
   "outputs": [
    {
     "name": "stdout",
     "output_type": "stream",
     "text": [
      "[[ 2  1  6  9]\n",
      " [ 2  2  3  3]\n",
      " [10 20 30 40]]\n"
     ]
    }
   ]
  },
  {
   "cell_type": "code",
   "metadata": {
    "colab": {
     "base_uri": "https://localhost:8080/"
    },
    "id": "jsAAbYsS-rsk",
    "executionInfo": {
     "status": "ok",
     "timestamp": 1627070898783,
     "user_tz": -120,
     "elapsed": 241,
     "user": {
      "displayName": "Sasho Gramatikov",
      "photoUrl": "https://lh3.googleusercontent.com/a-/AOh14GiORR1CaMGmxwNR-W7YS7ssbav8FspEHqAMlMKGkHM=s64",
      "userId": "11468980100954515276"
     }
    },
    "outputId": "2abf611c-4290-4620-b50c-fbd7253f6591",
    "ExecuteTime": {
     "end_time": "2023-11-26T22:25:02.869509500Z",
     "start_time": "2023-11-26T22:25:02.818495800Z"
    }
   },
   "source": [
    "pole_2d[pole_2d == 2] = 22\n",
    "print(pole_2d)"
   ],
   "execution_count": 61,
   "outputs": [
    {
     "name": "stdout",
     "output_type": "stream",
     "text": [
      "[[22  1  6  9]\n",
      " [22 22  3  3]\n",
      " [10 20 30 40]]\n"
     ]
    }
   ]
  },
  {
   "cell_type": "markdown",
   "metadata": {
    "id": "DkO79tuhCSZy"
   },
   "source": [
    "## Погледи и копии"
   ]
  },
  {
   "cell_type": "code",
   "metadata": {
    "colab": {
     "base_uri": "https://localhost:8080/"
    },
    "id": "YTWJ-S83-Y6a",
    "executionInfo": {
     "status": "ok",
     "timestamp": 1627073801401,
     "user_tz": -120,
     "elapsed": 269,
     "user": {
      "displayName": "Sasho Gramatikov",
      "photoUrl": "https://lh3.googleusercontent.com/a-/AOh14GiORR1CaMGmxwNR-W7YS7ssbav8FspEHqAMlMKGkHM=s64",
      "userId": "11468980100954515276"
     }
    },
    "outputId": "91fa0903-a215-491e-8daf-b855dc645100",
    "ExecuteTime": {
     "end_time": "2023-11-26T22:26:01.648496400Z",
     "start_time": "2023-11-26T22:26:01.617078300Z"
    }
   },
   "source": [
    "pole_2d = np.array([[0, 10, 20, 30],\n",
    "                    [40, 50, 60, 70],\n",
    "                    [80, 90, 100, 110]])\n",
    "opseg = pole_2d[1, :]  # opseg e pogled sostaven od elementite na red 1\n",
    "opseg[:] = 33  # promenata na elementite na opseg se afektira vo pole_2d\n",
    "print(\"Opseg:\\n\", opseg)\n",
    "print(\"Originalna niza:\\n\", pole_2d)\n"
   ],
   "execution_count": 63,
   "outputs": [
    {
     "name": "stdout",
     "output_type": "stream",
     "text": [
      "Opseg:\n",
      " [33 33 33 33]\n",
      "Originalna niza:\n",
      " [[  0  10  20  30]\n",
      " [ 33  33  33  33]\n",
      " [ 80  90 100 110]]\n"
     ]
    }
   ]
  },
  {
   "cell_type": "code",
   "metadata": {
    "colab": {
     "base_uri": "https://localhost:8080/"
    },
    "id": "D0h4FRm3JbF8",
    "executionInfo": {
     "status": "ok",
     "timestamp": 1627073881668,
     "user_tz": -120,
     "elapsed": 229,
     "user": {
      "displayName": "Sasho Gramatikov",
      "photoUrl": "https://lh3.googleusercontent.com/a-/AOh14GiORR1CaMGmxwNR-W7YS7ssbav8FspEHqAMlMKGkHM=s64",
      "userId": "11468980100954515276"
     }
    },
    "outputId": "d880e5e1-a9fd-4d33-cd3d-2a984a9afabe",
    "ExecuteTime": {
     "end_time": "2023-11-26T22:26:06.976355500Z",
     "start_time": "2023-11-26T22:26:06.931933100Z"
    }
   },
   "source": [
    "pole_2d = np.array([[0, 10, 20, 30],\n",
    "                    [40, 50, 60, 70],\n",
    "                    [80, 90, 100, 110]])\n",
    "opseg = pole_2d[1, :].copy()  # opseg e kopja od elementite na red 1\n",
    "opseg[:] = 33  # promenata na elementite na opseg NE se afektira vo pole_2d\n",
    "print(\"Opseg:\\n\", opseg)\n",
    "print(\"Originalna niza:\\n\", pole_2d)"
   ],
   "execution_count": 64,
   "outputs": [
    {
     "name": "stdout",
     "output_type": "stream",
     "text": [
      "Opseg:\n",
      " [33 33 33 33]\n",
      "Originalna niza:\n",
      " [[  0  10  20  30]\n",
      " [ 40  50  60  70]\n",
      " [ 80  90 100 110]]\n"
     ]
    }
   ]
  },
  {
   "cell_type": "markdown",
   "metadata": {
    "id": "AgllM8bqDSoh"
   },
   "source": [
    "## Промена на димензии и облик"
   ]
  },
  {
   "cell_type": "code",
   "metadata": {
    "colab": {
     "base_uri": "https://localhost:8080/"
    },
    "id": "kQOYG_z8_-0F",
    "executionInfo": {
     "status": "ok",
     "timestamp": 1627289394847,
     "user_tz": -120,
     "elapsed": 231,
     "user": {
      "displayName": "Sasho Gramatikov",
      "photoUrl": "https://lh3.googleusercontent.com/a-/AOh14GiORR1CaMGmxwNR-W7YS7ssbav8FspEHqAMlMKGkHM=s64",
      "userId": "11468980100954515276"
     }
    },
    "outputId": "76370a93-6826-43f8-c64c-768fd7ca4716",
    "ExecuteTime": {
     "end_time": "2023-11-26T22:26:35.020285300Z",
     "start_time": "2023-11-26T22:26:34.973633Z"
    }
   },
   "source": [
    "rastechka_2d = np.arange(15).reshape(3, 5)\n",
    "print(rastechka_2d)"
   ],
   "execution_count": 65,
   "outputs": [
    {
     "name": "stdout",
     "output_type": "stream",
     "text": [
      "[[ 0  1  2  3  4]\n",
      " [ 5  6  7  8  9]\n",
      " [10 11 12 13 14]]\n"
     ]
    }
   ]
  },
  {
   "cell_type": "code",
   "metadata": {
    "colab": {
     "base_uri": "https://localhost:8080/"
    },
    "id": "4Ve81HbcDX6P",
    "executionInfo": {
     "status": "ok",
     "timestamp": 1627290176019,
     "user_tz": -120,
     "elapsed": 230,
     "user": {
      "displayName": "Sasho Gramatikov",
      "photoUrl": "https://lh3.googleusercontent.com/a-/AOh14GiORR1CaMGmxwNR-W7YS7ssbav8FspEHqAMlMKGkHM=s64",
      "userId": "11468980100954515276"
     }
    },
    "outputId": "65fd30ee-7d06-43ee-bd45-01d8bc1e1a22",
    "ExecuteTime": {
     "end_time": "2023-11-26T22:26:42.501611800Z",
     "start_time": "2023-11-26T22:26:42.455094800Z"
    }
   },
   "source": [
    "print(rastechka_2d.reshape(5, 3))"
   ],
   "execution_count": 66,
   "outputs": [
    {
     "name": "stdout",
     "output_type": "stream",
     "text": [
      "[[ 0  1  2]\n",
      " [ 3  4  5]\n",
      " [ 6  7  8]\n",
      " [ 9 10 11]\n",
      " [12 13 14]]\n"
     ]
    }
   ]
  },
  {
   "cell_type": "code",
   "metadata": {
    "colab": {
     "base_uri": "https://localhost:8080/"
    },
    "id": "WffNs4IjDZf4",
    "executionInfo": {
     "status": "ok",
     "timestamp": 1627290378270,
     "user_tz": -120,
     "elapsed": 488,
     "user": {
      "displayName": "Sasho Gramatikov",
      "photoUrl": "https://lh3.googleusercontent.com/a-/AOh14GiORR1CaMGmxwNR-W7YS7ssbav8FspEHqAMlMKGkHM=s64",
      "userId": "11468980100954515276"
     }
    },
    "outputId": "d38b0f25-02d9-4b07-bfdf-37c18a5c9fe0",
    "ExecuteTime": {
     "end_time": "2023-11-26T22:27:20.757354300Z",
     "start_time": "2023-11-26T22:27:20.712139400Z"
    }
   },
   "source": [
    "# if the number of elements is unknown, we use -1 for that dimension\n",
    "pole_nepoznata_dim = np.arange(18).reshape(2, 3, -1)\n",
    "print(\"Pole:\\n\", pole_nepoznata_dim)\n",
    "print(\"Elementi po dimenzija:\\n\", pole_nepoznata_dim.shape)"
   ],
   "execution_count": 68,
   "outputs": [
    {
     "name": "stdout",
     "output_type": "stream",
     "text": [
      "Pole:\n",
      " [[[ 0  1  2]\n",
      "  [ 3  4  5]\n",
      "  [ 6  7  8]]\n",
      "\n",
      " [[ 9 10 11]\n",
      "  [12 13 14]\n",
      "  [15 16 17]]]\n",
      "Elementi po dimenzija:\n",
      " (2, 3, 3)\n"
     ]
    }
   ]
  },
  {
   "cell_type": "code",
   "metadata": {
    "colab": {
     "base_uri": "https://localhost:8080/"
    },
    "id": "yM9F5YJ9FKKd",
    "executionInfo": {
     "status": "ok",
     "timestamp": 1627290660420,
     "user_tz": -120,
     "elapsed": 247,
     "user": {
      "displayName": "Sasho Gramatikov",
      "photoUrl": "https://lh3.googleusercontent.com/a-/AOh14GiORR1CaMGmxwNR-W7YS7ssbav8FspEHqAMlMKGkHM=s64",
      "userId": "11468980100954515276"
     }
    },
    "outputId": "9baede59-1fed-4620-f6ce-a3fc012cc4e2",
    "ExecuteTime": {
     "end_time": "2023-11-26T22:28:25.257204Z",
     "start_time": "2023-11-26T22:28:25.212874800Z"
    }
   },
   "source": [
    "print(rastechka_2d.reshape(-1)) # if we use -1, we make the array one-dimensional (flatten())"
   ],
   "execution_count": 70,
   "outputs": [
    {
     "name": "stdout",
     "output_type": "stream",
     "text": [
      "[ 0  1  2  3  4  5  6  7  8  9 10 11 12 13 14]\n"
     ]
    }
   ]
  },
  {
   "cell_type": "markdown",
   "metadata": {
    "id": "_92RLh1ANJQa"
   },
   "source": [
    "## Спојување и разделување"
   ]
  },
  {
   "cell_type": "code",
   "metadata": {
    "colab": {
     "base_uri": "https://localhost:8080/"
    },
    "id": "eJJB00hwNVWO",
    "executionInfo": {
     "status": "ok",
     "timestamp": 1627297285398,
     "user_tz": -120,
     "elapsed": 233,
     "user": {
      "displayName": "Sasho Gramatikov",
      "photoUrl": "https://lh3.googleusercontent.com/a-/AOh14GiORR1CaMGmxwNR-W7YS7ssbav8FspEHqAMlMKGkHM=s64",
      "userId": "11468980100954515276"
     }
    },
    "outputId": "794b25ad-fa65-46d2-a3a1-9965e8f6e1cd",
    "ExecuteTime": {
     "end_time": "2023-11-26T22:29:07.964432Z",
     "start_time": "2023-11-26T22:29:07.897893100Z"
    }
   },
   "source": [
    "pole1 = np.array([[1, 2],\n",
    "                  [3, 4]])\n",
    "pole2 = np.array([[10, 20],\n",
    "                  [30, 40]])\n",
    "print(\"Spojuvanje po oska 0:\\n\", np.concatenate((pole1, pole2)))  # axis=0 (vertical)\n",
    "print(\"Spojuvanje po oska 1:\\n\", np.concatenate((pole1, pole2), axis=1)) # (horizontal)"
   ],
   "execution_count": 73,
   "outputs": [
    {
     "name": "stdout",
     "output_type": "stream",
     "text": [
      "Spojuvanje po oska 0:\n",
      " [[ 1  2]\n",
      " [ 3  4]\n",
      " [10 20]\n",
      " [30 40]]\n",
      "Spojuvanje po oska 1:\n",
      " [[ 1  2 10 20]\n",
      " [ 3  4 30 40]]\n"
     ]
    }
   ]
  },
  {
   "cell_type": "code",
   "metadata": {
    "colab": {
     "base_uri": "https://localhost:8080/"
    },
    "id": "Cz6g1KP0PMD-",
    "executionInfo": {
     "status": "ok",
     "timestamp": 1627293531337,
     "user_tz": -120,
     "elapsed": 4,
     "user": {
      "displayName": "Sasho Gramatikov",
      "photoUrl": "https://lh3.googleusercontent.com/a-/AOh14GiORR1CaMGmxwNR-W7YS7ssbav8FspEHqAMlMKGkHM=s64",
      "userId": "11468980100954515276"
     }
    },
    "outputId": "adaeb48f-0583-4c42-a999-b469fe2b86af",
    "ExecuteTime": {
     "end_time": "2023-11-26T22:30:11.894719200Z",
     "start_time": "2023-11-26T22:30:11.856966300Z"
    }
   },
   "source": [
    "print(\"Spojuvanje po oska 0:\\n\", np.stack((pole1, pole2)))\n",
    "print(\"Spojuvanje po oska 1:\\n\", np.stack((pole1, pole2), axis=1))"
   ],
   "execution_count": 76,
   "outputs": [
    {
     "name": "stdout",
     "output_type": "stream",
     "text": [
      "Spojuvanje po oska 0:\n",
      " [[[ 1  2]\n",
      "  [ 3  4]]\n",
      "\n",
      " [[10 20]\n",
      "  [30 40]]]\n",
      "Spojuvanje po oska 1:\n",
      " [[[ 1  2]\n",
      "  [10 20]]\n",
      "\n",
      " [[ 3  4]\n",
      "  [30 40]]]\n"
     ]
    }
   ]
  },
  {
   "cell_type": "code",
   "metadata": {
    "colab": {
     "base_uri": "https://localhost:8080/"
    },
    "id": "_-BLxgnpqRaW",
    "executionInfo": {
     "status": "ok",
     "timestamp": 1627302005938,
     "user_tz": -120,
     "elapsed": 331,
     "user": {
      "displayName": "Sasho Gramatikov",
      "photoUrl": "https://lh3.googleusercontent.com/a-/AOh14GiORR1CaMGmxwNR-W7YS7ssbav8FspEHqAMlMKGkHM=s64",
      "userId": "11468980100954515276"
     }
    },
    "outputId": "13fec92c-c505-4f07-b27d-8313492d1eeb",
    "ExecuteTime": {
     "end_time": "2023-11-26T22:30:28.375125Z",
     "start_time": "2023-11-26T22:30:28.337152800Z"
    }
   },
   "source": [
    "print(\"Spojuvanje po oska 0:\\n\", np.dstack((pole1, pole2)))\n",
    "print(\"Spojuvanje po oska 1:\\n\", np.hstack((pole1, pole2)))\n",
    "print(\"Spojuvanje po oska 1:\\n\", np.hstack((pole1, pole2)))\n",
    "print(np.vstack((pole1, pole2)).shape)\n",
    "print(np.hstack((pole1, pole2)).shape)"
   ],
   "execution_count": 78,
   "outputs": [
    {
     "name": "stdout",
     "output_type": "stream",
     "text": [
      "Spojuvanje po oska 0:\n",
      " [[[ 1 10]\n",
      "  [ 2 20]]\n",
      "\n",
      " [[ 3 30]\n",
      "  [ 4 40]]]\n",
      "Spojuvanje po oska 1:\n",
      " [[ 1  2 10 20]\n",
      " [ 3  4 30 40]]\n",
      "Spojuvanje po oska 1:\n",
      " [[ 1  2 10 20]\n",
      " [ 3  4 30 40]]\n",
      "(4, 2)\n",
      "(2, 4)\n"
     ]
    }
   ]
  },
  {
   "cell_type": "code",
   "metadata": {
    "colab": {
     "base_uri": "https://localhost:8080/"
    },
    "id": "t-YNP0A7yeQ2",
    "executionInfo": {
     "status": "ok",
     "timestamp": 1627304133756,
     "user_tz": -120,
     "elapsed": 224,
     "user": {
      "displayName": "Sasho Gramatikov",
      "photoUrl": "https://lh3.googleusercontent.com/a-/AOh14GiORR1CaMGmxwNR-W7YS7ssbav8FspEHqAMlMKGkHM=s64",
      "userId": "11468980100954515276"
     }
    },
    "outputId": "6e041e41-03b1-4639-c0b5-7e47e05ae318",
    "ExecuteTime": {
     "end_time": "2023-11-26T22:31:22.777399400Z",
     "start_time": "2023-11-26T22:31:22.739054Z"
    }
   },
   "source": [
    "pole_2d = np.arange(1, 13).reshape(3, 4)\n",
    "print(\"Originalna niza:\\n\", pole_2d)\n",
    "razdeleno_pole = np.split(pole_2d, 2, axis=1)  # razdeli po koloni\n",
    "print(\"Prva niza:\\n\", razdeleno_pole[0])\n",
    "print(\"Vtora niza:\\n\", razdeleno_pole[1])"
   ],
   "execution_count": 80,
   "outputs": [
    {
     "name": "stdout",
     "output_type": "stream",
     "text": [
      "Originalna niza:\n",
      " [[ 1  2  3  4]\n",
      " [ 5  6  7  8]\n",
      " [ 9 10 11 12]]\n",
      "Prva niza:\n",
      " [[ 1  2]\n",
      " [ 5  6]\n",
      " [ 9 10]]\n",
      "Vtora niza:\n",
      " [[ 3  4]\n",
      " [ 7  8]\n",
      " [11 12]]\n"
     ]
    }
   ]
  },
  {
   "cell_type": "code",
   "metadata": {
    "colab": {
     "base_uri": "https://localhost:8080/"
    },
    "id": "g3JVV4th26k2",
    "executionInfo": {
     "status": "ok",
     "timestamp": 1627304196787,
     "user_tz": -120,
     "elapsed": 234,
     "user": {
      "displayName": "Sasho Gramatikov",
      "photoUrl": "https://lh3.googleusercontent.com/a-/AOh14GiORR1CaMGmxwNR-W7YS7ssbav8FspEHqAMlMKGkHM=s64",
      "userId": "11468980100954515276"
     }
    },
    "outputId": "5c903d21-9806-4a8f-bf39-18d3a08aa0dd",
    "ExecuteTime": {
     "end_time": "2023-11-26T22:31:30.586555200Z",
     "start_time": "2023-11-26T22:31:30.559496100Z"
    }
   },
   "source": [
    "# razdeli po redici, axis=0, razdeli od redica 1\n",
    "razdeleno_pole = np.split(pole_2d, [1])\n",
    "print(\"Prva niza:\\n\", razdeleno_pole[0])\n",
    "print(\"Vtora niza:\\n\", razdeleno_pole[1])"
   ],
   "execution_count": 81,
   "outputs": [
    {
     "name": "stdout",
     "output_type": "stream",
     "text": [
      "Prva niza:\n",
      " [[1 2 3 4]]\n",
      "Vtora niza:\n",
      " [[ 5  6  7  8]\n",
      " [ 9 10 11 12]]\n"
     ]
    }
   ]
  },
  {
   "cell_type": "code",
   "metadata": {
    "colab": {
     "base_uri": "https://localhost:8080/"
    },
    "id": "D1t1Xz1o4MQ6",
    "executionInfo": {
     "status": "ok",
     "timestamp": 1627304443059,
     "user_tz": -120,
     "elapsed": 240,
     "user": {
      "displayName": "Sasho Gramatikov",
      "photoUrl": "https://lh3.googleusercontent.com/a-/AOh14GiORR1CaMGmxwNR-W7YS7ssbav8FspEHqAMlMKGkHM=s64",
      "userId": "11468980100954515276"
     }
    },
    "outputId": "e5c8069e-7be7-4714-eace-0f3e0436d5da",
    "ExecuteTime": {
     "end_time": "2023-11-26T22:32:52.759053400Z",
     "start_time": "2023-11-26T22:32:52.702245500Z"
    }
   },
   "source": [
    "razdeleno_pole = np.vsplit(pole_2d, [2])\n",
    "print(\"Prva niza vsplit:\\n\", razdeleno_pole[0])\n",
    "print(\"Vtora niza vsplit:\\n\", razdeleno_pole[1])\n",
    "razdeleno_pole = np.hsplit(pole_2d, 2)\n",
    "print(\"Prva niza hsplit:\\n\", razdeleno_pole[0])\n",
    "print(\"Vtora niza hsplit:\\n\", razdeleno_pole[1])"
   ],
   "execution_count": 83,
   "outputs": [
    {
     "name": "stdout",
     "output_type": "stream",
     "text": [
      "Prva niza vsplit:\n",
      " [[1 2 3 4]\n",
      " [5 6 7 8]]\n",
      "Vtora niza vsplit:\n",
      " [[ 9 10 11 12]]\n",
      "Prva niza hsplit:\n",
      " [[ 1  2]\n",
      " [ 5  6]\n",
      " [ 9 10]]\n",
      "Vtora niza hsplit:\n",
      " [[ 3  4]\n",
      " [ 7  8]\n",
      " [11 12]]\n"
     ]
    }
   ]
  },
  {
   "cell_type": "markdown",
   "metadata": {
    "id": "yv8obs_v8Hs2"
   },
   "source": [
    "## Пребарување на елементи"
   ]
  },
  {
   "cell_type": "code",
   "execution_count": 86,
   "outputs": [
    {
     "data": {
      "text/plain": "array([[ 1,  2,  3,  4],\n       [ 5,  6,  7,  8],\n       [ 9, 10, 11, 12]])"
     },
     "execution_count": 86,
     "metadata": {},
     "output_type": "execute_result"
    }
   ],
   "source": [
    "pole_2d"
   ],
   "metadata": {
    "collapsed": false,
    "ExecuteTime": {
     "end_time": "2023-11-26T22:34:13.912500700Z",
     "start_time": "2023-11-26T22:34:13.842155800Z"
    }
   }
  },
  {
   "cell_type": "code",
   "metadata": {
    "colab": {
     "base_uri": "https://localhost:8080/"
    },
    "id": "96Rd1KRy8MTQ",
    "executionInfo": {
     "status": "ok",
     "timestamp": 1628166345870,
     "user_tz": -120,
     "elapsed": 520,
     "user": {
      "displayName": "Sasho Gramatikov",
      "photoUrl": "https://lh3.googleusercontent.com/a-/AOh14GiORR1CaMGmxwNR-W7YS7ssbav8FspEHqAMlMKGkHM=s64",
      "userId": "11468980100954515276"
     }
    },
    "outputId": "e5f91cb4-b31d-43d4-9f51-9b757f8cb0a1",
    "ExecuteTime": {
     "end_time": "2023-11-26T22:33:23.161556100Z",
     "start_time": "2023-11-26T22:33:23.114272900Z"
    }
   },
   "source": [
    "pole_2d = np.arange(1, 13).reshape(3, 4)\n",
    "print(np.where(pole_2d % 3 == 0))"
   ],
   "execution_count": 84,
   "outputs": [
    {
     "name": "stdout",
     "output_type": "stream",
     "text": [
      "(array([0, 1, 2, 2], dtype=int64), array([2, 1, 0, 3], dtype=int64))\n"
     ]
    }
   ]
  },
  {
   "cell_type": "code",
   "metadata": {
    "colab": {
     "base_uri": "https://localhost:8080/"
    },
    "id": "yQpvLPeeD504",
    "executionInfo": {
     "status": "ok",
     "timestamp": 1627307576271,
     "user_tz": -120,
     "elapsed": 360,
     "user": {
      "displayName": "Sasho Gramatikov",
      "photoUrl": "https://lh3.googleusercontent.com/a-/AOh14GiORR1CaMGmxwNR-W7YS7ssbav8FspEHqAMlMKGkHM=s64",
      "userId": "11468980100954515276"
     }
    },
    "outputId": "169f4337-2057-432c-849d-ea1431c3e17c",
    "ExecuteTime": {
     "end_time": "2023-11-26T22:34:06.450927400Z",
     "start_time": "2023-11-26T22:34:06.411222100Z"
    }
   },
   "source": [
    "print(pole_2d[pole_2d % 3 == 0])"
   ],
   "execution_count": 85,
   "outputs": [
    {
     "name": "stdout",
     "output_type": "stream",
     "text": [
      "[ 3  6  9 12]\n"
     ]
    }
   ]
  },
  {
   "cell_type": "code",
   "metadata": {
    "colab": {
     "base_uri": "https://localhost:8080/"
    },
    "id": "ab6dE3ICFe7O",
    "executionInfo": {
     "status": "ok",
     "timestamp": 1627307544544,
     "user_tz": -120,
     "elapsed": 231,
     "user": {
      "displayName": "Sasho Gramatikov",
      "photoUrl": "https://lh3.googleusercontent.com/a-/AOh14GiORR1CaMGmxwNR-W7YS7ssbav8FspEHqAMlMKGkHM=s64",
      "userId": "11468980100954515276"
     }
    },
    "outputId": "c1dd6bf1-fd75-4ff6-d3f1-cb6ec30a4c50",
    "ExecuteTime": {
     "end_time": "2023-11-26T22:34:33.846085100Z",
     "start_time": "2023-11-26T22:34:33.794953600Z"
    }
   },
   "source": [
    "print(np.where(pole_2d % 3 == 0, pole_2d, 0))"
   ],
   "execution_count": 87,
   "outputs": [
    {
     "name": "stdout",
     "output_type": "stream",
     "text": [
      "[[ 0  0  3  0]\n",
      " [ 0  6  0  0]\n",
      " [ 9  0  0 12]]\n"
     ]
    }
   ]
  },
  {
   "cell_type": "markdown",
   "metadata": {
    "id": "Iuy_iB0ac8jG"
   },
   "source": [
    "## Подредување"
   ]
  },
  {
   "cell_type": "code",
   "metadata": {
    "colab": {
     "base_uri": "https://localhost:8080/"
    },
    "id": "XYk9Bpg9HQyT",
    "executionInfo": {
     "status": "ok",
     "timestamp": 1627313367023,
     "user_tz": -120,
     "elapsed": 438,
     "user": {
      "displayName": "Sasho Gramatikov",
      "photoUrl": "https://lh3.googleusercontent.com/a-/AOh14GiORR1CaMGmxwNR-W7YS7ssbav8FspEHqAMlMKGkHM=s64",
      "userId": "11468980100954515276"
     }
    },
    "outputId": "e1cb0af2-ad90-4661-b0a4-00b4cf3c7389",
    "ExecuteTime": {
     "end_time": "2023-11-26T22:35:42.622026800Z",
     "start_time": "2023-11-26T22:35:42.564841300Z"
    }
   },
   "source": [
    "pole = np.random.randint(10, size=(3, 4))\n",
    "print(\"Originalna niza:\\n\", pole)\n",
    "print(\"Podreduvanje po dimenzija 1:\\n\", np.sort(pole))\n",
    "print(\"Podreduvanje po dimenzija 0:\\n\", np.sort(pole, axis=0))\n",
    "print(\"Podreduvanje na izramneta niza:\\n\", np.sort(pole, axis=None)) # sorted one-dimensional array"
   ],
   "execution_count": 89,
   "outputs": [
    {
     "name": "stdout",
     "output_type": "stream",
     "text": [
      "Originalna niza:\n",
      " [[2 6 7 7]\n",
      " [8 2 2 4]\n",
      " [4 5 8 1]]\n",
      "Podreduvanje po dimenzija 1:\n",
      " [[2 6 7 7]\n",
      " [2 2 4 8]\n",
      " [1 4 5 8]]\n",
      "Podreduvanje po dimenzija 0:\n",
      " [[2 2 2 1]\n",
      " [4 5 7 4]\n",
      " [8 6 8 7]]\n",
      "Podreduvanje na izramneta niza:\n",
      " [1 2 2 2 4 4 5 6 7 7 8 8]\n"
     ]
    }
   ]
  },
  {
   "cell_type": "markdown",
   "metadata": {
    "id": "rddndBd3fMwC"
   },
   "source": [
    "## Аритметика"
   ]
  },
  {
   "cell_type": "code",
   "metadata": {
    "colab": {
     "base_uri": "https://localhost:8080/"
    },
    "id": "yOog0qAxfRZL",
    "executionInfo": {
     "status": "ok",
     "timestamp": 1627373227994,
     "user_tz": -120,
     "elapsed": 254,
     "user": {
      "displayName": "Sasho Gramatikov",
      "photoUrl": "https://lh3.googleusercontent.com/a-/AOh14GiORR1CaMGmxwNR-W7YS7ssbav8FspEHqAMlMKGkHM=s64",
      "userId": "11468980100954515276"
     }
    },
    "outputId": "508c9227-f671-4c98-8e1b-52d3c89be444",
    "ExecuteTime": {
     "end_time": "2023-11-26T22:35:57.629631800Z",
     "start_time": "2023-11-26T22:35:57.589083700Z"
    }
   },
   "source": [
    "a = np.array([[4, 5, 6],\n",
    "              [3, 2, 1]])\n",
    "b = np.array([[7, 8, 9],\n",
    "              [6, 5, 4]])\n",
    "\n",
    "print(\"a + b =\\n\", a + b)\n",
    "print(\"1 / a =\\n\", 1 / a)\n",
    "print(\"b ** 2 + 1=\\n\", b ** 2 + 1)"
   ],
   "execution_count": 91,
   "outputs": [
    {
     "name": "stdout",
     "output_type": "stream",
     "text": [
      "a + b =\n",
      " [[11 13 15]\n",
      " [ 9  7  5]]\n",
      "1 / a =\n",
      " [[0.25       0.2        0.16666667]\n",
      " [0.33333333 0.5        1.        ]]\n",
      "b ** 2 + 1=\n",
      " [[50 65 82]\n",
      " [37 26 17]]\n"
     ]
    }
   ]
  },
  {
   "cell_type": "code",
   "metadata": {
    "colab": {
     "base_uri": "https://localhost:8080/"
    },
    "id": "rorqu7rIiRga",
    "executionInfo": {
     "status": "ok",
     "timestamp": 1627373248464,
     "user_tz": -120,
     "elapsed": 229,
     "user": {
      "displayName": "Sasho Gramatikov",
      "photoUrl": "https://lh3.googleusercontent.com/a-/AOh14GiORR1CaMGmxwNR-W7YS7ssbav8FspEHqAMlMKGkHM=s64",
      "userId": "11468980100954515276"
     }
    },
    "outputId": "24869565-6bd2-4d16-cc4f-6dfcc9f0f6b5",
    "ExecuteTime": {
     "end_time": "2023-11-26T22:36:33.363777100Z",
     "start_time": "2023-11-26T22:36:33.301097700Z"
    }
   },
   "source": [
    "A = np.array([[4, 5, 6],\n",
    "              [3, 2, 1],\n",
    "              [1, 2, 3]])\n",
    "print(\"A*A (mnozhenje na matrici):\\n\", A.dot(A))\n"
   ],
   "execution_count": 92,
   "outputs": [
    {
     "name": "stdout",
     "output_type": "stream",
     "text": [
      "A*A (mnozhenje na matrici):\n",
      " [[37 42 47]\n",
      " [19 21 23]\n",
      " [13 15 17]]\n"
     ]
    }
   ]
  },
  {
   "cell_type": "code",
   "metadata": {
    "colab": {
     "base_uri": "https://localhost:8080/"
    },
    "id": "tBGIs0EvAIGn",
    "executionInfo": {
     "status": "ok",
     "timestamp": 1627373337100,
     "user_tz": -120,
     "elapsed": 232,
     "user": {
      "displayName": "Sasho Gramatikov",
      "photoUrl": "https://lh3.googleusercontent.com/a-/AOh14GiORR1CaMGmxwNR-W7YS7ssbav8FspEHqAMlMKGkHM=s64",
      "userId": "11468980100954515276"
     }
    },
    "outputId": "a333ead0-fae1-4640-b645-7d6b4ba61cef",
    "ExecuteTime": {
     "end_time": "2023-11-26T22:36:36.454175700Z",
     "start_time": "2023-11-26T22:36:36.419282200Z"
    }
   },
   "source": [
    "c = np.array([2, 2, 2])\n",
    "print(a + c)\n",
    "print(a + c.T)"
   ],
   "execution_count": 93,
   "outputs": [
    {
     "name": "stdout",
     "output_type": "stream",
     "text": [
      "[[6 7 8]\n",
      " [5 4 3]]\n",
      "[[6 7 8]\n",
      " [5 4 3]]\n"
     ]
    }
   ]
  },
  {
   "cell_type": "markdown",
   "metadata": {
    "id": "bcmTCXNoZPti"
   },
   "source": [
    "## Емитување "
   ]
  },
  {
   "cell_type": "code",
   "metadata": {
    "colab": {
     "base_uri": "https://localhost:8080/"
    },
    "id": "xmzQJdwLGLdQ",
    "executionInfo": {
     "status": "ok",
     "timestamp": 1627375575939,
     "user_tz": -120,
     "elapsed": 226,
     "user": {
      "displayName": "Sasho Gramatikov",
      "photoUrl": "https://lh3.googleusercontent.com/a-/AOh14GiORR1CaMGmxwNR-W7YS7ssbav8FspEHqAMlMKGkHM=s64",
      "userId": "11468980100954515276"
     }
    },
    "outputId": "25930565-6272-4395-8175-46151d21d389",
    "ExecuteTime": {
     "end_time": "2023-11-26T22:37:15.754087800Z",
     "start_time": "2023-11-26T22:37:15.719311300Z"
    }
   },
   "source": [
    "A = np.array([[1, 2, 3],\n",
    "              [4, 5, 6]])\n",
    "B = np.array([10])\n",
    "print(A.shape)\n",
    "print(B.shape)\n",
    "print(A)\n",
    "print(B)"
   ],
   "execution_count": 95,
   "outputs": [
    {
     "name": "stdout",
     "output_type": "stream",
     "text": [
      "(2, 3)\n",
      "(1,)\n",
      "[[1 2 3]\n",
      " [4 5 6]]\n",
      "[10]\n"
     ]
    }
   ]
  },
  {
   "cell_type": "code",
   "metadata": {
    "colab": {
     "base_uri": "https://localhost:8080/"
    },
    "id": "lAlIz6TsYhU4",
    "executionInfo": {
     "status": "ok",
     "timestamp": 1627379624634,
     "user_tz": -120,
     "elapsed": 227,
     "user": {
      "displayName": "Sasho Gramatikov",
      "photoUrl": "https://lh3.googleusercontent.com/a-/AOh14GiORR1CaMGmxwNR-W7YS7ssbav8FspEHqAMlMKGkHM=s64",
      "userId": "11468980100954515276"
     }
    },
    "outputId": "b9238646-a2d1-4e66-fb3c-8e8b14898fa7",
    "ExecuteTime": {
     "end_time": "2023-11-26T22:37:22.478964300Z",
     "start_time": "2023-11-26T22:37:22.452535400Z"
    }
   },
   "source": [
    "print(\"A+B\\n\", A + B)"
   ],
   "execution_count": 96,
   "outputs": [
    {
     "name": "stdout",
     "output_type": "stream",
     "text": [
      "A+B\n",
      " [[11 12 13]\n",
      " [14 15 16]]\n"
     ]
    }
   ]
  },
  {
   "cell_type": "code",
   "metadata": {
    "colab": {
     "base_uri": "https://localhost:8080/"
    },
    "id": "czDe43Y2ZRni",
    "executionInfo": {
     "status": "ok",
     "timestamp": 1627379958620,
     "user_tz": -120,
     "elapsed": 669,
     "user": {
      "displayName": "Sasho Gramatikov",
      "photoUrl": "https://lh3.googleusercontent.com/a-/AOh14GiORR1CaMGmxwNR-W7YS7ssbav8FspEHqAMlMKGkHM=s64",
      "userId": "11468980100954515276"
     }
    },
    "outputId": "c085e1f8-b152-4a10-fcb3-f63555608fa7",
    "ExecuteTime": {
     "end_time": "2023-11-26T22:37:36.226307600Z",
     "start_time": "2023-11-26T22:37:36.167355300Z"
    }
   },
   "source": [
    "A = np.array([[1, 2, 3],\n",
    "              [4, 5, 6]])\n",
    "B = np.array([10, 11, 12])\n",
    "print(A.shape)\n",
    "print(B.shape)\n",
    "print(A)\n",
    "print(B)"
   ],
   "execution_count": 98,
   "outputs": [
    {
     "name": "stdout",
     "output_type": "stream",
     "text": [
      "(2, 3)\n",
      "(3,)\n",
      "[[1 2 3]\n",
      " [4 5 6]]\n",
      "[10 11 12]\n"
     ]
    }
   ]
  },
  {
   "cell_type": "code",
   "metadata": {
    "colab": {
     "base_uri": "https://localhost:8080/"
    },
    "id": "zPLIVvGXZhqg",
    "executionInfo": {
     "status": "ok",
     "timestamp": 1627380647163,
     "user_tz": -120,
     "elapsed": 551,
     "user": {
      "displayName": "Sasho Gramatikov",
      "photoUrl": "https://lh3.googleusercontent.com/a-/AOh14GiORR1CaMGmxwNR-W7YS7ssbav8FspEHqAMlMKGkHM=s64",
      "userId": "11468980100954515276"
     }
    },
    "outputId": "87988321-941e-4cd0-dab4-24f4d45072bc",
    "ExecuteTime": {
     "end_time": "2023-11-26T22:37:40.288749900Z",
     "start_time": "2023-11-26T22:37:40.246499400Z"
    }
   },
   "source": [
    "print(\"A+B\\n\", A + B)"
   ],
   "execution_count": 99,
   "outputs": [
    {
     "name": "stdout",
     "output_type": "stream",
     "text": [
      "A+B\n",
      " [[11 13 15]\n",
      " [14 16 18]]\n"
     ]
    }
   ]
  },
  {
   "cell_type": "code",
   "metadata": {
    "colab": {
     "base_uri": "https://localhost:8080/"
    },
    "id": "W24jRC_8dFW-",
    "executionInfo": {
     "status": "ok",
     "timestamp": 1627380810894,
     "user_tz": -120,
     "elapsed": 238,
     "user": {
      "displayName": "Sasho Gramatikov",
      "photoUrl": "https://lh3.googleusercontent.com/a-/AOh14GiORR1CaMGmxwNR-W7YS7ssbav8FspEHqAMlMKGkHM=s64",
      "userId": "11468980100954515276"
     }
    },
    "outputId": "c1ea0b27-c4c3-4b39-aa4b-e5bc9ff464c7",
    "ExecuteTime": {
     "end_time": "2023-11-26T22:38:05.518760Z",
     "start_time": "2023-11-26T22:38:05.477256100Z"
    }
   },
   "source": [
    "A = np.array([[1, 2, 3],\n",
    "              [4, 5, 6]])\n",
    "B = np.array([10, 11])\n",
    "print(A.shape)\n",
    "print(B.shape)\n",
    "print(A)\n",
    "print(B)"
   ],
   "execution_count": 103,
   "outputs": [
    {
     "name": "stdout",
     "output_type": "stream",
     "text": [
      "(2, 3)\n",
      "(2,)\n",
      "[[1 2 3]\n",
      " [4 5 6]]\n",
      "[10 11]\n"
     ]
    }
   ]
  },
  {
   "cell_type": "code",
   "metadata": {
    "colab": {
     "base_uri": "https://localhost:8080/",
     "height": 162
    },
    "id": "whgtgJkid3RG",
    "executionInfo": {
     "status": "error",
     "timestamp": 1627381005805,
     "user_tz": -120,
     "elapsed": 217,
     "user": {
      "displayName": "Sasho Gramatikov",
      "photoUrl": "https://lh3.googleusercontent.com/a-/AOh14GiORR1CaMGmxwNR-W7YS7ssbav8FspEHqAMlMKGkHM=s64",
      "userId": "11468980100954515276"
     }
    },
    "outputId": "56f19df1-3fd7-4bda-89c2-f4afc66ff142",
    "ExecuteTime": {
     "end_time": "2023-11-26T22:38:06.164673300Z",
     "start_time": "2023-11-26T22:38:06.076078900Z"
    }
   },
   "source": [
    "print(\"A+B\\n\", A + B)"
   ],
   "execution_count": 104,
   "outputs": [
    {
     "ename": "ValueError",
     "evalue": "operands could not be broadcast together with shapes (2,3) (2,) ",
     "output_type": "error",
     "traceback": [
      "\u001B[1;31m---------------------------------------------------------------------------\u001B[0m",
      "\u001B[1;31mValueError\u001B[0m                                Traceback (most recent call last)",
      "Cell \u001B[1;32mIn[104], line 1\u001B[0m\n\u001B[1;32m----> 1\u001B[0m \u001B[38;5;28mprint\u001B[39m(\u001B[38;5;124m\"\u001B[39m\u001B[38;5;124mA+B\u001B[39m\u001B[38;5;130;01m\\n\u001B[39;00m\u001B[38;5;124m\"\u001B[39m, \u001B[43mA\u001B[49m\u001B[43m \u001B[49m\u001B[38;5;241;43m+\u001B[39;49m\u001B[43m \u001B[49m\u001B[43mB\u001B[49m)\n",
      "\u001B[1;31mValueError\u001B[0m: operands could not be broadcast together with shapes (2,3) (2,) "
     ]
    }
   ]
  },
  {
   "cell_type": "code",
   "metadata": {
    "colab": {
     "base_uri": "https://localhost:8080/"
    },
    "id": "HhilJO640AY4",
    "executionInfo": {
     "status": "ok",
     "timestamp": 1628175349605,
     "user_tz": -120,
     "elapsed": 312,
     "user": {
      "displayName": "Sasho Gramatikov",
      "photoUrl": "https://lh3.googleusercontent.com/a-/AOh14GiORR1CaMGmxwNR-W7YS7ssbav8FspEHqAMlMKGkHM=s64",
      "userId": "11468980100954515276"
     }
    },
    "outputId": "1f89f1ac-1292-41e1-b4d1-be9bed254d6e",
    "ExecuteTime": {
     "end_time": "2023-11-26T22:38:14.642968200Z",
     "start_time": "2023-11-26T22:38:14.580634700Z"
    }
   },
   "source": [
    "A = np.array([[4, 5, 6],\n",
    "              [3, 2, 1],\n",
    "              [1, 2, 3]])\n",
    "print(\"A*A (mnozhenje na matrici):\\n\", A.dot(A))\n"
   ],
   "execution_count": 105,
   "outputs": [
    {
     "name": "stdout",
     "output_type": "stream",
     "text": [
      "A*A (mnozhenje na matrici):\n",
      " [[37 42 47]\n",
      " [19 21 23]\n",
      " [13 15 17]]\n"
     ]
    }
   ]
  },
  {
   "cell_type": "code",
   "metadata": {
    "colab": {
     "base_uri": "https://localhost:8080/"
    },
    "id": "-UknokZ30FQJ",
    "executionInfo": {
     "status": "ok",
     "timestamp": 1628175377116,
     "user_tz": -120,
     "elapsed": 395,
     "user": {
      "displayName": "Sasho Gramatikov",
      "photoUrl": "https://lh3.googleusercontent.com/a-/AOh14GiORR1CaMGmxwNR-W7YS7ssbav8FspEHqAMlMKGkHM=s64",
      "userId": "11468980100954515276"
     }
    },
    "outputId": "735e08d6-380c-40cb-98fd-843a8e1ff94a",
    "ExecuteTime": {
     "end_time": "2023-11-26T22:38:15.291589800Z",
     "start_time": "2023-11-26T22:38:15.244847500Z"
    }
   },
   "source": [
    "A.transpose()"
   ],
   "execution_count": 106,
   "outputs": [
    {
     "data": {
      "text/plain": "array([[4, 3, 1],\n       [5, 2, 2],\n       [6, 1, 3]])"
     },
     "execution_count": 106,
     "metadata": {},
     "output_type": "execute_result"
    }
   ]
  },
  {
   "cell_type": "markdown",
   "metadata": {
    "id": "alIvOjzXhJdj"
   },
   "source": [
    "## Математички функции"
   ]
  },
  {
   "cell_type": "code",
   "metadata": {
    "colab": {
     "base_uri": "https://localhost:8080/"
    },
    "id": "FognZ5UGhLa6",
    "executionInfo": {
     "status": "ok",
     "timestamp": 1627382804547,
     "user_tz": -120,
     "elapsed": 239,
     "user": {
      "displayName": "Sasho Gramatikov",
      "photoUrl": "https://lh3.googleusercontent.com/a-/AOh14GiORR1CaMGmxwNR-W7YS7ssbav8FspEHqAMlMKGkHM=s64",
      "userId": "11468980100954515276"
     }
    },
    "outputId": "48c69ab6-e402-46c4-a1d9-1205aa1f15d9",
    "ExecuteTime": {
     "end_time": "2023-11-26T22:38:47.931906800Z",
     "start_time": "2023-11-26T22:38:47.894621100Z"
    }
   },
   "source": [
    "a = 10 * np.random.random(size=(1, 4))\n",
    "print(\"Niza:\\n\", a)\n",
    "cel_del, frakcija = np.modf(a)\n",
    "print(\"Cel del:\\n\", cel_del)\n",
    "print(\"Frakcija:\\n\", frakcija)"
   ],
   "execution_count": 108,
   "outputs": [
    {
     "name": "stdout",
     "output_type": "stream",
     "text": [
      "Niza:\n",
      " [[2.23885057 9.52456865 0.47024139 6.73962277]]\n",
      "Cel del:\n",
      " [[0.23885057 0.52456865 0.47024139 0.73962277]]\n",
      "Frakcija:\n",
      " [[2. 9. 0. 6.]]\n"
     ]
    }
   ]
  },
  {
   "cell_type": "markdown",
   "source": [
    "### Aggregate Functions"
   ],
   "metadata": {
    "collapsed": false
   }
  },
  {
   "cell_type": "code",
   "metadata": {
    "colab": {
     "base_uri": "https://localhost:8080/"
    },
    "id": "E-TquzynxgA1",
    "executionInfo": {
     "status": "ok",
     "timestamp": 1627387793126,
     "user_tz": -120,
     "elapsed": 226,
     "user": {
      "displayName": "Sasho Gramatikov",
      "photoUrl": "https://lh3.googleusercontent.com/a-/AOh14GiORR1CaMGmxwNR-W7YS7ssbav8FspEHqAMlMKGkHM=s64",
      "userId": "11468980100954515276"
     }
    },
    "outputId": "df905c64-815f-4d22-ca06-9ef69feccc4e",
    "ExecuteTime": {
     "end_time": "2023-11-26T22:39:29.533608100Z",
     "start_time": "2023-11-26T22:39:29.504809600Z"
    }
   },
   "source": [
    "z = np.array([[3, 6, 1],\n",
    "              [4, 9, 5]])\n",
    "print(\"Min i max na cela niza:\\n\", np.min(z), np.max(z))\n",
    "print(\"Min i max po oska 1:\\n\", np.min(z, axis=1), np.max(z, axis=1))\n",
    "print(\"Indeksi na min i max po oska 1:\\n\", np.argmin(z, axis=1), np.argmax(z, axis=1))\n"
   ],
   "execution_count": 109,
   "outputs": [
    {
     "name": "stdout",
     "output_type": "stream",
     "text": [
      "Min i max na cela niza:\n",
      " 1 9\n",
      "Min i max po oska 1:\n",
      " [1 4] [6 9]\n",
      "Indeksi na min i max po oska 1:\n",
      " [2 0] [1 1]\n"
     ]
    }
   ]
  },
  {
   "cell_type": "code",
   "metadata": {
    "colab": {
     "base_uri": "https://localhost:8080/"
    },
    "id": "vnajdgiS2C3T",
    "executionInfo": {
     "status": "ok",
     "timestamp": 1627387925571,
     "user_tz": -120,
     "elapsed": 475,
     "user": {
      "displayName": "Sasho Gramatikov",
      "photoUrl": "https://lh3.googleusercontent.com/a-/AOh14GiORR1CaMGmxwNR-W7YS7ssbav8FspEHqAMlMKGkHM=s64",
      "userId": "11468980100954515276"
     }
    },
    "outputId": "18ac4ba6-f1f1-4ed0-961d-b4987e4e602e",
    "ExecuteTime": {
     "end_time": "2023-11-26T22:40:19.018049400Z",
     "start_time": "2023-11-26T22:40:18.924347900Z"
    }
   },
   "source": [
    "print(\"Suma na cela niza:\\n\", z.sum())\n",
    "print(\"Suma po oska 0:\\n\", z.sum(axis=0))\n",
    "print(\"Kumulativna suma:\\n\", z.cumsum())\n",
    "print(\"Kumulativna suma po oska 1:\\n\", z.cumsum(axis=1))\n"
   ],
   "execution_count": 110,
   "outputs": [
    {
     "name": "stdout",
     "output_type": "stream",
     "text": [
      "Suma na cela niza:\n",
      " 28\n",
      "Suma po oska 0:\n",
      " [ 7 15  6]\n",
      "Kumulativna suma:\n",
      " [ 3  9 10 14 23 28]\n",
      "Kumulativna suma po oska 1:\n",
      " [[ 3  9 10]\n",
      " [ 4 13 18]]\n"
     ]
    }
   ]
  }
 ]
}
