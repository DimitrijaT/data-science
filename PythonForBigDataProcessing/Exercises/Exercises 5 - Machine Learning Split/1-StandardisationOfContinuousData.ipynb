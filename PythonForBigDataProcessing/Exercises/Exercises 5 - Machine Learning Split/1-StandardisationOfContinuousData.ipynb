{
 "cells": [
  {
   "cell_type": "markdown",
   "source": [
    "# Вежба 1: Стандардизација на континуални податоци"
   ],
   "metadata": {
    "collapsed": false
   },
   "id": "b945e32753807feb"
  },
  {
   "cell_type": "code",
   "execution_count": 1,
   "outputs": [
    {
     "name": "stdout",
     "output_type": "stream",
     "text": [
      "1.4.2\n"
     ]
    }
   ],
   "source": [
    "import pandas as pd\n",
    "\n",
    "print(pd.__version__)\n"
   ],
   "metadata": {
    "collapsed": false,
    "ExecuteTime": {
     "end_time": "2023-11-30T19:10:51.254677800Z",
     "start_time": "2023-11-30T19:10:50.784050800Z"
    }
   },
   "id": "64ecda5546749e4d"
  },
  {
   "cell_type": "markdown",
   "source": [
    " За оваа вежба треба да се вчита датотеката exams.csv"
   ],
   "metadata": {
    "collapsed": false
   },
   "id": "95895eff3adf4098"
  },
  {
   "cell_type": "markdown",
   "source": [
    "По вчитување на фајлот, потребно е да ги вчитаме податоците, каде како знак на наводник се користи \".\n",
    "Станува збор за 8 колекции (колони) и 100 податочни точки за секоја колекција"
   ],
   "metadata": {
    "collapsed": false
   },
   "id": "14b23732f0e47a32"
  },
  {
   "cell_type": "code",
   "execution_count": 2,
   "outputs": [
    {
     "data": {
      "text/plain": "    gender race/ethnicity parental level of education         lunch  \\\n0     male        group E          associate's degree      standard   \n1   female        group C          associate's degree  free/reduced   \n2     male        group D           bachelor's degree      standard   \n3   female        group A           bachelor's degree      standard   \n4   female        group D                 high school  free/reduced   \n..     ...            ...                         ...           ...   \n95  female        group A             master's degree  free/reduced   \n96  female        group D                 high school  free/reduced   \n97  female        group C                some college      standard   \n98    male        group D            some high school      standard   \n99  female        group A             master's degree  free/reduced   \n\n   test preparation course  math score  reading score  writing score  \n0                completed          79             75             81  \n1                     none          56             65             64  \n2                     none          86             68             74  \n3                     none          68             78             76  \n4                     none          49             68             61  \n..                     ...         ...            ...            ...  \n95               completed          59             76             80  \n96                    none          60             62             61  \n97                    none          69             82             83  \n98                    none          89             83             79  \n99               completed          65             88             88  \n\n[100 rows x 8 columns]",
      "text/html": "<div>\n<style scoped>\n    .dataframe tbody tr th:only-of-type {\n        vertical-align: middle;\n    }\n\n    .dataframe tbody tr th {\n        vertical-align: top;\n    }\n\n    .dataframe thead th {\n        text-align: right;\n    }\n</style>\n<table border=\"1\" class=\"dataframe\">\n  <thead>\n    <tr style=\"text-align: right;\">\n      <th></th>\n      <th>gender</th>\n      <th>race/ethnicity</th>\n      <th>parental level of education</th>\n      <th>lunch</th>\n      <th>test preparation course</th>\n      <th>math score</th>\n      <th>reading score</th>\n      <th>writing score</th>\n    </tr>\n  </thead>\n  <tbody>\n    <tr>\n      <th>0</th>\n      <td>male</td>\n      <td>group E</td>\n      <td>associate's degree</td>\n      <td>standard</td>\n      <td>completed</td>\n      <td>79</td>\n      <td>75</td>\n      <td>81</td>\n    </tr>\n    <tr>\n      <th>1</th>\n      <td>female</td>\n      <td>group C</td>\n      <td>associate's degree</td>\n      <td>free/reduced</td>\n      <td>none</td>\n      <td>56</td>\n      <td>65</td>\n      <td>64</td>\n    </tr>\n    <tr>\n      <th>2</th>\n      <td>male</td>\n      <td>group D</td>\n      <td>bachelor's degree</td>\n      <td>standard</td>\n      <td>none</td>\n      <td>86</td>\n      <td>68</td>\n      <td>74</td>\n    </tr>\n    <tr>\n      <th>3</th>\n      <td>female</td>\n      <td>group A</td>\n      <td>bachelor's degree</td>\n      <td>standard</td>\n      <td>none</td>\n      <td>68</td>\n      <td>78</td>\n      <td>76</td>\n    </tr>\n    <tr>\n      <th>4</th>\n      <td>female</td>\n      <td>group D</td>\n      <td>high school</td>\n      <td>free/reduced</td>\n      <td>none</td>\n      <td>49</td>\n      <td>68</td>\n      <td>61</td>\n    </tr>\n    <tr>\n      <th>...</th>\n      <td>...</td>\n      <td>...</td>\n      <td>...</td>\n      <td>...</td>\n      <td>...</td>\n      <td>...</td>\n      <td>...</td>\n      <td>...</td>\n    </tr>\n    <tr>\n      <th>95</th>\n      <td>female</td>\n      <td>group A</td>\n      <td>master's degree</td>\n      <td>free/reduced</td>\n      <td>completed</td>\n      <td>59</td>\n      <td>76</td>\n      <td>80</td>\n    </tr>\n    <tr>\n      <th>96</th>\n      <td>female</td>\n      <td>group D</td>\n      <td>high school</td>\n      <td>free/reduced</td>\n      <td>none</td>\n      <td>60</td>\n      <td>62</td>\n      <td>61</td>\n    </tr>\n    <tr>\n      <th>97</th>\n      <td>female</td>\n      <td>group C</td>\n      <td>some college</td>\n      <td>standard</td>\n      <td>none</td>\n      <td>69</td>\n      <td>82</td>\n      <td>83</td>\n    </tr>\n    <tr>\n      <th>98</th>\n      <td>male</td>\n      <td>group D</td>\n      <td>some high school</td>\n      <td>standard</td>\n      <td>none</td>\n      <td>89</td>\n      <td>83</td>\n      <td>79</td>\n    </tr>\n    <tr>\n      <th>99</th>\n      <td>female</td>\n      <td>group A</td>\n      <td>master's degree</td>\n      <td>free/reduced</td>\n      <td>completed</td>\n      <td>65</td>\n      <td>88</td>\n      <td>88</td>\n    </tr>\n  </tbody>\n</table>\n<p>100 rows × 8 columns</p>\n</div>"
     },
     "execution_count": 2,
     "metadata": {},
     "output_type": "execute_result"
    }
   ],
   "source": [
    "exam_data = pd.read_csv('../Exercises 5 - Datasets/exams.csv', quotechar='\"')\n",
    "exam_data"
   ],
   "metadata": {
    "collapsed": false,
    "ExecuteTime": {
     "end_time": "2023-11-30T19:11:06.280375Z",
     "start_time": "2023-11-30T19:11:06.242103Z"
    }
   },
   "id": "ab0dc9f1f1914f1e"
  },
  {
   "cell_type": "markdown",
   "source": [
    "Сакаме да ги видиме средниот поени по математика, читање и пишување"
   ],
   "metadata": {
    "collapsed": false
   },
   "id": "e358540095e5e080"
  },
  {
   "cell_type": "code",
   "execution_count": 3,
   "outputs": [
    {
     "name": "stdout",
     "output_type": "stream",
     "text": [
      "65.06\n",
      "67.28\n",
      "66.47\n"
     ]
    }
   ],
   "source": [
    "math_average = exam_data['math score'].mean()\n",
    "reading_average = exam_data['reading score'].mean()\n",
    "writing_average = exam_data['writing score'].mean()\n",
    "\n",
    "print(math_average)\n",
    "print(reading_average)\n",
    "print(writing_average)"
   ],
   "metadata": {
    "collapsed": false,
    "ExecuteTime": {
     "end_time": "2023-11-30T19:12:17.279656200Z",
     "start_time": "2023-11-30T19:12:17.255625700Z"
    }
   },
   "id": "811757a026e6fb8a"
  },
  {
   "cell_type": "markdown",
   "source": [
    "Следи процедурата за стандардизација на податочните колекции. За таа цел се користи scale функцијата од preprocessing класта во рамки на scikit-learn.\n",
    "Забележете ги нормализираните (стандардизираните) вредности на поените по математика, читање и пишување"
   ],
   "metadata": {
    "collapsed": false
   },
   "id": "eb2b8d48e476e334"
  },
  {
   "cell_type": "code",
   "execution_count": 6,
   "outputs": [
    {
     "data": {
      "text/plain": "    gender race/ethnicity parental level of education         lunch  \\\n0     male        group E          associate's degree      standard   \n1   female        group C          associate's degree  free/reduced   \n2     male        group D           bachelor's degree      standard   \n3   female        group A           bachelor's degree      standard   \n4   female        group D                 high school  free/reduced   \n..     ...            ...                         ...           ...   \n95  female        group A             master's degree  free/reduced   \n96  female        group D                 high school  free/reduced   \n97  female        group C                some college      standard   \n98    male        group D            some high school      standard   \n99  female        group A             master's degree  free/reduced   \n\n   test preparation course  math score  reading score  writing score  \n0                completed    0.994557       0.574138       1.049901  \n1                     none   -0.646391      -0.169564      -0.178476  \n2                     none    1.493976       0.053547       0.544099  \n3                     none    0.209756       0.797248       0.688613  \n4                     none   -1.145810       0.053547      -0.395248  \n..                     ...         ...            ...            ...  \n95               completed   -0.432354       0.648508       0.977643  \n96                    none   -0.361008      -0.392675      -0.395248  \n97                    none    0.281101       1.094729       1.194416  \n98                    none    1.708013       1.169099       0.905386  \n99               completed   -0.004281       1.540950       1.555703  \n\n[100 rows x 8 columns]",
      "text/html": "<div>\n<style scoped>\n    .dataframe tbody tr th:only-of-type {\n        vertical-align: middle;\n    }\n\n    .dataframe tbody tr th {\n        vertical-align: top;\n    }\n\n    .dataframe thead th {\n        text-align: right;\n    }\n</style>\n<table border=\"1\" class=\"dataframe\">\n  <thead>\n    <tr style=\"text-align: right;\">\n      <th></th>\n      <th>gender</th>\n      <th>race/ethnicity</th>\n      <th>parental level of education</th>\n      <th>lunch</th>\n      <th>test preparation course</th>\n      <th>math score</th>\n      <th>reading score</th>\n      <th>writing score</th>\n    </tr>\n  </thead>\n  <tbody>\n    <tr>\n      <th>0</th>\n      <td>male</td>\n      <td>group E</td>\n      <td>associate's degree</td>\n      <td>standard</td>\n      <td>completed</td>\n      <td>0.994557</td>\n      <td>0.574138</td>\n      <td>1.049901</td>\n    </tr>\n    <tr>\n      <th>1</th>\n      <td>female</td>\n      <td>group C</td>\n      <td>associate's degree</td>\n      <td>free/reduced</td>\n      <td>none</td>\n      <td>-0.646391</td>\n      <td>-0.169564</td>\n      <td>-0.178476</td>\n    </tr>\n    <tr>\n      <th>2</th>\n      <td>male</td>\n      <td>group D</td>\n      <td>bachelor's degree</td>\n      <td>standard</td>\n      <td>none</td>\n      <td>1.493976</td>\n      <td>0.053547</td>\n      <td>0.544099</td>\n    </tr>\n    <tr>\n      <th>3</th>\n      <td>female</td>\n      <td>group A</td>\n      <td>bachelor's degree</td>\n      <td>standard</td>\n      <td>none</td>\n      <td>0.209756</td>\n      <td>0.797248</td>\n      <td>0.688613</td>\n    </tr>\n    <tr>\n      <th>4</th>\n      <td>female</td>\n      <td>group D</td>\n      <td>high school</td>\n      <td>free/reduced</td>\n      <td>none</td>\n      <td>-1.145810</td>\n      <td>0.053547</td>\n      <td>-0.395248</td>\n    </tr>\n    <tr>\n      <th>...</th>\n      <td>...</td>\n      <td>...</td>\n      <td>...</td>\n      <td>...</td>\n      <td>...</td>\n      <td>...</td>\n      <td>...</td>\n      <td>...</td>\n    </tr>\n    <tr>\n      <th>95</th>\n      <td>female</td>\n      <td>group A</td>\n      <td>master's degree</td>\n      <td>free/reduced</td>\n      <td>completed</td>\n      <td>-0.432354</td>\n      <td>0.648508</td>\n      <td>0.977643</td>\n    </tr>\n    <tr>\n      <th>96</th>\n      <td>female</td>\n      <td>group D</td>\n      <td>high school</td>\n      <td>free/reduced</td>\n      <td>none</td>\n      <td>-0.361008</td>\n      <td>-0.392675</td>\n      <td>-0.395248</td>\n    </tr>\n    <tr>\n      <th>97</th>\n      <td>female</td>\n      <td>group C</td>\n      <td>some college</td>\n      <td>standard</td>\n      <td>none</td>\n      <td>0.281101</td>\n      <td>1.094729</td>\n      <td>1.194416</td>\n    </tr>\n    <tr>\n      <th>98</th>\n      <td>male</td>\n      <td>group D</td>\n      <td>some high school</td>\n      <td>standard</td>\n      <td>none</td>\n      <td>1.708013</td>\n      <td>1.169099</td>\n      <td>0.905386</td>\n    </tr>\n    <tr>\n      <th>99</th>\n      <td>female</td>\n      <td>group A</td>\n      <td>master's degree</td>\n      <td>free/reduced</td>\n      <td>completed</td>\n      <td>-0.004281</td>\n      <td>1.540950</td>\n      <td>1.555703</td>\n    </tr>\n  </tbody>\n</table>\n<p>100 rows × 8 columns</p>\n</div>"
     },
     "execution_count": 6,
     "metadata": {},
     "output_type": "execute_result"
    }
   ],
   "source": [
    "from sklearn import preprocessing\n",
    "\n",
    "exam_data['math score'] = preprocessing.scale(exam_data['math score'])\n",
    "exam_data['reading score'] = preprocessing.scale(exam_data['reading score'])\n",
    "exam_data['writing score'] = preprocessing.scale(exam_data['writing score'])\n",
    "\n",
    "exam_data"
   ],
   "metadata": {
    "collapsed": false,
    "ExecuteTime": {
     "end_time": "2023-11-30T19:15:52.740595200Z",
     "start_time": "2023-11-30T19:15:52.705132900Z"
    }
   },
   "id": "babcd4b980580567"
  },
  {
   "cell_type": "markdown",
   "source": [
    "Новите средни вредности за овие колони (колекции на податоци) треба имаат вредност приближно еднаква на 0"
   ],
   "metadata": {
    "collapsed": false
   },
   "id": "ba69d28db152588e"
  },
  {
   "cell_type": "code",
   "execution_count": 7,
   "outputs": [
    {
     "name": "stdout",
     "output_type": "stream",
     "text": [
      "-2.1510571102112408e-18\n",
      "-1.1102230246251566e-17\n",
      "-2.6645352591003756e-17\n"
     ]
    }
   ],
   "source": [
    "math_average = exam_data['math score'].mean()\n",
    "reading_average = exam_data['reading score'].mean()\n",
    "writing_average = exam_data['writing score'].mean()\n",
    "\n",
    "print(math_average)\n",
    "print(reading_average)\n",
    "print(writing_average)"
   ],
   "metadata": {
    "collapsed": false,
    "ExecuteTime": {
     "end_time": "2023-11-30T19:15:53.873896500Z",
     "start_time": "2023-11-30T19:15:53.841091500Z"
    }
   },
   "id": "b8e897a90d8fe800"
  },
  {
   "cell_type": "markdown",
   "source": [
    "Досега работевме со контиуални податоци (колекции), во наредниот вежба ќе работиме со категорични вредности на податоците"
   ],
   "metadata": {
    "collapsed": false
   },
   "id": "8f823f7324ad263e"
  },
  {
   "cell_type": "code",
   "execution_count": null,
   "outputs": [],
   "source": [],
   "metadata": {
    "collapsed": false
   },
   "id": "536a9fb39bf42c59"
  }
 ],
 "metadata": {
  "kernelspec": {
   "display_name": "Python 3",
   "language": "python",
   "name": "python3"
  },
  "language_info": {
   "codemirror_mode": {
    "name": "ipython",
    "version": 2
   },
   "file_extension": ".py",
   "mimetype": "text/x-python",
   "name": "python",
   "nbconvert_exporter": "python",
   "pygments_lexer": "ipython2",
   "version": "2.7.6"
  }
 },
 "nbformat": 4,
 "nbformat_minor": 5
}
