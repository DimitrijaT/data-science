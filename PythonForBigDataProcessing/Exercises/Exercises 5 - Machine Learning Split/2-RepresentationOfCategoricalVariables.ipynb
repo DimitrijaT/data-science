{
 "cells": [
  {
   "cell_type": "code",
   "execution_count": 2,
   "outputs": [],
   "source": [
    "from sklearn import preprocessing\n",
    "import pandas as pd\n",
    "\n",
    "exam_data = pd.read_csv('../Exercises 5 - Datasets/exams.csv', quotechar='\"')\n",
    "\n",
    "math_average = exam_data['math score'].mean()\n",
    "reading_average = exam_data['reading score'].mean()\n",
    "writing_average = exam_data['writing score'].mean()\n",
    "\n",
    "exam_data['math score'] = preprocessing.scale(exam_data['math score'])\n",
    "exam_data['reading score'] = preprocessing.scale(exam_data['reading score'])\n",
    "exam_data['writing score'] = preprocessing.scale(exam_data['writing score'])\n",
    "\n",
    "math_average = exam_data['math score'].mean()\n",
    "reading_average = exam_data['reading score'].mean()\n",
    "writing_average = exam_data['writing score'].mean()"
   ],
   "metadata": {
    "collapsed": false,
    "ExecuteTime": {
     "end_time": "2023-11-30T19:21:16.147490300Z",
     "start_time": "2023-11-30T19:21:15.013145500Z"
    }
   },
   "id": "3c88bd2c66623610"
  },
  {
   "cell_type": "markdown",
   "source": [
    "# Вежба 2: Репрезентација на категорични променливи"
   ],
   "metadata": {
    "collapsed": false
   },
   "id": "7cea4e6fc7d43920"
  },
  {
   "cell_type": "markdown",
   "source": [
    "Најчесто кога помеѓу категоричните променливи споредбата има некакво значење се користи LabelEncoder().\n",
    "Притоа се користи fit_transform методот кој ќе ги измине сите категорични вредности во колоната gender (пол) и истите ќе ги трансформира во броеви"
   ],
   "metadata": {
    "collapsed": false
   },
   "id": "fe178686d501787e"
  },
  {
   "cell_type": "code",
   "execution_count": 3,
   "outputs": [],
   "source": [
    "le = preprocessing.LabelEncoder()\n",
    "exam_data['gender'] = le.fit_transform(exam_data['gender'].astype(str))"
   ],
   "metadata": {
    "collapsed": false,
    "ExecuteTime": {
     "end_time": "2023-11-30T19:21:16.941386500Z",
     "start_time": "2023-11-30T19:21:16.923102100Z"
    }
   },
   "id": "2b811fc4fe1cd99c"
  },
  {
   "cell_type": "markdown",
   "source": [
    "Со проверка на податоците може да се увидат променетите вредности на gender колоната (1-машки пол, 0-женски пол)"
   ],
   "metadata": {
    "collapsed": false
   },
   "id": "65ea6ed49073fbb8"
  },
  {
   "cell_type": "code",
   "execution_count": 4,
   "outputs": [
    {
     "data": {
      "text/plain": "   gender race/ethnicity parental level of education         lunch  \\\n0       1        group E          associate's degree      standard   \n1       0        group C          associate's degree  free/reduced   \n2       1        group D           bachelor's degree      standard   \n3       0        group A           bachelor's degree      standard   \n4       0        group D                 high school  free/reduced   \n\n  test preparation course  math score  reading score  writing score  \n0               completed    0.994557       0.574138       1.049901  \n1                    none   -0.646391      -0.169564      -0.178476  \n2                    none    1.493976       0.053547       0.544099  \n3                    none    0.209756       0.797248       0.688613  \n4                    none   -1.145810       0.053547      -0.395248  ",
      "text/html": "<div>\n<style scoped>\n    .dataframe tbody tr th:only-of-type {\n        vertical-align: middle;\n    }\n\n    .dataframe tbody tr th {\n        vertical-align: top;\n    }\n\n    .dataframe thead th {\n        text-align: right;\n    }\n</style>\n<table border=\"1\" class=\"dataframe\">\n  <thead>\n    <tr style=\"text-align: right;\">\n      <th></th>\n      <th>gender</th>\n      <th>race/ethnicity</th>\n      <th>parental level of education</th>\n      <th>lunch</th>\n      <th>test preparation course</th>\n      <th>math score</th>\n      <th>reading score</th>\n      <th>writing score</th>\n    </tr>\n  </thead>\n  <tbody>\n    <tr>\n      <th>0</th>\n      <td>1</td>\n      <td>group E</td>\n      <td>associate's degree</td>\n      <td>standard</td>\n      <td>completed</td>\n      <td>0.994557</td>\n      <td>0.574138</td>\n      <td>1.049901</td>\n    </tr>\n    <tr>\n      <th>1</th>\n      <td>0</td>\n      <td>group C</td>\n      <td>associate's degree</td>\n      <td>free/reduced</td>\n      <td>none</td>\n      <td>-0.646391</td>\n      <td>-0.169564</td>\n      <td>-0.178476</td>\n    </tr>\n    <tr>\n      <th>2</th>\n      <td>1</td>\n      <td>group D</td>\n      <td>bachelor's degree</td>\n      <td>standard</td>\n      <td>none</td>\n      <td>1.493976</td>\n      <td>0.053547</td>\n      <td>0.544099</td>\n    </tr>\n    <tr>\n      <th>3</th>\n      <td>0</td>\n      <td>group A</td>\n      <td>bachelor's degree</td>\n      <td>standard</td>\n      <td>none</td>\n      <td>0.209756</td>\n      <td>0.797248</td>\n      <td>0.688613</td>\n    </tr>\n    <tr>\n      <th>4</th>\n      <td>0</td>\n      <td>group D</td>\n      <td>high school</td>\n      <td>free/reduced</td>\n      <td>none</td>\n      <td>-1.145810</td>\n      <td>0.053547</td>\n      <td>-0.395248</td>\n    </tr>\n  </tbody>\n</table>\n</div>"
     },
     "execution_count": 4,
     "metadata": {},
     "output_type": "execute_result"
    }
   ],
   "source": [
    "exam_data.head()"
   ],
   "metadata": {
    "collapsed": false,
    "ExecuteTime": {
     "end_time": "2023-11-30T19:21:18.637117400Z",
     "start_time": "2023-11-30T19:21:18.607039500Z"
    }
   },
   "id": "3fd7bd05fd6ce53a"
  },
  {
   "cell_type": "markdown",
   "source": [
    "Со помош на classes_ ќе се прикажат уникатните вредности на соодветната колона"
   ],
   "metadata": {
    "collapsed": false
   },
   "id": "966bf85e52e03f35"
  },
  {
   "cell_type": "code",
   "execution_count": 5,
   "outputs": [
    {
     "data": {
      "text/plain": "array(['female', 'male'], dtype=object)"
     },
     "execution_count": 5,
     "metadata": {},
     "output_type": "execute_result"
    }
   ],
   "source": [
    "le.classes_"
   ],
   "metadata": {
    "collapsed": false,
    "ExecuteTime": {
     "end_time": "2023-11-30T19:22:52.112784200Z",
     "start_time": "2023-11-30T19:22:52.084335100Z"
    }
   },
   "id": "16efb91bedb560e3"
  },
  {
   "cell_type": "markdown",
   "source": [
    "One-hot енкодирање се постигнува многу лесно со користење на библиотеката Pandas. Секоја категорична променлива со помош на овој метод се енкодира со One-hot репрезентација. Конкретно во случај на раса/етнос секој студент припаѓа во една од групите од A до E."
   ],
   "metadata": {
    "collapsed": false
   },
   "id": "3ea85446e0fd5f91"
  },
  {
   "cell_type": "code",
   "execution_count": 6,
   "outputs": [
    {
     "data": {
      "text/plain": "    group A  group B  group C  group D  group E\n0         0        0        0        0        1\n1         0        0        1        0        0\n2         0        0        0        1        0\n3         1        0        0        0        0\n4         0        0        0        1        0\n..      ...      ...      ...      ...      ...\n95        1        0        0        0        0\n96        0        0        0        1        0\n97        0        0        1        0        0\n98        0        0        0        1        0\n99        1        0        0        0        0\n\n[100 rows x 5 columns]",
      "text/html": "<div>\n<style scoped>\n    .dataframe tbody tr th:only-of-type {\n        vertical-align: middle;\n    }\n\n    .dataframe tbody tr th {\n        vertical-align: top;\n    }\n\n    .dataframe thead th {\n        text-align: right;\n    }\n</style>\n<table border=\"1\" class=\"dataframe\">\n  <thead>\n    <tr style=\"text-align: right;\">\n      <th></th>\n      <th>group A</th>\n      <th>group B</th>\n      <th>group C</th>\n      <th>group D</th>\n      <th>group E</th>\n    </tr>\n  </thead>\n  <tbody>\n    <tr>\n      <th>0</th>\n      <td>0</td>\n      <td>0</td>\n      <td>0</td>\n      <td>0</td>\n      <td>1</td>\n    </tr>\n    <tr>\n      <th>1</th>\n      <td>0</td>\n      <td>0</td>\n      <td>1</td>\n      <td>0</td>\n      <td>0</td>\n    </tr>\n    <tr>\n      <th>2</th>\n      <td>0</td>\n      <td>0</td>\n      <td>0</td>\n      <td>1</td>\n      <td>0</td>\n    </tr>\n    <tr>\n      <th>3</th>\n      <td>1</td>\n      <td>0</td>\n      <td>0</td>\n      <td>0</td>\n      <td>0</td>\n    </tr>\n    <tr>\n      <th>4</th>\n      <td>0</td>\n      <td>0</td>\n      <td>0</td>\n      <td>1</td>\n      <td>0</td>\n    </tr>\n    <tr>\n      <th>...</th>\n      <td>...</td>\n      <td>...</td>\n      <td>...</td>\n      <td>...</td>\n      <td>...</td>\n    </tr>\n    <tr>\n      <th>95</th>\n      <td>1</td>\n      <td>0</td>\n      <td>0</td>\n      <td>0</td>\n      <td>0</td>\n    </tr>\n    <tr>\n      <th>96</th>\n      <td>0</td>\n      <td>0</td>\n      <td>0</td>\n      <td>1</td>\n      <td>0</td>\n    </tr>\n    <tr>\n      <th>97</th>\n      <td>0</td>\n      <td>0</td>\n      <td>1</td>\n      <td>0</td>\n      <td>0</td>\n    </tr>\n    <tr>\n      <th>98</th>\n      <td>0</td>\n      <td>0</td>\n      <td>0</td>\n      <td>1</td>\n      <td>0</td>\n    </tr>\n    <tr>\n      <th>99</th>\n      <td>1</td>\n      <td>0</td>\n      <td>0</td>\n      <td>0</td>\n      <td>0</td>\n    </tr>\n  </tbody>\n</table>\n<p>100 rows × 5 columns</p>\n</div>"
     },
     "execution_count": 6,
     "metadata": {},
     "output_type": "execute_result"
    }
   ],
   "source": [
    "pd.get_dummies(exam_data['race/ethnicity'])"
   ],
   "metadata": {
    "collapsed": false,
    "ExecuteTime": {
     "end_time": "2023-11-30T19:24:04.366103Z",
     "start_time": "2023-11-30T19:24:04.324967500Z"
    }
   },
   "id": "9c38e1204380e672"
  },
  {
   "cell_type": "markdown",
   "source": [
    "Сега потребно е да ја замениме категоричната колона со One-hot репрезентација на истата"
   ],
   "metadata": {
    "collapsed": false
   },
   "id": "eb37cb6b8571ea41"
  },
  {
   "cell_type": "code",
   "execution_count": 8,
   "outputs": [],
   "source": [
    "exam_data = pd.get_dummies(exam_data, columns=['race/ethnicity'])"
   ],
   "metadata": {
    "collapsed": false,
    "ExecuteTime": {
     "end_time": "2023-11-30T15:09:43.706407800Z",
     "start_time": "2023-11-30T15:09:43.678346600Z"
    }
   },
   "id": "1e95e3659cf88d75"
  },
  {
   "cell_type": "code",
   "execution_count": 9,
   "outputs": [
    {
     "data": {
      "text/plain": "    gender parental level of education         lunch test preparation course  \\\n0        1          associate's degree      standard               completed   \n1        0          associate's degree  free/reduced                    none   \n2        1           bachelor's degree      standard                    none   \n3        0           bachelor's degree      standard                    none   \n4        0                 high school  free/reduced                    none   \n..     ...                         ...           ...                     ...   \n95       0             master's degree  free/reduced               completed   \n96       0                 high school  free/reduced                    none   \n97       0                some college      standard                    none   \n98       1            some high school      standard                    none   \n99       0             master's degree  free/reduced               completed   \n\n    math score  reading score  writing score  race/ethnicity_group A  \\\n0     0.994557       0.574138       1.049901                       0   \n1    -0.646391      -0.169564      -0.178476                       0   \n2     1.493976       0.053547       0.544099                       0   \n3     0.209756       0.797248       0.688613                       1   \n4    -1.145810       0.053547      -0.395248                       0   \n..         ...            ...            ...                     ...   \n95   -0.432354       0.648508       0.977643                       1   \n96   -0.361008      -0.392675      -0.395248                       0   \n97    0.281101       1.094729       1.194416                       0   \n98    1.708013       1.169099       0.905386                       0   \n99   -0.004281       1.540950       1.555703                       1   \n\n    race/ethnicity_group B  race/ethnicity_group C  race/ethnicity_group D  \\\n0                        0                       0                       0   \n1                        0                       1                       0   \n2                        0                       0                       1   \n3                        0                       0                       0   \n4                        0                       0                       1   \n..                     ...                     ...                     ...   \n95                       0                       0                       0   \n96                       0                       0                       1   \n97                       0                       1                       0   \n98                       0                       0                       1   \n99                       0                       0                       0   \n\n    race/ethnicity_group E  \n0                        1  \n1                        0  \n2                        0  \n3                        0  \n4                        0  \n..                     ...  \n95                       0  \n96                       0  \n97                       0  \n98                       0  \n99                       0  \n\n[100 rows x 12 columns]",
      "text/html": "<div>\n<style scoped>\n    .dataframe tbody tr th:only-of-type {\n        vertical-align: middle;\n    }\n\n    .dataframe tbody tr th {\n        vertical-align: top;\n    }\n\n    .dataframe thead th {\n        text-align: right;\n    }\n</style>\n<table border=\"1\" class=\"dataframe\">\n  <thead>\n    <tr style=\"text-align: right;\">\n      <th></th>\n      <th>gender</th>\n      <th>parental level of education</th>\n      <th>lunch</th>\n      <th>test preparation course</th>\n      <th>math score</th>\n      <th>reading score</th>\n      <th>writing score</th>\n      <th>race/ethnicity_group A</th>\n      <th>race/ethnicity_group B</th>\n      <th>race/ethnicity_group C</th>\n      <th>race/ethnicity_group D</th>\n      <th>race/ethnicity_group E</th>\n    </tr>\n  </thead>\n  <tbody>\n    <tr>\n      <th>0</th>\n      <td>1</td>\n      <td>associate's degree</td>\n      <td>standard</td>\n      <td>completed</td>\n      <td>0.994557</td>\n      <td>0.574138</td>\n      <td>1.049901</td>\n      <td>0</td>\n      <td>0</td>\n      <td>0</td>\n      <td>0</td>\n      <td>1</td>\n    </tr>\n    <tr>\n      <th>1</th>\n      <td>0</td>\n      <td>associate's degree</td>\n      <td>free/reduced</td>\n      <td>none</td>\n      <td>-0.646391</td>\n      <td>-0.169564</td>\n      <td>-0.178476</td>\n      <td>0</td>\n      <td>0</td>\n      <td>1</td>\n      <td>0</td>\n      <td>0</td>\n    </tr>\n    <tr>\n      <th>2</th>\n      <td>1</td>\n      <td>bachelor's degree</td>\n      <td>standard</td>\n      <td>none</td>\n      <td>1.493976</td>\n      <td>0.053547</td>\n      <td>0.544099</td>\n      <td>0</td>\n      <td>0</td>\n      <td>0</td>\n      <td>1</td>\n      <td>0</td>\n    </tr>\n    <tr>\n      <th>3</th>\n      <td>0</td>\n      <td>bachelor's degree</td>\n      <td>standard</td>\n      <td>none</td>\n      <td>0.209756</td>\n      <td>0.797248</td>\n      <td>0.688613</td>\n      <td>1</td>\n      <td>0</td>\n      <td>0</td>\n      <td>0</td>\n      <td>0</td>\n    </tr>\n    <tr>\n      <th>4</th>\n      <td>0</td>\n      <td>high school</td>\n      <td>free/reduced</td>\n      <td>none</td>\n      <td>-1.145810</td>\n      <td>0.053547</td>\n      <td>-0.395248</td>\n      <td>0</td>\n      <td>0</td>\n      <td>0</td>\n      <td>1</td>\n      <td>0</td>\n    </tr>\n    <tr>\n      <th>...</th>\n      <td>...</td>\n      <td>...</td>\n      <td>...</td>\n      <td>...</td>\n      <td>...</td>\n      <td>...</td>\n      <td>...</td>\n      <td>...</td>\n      <td>...</td>\n      <td>...</td>\n      <td>...</td>\n      <td>...</td>\n    </tr>\n    <tr>\n      <th>95</th>\n      <td>0</td>\n      <td>master's degree</td>\n      <td>free/reduced</td>\n      <td>completed</td>\n      <td>-0.432354</td>\n      <td>0.648508</td>\n      <td>0.977643</td>\n      <td>1</td>\n      <td>0</td>\n      <td>0</td>\n      <td>0</td>\n      <td>0</td>\n    </tr>\n    <tr>\n      <th>96</th>\n      <td>0</td>\n      <td>high school</td>\n      <td>free/reduced</td>\n      <td>none</td>\n      <td>-0.361008</td>\n      <td>-0.392675</td>\n      <td>-0.395248</td>\n      <td>0</td>\n      <td>0</td>\n      <td>0</td>\n      <td>1</td>\n      <td>0</td>\n    </tr>\n    <tr>\n      <th>97</th>\n      <td>0</td>\n      <td>some college</td>\n      <td>standard</td>\n      <td>none</td>\n      <td>0.281101</td>\n      <td>1.094729</td>\n      <td>1.194416</td>\n      <td>0</td>\n      <td>0</td>\n      <td>1</td>\n      <td>0</td>\n      <td>0</td>\n    </tr>\n    <tr>\n      <th>98</th>\n      <td>1</td>\n      <td>some high school</td>\n      <td>standard</td>\n      <td>none</td>\n      <td>1.708013</td>\n      <td>1.169099</td>\n      <td>0.905386</td>\n      <td>0</td>\n      <td>0</td>\n      <td>0</td>\n      <td>1</td>\n      <td>0</td>\n    </tr>\n    <tr>\n      <th>99</th>\n      <td>0</td>\n      <td>master's degree</td>\n      <td>free/reduced</td>\n      <td>completed</td>\n      <td>-0.004281</td>\n      <td>1.540950</td>\n      <td>1.555703</td>\n      <td>1</td>\n      <td>0</td>\n      <td>0</td>\n      <td>0</td>\n      <td>0</td>\n    </tr>\n  </tbody>\n</table>\n<p>100 rows × 12 columns</p>\n</div>"
     },
     "execution_count": 9,
     "metadata": {},
     "output_type": "execute_result"
    }
   ],
   "source": [
    "exam_data"
   ],
   "metadata": {
    "collapsed": false,
    "ExecuteTime": {
     "end_time": "2023-11-30T15:09:44.135455800Z",
     "start_time": "2023-11-30T15:09:44.089736800Z"
    }
   },
   "id": "afdd5f01e6a9687"
  },
  {
   "cell_type": "markdown",
   "source": [
    "Истиот метод може да се користи на повеќе категорични колони истовремено, како во случајов:"
   ],
   "metadata": {
    "collapsed": false
   },
   "id": "e5a781a92c6ae875"
  },
  {
   "cell_type": "code",
   "execution_count": 10,
   "outputs": [],
   "source": [
    "exam_data = pd.get_dummies(exam_data, columns=['parental level of education', 'lunch', 'test preparation course'])"
   ],
   "metadata": {
    "collapsed": false,
    "ExecuteTime": {
     "end_time": "2023-11-30T15:09:45.038946300Z",
     "start_time": "2023-11-30T15:09:45.013374500Z"
    }
   },
   "id": "21fd714c1e1bd4ef"
  },
  {
   "cell_type": "code",
   "execution_count": 11,
   "outputs": [
    {
     "data": {
      "text/plain": "   gender  math score  reading score  writing score  race/ethnicity_group A  \\\n0       1    0.994557       0.574138       1.049901                       0   \n1       0   -0.646391      -0.169564      -0.178476                       0   \n2       1    1.493976       0.053547       0.544099                       0   \n3       0    0.209756       0.797248       0.688613                       1   \n4       0   -1.145810       0.053547      -0.395248                       0   \n\n   race/ethnicity_group B  race/ethnicity_group C  race/ethnicity_group D  \\\n0                       0                       0                       0   \n1                       0                       1                       0   \n2                       0                       0                       1   \n3                       0                       0                       0   \n4                       0                       0                       1   \n\n   race/ethnicity_group E  parental level of education_associate's degree  \\\n0                       1                                               1   \n1                       0                                               1   \n2                       0                                               0   \n3                       0                                               0   \n4                       0                                               0   \n\n   parental level of education_bachelor's degree  \\\n0                                              0   \n1                                              0   \n2                                              1   \n3                                              1   \n4                                              0   \n\n   parental level of education_high school  \\\n0                                        0   \n1                                        0   \n2                                        0   \n3                                        0   \n4                                        1   \n\n   parental level of education_master's degree  \\\n0                                            0   \n1                                            0   \n2                                            0   \n3                                            0   \n4                                            0   \n\n   parental level of education_some college  \\\n0                                         0   \n1                                         0   \n2                                         0   \n3                                         0   \n4                                         0   \n\n   parental level of education_some high school  lunch_free/reduced  \\\n0                                             0                   0   \n1                                             0                   1   \n2                                             0                   0   \n3                                             0                   0   \n4                                             0                   1   \n\n   lunch_standard  test preparation course_completed  \\\n0               1                                  1   \n1               0                                  0   \n2               1                                  0   \n3               1                                  0   \n4               0                                  0   \n\n   test preparation course_none  \n0                             0  \n1                             1  \n2                             1  \n3                             1  \n4                             1  ",
      "text/html": "<div>\n<style scoped>\n    .dataframe tbody tr th:only-of-type {\n        vertical-align: middle;\n    }\n\n    .dataframe tbody tr th {\n        vertical-align: top;\n    }\n\n    .dataframe thead th {\n        text-align: right;\n    }\n</style>\n<table border=\"1\" class=\"dataframe\">\n  <thead>\n    <tr style=\"text-align: right;\">\n      <th></th>\n      <th>gender</th>\n      <th>math score</th>\n      <th>reading score</th>\n      <th>writing score</th>\n      <th>race/ethnicity_group A</th>\n      <th>race/ethnicity_group B</th>\n      <th>race/ethnicity_group C</th>\n      <th>race/ethnicity_group D</th>\n      <th>race/ethnicity_group E</th>\n      <th>parental level of education_associate's degree</th>\n      <th>parental level of education_bachelor's degree</th>\n      <th>parental level of education_high school</th>\n      <th>parental level of education_master's degree</th>\n      <th>parental level of education_some college</th>\n      <th>parental level of education_some high school</th>\n      <th>lunch_free/reduced</th>\n      <th>lunch_standard</th>\n      <th>test preparation course_completed</th>\n      <th>test preparation course_none</th>\n    </tr>\n  </thead>\n  <tbody>\n    <tr>\n      <th>0</th>\n      <td>1</td>\n      <td>0.994557</td>\n      <td>0.574138</td>\n      <td>1.049901</td>\n      <td>0</td>\n      <td>0</td>\n      <td>0</td>\n      <td>0</td>\n      <td>1</td>\n      <td>1</td>\n      <td>0</td>\n      <td>0</td>\n      <td>0</td>\n      <td>0</td>\n      <td>0</td>\n      <td>0</td>\n      <td>1</td>\n      <td>1</td>\n      <td>0</td>\n    </tr>\n    <tr>\n      <th>1</th>\n      <td>0</td>\n      <td>-0.646391</td>\n      <td>-0.169564</td>\n      <td>-0.178476</td>\n      <td>0</td>\n      <td>0</td>\n      <td>1</td>\n      <td>0</td>\n      <td>0</td>\n      <td>1</td>\n      <td>0</td>\n      <td>0</td>\n      <td>0</td>\n      <td>0</td>\n      <td>0</td>\n      <td>1</td>\n      <td>0</td>\n      <td>0</td>\n      <td>1</td>\n    </tr>\n    <tr>\n      <th>2</th>\n      <td>1</td>\n      <td>1.493976</td>\n      <td>0.053547</td>\n      <td>0.544099</td>\n      <td>0</td>\n      <td>0</td>\n      <td>0</td>\n      <td>1</td>\n      <td>0</td>\n      <td>0</td>\n      <td>1</td>\n      <td>0</td>\n      <td>0</td>\n      <td>0</td>\n      <td>0</td>\n      <td>0</td>\n      <td>1</td>\n      <td>0</td>\n      <td>1</td>\n    </tr>\n    <tr>\n      <th>3</th>\n      <td>0</td>\n      <td>0.209756</td>\n      <td>0.797248</td>\n      <td>0.688613</td>\n      <td>1</td>\n      <td>0</td>\n      <td>0</td>\n      <td>0</td>\n      <td>0</td>\n      <td>0</td>\n      <td>1</td>\n      <td>0</td>\n      <td>0</td>\n      <td>0</td>\n      <td>0</td>\n      <td>0</td>\n      <td>1</td>\n      <td>0</td>\n      <td>1</td>\n    </tr>\n    <tr>\n      <th>4</th>\n      <td>0</td>\n      <td>-1.145810</td>\n      <td>0.053547</td>\n      <td>-0.395248</td>\n      <td>0</td>\n      <td>0</td>\n      <td>0</td>\n      <td>1</td>\n      <td>0</td>\n      <td>0</td>\n      <td>0</td>\n      <td>1</td>\n      <td>0</td>\n      <td>0</td>\n      <td>0</td>\n      <td>1</td>\n      <td>0</td>\n      <td>0</td>\n      <td>1</td>\n    </tr>\n  </tbody>\n</table>\n</div>"
     },
     "execution_count": 11,
     "metadata": {},
     "output_type": "execute_result"
    }
   ],
   "source": [
    "exam_data.head()"
   ],
   "metadata": {
    "collapsed": false,
    "ExecuteTime": {
     "end_time": "2023-11-30T15:09:45.369473800Z",
     "start_time": "2023-11-30T15:09:45.318032700Z"
    }
   },
   "id": "78758eee982ab226"
  },
  {
   "cell_type": "markdown",
   "source": [
    "Со ова сите податоци се во нумеричка форма и се спремни да се користат за тренирање на соодветен модел за машинско учење"
   ],
   "metadata": {
    "collapsed": false
   },
   "id": "cbe9961d77c08833"
  }
 ],
 "metadata": {
  "kernelspec": {
   "display_name": "Python 3",
   "language": "python",
   "name": "python3"
  },
  "language_info": {
   "codemirror_mode": {
    "name": "ipython",
    "version": 2
   },
   "file_extension": ".py",
   "mimetype": "text/x-python",
   "name": "python",
   "nbconvert_exporter": "python",
   "pygments_lexer": "ipython2",
   "version": "2.7.6"
  }
 },
 "nbformat": 4,
 "nbformat_minor": 5
}
