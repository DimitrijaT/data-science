{
 "nbformat": 4,
 "nbformat_minor": 0,
 "metadata": {
  "colab": {
   "name": "Glava 2 - NumPy - Vezhbi.ipynb",
   "provenance": []
  },
  "kernelspec": {
   "name": "python3",
   "language": "python",
   "display_name": "Python 3 (ipykernel)"
  },
  "language_info": {
   "name": "python"
  }
 },
 "cells": [
  {
   "cell_type": "markdown",
   "metadata": {
    "id": "ViNUHoA_2Ct8"
   },
   "source": [
    "Да се вклучи пакетот numpy."
   ]
  },
  {
   "cell_type": "code",
   "metadata": {
    "id": "Dp1U1xS5lTPl",
    "ExecuteTime": {
     "end_time": "2023-11-26T22:40:50.970172Z",
     "start_time": "2023-11-26T22:40:50.855239700Z"
    }
   },
   "source": [
    "import numpy as np"
   ],
   "execution_count": 1,
   "outputs": []
  },
  {
   "cell_type": "markdown",
   "metadata": {
    "id": "TtU0CmTmCjCt"
   },
   "source": [
    "#Креирање на низи"
   ]
  },
  {
   "cell_type": "markdown",
   "metadata": {
    "id": "PAfb_2pe1-xb"
   },
   "source": [
    "Да се креира еднодимензионално  поле pole_1d користејќи листа од 4 целобројни вредности. Да се креира дводимензионално поле pole_2d користејќи листа од 3 листи со по 4 целобројни вредности. \n",
    "Да се креира тридимензионално поле pole_3d користејќи листа од листа од 4 листи со по 4 текстуални вредности. "
   ]
  },
  {
   "cell_type": "code",
   "metadata": {
    "colab": {
     "base_uri": "https://localhost:8080/"
    },
    "id": "35vWDmE-s4CX",
    "outputId": "873f9475-5c00-4dcb-b6e8-49dfe330d0ff"
   },
   "source": [
    "pole_1d = np.array([1, 2, 3, 4])\n",
    "print(pole_1d)\n",
    "pole_2d = np.array([[2, 3, 4, 5],\n",
    "                    [6, 7, 8, 9],\n",
    "                    [9, 10, 11, 12]])\n",
    "print(pole_2d)\n",
    "pole_3d =np.array([[['a','b','c'],['d','e','f']],\n",
    "                   [['g','h','i'],['j','l','m']]])\n",
    "print(pole_3d)"
   ],
   "execution_count": 46,
   "outputs": [
    {
     "output_type": "stream",
     "name": "stdout",
     "text": [
      "[1 2 3 4]\n",
      "[[ 2  3  4  5]\n",
      " [ 6  7  8  9]\n",
      " [ 9 10 11 12]]\n",
      "[[['a' 'b' 'c']\n",
      "  ['d' 'e' 'f']]\n",
      "\n",
      " [['g' 'h' 'i']\n",
      "  ['j' 'l' 'm']]]\n"
     ]
    }
   ]
  },
  {
   "cell_type": "markdown",
   "metadata": {
    "id": "mCc2Fg1qDaEK"
   },
   "source": [
    "#Својства на листа"
   ]
  },
  {
   "cell_type": "markdown",
   "metadata": {
    "id": "1TDG3s2m2naw"
   },
   "source": [
    "Да се испчатат големината, бојот на димензиите, обликот, бројот на бајти што ги зафаќаат елементите и нивниот тип на податоци за листата pole_2d."
   ]
  },
  {
   "cell_type": "code",
   "metadata": {
    "colab": {
     "base_uri": "https://localhost:8080/"
    },
    "id": "mkm94CUyy4dJ",
    "outputId": "e6047b51-5d8c-4513-9cbf-d23c1da62dea"
   },
   "source": [
    "print(\"Broj na elementi:\",pole_2d.size)\n",
    "print(\"Broj na dimenzii:\",pole_2d.ndim)\n",
    "print(\"Elementi po dimenzija:\",pole_2d.shape)\n",
    "print(\"Golemina vo bajti:\",pole_2d.nbytes)\n",
    "print(\"Tip na podatoci:\",pole_2d.dtype)"
   ],
   "execution_count": 47,
   "outputs": [
    {
     "output_type": "stream",
     "name": "stdout",
     "text": [
      "Broj na elementi: 12\n",
      "Broj na dimenzii: 2\n",
      "Elementi po dimenzija: (3, 4)\n",
      "Golemina vo bajti: 96\n",
      "Tip na podatoci: int64\n"
     ]
    }
   ]
  },
  {
   "cell_type": "markdown",
   "metadata": {
    "id": "NVpopWUnDgaC"
   },
   "source": [
    "#Тип на податоци"
   ]
  },
  {
   "cell_type": "markdown",
   "metadata": {
    "id": "5i60eB-W22bL"
   },
   "source": [
    "Да се креира поле pole_1d од листа со 4 целобројни врености така што истите ќе бидат децимални броеви кои зафаќаат 8 бајти. \n",
    "Да се креира поле pole_2d од листа од две листи со по две дцимални врендости, така што истите ќе бидат текстулани низи од по максимум 5 знаци. "
   ]
  },
  {
   "cell_type": "code",
   "metadata": {
    "colab": {
     "base_uri": "https://localhost:8080/"
    },
    "id": "mwBH-SJI3cMk",
    "outputId": "5078bd18-119e-41d7-8645-2d507f560010"
   },
   "source": [
    "pole_1d = np.array([0, 5, 10, 20], dtype=np.float64)\n",
    "print(pole_1d.dtype)\n",
    "pole_2d = np.array([[234, 0.3], [2, 4.6]], dtype = 'S5')\n",
    "print(pole_2d.dtype)"
   ],
   "execution_count": 48,
   "outputs": [
    {
     "output_type": "stream",
     "name": "stdout",
     "text": [
      "float64\n",
      "|S5\n"
     ]
    }
   ]
  },
  {
   "cell_type": "markdown",
   "metadata": {
    "id": "QfUhE8yF6Cgq"
   },
   "source": [
    "Да се креира поле pole_1d_str од полето pole_1d, така што неговите елементи ќе претставуваат низи од максимум 4 знаци. Да се креира поле pole_2d_float од полето pole_2d, така што неговите елементи ќе бидат децимални броеви кои зафаќаагт 2 бајти. "
   ]
  },
  {
   "cell_type": "code",
   "metadata": {
    "colab": {
     "base_uri": "https://localhost:8080/"
    },
    "id": "pR9J4iVT4gx8",
    "outputId": "713c4a67-0b41-4f1f-94e4-ac036bdf57e9"
   },
   "source": [
    "pole_1d_str = pole_2d.astype('S4')\n",
    "print(pole_1d_str.dtype)\n",
    "pole_2d_float=pole_2d.astype(np.float16)\n",
    "print(pole_2d_float.dtype)\n"
   ],
   "execution_count": 49,
   "outputs": [
    {
     "output_type": "stream",
     "name": "stdout",
     "text": [
      "|S4\n",
      "float16\n"
     ]
    }
   ]
  },
  {
   "cell_type": "code",
   "metadata": {
    "colab": {
     "base_uri": "https://localhost:8080/"
    },
    "id": "3MZFHYDm6VXf",
    "outputId": "c0e84c6b-a95a-4c53-d550-f65ac8f26182"
   },
   "source": [
    "print(pole_1d_str)"
   ],
   "execution_count": 50,
   "outputs": [
    {
     "output_type": "stream",
     "name": "stdout",
     "text": [
      "[[b'234' b'0.3']\n",
      " [b'2' b'4.6']]\n"
     ]
    }
   ]
  },
  {
   "cell_type": "markdown",
   "metadata": {
    "id": "4czrxartEhuO"
   },
   "source": [
    "#Функции за креирање низи"
   ]
  },
  {
   "cell_type": "markdown",
   "metadata": {
    "id": "xdF3g1PI8oIN"
   },
   "source": [
    "Да се креира поле со 3 редици и 4 колони со елементи со вредност 5."
   ]
  },
  {
   "cell_type": "code",
   "metadata": {
    "colab": {
     "base_uri": "https://localhost:8080/"
    },
    "id": "6qEEuXogofqd",
    "outputId": "e8cdb78d-2dc8-440e-e936-823cf7148232"
   },
   "source": [
    "\n",
    "petki = np.full((3,4),5)\n",
    "print(petki)\n"
   ],
   "execution_count": 51,
   "outputs": [
    {
     "output_type": "stream",
     "name": "stdout",
     "text": [
      "[[5 5 5 5]\n",
      " [5 5 5 5]\n",
      " [5 5 5 5]]\n"
     ]
    }
   ]
  },
  {
   "cell_type": "markdown",
   "metadata": {
    "id": "XTZW51Bo8wOF"
   },
   "source": [
    "Да се креира поле со 2 редици и 3 колони со елементи со вредност 0 кои ќе бидат цели броеви што зафаќаат 8 бајти.\n"
   ]
  },
  {
   "cell_type": "code",
   "metadata": {
    "colab": {
     "base_uri": "https://localhost:8080/"
    },
    "id": "n7THjhDHulWG",
    "outputId": "811afb80-b658-4492-d8b6-7eb13d71132e"
   },
   "source": [
    "# 2x3 niza od edinici od tipot int16 \n",
    "nuli = np.zeros((2,3), dtype=np.int16)\n",
    "print(nuli)\n"
   ],
   "execution_count": 52,
   "outputs": [
    {
     "output_type": "stream",
     "name": "stdout",
     "text": [
      "[[0 0 0]\n",
      " [0 0 0]]\n"
     ]
    }
   ]
  },
  {
   "cell_type": "markdown",
   "metadata": {
    "id": "Byjiq-Wf835f"
   },
   "source": [
    "Да се креира поле со 5 редици и 5 колони каде сите елементи ќе имаат вредност 0, освен елементите од главната дијагонала кои ќе имаат вредност 5.\n"
   ]
  },
  {
   "cell_type": "code",
   "metadata": {
    "colab": {
     "base_uri": "https://localhost:8080/"
    },
    "id": "2v8QBczBurhv",
    "outputId": "d3f6063d-1246-42b7-e751-a765f54ecce9"
   },
   "source": [
    "# 2x2 niza od nuli so edinici na glavanta dijagonala\n",
    "identitet = np.identity(5)\n",
    "print(identitet)\n"
   ],
   "execution_count": 53,
   "outputs": [
    {
     "output_type": "stream",
     "name": "stdout",
     "text": [
      "[[1. 0. 0. 0. 0.]\n",
      " [0. 1. 0. 0. 0.]\n",
      " [0. 0. 1. 0. 0.]\n",
      " [0. 0. 0. 1. 0.]\n",
      " [0. 0. 0. 0. 1.]]\n"
     ]
    }
   ]
  },
  {
   "cell_type": "markdown",
   "metadata": {
    "id": "rNG5bIh89DdT"
   },
   "source": [
    "Да се креира еднодимензионално поле со елементи добиени како опсег од 5 до 45, каде секој елемент се резликува за 5.\n"
   ]
  },
  {
   "cell_type": "code",
   "metadata": {
    "colab": {
     "base_uri": "https://localhost:8080/"
    },
    "id": "s8q4FRKkuu6r",
    "outputId": "283ef041-76d6-4e1f-86bf-20821dd1c442"
   },
   "source": [
    "rastechka = np.arange(5,50,5)\n",
    "print(rastechka)"
   ],
   "execution_count": 54,
   "outputs": [
    {
     "output_type": "stream",
     "name": "stdout",
     "text": [
      "[ 5 10 15 20 25 30 35 40 45]\n"
     ]
    }
   ]
  },
  {
   "cell_type": "markdown",
   "metadata": {
    "id": "0c9GoQzW9P_B"
   },
   "source": [
    "Да се креира поле sluchajni со 3 редици и 5 колони со елементи со случајна вредност во опсегот од 0 до 1.\n",
    "\n",
    "Да се креира поле sluchajni со 3 редици и 3 колони со цели елементи со случајна вредност во опсегот од -10 до 10.\n",
    "\n",
    "Да се креира еднодимензионално поле sluchajni_normalna со 10 елементи чии елементи имаат случајна вредност добиена со нормална распределба со среднда вредност 5 и стандарнда девијација 2. \n",
    "\n"
   ]
  },
  {
   "cell_type": "code",
   "metadata": {
    "colab": {
     "base_uri": "https://localhost:8080/"
    },
    "id": "yjMy-Filw1xX",
    "outputId": "7a4cdb8c-9c79-4cca-c50a-23aa810d80d6"
   },
   "source": [
    "\n",
    "sluchajni=np.random.random(size=(3,5))\n",
    "print(sluchajni)\n",
    "sluchajni_celi = np.random.randint(-10, 10, size=(3,3))\n",
    "print(sluchajni_celi)\n",
    "slucjani_normalna = np.random.normal(5,2,10)\n",
    "print(slucjani_normalna)\n"
   ],
   "execution_count": 55,
   "outputs": [
    {
     "output_type": "stream",
     "name": "stdout",
     "text": [
      "[[0.48802129 0.95235706 0.13077905 0.09544864 0.90070798]\n",
      " [0.19626735 0.28841908 0.00991766 0.1429665  0.40926157]\n",
      " [0.19117675 0.43040493 0.31988801 0.4150483  0.89077147]]\n",
      "[[-6 -7  5]\n",
      " [ 0 -2  7]\n",
      " [ 8 -9  6]]\n",
      "[5.82781396 1.60928942 3.94658588 3.89691116 5.15873692 5.06129921\n",
      " 7.63901343 4.35372311 5.96960236 2.49138393]\n"
     ]
    }
   ]
  },
  {
   "cell_type": "markdown",
   "metadata": {
    "id": "Dmd72HYKG8KH"
   },
   "source": [
    "#Пристап до податоци"
   ]
  },
  {
   "cell_type": "markdown",
   "metadata": {
    "id": "SY_R1KexIJpI"
   },
   "source": [
    "Да се креира 2Д поле со димензија 5х4, чии елементи ќе имаат растечки вредности од 0 до 19 користејќи го методот reshape. Потоа да се пристапи до елементот со координати 3,0, сите елементи од последните две редици и секоја втора колона, секој елемент од претпоследната редица."
   ]
  },
  {
   "cell_type": "code",
   "metadata": {
    "colab": {
     "base_uri": "https://localhost:8080/"
    },
    "id": "nJ5GB28NcVum",
    "outputId": "5dd4642d-0221-40df-fe5f-99e0a103d443"
   },
   "source": [
    "pole_2d=np.arange(0,20).reshape(5,4)\n",
    "print(pole_2d)\n",
    "print(pole_2d[3,0])  \n",
    "print(pole_2d[2::,::2]) # site elementi od redica 1 do 2 i kolona 1 do 3\n",
    "print(pole_2d[:,-2]) # site elementi od poslednata kolona "
   ],
   "execution_count": 56,
   "outputs": [
    {
     "output_type": "stream",
     "name": "stdout",
     "text": [
      "[[ 0  1  2  3]\n",
      " [ 4  5  6  7]\n",
      " [ 8  9 10 11]\n",
      " [12 13 14 15]\n",
      " [16 17 18 19]]\n",
      "12\n",
      "[[ 8 10]\n",
      " [12 14]\n",
      " [16 18]]\n",
      "[ 2  6 10 14 18]\n"
     ]
    }
   ]
  },
  {
   "cell_type": "markdown",
   "metadata": {
    "id": "QiA7X1U0nvZv"
   },
   "source": [
    "#Филтрирање"
   ]
  },
  {
   "cell_type": "markdown",
   "metadata": {
    "id": "5Ad1c4HRW4h5"
   },
   "source": [
    "Да се испечати маска за пристап на елементи од полето sluchajni_celi која има вредност True за сите негативни броеви.\n",
    "Да се испечатат сите негативни броеви од sluchajni_celi користејќи ја маската. \n",
    "Да се испеатат сите негативни броеви директно со постаување на услов во делот за иднекси."
   ]
  },
  {
   "cell_type": "code",
   "metadata": {
    "colab": {
     "base_uri": "https://localhost:8080/"
    },
    "id": "czuJQ4uJnzwx",
    "outputId": "6a6809a2-183d-4dd2-af18-8d72d12511ad"
   },
   "source": [
    "print(\"Pole:\",sluchajni_celi)\n",
    "negativni = (sluchajni_celi < 0) \n",
    "print(\"Maska:\",negativni)\n",
    "print(\"Pole[maska]:\",sluchajni_celi[negativni])\n",
    "print(\"Pole[uslov]]:\",sluchajni_celi[sluchajni_celi < 0])"
   ],
   "execution_count": 57,
   "outputs": [
    {
     "output_type": "stream",
     "name": "stdout",
     "text": [
      "Pole: [[-6 -7  5]\n",
      " [ 0 -2  7]\n",
      " [ 8 -9  6]]\n",
      "Maska: [[ True  True False]\n",
      " [False  True False]\n",
      " [False  True False]]\n",
      "Pole[maska]: [-6 -7 -2 -9]\n",
      "Pole[uslov]]: [-6 -7 -2 -9]\n"
     ]
    }
   ]
  },
  {
   "cell_type": "markdown",
   "metadata": {
    "id": "h6J7aLj77uU6"
   },
   "source": [
    "#Низи од индекси"
   ]
  },
  {
   "cell_type": "markdown",
   "metadata": {
    "id": "hJTwlAAnYPKv"
   },
   "source": [
    "Да се пристапи до елементите со индекс 1 и 2 од полето pole_1d. \n",
    "\n",
    "Да се пристапи до колона 3 и 2 од полето pole_2d"
   ]
  },
  {
   "cell_type": "code",
   "metadata": {
    "colab": {
     "base_uri": "https://localhost:8080/"
    },
    "id": "kD6iYSAr763p",
    "outputId": "63b62f7b-0d21-4c12-c359-d6beeecb4177"
   },
   "source": [
    "print(pole_1d[[1, 2]]) \n",
    "print(pole_2d[:,[3, 2]])    \n",
    "\n"
   ],
   "execution_count": 58,
   "outputs": [
    {
     "output_type": "stream",
     "name": "stdout",
     "text": [
      "[ 5. 10.]\n",
      "[[ 3  2]\n",
      " [ 7  6]\n",
      " [11 10]\n",
      " [15 14]\n",
      " [19 18]]\n"
     ]
    }
   ]
  },
  {
   "cell_type": "markdown",
   "metadata": {
    "id": "mnXJ9SLzGaYi"
   },
   "source": [
    "#Комбиниран пристап"
   ]
  },
  {
   "cell_type": "markdown",
   "metadata": {
    "id": "4HQ4KwcvO71z"
   },
   "source": [
    "Да се испечатата редовите од полето pole_2d во обратен редослед, но да се прикажат само колона 1 и 3."
   ]
  },
  {
   "cell_type": "code",
   "metadata": {
    "colab": {
     "base_uri": "https://localhost:8080/"
    },
    "id": "vHmVlhM8mgpO",
    "outputId": "5c869371-8c89-447c-e316-abc38c4965ea"
   },
   "source": [
    "print(pole_2d[::-1, [1, 3]])    # elementi od red 1 i koloni 4 i 2\n"
   ],
   "execution_count": 59,
   "outputs": [
    {
     "output_type": "stream",
     "name": "stdout",
     "text": [
      "[[17 19]\n",
      " [13 15]\n",
      " [ 9 11]\n",
      " [ 5  7]\n",
      " [ 1  3]]\n"
     ]
    }
   ]
  },
  {
   "cell_type": "markdown",
   "metadata": {
    "id": "JKBGtmFiY1BP"
   },
   "source": [
    "Да се испечатат елементите со координати (3, 4) и (0, 1) од полето pole_2d."
   ]
  },
  {
   "cell_type": "code",
   "metadata": {
    "colab": {
     "base_uri": "https://localhost:8080/"
    },
    "id": "ho_BGyah_y2_",
    "outputId": "9b6e9cd3-42ce-4a6f-a891-9ea7f33cd927"
   },
   "source": [
    "print(pole_2d[[3, 2], [0, 1]]) \n"
   ],
   "execution_count": 60,
   "outputs": [
    {
     "output_type": "stream",
     "name": "stdout",
     "text": [
      "[12  9]\n"
     ]
    }
   ]
  },
  {
   "cell_type": "markdown",
   "metadata": {
    "id": "5gO2F180ZwZm"
   },
   "source": [
    "Да се испечатат елементите од редовите 3 и 2 и колоните 0 и 1. "
   ]
  },
  {
   "cell_type": "code",
   "metadata": {
    "colab": {
     "base_uri": "https://localhost:8080/"
    },
    "id": "db3mdqgLGigR",
    "outputId": "6ef814f7-a705-4a4c-a230-14735522d7ef"
   },
   "source": [
    "print(pole_2d[[3, 2]][:,[0, 1]]) "
   ],
   "execution_count": 61,
   "outputs": [
    {
     "output_type": "stream",
     "name": "stdout",
     "text": [
      "[[12 13]\n",
      " [ 8  9]]\n"
     ]
    }
   ]
  },
  {
   "cell_type": "markdown",
   "metadata": {
    "id": "JI6MerZaxjJA"
   },
   "source": [
    "#Промена на вредности"
   ]
  },
  {
   "cell_type": "markdown",
   "metadata": {
    "id": "SiSCUa9aaTkZ"
   },
   "source": [
    "Да се додели вредноста на првата редица на последната редица на полето pole_2d"
   ]
  },
  {
   "cell_type": "code",
   "metadata": {
    "colab": {
     "base_uri": "https://localhost:8080/"
    },
    "id": "HIMgwnbW8YdY",
    "outputId": "885fe260-dfcf-43be-d9f5-0ea9d6f070ab"
   },
   "source": [
    "pole_2d[0,:] = pole_2d[-1,:] \n",
    "print(pole_2d)"
   ],
   "execution_count": 62,
   "outputs": [
    {
     "output_type": "stream",
     "name": "stdout",
     "text": [
      "[[16 17 18 19]\n",
      " [ 4  5  6  7]\n",
      " [ 8  9 10 11]\n",
      " [12 13 14 15]\n",
      " [16 17 18 19]]\n"
     ]
    }
   ]
  },
  {
   "cell_type": "markdown",
   "metadata": {
    "id": "XKr5ISs-aydZ"
   },
   "source": [
    "Да се додели вредност 0 на исте елементи на полето pole_2d поголеми од 10."
   ]
  },
  {
   "cell_type": "code",
   "metadata": {
    "colab": {
     "base_uri": "https://localhost:8080/"
    },
    "id": "jsAAbYsS-rsk",
    "outputId": "48da8143-8102-4ba5-e9ec-f4b1a50b01c2"
   },
   "source": [
    "pole_2d[pole_2d>10]=0\n",
    "print(pole_2d)"
   ],
   "execution_count": 63,
   "outputs": [
    {
     "output_type": "stream",
     "name": "stdout",
     "text": [
      "[[ 0  0  0  0]\n",
      " [ 4  5  6  7]\n",
      " [ 8  9 10  0]\n",
      " [ 0  0  0  0]\n",
      " [ 0  0  0  0]]\n"
     ]
    }
   ]
  },
  {
   "cell_type": "markdown",
   "metadata": {
    "id": "DkO79tuhCSZy"
   },
   "source": [
    "#Погледи и копии"
   ]
  },
  {
   "cell_type": "markdown",
   "metadata": {
    "id": "v-p8uLTmbTY6"
   },
   "source": [
    "Да се креира копија на редовите 1 и 2 полето pole_2d кои ќе можат независно да се менуваат. Елементите од копијата да се помножат со 2 и потоа да се прикаже содржината на двете полиња."
   ]
  },
  {
   "cell_type": "code",
   "metadata": {
    "colab": {
     "base_uri": "https://localhost:8080/"
    },
    "id": "D0h4FRm3JbF8",
    "outputId": "2fdb86a5-6702-4b0c-bce7-e05f08d46bf5"
   },
   "source": [
    "opseg=pole_2d[[1,2],:].copy() \n",
    "opseg=opseg * 2\n",
    "print(\"Opseg:\\n\",opseg)\n",
    "print(\"Originalna niza:\\n\",pole_2d)"
   ],
   "execution_count": 64,
   "outputs": [
    {
     "output_type": "stream",
     "name": "stdout",
     "text": [
      "Opseg:\n",
      " [[ 8 10 12 14]\n",
      " [16 18 20  0]]\n",
      "Originalna niza:\n",
      " [[ 0  0  0  0]\n",
      " [ 4  5  6  7]\n",
      " [ 8  9 10  0]\n",
      " [ 0  0  0  0]\n",
      " [ 0  0  0  0]]\n"
     ]
    }
   ]
  },
  {
   "cell_type": "markdown",
   "metadata": {
    "id": "AgllM8bqDSoh"
   },
   "source": [
    "#Промена на димензии"
   ]
  },
  {
   "cell_type": "markdown",
   "metadata": {
    "id": "GpXKylxyb8us"
   },
   "source": [
    "Да се креира поле со 5 колони и соодветен број на редици тргнувајќи од низа од 95 елементи."
   ]
  },
  {
   "cell_type": "code",
   "metadata": {
    "colab": {
     "base_uri": "https://localhost:8080/"
    },
    "id": "WffNs4IjDZf4",
    "outputId": "7f9cd2cd-135f-4780-e6a1-c1d69c3aae24"
   },
   "source": [
    "pole_nepoznata_dim=np.arange(95).reshape(-1,5)\n",
    "print(\"Pole:\\n\", pole_nepoznata_dim)\n",
    "print(\"Elementi po dimenzija:\\n\", pole_nepoznata_dim.shape)\n",
    "\n"
   ],
   "execution_count": 65,
   "outputs": [
    {
     "output_type": "stream",
     "name": "stdout",
     "text": [
      "Pole:\n",
      " [[ 0  1  2  3  4]\n",
      " [ 5  6  7  8  9]\n",
      " [10 11 12 13 14]\n",
      " [15 16 17 18 19]\n",
      " [20 21 22 23 24]\n",
      " [25 26 27 28 29]\n",
      " [30 31 32 33 34]\n",
      " [35 36 37 38 39]\n",
      " [40 41 42 43 44]\n",
      " [45 46 47 48 49]\n",
      " [50 51 52 53 54]\n",
      " [55 56 57 58 59]\n",
      " [60 61 62 63 64]\n",
      " [65 66 67 68 69]\n",
      " [70 71 72 73 74]\n",
      " [75 76 77 78 79]\n",
      " [80 81 82 83 84]\n",
      " [85 86 87 88 89]\n",
      " [90 91 92 93 94]]\n",
      "Elementi po dimenzija:\n",
      " (19, 5)\n"
     ]
    }
   ]
  },
  {
   "cell_type": "markdown",
   "metadata": {
    "id": "M3b89KGZcTEV"
   },
   "source": [
    "Полето pole_2d  да се претвори во еднодимензионално."
   ]
  },
  {
   "cell_type": "code",
   "metadata": {
    "colab": {
     "base_uri": "https://localhost:8080/"
    },
    "id": "yM9F5YJ9FKKd",
    "outputId": "5eb722a3-ea60-4f7d-d682-4b9b7cc64451"
   },
   "source": [
    "print(pole_2d.flatten())"
   ],
   "execution_count": 66,
   "outputs": [
    {
     "output_type": "stream",
     "name": "stdout",
     "text": [
      "[ 0  0  0  0  4  5  6  7  8  9 10  0  0  0  0  0  0  0  0  0]\n"
     ]
    }
   ]
  },
  {
   "cell_type": "markdown",
   "metadata": {
    "id": "_92RLh1ANJQa"
   },
   "source": [
    "#Спојување и разделување"
   ]
  },
  {
   "cell_type": "markdown",
   "metadata": {
    "id": "bVYws_ybdKjn"
   },
   "source": [
    "Да се креираат две 3х3 полиња и да се спојат вертикално и хоризнотално со додавање на нова димензија."
   ]
  },
  {
   "cell_type": "code",
   "metadata": {
    "colab": {
     "base_uri": "https://localhost:8080/"
    },
    "id": "eJJB00hwNVWO",
    "outputId": "eb33660b-6f3b-4d84-ce86-1978a7094c08"
   },
   "source": [
    "pole1 = np.random.randint(0,10, (3,3))\n",
    "pole2 = np.random.randint(0,10, (3,3))\n",
    "print(pole1)\n",
    "print(pole2)\n",
    "print(\"Spojuvanje so po oska 0 so nova dimenzija:\\n\",np.stack((pole1, pole2), axis=0))\n",
    "print(\"Dimenzii:\\n\",np.stack((pole1, pole2), axis=0).shape)\n",
    "print(\"Spojuvanje po oska 1 so nova dimenzija:\\n\",np.stack((pole1, pole2), axis=1))\n",
    "print(\"Dimenzii:\\n\",np.stack((pole1, pole2), axis=1).shape)"
   ],
   "execution_count": 67,
   "outputs": [
    {
     "output_type": "stream",
     "name": "stdout",
     "text": [
      "[[8 8 6]\n",
      " [6 0 5]\n",
      " [0 3 2]]\n",
      "[[4 1 2]\n",
      " [0 6 1]\n",
      " [6 2 5]]\n",
      "Spojuvanje so po oska 0 so nova dimenzija:\n",
      " [[[8 8 6]\n",
      "  [6 0 5]\n",
      "  [0 3 2]]\n",
      "\n",
      " [[4 1 2]\n",
      "  [0 6 1]\n",
      "  [6 2 5]]]\n",
      "Dimenzii:\n",
      " (2, 3, 3)\n",
      "Spojuvanje po oska 1 so nova dimenzija:\n",
      " [[[8 8 6]\n",
      "  [4 1 2]]\n",
      "\n",
      " [[6 0 5]\n",
      "  [0 6 1]]\n",
      "\n",
      " [[0 3 2]\n",
      "  [6 2 5]]]\n",
      "Dimenzii:\n",
      " (3, 2, 3)\n"
     ]
    }
   ]
  },
  {
   "cell_type": "markdown",
   "metadata": {
    "id": "1uJiMproewd8"
   },
   "source": [
    "Да се креираат две 3х3 полиња и да се спојат вертикално и хоризнотално без додавање на нова димензија."
   ]
  },
  {
   "cell_type": "code",
   "metadata": {
    "colab": {
     "base_uri": "https://localhost:8080/"
    },
    "id": "Cz6g1KP0PMD-",
    "outputId": "d58e9514-5a7d-4b7e-ca95-d0185ea36b13"
   },
   "source": [
    "print(pole1)\n",
    "print(pole2)\n",
    "print(\"Spojuvanje so po oska 0 bez nova dimenzija:\\n\",np.vstack((pole1, pole2)))\n",
    "print(\"Dimenzii:\\n\",np.vstack((pole1, pole2)).shape)\n",
    "print(\"Spojuvanje po oska 1 bez nova dimenzija:\\n\",np.hstack((pole1, pole2)))\n",
    "print(\"Dimenzii:\\n\",np.hstack((pole1, pole2)).shape)"
   ],
   "execution_count": 68,
   "outputs": [
    {
     "output_type": "stream",
     "name": "stdout",
     "text": [
      "[[8 8 6]\n",
      " [6 0 5]\n",
      " [0 3 2]]\n",
      "[[4 1 2]\n",
      " [0 6 1]\n",
      " [6 2 5]]\n",
      "Spojuvanje so po oska 0 bez nova dimenzija:\n",
      " [[8 8 6]\n",
      " [6 0 5]\n",
      " [0 3 2]\n",
      " [4 1 2]\n",
      " [0 6 1]\n",
      " [6 2 5]]\n",
      "Dimenzii:\n",
      " (6, 3)\n",
      "Spojuvanje po oska 1 bez nova dimenzija:\n",
      " [[8 8 6 4 1 2]\n",
      " [6 0 5 0 6 1]\n",
      " [0 3 2 6 2 5]]\n",
      "Dimenzii:\n",
      " (3, 6)\n"
     ]
    }
   ]
  },
  {
   "cell_type": "markdown",
   "metadata": {
    "id": "dyHHDAY1fdp8"
   },
   "source": [
    "Да се спојат pole1 и pole2 хоризонтално, а потоа од полето да се добијат 3 полиња со ист број на елементи."
   ]
  },
  {
   "cell_type": "code",
   "metadata": {
    "colab": {
     "base_uri": "https://localhost:8080/"
    },
    "id": "t-YNP0A7yeQ2",
    "outputId": "4031c3d7-0730-47f6-e272-c84458c3c4bf"
   },
   "source": [
    "print(pole1)\n",
    "print(pole2)\n",
    "spoeno_pole = np.hstack((pole1, pole2))\n",
    "print(\"Horizontalno spoeno pole:\\n\",spoeno_pole)\n",
    "razdeleno_pole=np.split(spoeno_pole,3, axis=1) # razdeli po koloni\n",
    "print(\"Prvo pole:\\n\",razdeleno_pole[0])\n",
    "print(\"Vtoro pole:\\n\",razdeleno_pole[1])\n",
    "print(\"Treto pole:\\n\",razdeleno_pole[2])"
   ],
   "execution_count": 69,
   "outputs": [
    {
     "output_type": "stream",
     "name": "stdout",
     "text": [
      "[[8 8 6]\n",
      " [6 0 5]\n",
      " [0 3 2]]\n",
      "[[4 1 2]\n",
      " [0 6 1]\n",
      " [6 2 5]]\n",
      "Horizontalno spoeno pole:\n",
      " [[8 8 6 4 1 2]\n",
      " [6 0 5 0 6 1]\n",
      " [0 3 2 6 2 5]]\n",
      "Prvo pole:\n",
      " [[8 8]\n",
      " [6 0]\n",
      " [0 3]]\n",
      "Vtoro pole:\n",
      " [[6 4]\n",
      " [5 0]\n",
      " [2 6]]\n",
      "Treto pole:\n",
      " [[1 2]\n",
      " [6 1]\n",
      " [2 5]]\n"
     ]
    }
   ]
  },
  {
   "cell_type": "markdown",
   "metadata": {
    "id": "HLAU1PB8gPoU"
   },
   "source": [
    "Полето spoeno_pole да се раздели на три полиња каде колоните на разделба ќе бидат 1 и 4."
   ]
  },
  {
   "cell_type": "code",
   "metadata": {
    "colab": {
     "base_uri": "https://localhost:8080/"
    },
    "id": "g3JVV4th26k2",
    "outputId": "f61c7a16-0675-499e-f70d-604652f0f31c"
   },
   "source": [
    "razdeleno_pole=np.split(spoeno_pole,[1, 4], axis=1) # razdeli po koloni\n",
    "print(\"Prvo pole:\\n\",razdeleno_pole[0])\n",
    "print(\"Vtoro pole:\\n\",razdeleno_pole[1])\n",
    "print(\"Treto pole:\\n\",razdeleno_pole[2])"
   ],
   "execution_count": 70,
   "outputs": [
    {
     "output_type": "stream",
     "name": "stdout",
     "text": [
      "Prvo pole:\n",
      " [[8]\n",
      " [6]\n",
      " [0]]\n",
      "Vtoro pole:\n",
      " [[8 6 4]\n",
      " [0 5 0]\n",
      " [3 2 6]]\n",
      "Treto pole:\n",
      " [[1 2]\n",
      " [6 1]\n",
      " [2 5]]\n"
     ]
    }
   ]
  },
  {
   "cell_type": "markdown",
   "metadata": {
    "id": "Iuy_iB0ac8jG"
   },
   "source": [
    "#Подредување"
   ]
  },
  {
   "cell_type": "markdown",
   "metadata": {
    "id": "3bV5-tKUg0P0"
   },
   "source": [
    "Да се креира поле со случајни целни броеви со димензија 6х3, и потоа да се подреди по двете оски. Да се подредат сите елементи во 1Д низа."
   ]
  },
  {
   "cell_type": "code",
   "metadata": {
    "colab": {
     "base_uri": "https://localhost:8080/"
    },
    "id": "XYk9Bpg9HQyT",
    "outputId": "1387c31c-3007-41b5-f200-81b2106783f5"
   },
   "source": [
    "pole=np.random.randint(10,size=(6,3))\n",
    "print(\"Originalna niza:\\n\",pole)\n",
    "print(\"Podreduvanje po dimenzija 1:\\n\",np.sort(pole))\n",
    "print(\"Podreduvanje po dimenzija 0:\\n\",np.sort(pole, axis=0))\n",
    "print(\"Podreduvanje na izramneta niza:\\n\",np.sort(pole, axis=None))"
   ],
   "execution_count": 71,
   "outputs": [
    {
     "output_type": "stream",
     "name": "stdout",
     "text": [
      "Originalna niza:\n",
      " [[9 7 9]\n",
      " [0 0 6]\n",
      " [8 9 1]\n",
      " [7 3 0]\n",
      " [1 5 8]\n",
      " [1 8 8]]\n",
      "Podreduvanje po dimenzija 1:\n",
      " [[7 9 9]\n",
      " [0 0 6]\n",
      " [1 8 9]\n",
      " [0 3 7]\n",
      " [1 5 8]\n",
      " [1 8 8]]\n",
      "Podreduvanje po dimenzija 0:\n",
      " [[0 0 0]\n",
      " [1 3 1]\n",
      " [1 5 6]\n",
      " [7 7 8]\n",
      " [8 8 8]\n",
      " [9 9 9]]\n",
      "Podreduvanje na izramneta niza:\n",
      " [0 0 0 1 1 1 3 5 6 7 7 8 8 8 8 9 9 9]\n"
     ]
    }
   ]
  },
  {
   "cell_type": "markdown",
   "metadata": {
    "id": "rddndBd3fMwC"
   },
   "source": [
    "#Аритметика"
   ]
  },
  {
   "cell_type": "markdown",
   "metadata": {
    "id": "BOwU9mRGhNT2"
   },
   "source": [
    "Да се пресмета изразот (1 + A)/B ако А има димензија 4х3, а B има димензија 1x3. "
   ]
  },
  {
   "cell_type": "code",
   "metadata": {
    "colab": {
     "base_uri": "https://localhost:8080/"
    },
    "id": "yOog0qAxfRZL",
    "outputId": "3750c170-6b3e-4e1e-f0b8-eda93c763f1f"
   },
   "source": [
    "A = np.arange(12).reshape(4,3)\n",
    "B = np.arange(1,4).reshape(1,3)\n",
    "print(\"A = \\n\", A)\n",
    "print(\"B = \\n\", B)\n",
    "print(\"(1 + A)/B =\\n\", (1 + A)/B)\n",
    "\n",
    "\n"
   ],
   "execution_count": 72,
   "outputs": [
    {
     "output_type": "stream",
     "name": "stdout",
     "text": [
      "A = \n",
      " [[ 0  1  2]\n",
      " [ 3  4  5]\n",
      " [ 6  7  8]\n",
      " [ 9 10 11]]\n",
      "B = \n",
      " [[1 2 3]]\n",
      "(1 + A)/B =\n",
      " [[ 1.   1.   1. ]\n",
      " [ 4.   2.5  2. ]\n",
      " [ 7.   4.   3. ]\n",
      " [10.   5.5  4. ]]\n"
     ]
    }
   ]
  },
  {
   "cell_type": "markdown",
   "metadata": {
    "id": "bcmTCXNoZPti"
   },
   "source": [
    "#Емитување "
   ]
  },
  {
   "cell_type": "code",
   "metadata": {
    "colab": {
     "base_uri": "https://localhost:8080/"
    },
    "id": "2bQIs-lzj5DE",
    "outputId": "f1192961-eb63-47ba-fb23-80a5ea3fbddf"
   },
   "source": [
    "print(np.zeros((1,3)))"
   ],
   "execution_count": 73,
   "outputs": [
    {
     "output_type": "stream",
     "name": "stdout",
     "text": [
      "[[0. 0. 0.]]\n"
     ]
    }
   ]
  },
  {
   "cell_type": "markdown",
   "metadata": {
    "id": "DkKAxf67iK2j"
   },
   "source": [
    "Да се напише програма која ќе ги чита димензиите на две полиња и ќе испечати дали е можно емитување кај полиња со тие димензии.\n",
    "1х3 и 3x3."
   ]
  },
  {
   "cell_type": "code",
   "metadata": {
    "colab": {
     "base_uri": "https://localhost:8080/"
    },
    "id": "xmzQJdwLGLdQ",
    "outputId": "80de8e9f-fbab-49c6-c737-e8fe470233db"
   },
   "source": [
    "ax = input(\"Vnesete ja prvata dimenzija na A\\n\")\n",
    "ay = input(\"Vnesete ja vtorata dimenzija na A\\n\")\n",
    "bx = input(\"Vnesete ja prvata dimenzija na B\\n\")\n",
    "by = input(\"Vnesete ja vtorata dimenzija na B\\n\")\n",
    "A=np.zeros((int(ax),int(ay)))\n",
    "B=np.zeros((int(bx),int(by)))\n",
    "try:\n",
    "  C=A+B\n",
    "  print(\"dimenziite {} i {} SE kompatibilni za emituvanjue. Rezultatot kje ima obilik {}\".format(A.shape, B.shape, C.shape))\n",
    "except:\n",
    "  print(\"dimenziite {} i {} NE se kompatibilni za emituvanjue\".format(A.shape, B.shape))"
   ],
   "execution_count": 74,
   "outputs": [
    {
     "output_type": "stream",
     "name": "stdout",
     "text": [
      "Vnesete ja prvata dimenzija na A\n",
      "1\n",
      "Vnesete ja vtorata dimenzija na A\n",
      "5\n",
      "Vnesete ja prvata dimenzija na B\n",
      "3\n",
      "Vnesete ja vtorata dimenzija na B\n",
      "4\n",
      "dimenziite (1, 5) i (3, 4) NE se kompatibilni za emituvanjue\n"
     ]
    }
   ]
  },
  {
   "cell_type": "markdown",
   "metadata": {
    "id": "alIvOjzXhJdj"
   },
   "source": [
    "#Математички функции"
   ]
  },
  {
   "cell_type": "markdown",
   "metadata": {
    "id": "bndyrZMTlWtt"
   },
   "source": []
  },
  {
   "cell_type": "markdown",
   "metadata": {
    "id": "bN8lvgDWlfAB"
   },
   "source": [
    "Да се креира низа 3х6 со нормална распределба и средна вредност 0 (произволна стандарнда девијација). Потоа да се најдат знаците на елементите"
   ]
  },
  {
   "cell_type": "code",
   "metadata": {
    "colab": {
     "base_uri": "https://localhost:8080/"
    },
    "id": "FognZ5UGhLa6",
    "outputId": "5a960542-6ed1-482b-c97c-292dc5df426b"
   },
   "source": [
    "a=np.random.normal(0,100, size=(3,6))\n",
    "print(\"Niza:\\n\",a)\n",
    "znaci = np.sign(a)\n",
    "print(\"Znaci:\\n\",znaci)\n"
   ],
   "execution_count": 75,
   "outputs": [
    {
     "output_type": "stream",
     "name": "stdout",
     "text": [
      "Niza:\n",
      " [[  33.6381019    28.17006779   65.50080492  -42.9763943   -14.60046769\n",
      "    43.85887889]\n",
      " [ 133.74490334  -33.53885728   24.60422834   -9.03319501  -68.59999818\n",
      "   -13.70803026]\n",
      " [-307.80795488   -3.83985923  216.59520901 -166.72183071  -17.62204601\n",
      "   -50.40965778]]\n",
      "Znaci:\n",
      " [[ 1.  1.  1. -1. -1.  1.]\n",
      " [ 1. -1.  1. -1. -1. -1.]\n",
      " [-1. -1.  1. -1. -1. -1.]]\n"
     ]
    }
   ]
  },
  {
   "cell_type": "markdown",
   "metadata": {
    "id": "hUJxu2XVmNfn"
   },
   "source": [
    "Од претходната 2д низа да се најдат најголемиот цел број помал и најмалиот број поголем од вредноста на секој елемент.\n"
   ]
  },
  {
   "cell_type": "code",
   "metadata": {
    "colab": {
     "base_uri": "https://localhost:8080/"
    },
    "id": "nUz9txqEmdmZ",
    "outputId": "47bc855e-6015-44dc-f11a-bdbbc45a7690"
   },
   "source": [
    "print(\"Najgolem pomal:\\n\",np.floor(a))\n",
    "print(\"Najmal pogolem:\\n\",np.ceil(a))"
   ],
   "execution_count": 76,
   "outputs": [
    {
     "output_type": "stream",
     "name": "stdout",
     "text": [
      "Najgolem pomal:\n",
      " [[  33.   28.   65.  -43.  -15.   43.]\n",
      " [ 133.  -34.   24.  -10.  -69.  -14.]\n",
      " [-308.   -4.  216. -167.  -18.  -51.]]\n",
      "Najmal pogolem:\n",
      " [[  34.   29.   66.  -42.  -14.   44.]\n",
      " [ 134.  -33.   25.   -9.  -68.  -13.]\n",
      " [-307.   -3.  217. -166.  -17.  -50.]]\n"
     ]
    }
   ]
  },
  {
   "cell_type": "markdown",
   "metadata": {
    "id": "8FK3hqLQnYzF"
   },
   "source": [
    "Да се испечати сумата на елементи на полетоа а по двете димензии и сумата на сите елементи."
   ]
  },
  {
   "cell_type": "code",
   "metadata": {
    "colab": {
     "base_uri": "https://localhost:8080/"
    },
    "id": "E-TquzynxgA1",
    "outputId": "d389cac4-fb78-40e3-9ecf-f39a04599e51"
   },
   "source": [
    "print(\":\\n\",a)\n",
    "print(\"Suma po oska 0:\\n\",np.sum(a,axis=0))\n",
    "print(\"Suma po oska 1:\\n\",np.sum(a,axis=1))\n",
    "print(\"Suma na site elementi:\\n\",np.sum(a))"
   ],
   "execution_count": 77,
   "outputs": [
    {
     "output_type": "stream",
     "name": "stdout",
     "text": [
      ":\n",
      " [[  33.6381019    28.17006779   65.50080492  -42.9763943   -14.60046769\n",
      "    43.85887889]\n",
      " [ 133.74490334  -33.53885728   24.60422834   -9.03319501  -68.59999818\n",
      "   -13.70803026]\n",
      " [-307.80795488   -3.83985923  216.59520901 -166.72183071  -17.62204601\n",
      "   -50.40965778]]\n",
      "Suma po oska 0:\n",
      " [-140.42494965   -9.20864872  306.70024227 -218.73142003 -100.82251187\n",
      "  -20.25880915]\n",
      "Suma po oska 1:\n",
      " [ 113.5909915    33.46905095 -329.8061396 ]\n",
      "Suma na site elementi:\n",
      " -182.74609714600922\n"
     ]
    }
   ]
  }
 ]
}
