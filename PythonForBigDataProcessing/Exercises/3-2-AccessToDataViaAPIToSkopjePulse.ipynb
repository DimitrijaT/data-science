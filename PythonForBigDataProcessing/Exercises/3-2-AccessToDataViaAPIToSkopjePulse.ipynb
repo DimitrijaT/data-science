{
 "cells": [
  {
   "cell_type": "markdown",
   "metadata": {},
   "source": [
    "# Работа со табеларни податоци со библиотеката Пандас\n",
    "\n",
    "Се работи со табела превземена од Интернет каде што се сместени разни податоци за книги. Ќе ја вчитаме табелата од датотека, која што е претходно снимена на работниот компјутер, на исто место каде што е и оваа програма. "
   ]
  },
  {
   "cell_type": "code",
   "execution_count": 1,
   "metadata": {
    "ExecuteTime": {
     "end_time": "2023-11-28T20:05:04.582351300Z",
     "start_time": "2023-11-28T20:05:01.751817300Z"
    }
   },
   "outputs": [
    {
     "data": {
      "text/plain": "   Identifier             Edition Statement      Place of Publication  \\\n0         206                           NaN                    London   \n1         216                           NaN  London; Virtue & Yorston   \n2         218                           NaN                    London   \n3         472                           NaN                    London   \n4         480  A new edition, revised, etc.                    London   \n\n  Date of Publication              Publisher  \\\n0         1879 [1878]       S. Tinsley & Co.   \n1                1868           Virtue & Co.   \n2                1869  Bradbury, Evans & Co.   \n3                1851          James Darling   \n4                1857   Wertheim & Macintosh   \n\n                                               Title     Author  \\\n0                  Walter Forbes. [A novel.] By A. A      A. A.   \n1  All for Greed. [A novel. The dedication signed...  A., A. A.   \n2  Love the Avenger. By the author of “All for Gr...  A., A. A.   \n3  Welsh Sketches, chiefly ecclesiastical, to the...  A., E. S.   \n4  [The World in which I live, and my place in it...  A., E. S.   \n\n                                   Contributors  Corporate Author  \\\n0                               FORBES, Walter.               NaN   \n1  BLAZE DE BURY, Marie Pauline Rose - Baroness               NaN   \n2  BLAZE DE BURY, Marie Pauline Rose - Baroness               NaN   \n3                   Appleyard, Ernest Silvanus.               NaN   \n4                           BROOME, John Henry.               NaN   \n\n   Corporate Contributors Former owner  Engraver Issuance type  \\\n0                     NaN          NaN       NaN   monographic   \n1                     NaN          NaN       NaN   monographic   \n2                     NaN          NaN       NaN   monographic   \n3                     NaN          NaN       NaN   monographic   \n4                     NaN          NaN       NaN   monographic   \n\n                                          Flickr URL  \\\n0  http://www.flickr.com/photos/britishlibrary/ta...   \n1  http://www.flickr.com/photos/britishlibrary/ta...   \n2  http://www.flickr.com/photos/britishlibrary/ta...   \n3  http://www.flickr.com/photos/britishlibrary/ta...   \n4  http://www.flickr.com/photos/britishlibrary/ta...   \n\n                            Shelfmarks  \n0    British Library HMNTS 12641.b.30.  \n1    British Library HMNTS 12626.cc.2.  \n2    British Library HMNTS 12625.dd.1.  \n3  British Library HMNTS 10369.bbb.15.  \n4     British Library HMNTS 9007.d.28.  ",
      "text/html": "<div>\n<style scoped>\n    .dataframe tbody tr th:only-of-type {\n        vertical-align: middle;\n    }\n\n    .dataframe tbody tr th {\n        vertical-align: top;\n    }\n\n    .dataframe thead th {\n        text-align: right;\n    }\n</style>\n<table border=\"1\" class=\"dataframe\">\n  <thead>\n    <tr style=\"text-align: right;\">\n      <th></th>\n      <th>Identifier</th>\n      <th>Edition Statement</th>\n      <th>Place of Publication</th>\n      <th>Date of Publication</th>\n      <th>Publisher</th>\n      <th>Title</th>\n      <th>Author</th>\n      <th>Contributors</th>\n      <th>Corporate Author</th>\n      <th>Corporate Contributors</th>\n      <th>Former owner</th>\n      <th>Engraver</th>\n      <th>Issuance type</th>\n      <th>Flickr URL</th>\n      <th>Shelfmarks</th>\n    </tr>\n  </thead>\n  <tbody>\n    <tr>\n      <th>0</th>\n      <td>206</td>\n      <td>NaN</td>\n      <td>London</td>\n      <td>1879 [1878]</td>\n      <td>S. Tinsley &amp; Co.</td>\n      <td>Walter Forbes. [A novel.] By A. A</td>\n      <td>A. A.</td>\n      <td>FORBES, Walter.</td>\n      <td>NaN</td>\n      <td>NaN</td>\n      <td>NaN</td>\n      <td>NaN</td>\n      <td>monographic</td>\n      <td>http://www.flickr.com/photos/britishlibrary/ta...</td>\n      <td>British Library HMNTS 12641.b.30.</td>\n    </tr>\n    <tr>\n      <th>1</th>\n      <td>216</td>\n      <td>NaN</td>\n      <td>London; Virtue &amp; Yorston</td>\n      <td>1868</td>\n      <td>Virtue &amp; Co.</td>\n      <td>All for Greed. [A novel. The dedication signed...</td>\n      <td>A., A. A.</td>\n      <td>BLAZE DE BURY, Marie Pauline Rose - Baroness</td>\n      <td>NaN</td>\n      <td>NaN</td>\n      <td>NaN</td>\n      <td>NaN</td>\n      <td>monographic</td>\n      <td>http://www.flickr.com/photos/britishlibrary/ta...</td>\n      <td>British Library HMNTS 12626.cc.2.</td>\n    </tr>\n    <tr>\n      <th>2</th>\n      <td>218</td>\n      <td>NaN</td>\n      <td>London</td>\n      <td>1869</td>\n      <td>Bradbury, Evans &amp; Co.</td>\n      <td>Love the Avenger. By the author of “All for Gr...</td>\n      <td>A., A. A.</td>\n      <td>BLAZE DE BURY, Marie Pauline Rose - Baroness</td>\n      <td>NaN</td>\n      <td>NaN</td>\n      <td>NaN</td>\n      <td>NaN</td>\n      <td>monographic</td>\n      <td>http://www.flickr.com/photos/britishlibrary/ta...</td>\n      <td>British Library HMNTS 12625.dd.1.</td>\n    </tr>\n    <tr>\n      <th>3</th>\n      <td>472</td>\n      <td>NaN</td>\n      <td>London</td>\n      <td>1851</td>\n      <td>James Darling</td>\n      <td>Welsh Sketches, chiefly ecclesiastical, to the...</td>\n      <td>A., E. S.</td>\n      <td>Appleyard, Ernest Silvanus.</td>\n      <td>NaN</td>\n      <td>NaN</td>\n      <td>NaN</td>\n      <td>NaN</td>\n      <td>monographic</td>\n      <td>http://www.flickr.com/photos/britishlibrary/ta...</td>\n      <td>British Library HMNTS 10369.bbb.15.</td>\n    </tr>\n    <tr>\n      <th>4</th>\n      <td>480</td>\n      <td>A new edition, revised, etc.</td>\n      <td>London</td>\n      <td>1857</td>\n      <td>Wertheim &amp; Macintosh</td>\n      <td>[The World in which I live, and my place in it...</td>\n      <td>A., E. S.</td>\n      <td>BROOME, John Henry.</td>\n      <td>NaN</td>\n      <td>NaN</td>\n      <td>NaN</td>\n      <td>NaN</td>\n      <td>monographic</td>\n      <td>http://www.flickr.com/photos/britishlibrary/ta...</td>\n      <td>British Library HMNTS 9007.d.28.</td>\n    </tr>\n  </tbody>\n</table>\n</div>"
     },
     "execution_count": 1,
     "metadata": {},
     "output_type": "execute_result"
    }
   ],
   "source": [
    "import pandas as pd\n",
    "\n",
    "SitePodatoci = pd.read_csv('BL-Flickr-Images-Book.csv')\n",
    "SitePodatoci.head() # Ги испишува првите 5 реда од табелата"
   ]
  },
  {
   "cell_type": "code",
   "execution_count": 2,
   "metadata": {
    "ExecuteTime": {
     "end_time": "2023-11-28T20:05:04.722161200Z",
     "start_time": "2023-11-28T20:05:04.586110900Z"
    }
   },
   "outputs": [
    {
     "name": "stdout",
     "output_type": "stream",
     "text": [
      "<class 'pandas.core.frame.DataFrame'>\n",
      "RangeIndex: 8287 entries, 0 to 8286\n",
      "Data columns (total 15 columns):\n",
      " #   Column                  Non-Null Count  Dtype  \n",
      "---  ------                  --------------  -----  \n",
      " 0   Identifier              8287 non-null   int64  \n",
      " 1   Edition Statement       773 non-null    object \n",
      " 2   Place of Publication    8287 non-null   object \n",
      " 3   Date of Publication     8106 non-null   object \n",
      " 4   Publisher               4092 non-null   object \n",
      " 5   Title                   8287 non-null   object \n",
      " 6   Author                  6509 non-null   object \n",
      " 7   Contributors            8287 non-null   object \n",
      " 8   Corporate Author        0 non-null      float64\n",
      " 9   Corporate Contributors  0 non-null      float64\n",
      " 10  Former owner            1 non-null      object \n",
      " 11  Engraver                0 non-null      float64\n",
      " 12  Issuance type           8287 non-null   object \n",
      " 13  Flickr URL              8287 non-null   object \n",
      " 14  Shelfmarks              8287 non-null   object \n",
      "dtypes: float64(3), int64(1), object(11)\n",
      "memory usage: 971.3+ KB\n"
     ]
    }
   ],
   "source": [
    "SitePodatoci.info()  # Дава преглед на тоа кои се насловите на колоните и по колку податоци недостасуваат"
   ]
  },
  {
   "cell_type": "code",
   "execution_count": 3,
   "metadata": {
    "ExecuteTime": {
     "end_time": "2023-11-28T20:05:04.723158900Z",
     "start_time": "2023-11-28T20:05:04.632634Z"
    }
   },
   "outputs": [
    {
     "data": {
      "text/plain": "                                               Title         Author\n0                  Walter Forbes. [A novel.] By A. A          A. A.\n1  All for Greed. [A novel. The dedication signed...      A., A. A.\n2  Love the Avenger. By the author of “All for Gr...      A., A. A.\n3  Welsh Sketches, chiefly ecclesiastical, to the...      A., E. S.\n4  [The World in which I live, and my place in it...      A., E. S.\n5  [The World in which I live, and my place in it...      A., E. S.\n6  Lagonells. By the author of Darmayne (F. E. A....      A., F. E.\n7  The Coming of Spring, and other poems. By J. A...  A., J.|A., J.\n8  A Warning to the inhabitants of England, and L...         Remaʿ.\n9  A Satyr against Vertue. (A poem: supposed to b...         A., T.",
      "text/html": "<div>\n<style scoped>\n    .dataframe tbody tr th:only-of-type {\n        vertical-align: middle;\n    }\n\n    .dataframe tbody tr th {\n        vertical-align: top;\n    }\n\n    .dataframe thead th {\n        text-align: right;\n    }\n</style>\n<table border=\"1\" class=\"dataframe\">\n  <thead>\n    <tr style=\"text-align: right;\">\n      <th></th>\n      <th>Title</th>\n      <th>Author</th>\n    </tr>\n  </thead>\n  <tbody>\n    <tr>\n      <th>0</th>\n      <td>Walter Forbes. [A novel.] By A. A</td>\n      <td>A. A.</td>\n    </tr>\n    <tr>\n      <th>1</th>\n      <td>All for Greed. [A novel. The dedication signed...</td>\n      <td>A., A. A.</td>\n    </tr>\n    <tr>\n      <th>2</th>\n      <td>Love the Avenger. By the author of “All for Gr...</td>\n      <td>A., A. A.</td>\n    </tr>\n    <tr>\n      <th>3</th>\n      <td>Welsh Sketches, chiefly ecclesiastical, to the...</td>\n      <td>A., E. S.</td>\n    </tr>\n    <tr>\n      <th>4</th>\n      <td>[The World in which I live, and my place in it...</td>\n      <td>A., E. S.</td>\n    </tr>\n    <tr>\n      <th>5</th>\n      <td>[The World in which I live, and my place in it...</td>\n      <td>A., E. S.</td>\n    </tr>\n    <tr>\n      <th>6</th>\n      <td>Lagonells. By the author of Darmayne (F. E. A....</td>\n      <td>A., F. E.</td>\n    </tr>\n    <tr>\n      <th>7</th>\n      <td>The Coming of Spring, and other poems. By J. A...</td>\n      <td>A., J.|A., J.</td>\n    </tr>\n    <tr>\n      <th>8</th>\n      <td>A Warning to the inhabitants of England, and L...</td>\n      <td>Remaʿ.</td>\n    </tr>\n    <tr>\n      <th>9</th>\n      <td>A Satyr against Vertue. (A poem: supposed to b...</td>\n      <td>A., T.</td>\n    </tr>\n  </tbody>\n</table>\n</div>"
     },
     "execution_count": 3,
     "metadata": {},
     "output_type": "execute_result"
    }
   ],
   "source": [
    "IminjaIAvtori = SitePodatoci[['Title', 'Author']] # Издвоени се само насловите и авторите\n",
    "IminjaIAvtori.head(10) # Испишани се 10 реда"
   ]
  },
  {
   "cell_type": "markdown",
   "metadata": {},
   "source": [
    "Сега, со еден кратко код ќе најдеме по колку книги има од секој издавач. Прво ќе видиме колку различни издавачи има, па потоа за секој издавач ќе изброиме по колку записи има"
   ]
  },
  {
   "cell_type": "code",
   "execution_count": 4,
   "metadata": {
    "ExecuteTime": {
     "end_time": "2023-11-28T20:05:04.754480Z",
     "start_time": "2023-11-28T20:05:04.645370200Z"
    }
   },
   "outputs": [
    {
     "name": "stdout",
     "output_type": "stream",
     "text": [
      "1990\n"
     ]
    }
   ],
   "source": [
    "Izdavachi = SitePodatoci['Publisher'].unique()  # Список од сите издавачи (unique ги дава без повторување)\n",
    "print(len(Izdavachi))"
   ]
  },
  {
   "cell_type": "markdown",
   "metadata": {},
   "source": [
    "Во следниот код е објаснето што се прави, како пример на употреба на основните операции со табели"
   ]
  },
  {
   "cell_type": "code",
   "execution_count": 5,
   "metadata": {
    "ExecuteTime": {
     "end_time": "2023-11-28T20:05:07.924694500Z",
     "start_time": "2023-11-28T20:05:04.664976400Z"
    }
   },
   "outputs": [
    {
     "name": "stdout",
     "output_type": "stream",
     "text": [
      "Macmillan & Co.      85\n",
      "London               69\n",
      "Privately printed    53\n",
      "Longmans & Co.       52\n",
      "Hurst & Blackett     51\n",
      "                     ..\n",
      "Robert Triphook       1\n",
      "J. Upham              1\n",
      "A. P. Smith           1\n",
      "Mackenzie & Dent      1\n",
      "NaN                   0\n",
      "Length: 1990, dtype: int64\n"
     ]
    }
   ],
   "source": [
    "BrKnigiPoIzdavach = {}  # Едно празен речник\n",
    "for Izdavach in Izdavachi: # се изминува низ сите различни издавачи\n",
    "    KnigiPoIzdavach = SitePodatoci[SitePodatoci['Publisher'] == Izdavach] # се извлекува табела кој што ги содржи сите записи за даден издавач\n",
    "#    print(KnigiPoIzdavach[['Publisher','Title']]) #  Може да го тргнете коментарот и да видите за секој издавач кои книги ги има во оваа табела\n",
    "    KolkuSe = KnigiPoIzdavach.count() # Се брои по колку елементи има добиената подтабела\n",
    "    BrKnigiPoIzdavach[Izdavach]= KolkuSe[0]  \n",
    "    # Пајтон смета дека KnigiPoIzdavach e табела, \n",
    "    # па се бројат записите во секојa колона (ако има запис). \n",
    "    # Во првата колона има запис (идентификациски број), \n",
    "    # па затоа го бараме првиот (0) број оти знаеме дека колку се идентификациски броеви, \n",
    "    # толку се книги, односно записи\n",
    "    \n",
    "NizaBrKnigi = pd.Series(BrKnigiPoIzdavach) \n",
    "# Правиме Пандас низа од избројаните книги, при што бидејќи BrKnigiPoIzdavach е речник\n",
    "# добиената низа автоматски ќе има и индекс, што се клучевите од речникот\n",
    "# а тоа се всушност имињата на издавачите.\n",
    "# При печатењето ќе се уверите дека тоа е така\n",
    "PodredenaNiza = NizaBrKnigi.sort_values(ascending=False) # Ја подредуваме низата\n",
    "print(PodredenaNiza)"
   ]
  },
  {
   "cell_type": "markdown",
   "source": [
    "# Better solution (mine :#)"
   ],
   "metadata": {
    "collapsed": false
   }
  },
  {
   "cell_type": "code",
   "execution_count": 6,
   "metadata": {
    "ExecuteTime": {
     "end_time": "2023-11-28T20:05:07.991388900Z",
     "start_time": "2023-11-28T20:05:07.925710900Z"
    }
   },
   "outputs": [
    {
     "data": {
      "text/plain": "                                       Identifier\nPublisher                                        \n, 42. Nichols & Co.                             1\n-152. D. H. Edwards                             1\n-82. 1-298. E. P. for H. Seyle                  1\n1. E. Moxon & Co.                               1\n1. Printed for the Author by W. Eyres           1\n...                                           ...\n“Moray Weekly News”                             1\n“Northern Chronicle”                            1\n“Sussex Advertiser” Office                      1\n“Telegraph”                                     1\n“The Art Journal”                               1\n\n[1989 rows x 1 columns]",
      "text/html": "<div>\n<style scoped>\n    .dataframe tbody tr th:only-of-type {\n        vertical-align: middle;\n    }\n\n    .dataframe tbody tr th {\n        vertical-align: top;\n    }\n\n    .dataframe thead th {\n        text-align: right;\n    }\n</style>\n<table border=\"1\" class=\"dataframe\">\n  <thead>\n    <tr style=\"text-align: right;\">\n      <th></th>\n      <th>Identifier</th>\n    </tr>\n    <tr>\n      <th>Publisher</th>\n      <th></th>\n    </tr>\n  </thead>\n  <tbody>\n    <tr>\n      <th>, 42. Nichols &amp; Co.</th>\n      <td>1</td>\n    </tr>\n    <tr>\n      <th>-152. D. H. Edwards</th>\n      <td>1</td>\n    </tr>\n    <tr>\n      <th>-82. 1-298. E. P. for H. Seyle</th>\n      <td>1</td>\n    </tr>\n    <tr>\n      <th>1. E. Moxon &amp; Co.</th>\n      <td>1</td>\n    </tr>\n    <tr>\n      <th>1. Printed for the Author by W. Eyres</th>\n      <td>1</td>\n    </tr>\n    <tr>\n      <th>...</th>\n      <td>...</td>\n    </tr>\n    <tr>\n      <th>“Moray Weekly News”</th>\n      <td>1</td>\n    </tr>\n    <tr>\n      <th>“Northern Chronicle”</th>\n      <td>1</td>\n    </tr>\n    <tr>\n      <th>“Sussex Advertiser” Office</th>\n      <td>1</td>\n    </tr>\n    <tr>\n      <th>“Telegraph”</th>\n      <td>1</td>\n    </tr>\n    <tr>\n      <th>“The Art Journal”</th>\n      <td>1</td>\n    </tr>\n  </tbody>\n</table>\n<p>1989 rows × 1 columns</p>\n</div>"
     },
     "execution_count": 6,
     "metadata": {},
     "output_type": "execute_result"
    }
   ],
   "source": [
    "SitePodatoci[[\"Publisher\", \"Identifier\"]].groupby(\"Publisher\").count().groupby(\"Publisher\").sum()"
   ]
  }
 ],
 "metadata": {
  "kernelspec": {
   "display_name": "Python 3",
   "language": "python",
   "name": "python3"
  },
  "language_info": {
   "codemirror_mode": {
    "name": "ipython",
    "version": 3
   },
   "file_extension": ".py",
   "mimetype": "text/x-python",
   "name": "python",
   "nbconvert_exporter": "python",
   "pygments_lexer": "ipython3",
   "version": "3.7.6"
  }
 },
 "nbformat": 4,
 "nbformat_minor": 4
}
