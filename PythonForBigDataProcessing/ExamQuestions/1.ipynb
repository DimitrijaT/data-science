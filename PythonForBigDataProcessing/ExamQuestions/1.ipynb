{
 "cells": [
  {
   "cell_type": "code",
   "execution_count": 1,
   "outputs": [
    {
     "name": "stdout",
     "output_type": "stream",
     "text": [
      "6\n"
     ]
    }
   ],
   "source": [
    "s = 0\n",
    "for x in range(5):\n",
    "    if x % 2 == 0: s += x\n",
    "print(s)"
   ],
   "metadata": {
    "collapsed": false,
    "ExecuteTime": {
     "end_time": "2023-11-25T13:56:54.708374800Z",
     "start_time": "2023-11-25T13:56:54.699188300Z"
    }
   },
   "id": "580891ffd371194f"
  },
  {
   "cell_type": "code",
   "execution_count": 10,
   "outputs": [
    {
     "name": "stdout",
     "output_type": "stream",
     "text": [
      "{'e', 'n', 'm', 'd'}\n",
      "{'e', 'd'}\n",
      "{'a', 'g'}\n",
      "{'e', 'a', 'n', 'm', 'd', 'g'}\n",
      "None\n"
     ]
    }
   ],
   "source": [
    "A = {'a', 'd', 'e', 'g'}\n",
    "\n",
    "B = {'a', 'g', 'm', 'n'}\n",
    "\n",
    "print(A.symmetric_difference(B))\n",
    "print(A.difference(B))\n",
    "print(A.intersection(B))\n",
    "print(A.union(B))\n",
    "print(A.update(B))"
   ],
   "metadata": {
    "collapsed": false,
    "ExecuteTime": {
     "end_time": "2023-11-25T13:59:32.322614Z",
     "start_time": "2023-11-25T13:59:32.313673100Z"
    }
   },
   "id": "42c8ad4f6b41926b"
  },
  {
   "cell_type": "code",
   "execution_count": 19,
   "outputs": [
    {
     "name": "stdout",
     "output_type": "stream",
     "text": [
      "3 8 13 \n",
      "3 8 13 18 \n",
      "\n",
      "3 \n",
      "3 "
     ]
    }
   ],
   "source": [
    "for i in range(3, 18, 5):\n",
    "    print(i, end=\" \")\n",
    "\n",
    "print()\n",
    "\n",
    "for i in range(3, 19, 5):\n",
    "    print(i, end=\" \")\n",
    "\n",
    "print()\n",
    "\n",
    "for i in range(5, 3, 18):\n",
    "    print(i, end=\" \")\n",
    "\n",
    "print()\n",
    "\n",
    "for i in range(3, 5, 18):\n",
    "    print(i, end=\" \")\n",
    "\n",
    "print()\n",
    "\n",
    "for i in range(3, 5, 19):\n",
    "    print(i, end=\" \")\n"
   ],
   "metadata": {
    "collapsed": false,
    "ExecuteTime": {
     "end_time": "2023-11-25T14:02:26.821765400Z",
     "start_time": "2023-11-25T14:02:26.813157400Z"
    }
   },
   "id": "f781b62455386cc4"
  },
  {
   "cell_type": "code",
   "execution_count": 20,
   "outputs": [
    {
     "name": "stdout",
     "output_type": "stream",
     "text": [
      "[1, 3, 8]\n"
     ]
    }
   ],
   "source": [
    "borevi = [1, 2, 3, 5, 8, 13, 21, 34]\n",
    "\n",
    "print(borevi[:6:2])"
   ],
   "metadata": {
    "collapsed": false,
    "ExecuteTime": {
     "end_time": "2023-11-25T14:04:46.939576300Z",
     "start_time": "2023-11-25T14:04:46.928745700Z"
    }
   },
   "id": "20e205a9b4944131"
  },
  {
   "cell_type": "code",
   "execution_count": null,
   "outputs": [],
   "source": [],
   "metadata": {
    "collapsed": false
   },
   "id": "6cdc2ed33f243c68"
  }
 ],
 "metadata": {
  "kernelspec": {
   "display_name": "Python 3",
   "language": "python",
   "name": "python3"
  },
  "language_info": {
   "codemirror_mode": {
    "name": "ipython",
    "version": 2
   },
   "file_extension": ".py",
   "mimetype": "text/x-python",
   "name": "python",
   "nbconvert_exporter": "python",
   "pygments_lexer": "ipython2",
   "version": "2.7.6"
  }
 },
 "nbformat": 4,
 "nbformat_minor": 5
}
