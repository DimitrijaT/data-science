{
 "cells": [
  {
   "cell_type": "markdown",
   "source": [
    "# Вежба 7: Mean Shift кластерирање"
   ],
   "metadata": {
    "collapsed": false
   },
   "id": "3dee24f8ec016ff1"
  },
  {
   "cell_type": "markdown",
   "source": [
    "За да го примениме Mean Shift во scikit-learn го користиме Титаник податочното множество кое базирано на информација за одредени патници на Титаник, како класа, име, пол, возраст, итн. Овие информации ќе ги користиме за да предвидиме дали патникот го преживеал потонувањето на Титаник.\n",
    "Притоа, ќе се обидеме да најдеме групи со патници со слични карактеристики"
   ],
   "metadata": {
    "collapsed": false
   },
   "id": "2f0dd6423e838740"
  },
  {
   "cell_type": "code",
   "execution_count": 25,
   "outputs": [],
   "source": [
    "import pandas as pd"
   ],
   "metadata": {
    "collapsed": false,
    "ExecuteTime": {
     "end_time": "2023-12-02T19:32:32.952721900Z",
     "start_time": "2023-12-02T19:32:32.927593400Z"
    }
   },
   "id": "8f179d3240be7b74"
  },
  {
   "cell_type": "code",
   "execution_count": 26,
   "outputs": [
    {
     "data": {
      "text/plain": "   PassengerId  Survived  Pclass  \\\n0            1         0       3   \n1            2         1       1   \n2            3         1       3   \n3            4         1       1   \n4            5         0       3   \n\n                                                Name     Sex   Age  SibSp  \\\n0                            Braund, Mr. Owen Harris    male  22.0      1   \n1  Cumings, Mrs. John Bradley (Florence Briggs Th...  female  38.0      1   \n2                             Heikkinen, Miss. Laina  female  26.0      0   \n3       Futrelle, Mrs. Jacques Heath (Lily May Peel)  female  35.0      1   \n4                           Allen, Mr. William Henry    male  35.0      0   \n\n   Parch            Ticket     Fare Cabin Embarked  \n0      0         A/5 21171   7.2500   NaN        S  \n1      0          PC 17599  71.2833   C85        C  \n2      0  STON/O2. 3101282   7.9250   NaN        S  \n3      0            113803  53.1000  C123        S  \n4      0            373450   8.0500   NaN        S  ",
      "text/html": "<div>\n<style scoped>\n    .dataframe tbody tr th:only-of-type {\n        vertical-align: middle;\n    }\n\n    .dataframe tbody tr th {\n        vertical-align: top;\n    }\n\n    .dataframe thead th {\n        text-align: right;\n    }\n</style>\n<table border=\"1\" class=\"dataframe\">\n  <thead>\n    <tr style=\"text-align: right;\">\n      <th></th>\n      <th>PassengerId</th>\n      <th>Survived</th>\n      <th>Pclass</th>\n      <th>Name</th>\n      <th>Sex</th>\n      <th>Age</th>\n      <th>SibSp</th>\n      <th>Parch</th>\n      <th>Ticket</th>\n      <th>Fare</th>\n      <th>Cabin</th>\n      <th>Embarked</th>\n    </tr>\n  </thead>\n  <tbody>\n    <tr>\n      <th>0</th>\n      <td>1</td>\n      <td>0</td>\n      <td>3</td>\n      <td>Braund, Mr. Owen Harris</td>\n      <td>male</td>\n      <td>22.0</td>\n      <td>1</td>\n      <td>0</td>\n      <td>A/5 21171</td>\n      <td>7.2500</td>\n      <td>NaN</td>\n      <td>S</td>\n    </tr>\n    <tr>\n      <th>1</th>\n      <td>2</td>\n      <td>1</td>\n      <td>1</td>\n      <td>Cumings, Mrs. John Bradley (Florence Briggs Th...</td>\n      <td>female</td>\n      <td>38.0</td>\n      <td>1</td>\n      <td>0</td>\n      <td>PC 17599</td>\n      <td>71.2833</td>\n      <td>C85</td>\n      <td>C</td>\n    </tr>\n    <tr>\n      <th>2</th>\n      <td>3</td>\n      <td>1</td>\n      <td>3</td>\n      <td>Heikkinen, Miss. Laina</td>\n      <td>female</td>\n      <td>26.0</td>\n      <td>0</td>\n      <td>0</td>\n      <td>STON/O2. 3101282</td>\n      <td>7.9250</td>\n      <td>NaN</td>\n      <td>S</td>\n    </tr>\n    <tr>\n      <th>3</th>\n      <td>4</td>\n      <td>1</td>\n      <td>1</td>\n      <td>Futrelle, Mrs. Jacques Heath (Lily May Peel)</td>\n      <td>female</td>\n      <td>35.0</td>\n      <td>1</td>\n      <td>0</td>\n      <td>113803</td>\n      <td>53.1000</td>\n      <td>C123</td>\n      <td>S</td>\n    </tr>\n    <tr>\n      <th>4</th>\n      <td>5</td>\n      <td>0</td>\n      <td>3</td>\n      <td>Allen, Mr. William Henry</td>\n      <td>male</td>\n      <td>35.0</td>\n      <td>0</td>\n      <td>0</td>\n      <td>373450</td>\n      <td>8.0500</td>\n      <td>NaN</td>\n      <td>S</td>\n    </tr>\n  </tbody>\n</table>\n</div>"
     },
     "execution_count": 26,
     "metadata": {},
     "output_type": "execute_result"
    }
   ],
   "source": [
    "titanic_data = pd.read_csv('../Exercises 5 - Datasets/titanic.csv', quotechar='\"')\n",
    "titanic_data.head()"
   ],
   "metadata": {
    "collapsed": false,
    "ExecuteTime": {
     "end_time": "2023-12-02T19:32:33.119888100Z",
     "start_time": "2023-12-02T19:32:33.082959100Z"
    }
   },
   "id": "68c7db6f1b78a88f"
  },
  {
   "cell_type": "markdown",
   "source": [
    "## Preprocessing"
   ],
   "metadata": {
    "collapsed": false
   },
   "id": "fa44f9e20734d805"
  },
  {
   "cell_type": "markdown",
   "source": [
    "Некои од карактеристиките не ни се од корист, па затоа ќе ги исфриле соодветните колони од податочната рамка. Колоната Survived ни кажува дали патникот преживеал (вредност 1) или не (вредност 0).\n",
    "Колоната PClass ни кажува во која класа патувал (прва, втора или трета)\n",
    "Age е возраста\n",
    "Fare колку платил за билетот\n",
    "SibSp ни кажува колку браќа/сестри патувале со патникот\n",
    "Parch ни кажува колку родители патувале со патникот\n",
    "Embarked ни ја кажува првата буква на пристаништето на кое се качил патникот."
   ],
   "metadata": {
    "collapsed": false
   },
   "id": "4f47fee4270bd8a3"
  },
  {
   "cell_type": "code",
   "execution_count": 27,
   "outputs": [
    {
     "name": "stderr",
     "output_type": "stream",
     "text": [
      "C:\\Users\\dimit\\AppData\\Local\\Temp\\ipykernel_6908\\901095614.py:1: FutureWarning: In a future version of pandas all arguments of DataFrame.drop except for the argument 'labels' will be keyword-only.\n",
      "  titanic_data.drop(['PassengerId', 'Name', 'Ticket', 'Cabin'], 'columns', inplace=True)\n"
     ]
    },
    {
     "data": {
      "text/plain": "   Survived  Pclass     Sex   Age  SibSp  Parch     Fare Embarked\n0         0       3    male  22.0      1      0   7.2500        S\n1         1       1  female  38.0      1      0  71.2833        C\n2         1       3  female  26.0      0      0   7.9250        S\n3         1       1  female  35.0      1      0  53.1000        S\n4         0       3    male  35.0      0      0   8.0500        S",
      "text/html": "<div>\n<style scoped>\n    .dataframe tbody tr th:only-of-type {\n        vertical-align: middle;\n    }\n\n    .dataframe tbody tr th {\n        vertical-align: top;\n    }\n\n    .dataframe thead th {\n        text-align: right;\n    }\n</style>\n<table border=\"1\" class=\"dataframe\">\n  <thead>\n    <tr style=\"text-align: right;\">\n      <th></th>\n      <th>Survived</th>\n      <th>Pclass</th>\n      <th>Sex</th>\n      <th>Age</th>\n      <th>SibSp</th>\n      <th>Parch</th>\n      <th>Fare</th>\n      <th>Embarked</th>\n    </tr>\n  </thead>\n  <tbody>\n    <tr>\n      <th>0</th>\n      <td>0</td>\n      <td>3</td>\n      <td>male</td>\n      <td>22.0</td>\n      <td>1</td>\n      <td>0</td>\n      <td>7.2500</td>\n      <td>S</td>\n    </tr>\n    <tr>\n      <th>1</th>\n      <td>1</td>\n      <td>1</td>\n      <td>female</td>\n      <td>38.0</td>\n      <td>1</td>\n      <td>0</td>\n      <td>71.2833</td>\n      <td>C</td>\n    </tr>\n    <tr>\n      <th>2</th>\n      <td>1</td>\n      <td>3</td>\n      <td>female</td>\n      <td>26.0</td>\n      <td>0</td>\n      <td>0</td>\n      <td>7.9250</td>\n      <td>S</td>\n    </tr>\n    <tr>\n      <th>3</th>\n      <td>1</td>\n      <td>1</td>\n      <td>female</td>\n      <td>35.0</td>\n      <td>1</td>\n      <td>0</td>\n      <td>53.1000</td>\n      <td>S</td>\n    </tr>\n    <tr>\n      <th>4</th>\n      <td>0</td>\n      <td>3</td>\n      <td>male</td>\n      <td>35.0</td>\n      <td>0</td>\n      <td>0</td>\n      <td>8.0500</td>\n      <td>S</td>\n    </tr>\n  </tbody>\n</table>\n</div>"
     },
     "execution_count": 27,
     "metadata": {},
     "output_type": "execute_result"
    }
   ],
   "source": [
    "titanic_data.drop(['PassengerId', 'Name', 'Ticket', 'Cabin'], 'columns', inplace=True)\n",
    "titanic_data.head()"
   ],
   "metadata": {
    "collapsed": false,
    "ExecuteTime": {
     "end_time": "2023-12-02T19:32:33.578169900Z",
     "start_time": "2023-12-02T19:32:33.565608200Z"
    }
   },
   "id": "a9a9d30615fec244"
  },
  {
   "cell_type": "markdown",
   "source": [
    "Има потреба колоната за полото (Sex) да ја трансформира во нумеричка вредност (1-за машки, 0-за женски)"
   ],
   "metadata": {
    "collapsed": false
   },
   "id": "d5c63728899bbb8d"
  },
  {
   "cell_type": "code",
   "execution_count": 28,
   "outputs": [
    {
     "data": {
      "text/plain": "   Survived  Pclass  Sex   Age  SibSp  Parch     Fare Embarked\n0         0       3    1  22.0      1      0   7.2500        S\n1         1       1    0  38.0      1      0  71.2833        C\n2         1       3    0  26.0      0      0   7.9250        S\n3         1       1    0  35.0      1      0  53.1000        S\n4         0       3    1  35.0      0      0   8.0500        S",
      "text/html": "<div>\n<style scoped>\n    .dataframe tbody tr th:only-of-type {\n        vertical-align: middle;\n    }\n\n    .dataframe tbody tr th {\n        vertical-align: top;\n    }\n\n    .dataframe thead th {\n        text-align: right;\n    }\n</style>\n<table border=\"1\" class=\"dataframe\">\n  <thead>\n    <tr style=\"text-align: right;\">\n      <th></th>\n      <th>Survived</th>\n      <th>Pclass</th>\n      <th>Sex</th>\n      <th>Age</th>\n      <th>SibSp</th>\n      <th>Parch</th>\n      <th>Fare</th>\n      <th>Embarked</th>\n    </tr>\n  </thead>\n  <tbody>\n    <tr>\n      <th>0</th>\n      <td>0</td>\n      <td>3</td>\n      <td>1</td>\n      <td>22.0</td>\n      <td>1</td>\n      <td>0</td>\n      <td>7.2500</td>\n      <td>S</td>\n    </tr>\n    <tr>\n      <th>1</th>\n      <td>1</td>\n      <td>1</td>\n      <td>0</td>\n      <td>38.0</td>\n      <td>1</td>\n      <td>0</td>\n      <td>71.2833</td>\n      <td>C</td>\n    </tr>\n    <tr>\n      <th>2</th>\n      <td>1</td>\n      <td>3</td>\n      <td>0</td>\n      <td>26.0</td>\n      <td>0</td>\n      <td>0</td>\n      <td>7.9250</td>\n      <td>S</td>\n    </tr>\n    <tr>\n      <th>3</th>\n      <td>1</td>\n      <td>1</td>\n      <td>0</td>\n      <td>35.0</td>\n      <td>1</td>\n      <td>0</td>\n      <td>53.1000</td>\n      <td>S</td>\n    </tr>\n    <tr>\n      <th>4</th>\n      <td>0</td>\n      <td>3</td>\n      <td>1</td>\n      <td>35.0</td>\n      <td>0</td>\n      <td>0</td>\n      <td>8.0500</td>\n      <td>S</td>\n    </tr>\n  </tbody>\n</table>\n</div>"
     },
     "execution_count": 28,
     "metadata": {},
     "output_type": "execute_result"
    }
   ],
   "source": [
    "from sklearn import preprocessing\n",
    "\n",
    "le = preprocessing.LabelEncoder()\n",
    "titanic_data['Sex'] = le.fit_transform(titanic_data['Sex'].astype(str))\n",
    "titanic_data.head()"
   ],
   "metadata": {
    "collapsed": false,
    "ExecuteTime": {
     "end_time": "2023-12-02T19:32:33.879448500Z",
     "start_time": "2023-12-02T19:32:33.859506900Z"
    }
   },
   "id": "c1e33064f1147318"
  },
  {
   "cell_type": "markdown",
   "source": [
    "Користиме One-hot репрезентација за колоната Embarked "
   ],
   "metadata": {
    "collapsed": false
   },
   "id": "9f4a5b578dd748ab"
  },
  {
   "cell_type": "code",
   "execution_count": 29,
   "outputs": [
    {
     "data": {
      "text/plain": "   Survived  Pclass  Sex   Age  SibSp  Parch     Fare  Embarked_C  Embarked_Q  \\\n0         0       3    1  22.0      1      0   7.2500           0           0   \n1         1       1    0  38.0      1      0  71.2833           1           0   \n2         1       3    0  26.0      0      0   7.9250           0           0   \n3         1       1    0  35.0      1      0  53.1000           0           0   \n4         0       3    1  35.0      0      0   8.0500           0           0   \n\n   Embarked_S  \n0           1  \n1           0  \n2           1  \n3           1  \n4           1  ",
      "text/html": "<div>\n<style scoped>\n    .dataframe tbody tr th:only-of-type {\n        vertical-align: middle;\n    }\n\n    .dataframe tbody tr th {\n        vertical-align: top;\n    }\n\n    .dataframe thead th {\n        text-align: right;\n    }\n</style>\n<table border=\"1\" class=\"dataframe\">\n  <thead>\n    <tr style=\"text-align: right;\">\n      <th></th>\n      <th>Survived</th>\n      <th>Pclass</th>\n      <th>Sex</th>\n      <th>Age</th>\n      <th>SibSp</th>\n      <th>Parch</th>\n      <th>Fare</th>\n      <th>Embarked_C</th>\n      <th>Embarked_Q</th>\n      <th>Embarked_S</th>\n    </tr>\n  </thead>\n  <tbody>\n    <tr>\n      <th>0</th>\n      <td>0</td>\n      <td>3</td>\n      <td>1</td>\n      <td>22.0</td>\n      <td>1</td>\n      <td>0</td>\n      <td>7.2500</td>\n      <td>0</td>\n      <td>0</td>\n      <td>1</td>\n    </tr>\n    <tr>\n      <th>1</th>\n      <td>1</td>\n      <td>1</td>\n      <td>0</td>\n      <td>38.0</td>\n      <td>1</td>\n      <td>0</td>\n      <td>71.2833</td>\n      <td>1</td>\n      <td>0</td>\n      <td>0</td>\n    </tr>\n    <tr>\n      <th>2</th>\n      <td>1</td>\n      <td>3</td>\n      <td>0</td>\n      <td>26.0</td>\n      <td>0</td>\n      <td>0</td>\n      <td>7.9250</td>\n      <td>0</td>\n      <td>0</td>\n      <td>1</td>\n    </tr>\n    <tr>\n      <th>3</th>\n      <td>1</td>\n      <td>1</td>\n      <td>0</td>\n      <td>35.0</td>\n      <td>1</td>\n      <td>0</td>\n      <td>53.1000</td>\n      <td>0</td>\n      <td>0</td>\n      <td>1</td>\n    </tr>\n    <tr>\n      <th>4</th>\n      <td>0</td>\n      <td>3</td>\n      <td>1</td>\n      <td>35.0</td>\n      <td>0</td>\n      <td>0</td>\n      <td>8.0500</td>\n      <td>0</td>\n      <td>0</td>\n      <td>1</td>\n    </tr>\n  </tbody>\n</table>\n</div>"
     },
     "execution_count": 29,
     "metadata": {},
     "output_type": "execute_result"
    }
   ],
   "source": [
    "titanic_data = pd.get_dummies(titanic_data, columns=['Embarked'])\n",
    "titanic_data.head()"
   ],
   "metadata": {
    "collapsed": false,
    "ExecuteTime": {
     "end_time": "2023-12-02T19:32:34.287264900Z",
     "start_time": "2023-12-02T19:32:34.257050200Z"
    }
   },
   "id": "45e1cf9c5eb51bf"
  },
  {
   "cell_type": "markdown",
   "source": [
    "Правиме проверка дали имаме Null податоци. Имаме 177 редови каде недостасуваат одредени податоци"
   ],
   "metadata": {
    "collapsed": false
   },
   "id": "2d063a048644ef46"
  },
  {
   "cell_type": "code",
   "execution_count": 30,
   "outputs": [
    {
     "data": {
      "text/plain": "     Survived  Pclass  Sex  Age  SibSp  Parch     Fare  Embarked_C  \\\n5           0       3    1  NaN      0      0   8.4583           0   \n17          1       2    1  NaN      0      0  13.0000           0   \n19          1       3    0  NaN      0      0   7.2250           1   \n26          0       3    1  NaN      0      0   7.2250           1   \n28          1       3    0  NaN      0      0   7.8792           0   \n..        ...     ...  ...  ...    ...    ...      ...         ...   \n859         0       3    1  NaN      0      0   7.2292           1   \n863         0       3    0  NaN      8      2  69.5500           0   \n868         0       3    1  NaN      0      0   9.5000           0   \n878         0       3    1  NaN      0      0   7.8958           0   \n888         0       3    0  NaN      1      2  23.4500           0   \n\n     Embarked_Q  Embarked_S  \n5             1           0  \n17            0           1  \n19            0           0  \n26            0           0  \n28            1           0  \n..          ...         ...  \n859           0           0  \n863           0           1  \n868           0           1  \n878           0           1  \n888           0           1  \n\n[177 rows x 10 columns]",
      "text/html": "<div>\n<style scoped>\n    .dataframe tbody tr th:only-of-type {\n        vertical-align: middle;\n    }\n\n    .dataframe tbody tr th {\n        vertical-align: top;\n    }\n\n    .dataframe thead th {\n        text-align: right;\n    }\n</style>\n<table border=\"1\" class=\"dataframe\">\n  <thead>\n    <tr style=\"text-align: right;\">\n      <th></th>\n      <th>Survived</th>\n      <th>Pclass</th>\n      <th>Sex</th>\n      <th>Age</th>\n      <th>SibSp</th>\n      <th>Parch</th>\n      <th>Fare</th>\n      <th>Embarked_C</th>\n      <th>Embarked_Q</th>\n      <th>Embarked_S</th>\n    </tr>\n  </thead>\n  <tbody>\n    <tr>\n      <th>5</th>\n      <td>0</td>\n      <td>3</td>\n      <td>1</td>\n      <td>NaN</td>\n      <td>0</td>\n      <td>0</td>\n      <td>8.4583</td>\n      <td>0</td>\n      <td>1</td>\n      <td>0</td>\n    </tr>\n    <tr>\n      <th>17</th>\n      <td>1</td>\n      <td>2</td>\n      <td>1</td>\n      <td>NaN</td>\n      <td>0</td>\n      <td>0</td>\n      <td>13.0000</td>\n      <td>0</td>\n      <td>0</td>\n      <td>1</td>\n    </tr>\n    <tr>\n      <th>19</th>\n      <td>1</td>\n      <td>3</td>\n      <td>0</td>\n      <td>NaN</td>\n      <td>0</td>\n      <td>0</td>\n      <td>7.2250</td>\n      <td>1</td>\n      <td>0</td>\n      <td>0</td>\n    </tr>\n    <tr>\n      <th>26</th>\n      <td>0</td>\n      <td>3</td>\n      <td>1</td>\n      <td>NaN</td>\n      <td>0</td>\n      <td>0</td>\n      <td>7.2250</td>\n      <td>1</td>\n      <td>0</td>\n      <td>0</td>\n    </tr>\n    <tr>\n      <th>28</th>\n      <td>1</td>\n      <td>3</td>\n      <td>0</td>\n      <td>NaN</td>\n      <td>0</td>\n      <td>0</td>\n      <td>7.8792</td>\n      <td>0</td>\n      <td>1</td>\n      <td>0</td>\n    </tr>\n    <tr>\n      <th>...</th>\n      <td>...</td>\n      <td>...</td>\n      <td>...</td>\n      <td>...</td>\n      <td>...</td>\n      <td>...</td>\n      <td>...</td>\n      <td>...</td>\n      <td>...</td>\n      <td>...</td>\n    </tr>\n    <tr>\n      <th>859</th>\n      <td>0</td>\n      <td>3</td>\n      <td>1</td>\n      <td>NaN</td>\n      <td>0</td>\n      <td>0</td>\n      <td>7.2292</td>\n      <td>1</td>\n      <td>0</td>\n      <td>0</td>\n    </tr>\n    <tr>\n      <th>863</th>\n      <td>0</td>\n      <td>3</td>\n      <td>0</td>\n      <td>NaN</td>\n      <td>8</td>\n      <td>2</td>\n      <td>69.5500</td>\n      <td>0</td>\n      <td>0</td>\n      <td>1</td>\n    </tr>\n    <tr>\n      <th>868</th>\n      <td>0</td>\n      <td>3</td>\n      <td>1</td>\n      <td>NaN</td>\n      <td>0</td>\n      <td>0</td>\n      <td>9.5000</td>\n      <td>0</td>\n      <td>0</td>\n      <td>1</td>\n    </tr>\n    <tr>\n      <th>878</th>\n      <td>0</td>\n      <td>3</td>\n      <td>1</td>\n      <td>NaN</td>\n      <td>0</td>\n      <td>0</td>\n      <td>7.8958</td>\n      <td>0</td>\n      <td>0</td>\n      <td>1</td>\n    </tr>\n    <tr>\n      <th>888</th>\n      <td>0</td>\n      <td>3</td>\n      <td>0</td>\n      <td>NaN</td>\n      <td>1</td>\n      <td>2</td>\n      <td>23.4500</td>\n      <td>0</td>\n      <td>0</td>\n      <td>1</td>\n    </tr>\n  </tbody>\n</table>\n<p>177 rows × 10 columns</p>\n</div>"
     },
     "execution_count": 30,
     "metadata": {},
     "output_type": "execute_result"
    }
   ],
   "source": [
    "titanic_data[titanic_data.isnull().any(axis=1)]"
   ],
   "metadata": {
    "collapsed": false,
    "ExecuteTime": {
     "end_time": "2023-12-02T19:32:35.191397Z",
     "start_time": "2023-12-02T19:32:35.161586400Z"
    }
   },
   "id": "b36e4d98316f900b"
  },
  {
   "cell_type": "markdown",
   "source": [
    "Ги чистиме тие редови"
   ],
   "metadata": {
    "collapsed": false
   },
   "id": "fd7cabb8c5f76a35"
  },
  {
   "cell_type": "code",
   "execution_count": 31,
   "outputs": [],
   "source": [
    "titanic_data = titanic_data.dropna()"
   ],
   "metadata": {
    "collapsed": false,
    "ExecuteTime": {
     "end_time": "2023-12-02T19:32:35.953978200Z",
     "start_time": "2023-12-02T19:32:35.935650500Z"
    }
   },
   "id": "a243cbb75a064941"
  },
  {
   "cell_type": "markdown",
   "source": [
    "## Mean Shift Clustering"
   ],
   "metadata": {
    "collapsed": false
   },
   "id": "fdddf378ce1a6fab"
  },
  {
   "cell_type": "markdown",
   "source": [
    "Откако го процесиравме податочното множество, инстанцираме естиметор за Mean Shift алгоритам за кластерирање.\n",
    "Единствен хипер-параметар e bandwidth кој е правопропорционален со стандардната девијација.\n",
    "Со методот fit го започнуваме тренирањето"
   ],
   "metadata": {
    "collapsed": false
   },
   "id": "db4b8413beea0cbc"
  },
  {
   "cell_type": "code",
   "execution_count": 32,
   "outputs": [
    {
     "data": {
      "text/plain": "MeanShift(bandwidth=50)",
      "text/html": "<style>#sk-container-id-2 {color: black;background-color: white;}#sk-container-id-2 pre{padding: 0;}#sk-container-id-2 div.sk-toggleable {background-color: white;}#sk-container-id-2 label.sk-toggleable__label {cursor: pointer;display: block;width: 100%;margin-bottom: 0;padding: 0.3em;box-sizing: border-box;text-align: center;}#sk-container-id-2 label.sk-toggleable__label-arrow:before {content: \"▸\";float: left;margin-right: 0.25em;color: #696969;}#sk-container-id-2 label.sk-toggleable__label-arrow:hover:before {color: black;}#sk-container-id-2 div.sk-estimator:hover label.sk-toggleable__label-arrow:before {color: black;}#sk-container-id-2 div.sk-toggleable__content {max-height: 0;max-width: 0;overflow: hidden;text-align: left;background-color: #f0f8ff;}#sk-container-id-2 div.sk-toggleable__content pre {margin: 0.2em;color: black;border-radius: 0.25em;background-color: #f0f8ff;}#sk-container-id-2 input.sk-toggleable__control:checked~div.sk-toggleable__content {max-height: 200px;max-width: 100%;overflow: auto;}#sk-container-id-2 input.sk-toggleable__control:checked~label.sk-toggleable__label-arrow:before {content: \"▾\";}#sk-container-id-2 div.sk-estimator input.sk-toggleable__control:checked~label.sk-toggleable__label {background-color: #d4ebff;}#sk-container-id-2 div.sk-label input.sk-toggleable__control:checked~label.sk-toggleable__label {background-color: #d4ebff;}#sk-container-id-2 input.sk-hidden--visually {border: 0;clip: rect(1px 1px 1px 1px);clip: rect(1px, 1px, 1px, 1px);height: 1px;margin: -1px;overflow: hidden;padding: 0;position: absolute;width: 1px;}#sk-container-id-2 div.sk-estimator {font-family: monospace;background-color: #f0f8ff;border: 1px dotted black;border-radius: 0.25em;box-sizing: border-box;margin-bottom: 0.5em;}#sk-container-id-2 div.sk-estimator:hover {background-color: #d4ebff;}#sk-container-id-2 div.sk-parallel-item::after {content: \"\";width: 100%;border-bottom: 1px solid gray;flex-grow: 1;}#sk-container-id-2 div.sk-label:hover label.sk-toggleable__label {background-color: #d4ebff;}#sk-container-id-2 div.sk-serial::before {content: \"\";position: absolute;border-left: 1px solid gray;box-sizing: border-box;top: 0;bottom: 0;left: 50%;z-index: 0;}#sk-container-id-2 div.sk-serial {display: flex;flex-direction: column;align-items: center;background-color: white;padding-right: 0.2em;padding-left: 0.2em;position: relative;}#sk-container-id-2 div.sk-item {position: relative;z-index: 1;}#sk-container-id-2 div.sk-parallel {display: flex;align-items: stretch;justify-content: center;background-color: white;position: relative;}#sk-container-id-2 div.sk-item::before, #sk-container-id-2 div.sk-parallel-item::before {content: \"\";position: absolute;border-left: 1px solid gray;box-sizing: border-box;top: 0;bottom: 0;left: 50%;z-index: -1;}#sk-container-id-2 div.sk-parallel-item {display: flex;flex-direction: column;z-index: 1;position: relative;background-color: white;}#sk-container-id-2 div.sk-parallel-item:first-child::after {align-self: flex-end;width: 50%;}#sk-container-id-2 div.sk-parallel-item:last-child::after {align-self: flex-start;width: 50%;}#sk-container-id-2 div.sk-parallel-item:only-child::after {width: 0;}#sk-container-id-2 div.sk-dashed-wrapped {border: 1px dashed gray;margin: 0 0.4em 0.5em 0.4em;box-sizing: border-box;padding-bottom: 0.4em;background-color: white;}#sk-container-id-2 div.sk-label label {font-family: monospace;font-weight: bold;display: inline-block;line-height: 1.2em;}#sk-container-id-2 div.sk-label-container {text-align: center;}#sk-container-id-2 div.sk-container {/* jupyter's `normalize.less` sets `[hidden] { display: none; }` but bootstrap.min.css set `[hidden] { display: none !important; }` so we also need the `!important` here to be able to override the default hidden behavior on the sphinx rendered scikit-learn.org. See: https://github.com/scikit-learn/scikit-learn/issues/21755 */display: inline-block !important;position: relative;}#sk-container-id-2 div.sk-text-repr-fallback {display: none;}</style><div id=\"sk-container-id-2\" class=\"sk-top-container\"><div class=\"sk-text-repr-fallback\"><pre>MeanShift(bandwidth=50)</pre><b>In a Jupyter environment, please rerun this cell to show the HTML representation or trust the notebook. <br />On GitHub, the HTML representation is unable to render, please try loading this page with nbviewer.org.</b></div><div class=\"sk-container\" hidden><div class=\"sk-item\"><div class=\"sk-estimator sk-toggleable\"><input class=\"sk-toggleable__control sk-hidden--visually\" id=\"sk-estimator-id-2\" type=\"checkbox\" checked><label for=\"sk-estimator-id-2\" class=\"sk-toggleable__label sk-toggleable__label-arrow\">MeanShift</label><div class=\"sk-toggleable__content\"><pre>MeanShift(bandwidth=50)</pre></div></div></div></div></div>"
     },
     "execution_count": 32,
     "metadata": {},
     "output_type": "execute_result"
    }
   ],
   "source": [
    "from sklearn.cluster import MeanShift\n",
    "\n",
    "analyzer = MeanShift(bandwidth=50)\n",
    "analyzer.fit(titanic_data)"
   ],
   "metadata": {
    "collapsed": false,
    "ExecuteTime": {
     "end_time": "2023-12-02T19:32:38.362450800Z",
     "start_time": "2023-12-02T19:32:36.975335900Z"
    }
   },
   "id": "e9282cf4916ffa0"
  },
  {
   "cell_type": "markdown",
   "source": [
    "Во претходниот код ставивме случајна вредност за bandwidth параметарот. Постои помошна функција estimate_bandwidth која дава добра вредност за овој хипер-параметар. 30 е вистинската вредност."
   ],
   "metadata": {
    "collapsed": false
   },
   "id": "89dcc056ceaf2b06"
  },
  {
   "cell_type": "code",
   "execution_count": 33,
   "outputs": [
    {
     "data": {
      "text/plain": "30.44675914497196"
     },
     "execution_count": 33,
     "metadata": {},
     "output_type": "execute_result"
    }
   ],
   "source": [
    "from sklearn.cluster import estimate_bandwidth\n",
    "\n",
    "estimate_bandwidth(titanic_data)"
   ],
   "metadata": {
    "collapsed": false,
    "ExecuteTime": {
     "end_time": "2023-12-02T19:32:38.409452900Z",
     "start_time": "2023-12-02T19:32:38.356451300Z"
    }
   },
   "id": "1890e7fe15093ffb"
  },
  {
   "cell_type": "markdown",
   "source": [
    "Да го видиме бројот на кластери кои беа одредени со алгоритмот за кластерирање"
   ],
   "metadata": {
    "collapsed": false
   },
   "id": "252d6f18a0920160"
  },
  {
   "cell_type": "code",
   "execution_count": 34,
   "outputs": [],
   "source": [
    "labels = analyzer.labels_"
   ],
   "metadata": {
    "collapsed": false,
    "ExecuteTime": {
     "end_time": "2023-12-02T19:32:38.429452Z",
     "start_time": "2023-12-02T19:32:38.405453400Z"
    }
   },
   "id": "38dc90a7c881c9f"
  },
  {
   "cell_type": "code",
   "execution_count": 35,
   "outputs": [
    {
     "data": {
      "text/plain": "array([0, 1, 2], dtype=int64)"
     },
     "execution_count": 35,
     "metadata": {},
     "output_type": "execute_result"
    }
   ],
   "source": [
    "import numpy as np\n",
    "\n",
    "np.unique(labels)"
   ],
   "metadata": {
    "collapsed": false,
    "ExecuteTime": {
     "end_time": "2023-12-02T19:32:38.515661500Z",
     "start_time": "2023-12-02T19:32:38.476512300Z"
    }
   },
   "id": "7d7198a170bca8e5"
  },
  {
   "cell_type": "markdown",
   "source": [
    "Да додадеме нова колона cluster_group во која ќе наведеме во кој кластер припаѓа даден патник"
   ],
   "metadata": {
    "collapsed": false
   },
   "id": "e4fa5cedcd387574"
  },
  {
   "cell_type": "code",
   "execution_count": 36,
   "outputs": [],
   "source": [
    "titanic_data['cluster_group'] = np.nan\n",
    "data_length = len(titanic_data)\n",
    "\n",
    "#pd.set_option('mode.chained_assignment',None)\n",
    "\n",
    "for i in range(data_length):\n",
    "    titanic_data.iloc[i, titanic_data.columns.get_loc('cluster_group')] = labels[i]"
   ],
   "metadata": {
    "collapsed": false,
    "ExecuteTime": {
     "end_time": "2023-12-02T19:32:40.308701500Z",
     "start_time": "2023-12-02T19:32:40.255973Z"
    }
   },
   "id": "f97a1e69ebb3093b"
  },
  {
   "cell_type": "code",
   "execution_count": 37,
   "outputs": [
    {
     "data": {
      "text/plain": "   Survived  Pclass  Sex   Age  SibSp  Parch     Fare  Embarked_C  Embarked_Q  \\\n0         0       3    1  22.0      1      0   7.2500           0           0   \n1         1       1    0  38.0      1      0  71.2833           1           0   \n2         1       3    0  26.0      0      0   7.9250           0           0   \n3         1       1    0  35.0      1      0  53.1000           0           0   \n4         0       3    1  35.0      0      0   8.0500           0           0   \n\n   Embarked_S  cluster_group  \n0           1            0.0  \n1           0            0.0  \n2           1            0.0  \n3           1            0.0  \n4           1            0.0  ",
      "text/html": "<div>\n<style scoped>\n    .dataframe tbody tr th:only-of-type {\n        vertical-align: middle;\n    }\n\n    .dataframe tbody tr th {\n        vertical-align: top;\n    }\n\n    .dataframe thead th {\n        text-align: right;\n    }\n</style>\n<table border=\"1\" class=\"dataframe\">\n  <thead>\n    <tr style=\"text-align: right;\">\n      <th></th>\n      <th>Survived</th>\n      <th>Pclass</th>\n      <th>Sex</th>\n      <th>Age</th>\n      <th>SibSp</th>\n      <th>Parch</th>\n      <th>Fare</th>\n      <th>Embarked_C</th>\n      <th>Embarked_Q</th>\n      <th>Embarked_S</th>\n      <th>cluster_group</th>\n    </tr>\n  </thead>\n  <tbody>\n    <tr>\n      <th>0</th>\n      <td>0</td>\n      <td>3</td>\n      <td>1</td>\n      <td>22.0</td>\n      <td>1</td>\n      <td>0</td>\n      <td>7.2500</td>\n      <td>0</td>\n      <td>0</td>\n      <td>1</td>\n      <td>0.0</td>\n    </tr>\n    <tr>\n      <th>1</th>\n      <td>1</td>\n      <td>1</td>\n      <td>0</td>\n      <td>38.0</td>\n      <td>1</td>\n      <td>0</td>\n      <td>71.2833</td>\n      <td>1</td>\n      <td>0</td>\n      <td>0</td>\n      <td>0.0</td>\n    </tr>\n    <tr>\n      <th>2</th>\n      <td>1</td>\n      <td>3</td>\n      <td>0</td>\n      <td>26.0</td>\n      <td>0</td>\n      <td>0</td>\n      <td>7.9250</td>\n      <td>0</td>\n      <td>0</td>\n      <td>1</td>\n      <td>0.0</td>\n    </tr>\n    <tr>\n      <th>3</th>\n      <td>1</td>\n      <td>1</td>\n      <td>0</td>\n      <td>35.0</td>\n      <td>1</td>\n      <td>0</td>\n      <td>53.1000</td>\n      <td>0</td>\n      <td>0</td>\n      <td>1</td>\n      <td>0.0</td>\n    </tr>\n    <tr>\n      <th>4</th>\n      <td>0</td>\n      <td>3</td>\n      <td>1</td>\n      <td>35.0</td>\n      <td>0</td>\n      <td>0</td>\n      <td>8.0500</td>\n      <td>0</td>\n      <td>0</td>\n      <td>1</td>\n      <td>0.0</td>\n    </tr>\n  </tbody>\n</table>\n</div>"
     },
     "execution_count": 37,
     "metadata": {},
     "output_type": "execute_result"
    }
   ],
   "source": [
    "titanic_data.head()"
   ],
   "metadata": {
    "collapsed": false,
    "ExecuteTime": {
     "end_time": "2023-12-02T19:32:40.987481400Z",
     "start_time": "2023-12-02T19:32:40.965112500Z"
    }
   },
   "id": "e142d37dd0db5198"
  },
  {
   "cell_type": "markdown",
   "source": [
    "Сега да го видиме целото податочно множество. Од 714 патници, околу 40% преживеале, средната патничка класа е 2.23 (повеќе луѓе биле во класа 2 и 3, во споредба со подобрата класа 1), имало повеќе мажи, средната цена на билетот била околу 35 долари "
   ],
   "metadata": {
    "collapsed": false
   },
   "id": "e9b24d203f2478e0"
  },
  {
   "cell_type": "code",
   "execution_count": 38,
   "outputs": [
    {
     "data": {
      "text/plain": "         Survived      Pclass         Sex         Age       SibSp       Parch  \\\ncount  714.000000  714.000000  714.000000  714.000000  714.000000  714.000000   \nmean     0.406162    2.236695    0.634454   29.699118    0.512605    0.431373   \nstd      0.491460    0.838250    0.481921   14.526497    0.929783    0.853289   \nmin      0.000000    1.000000    0.000000    0.420000    0.000000    0.000000   \n25%      0.000000    1.000000    0.000000   20.125000    0.000000    0.000000   \n50%      0.000000    2.000000    1.000000   28.000000    0.000000    0.000000   \n75%      1.000000    3.000000    1.000000   38.000000    1.000000    1.000000   \nmax      1.000000    3.000000    1.000000   80.000000    5.000000    6.000000   \n\n             Fare  Embarked_C  Embarked_Q  Embarked_S  cluster_group  \ncount  714.000000  714.000000  714.000000  714.000000     714.000000  \nmean    34.694514    0.182073    0.039216    0.775910       0.051821  \nstd     52.918930    0.386175    0.194244    0.417274       0.240040  \nmin      0.000000    0.000000    0.000000    0.000000       0.000000  \n25%      8.050000    0.000000    0.000000    1.000000       0.000000  \n50%     15.741700    0.000000    0.000000    1.000000       0.000000  \n75%     33.375000    0.000000    0.000000    1.000000       0.000000  \nmax    512.329200    1.000000    1.000000    1.000000       2.000000  ",
      "text/html": "<div>\n<style scoped>\n    .dataframe tbody tr th:only-of-type {\n        vertical-align: middle;\n    }\n\n    .dataframe tbody tr th {\n        vertical-align: top;\n    }\n\n    .dataframe thead th {\n        text-align: right;\n    }\n</style>\n<table border=\"1\" class=\"dataframe\">\n  <thead>\n    <tr style=\"text-align: right;\">\n      <th></th>\n      <th>Survived</th>\n      <th>Pclass</th>\n      <th>Sex</th>\n      <th>Age</th>\n      <th>SibSp</th>\n      <th>Parch</th>\n      <th>Fare</th>\n      <th>Embarked_C</th>\n      <th>Embarked_Q</th>\n      <th>Embarked_S</th>\n      <th>cluster_group</th>\n    </tr>\n  </thead>\n  <tbody>\n    <tr>\n      <th>count</th>\n      <td>714.000000</td>\n      <td>714.000000</td>\n      <td>714.000000</td>\n      <td>714.000000</td>\n      <td>714.000000</td>\n      <td>714.000000</td>\n      <td>714.000000</td>\n      <td>714.000000</td>\n      <td>714.000000</td>\n      <td>714.000000</td>\n      <td>714.000000</td>\n    </tr>\n    <tr>\n      <th>mean</th>\n      <td>0.406162</td>\n      <td>2.236695</td>\n      <td>0.634454</td>\n      <td>29.699118</td>\n      <td>0.512605</td>\n      <td>0.431373</td>\n      <td>34.694514</td>\n      <td>0.182073</td>\n      <td>0.039216</td>\n      <td>0.775910</td>\n      <td>0.051821</td>\n    </tr>\n    <tr>\n      <th>std</th>\n      <td>0.491460</td>\n      <td>0.838250</td>\n      <td>0.481921</td>\n      <td>14.526497</td>\n      <td>0.929783</td>\n      <td>0.853289</td>\n      <td>52.918930</td>\n      <td>0.386175</td>\n      <td>0.194244</td>\n      <td>0.417274</td>\n      <td>0.240040</td>\n    </tr>\n    <tr>\n      <th>min</th>\n      <td>0.000000</td>\n      <td>1.000000</td>\n      <td>0.000000</td>\n      <td>0.420000</td>\n      <td>0.000000</td>\n      <td>0.000000</td>\n      <td>0.000000</td>\n      <td>0.000000</td>\n      <td>0.000000</td>\n      <td>0.000000</td>\n      <td>0.000000</td>\n    </tr>\n    <tr>\n      <th>25%</th>\n      <td>0.000000</td>\n      <td>1.000000</td>\n      <td>0.000000</td>\n      <td>20.125000</td>\n      <td>0.000000</td>\n      <td>0.000000</td>\n      <td>8.050000</td>\n      <td>0.000000</td>\n      <td>0.000000</td>\n      <td>1.000000</td>\n      <td>0.000000</td>\n    </tr>\n    <tr>\n      <th>50%</th>\n      <td>0.000000</td>\n      <td>2.000000</td>\n      <td>1.000000</td>\n      <td>28.000000</td>\n      <td>0.000000</td>\n      <td>0.000000</td>\n      <td>15.741700</td>\n      <td>0.000000</td>\n      <td>0.000000</td>\n      <td>1.000000</td>\n      <td>0.000000</td>\n    </tr>\n    <tr>\n      <th>75%</th>\n      <td>1.000000</td>\n      <td>3.000000</td>\n      <td>1.000000</td>\n      <td>38.000000</td>\n      <td>1.000000</td>\n      <td>1.000000</td>\n      <td>33.375000</td>\n      <td>0.000000</td>\n      <td>0.000000</td>\n      <td>1.000000</td>\n      <td>0.000000</td>\n    </tr>\n    <tr>\n      <th>max</th>\n      <td>1.000000</td>\n      <td>3.000000</td>\n      <td>1.000000</td>\n      <td>80.000000</td>\n      <td>5.000000</td>\n      <td>6.000000</td>\n      <td>512.329200</td>\n      <td>1.000000</td>\n      <td>1.000000</td>\n      <td>1.000000</td>\n      <td>2.000000</td>\n    </tr>\n  </tbody>\n</table>\n</div>"
     },
     "execution_count": 38,
     "metadata": {},
     "output_type": "execute_result"
    }
   ],
   "source": [
    "titanic_data.describe()"
   ],
   "metadata": {
    "collapsed": false,
    "ExecuteTime": {
     "end_time": "2023-12-02T19:32:42.732087100Z",
     "start_time": "2023-12-02T19:32:42.703065500Z"
    }
   },
   "id": "6168bb53531ae0c"
  },
  {
   "cell_type": "markdown",
   "source": [
    "Да ги групираме патниците по кластер и да ја најдеме средната вредност на сите променливи во рамки на еден кластер"
   ],
   "metadata": {
    "collapsed": false
   },
   "id": "218c4f69128e05e3"
  },
  {
   "cell_type": "code",
   "execution_count": 39,
   "outputs": [
    {
     "data": {
      "text/plain": "               Survived    Pclass       Sex        Age     SibSp     Parch  \\\ncluster_group                                                                \n0.0            0.388235  2.298529  0.651471  29.559191  0.505882  0.404412   \n1.0            0.741935  1.000000  0.258065  32.223226  0.709677  1.032258   \n2.0            1.000000  1.000000  0.666667  35.333333  0.000000  0.333333   \n\n                     Fare  Embarked_C  Embarked_Q  Embarked_S  \ncluster_group                                                  \n0.0             25.415625    0.167647    0.041176    0.788235  \n1.0            192.008732    0.419355    0.000000    0.580645  \n2.0            512.329200    1.000000    0.000000    0.000000  ",
      "text/html": "<div>\n<style scoped>\n    .dataframe tbody tr th:only-of-type {\n        vertical-align: middle;\n    }\n\n    .dataframe tbody tr th {\n        vertical-align: top;\n    }\n\n    .dataframe thead th {\n        text-align: right;\n    }\n</style>\n<table border=\"1\" class=\"dataframe\">\n  <thead>\n    <tr style=\"text-align: right;\">\n      <th></th>\n      <th>Survived</th>\n      <th>Pclass</th>\n      <th>Sex</th>\n      <th>Age</th>\n      <th>SibSp</th>\n      <th>Parch</th>\n      <th>Fare</th>\n      <th>Embarked_C</th>\n      <th>Embarked_Q</th>\n      <th>Embarked_S</th>\n    </tr>\n    <tr>\n      <th>cluster_group</th>\n      <th></th>\n      <th></th>\n      <th></th>\n      <th></th>\n      <th></th>\n      <th></th>\n      <th></th>\n      <th></th>\n      <th></th>\n      <th></th>\n    </tr>\n  </thead>\n  <tbody>\n    <tr>\n      <th>0.0</th>\n      <td>0.388235</td>\n      <td>2.298529</td>\n      <td>0.651471</td>\n      <td>29.559191</td>\n      <td>0.505882</td>\n      <td>0.404412</td>\n      <td>25.415625</td>\n      <td>0.167647</td>\n      <td>0.041176</td>\n      <td>0.788235</td>\n    </tr>\n    <tr>\n      <th>1.0</th>\n      <td>0.741935</td>\n      <td>1.000000</td>\n      <td>0.258065</td>\n      <td>32.223226</td>\n      <td>0.709677</td>\n      <td>1.032258</td>\n      <td>192.008732</td>\n      <td>0.419355</td>\n      <td>0.000000</td>\n      <td>0.580645</td>\n    </tr>\n    <tr>\n      <th>2.0</th>\n      <td>1.000000</td>\n      <td>1.000000</td>\n      <td>0.666667</td>\n      <td>35.333333</td>\n      <td>0.000000</td>\n      <td>0.333333</td>\n      <td>512.329200</td>\n      <td>1.000000</td>\n      <td>0.000000</td>\n      <td>0.000000</td>\n    </tr>\n  </tbody>\n</table>\n</div>"
     },
     "execution_count": 39,
     "metadata": {},
     "output_type": "execute_result"
    }
   ],
   "source": [
    "titanic_cluster_data = titanic_data.groupby(['cluster_group']).mean()\n",
    "titanic_cluster_data"
   ],
   "metadata": {
    "collapsed": false,
    "ExecuteTime": {
     "end_time": "2023-12-02T19:32:43.731199200Z",
     "start_time": "2023-12-02T19:32:43.706776Z"
    }
   },
   "id": "60209d72dc631f04"
  },
  {
   "cell_type": "markdown",
   "source": [
    "Да ги видиме и бројот на патници во секој кластер. Гледаме дека имаме 2 кластери кои имаат репрезентативен број на патници. Третиот кластер има само 3 патници и не е репрезентативен. \n",
    "Во првиот кластер голем дел од патниците не преживеале и патниците биле од полошите класи (2 и 3 класа), има повеќе мажи од жени и цената на билетот е под просекот.\n",
    "Вториот кластер се состои од голем дел од патниците кои преживеале и тоа биле патници претежно од прва класа и претежно жени кои го платиле билетот доста над просекот"
   ],
   "metadata": {
    "collapsed": false
   },
   "id": "9de3c7a20a800c15"
  },
  {
   "cell_type": "code",
   "execution_count": 40,
   "outputs": [
    {
     "data": {
      "text/plain": "               Survived    Pclass       Sex        Age     SibSp     Parch  \\\ncluster_group                                                                \n0.0            0.388235  2.298529  0.651471  29.559191  0.505882  0.404412   \n1.0            0.741935  1.000000  0.258065  32.223226  0.709677  1.032258   \n2.0            1.000000  1.000000  0.666667  35.333333  0.000000  0.333333   \n\n                     Fare  Embarked_C  Embarked_Q  Embarked_S  Counts  \ncluster_group                                                          \n0.0             25.415625    0.167647    0.041176    0.788235     680  \n1.0            192.008732    0.419355    0.000000    0.580645      31  \n2.0            512.329200    1.000000    0.000000    0.000000       3  ",
      "text/html": "<div>\n<style scoped>\n    .dataframe tbody tr th:only-of-type {\n        vertical-align: middle;\n    }\n\n    .dataframe tbody tr th {\n        vertical-align: top;\n    }\n\n    .dataframe thead th {\n        text-align: right;\n    }\n</style>\n<table border=\"1\" class=\"dataframe\">\n  <thead>\n    <tr style=\"text-align: right;\">\n      <th></th>\n      <th>Survived</th>\n      <th>Pclass</th>\n      <th>Sex</th>\n      <th>Age</th>\n      <th>SibSp</th>\n      <th>Parch</th>\n      <th>Fare</th>\n      <th>Embarked_C</th>\n      <th>Embarked_Q</th>\n      <th>Embarked_S</th>\n      <th>Counts</th>\n    </tr>\n    <tr>\n      <th>cluster_group</th>\n      <th></th>\n      <th></th>\n      <th></th>\n      <th></th>\n      <th></th>\n      <th></th>\n      <th></th>\n      <th></th>\n      <th></th>\n      <th></th>\n      <th></th>\n    </tr>\n  </thead>\n  <tbody>\n    <tr>\n      <th>0.0</th>\n      <td>0.388235</td>\n      <td>2.298529</td>\n      <td>0.651471</td>\n      <td>29.559191</td>\n      <td>0.505882</td>\n      <td>0.404412</td>\n      <td>25.415625</td>\n      <td>0.167647</td>\n      <td>0.041176</td>\n      <td>0.788235</td>\n      <td>680</td>\n    </tr>\n    <tr>\n      <th>1.0</th>\n      <td>0.741935</td>\n      <td>1.000000</td>\n      <td>0.258065</td>\n      <td>32.223226</td>\n      <td>0.709677</td>\n      <td>1.032258</td>\n      <td>192.008732</td>\n      <td>0.419355</td>\n      <td>0.000000</td>\n      <td>0.580645</td>\n      <td>31</td>\n    </tr>\n    <tr>\n      <th>2.0</th>\n      <td>1.000000</td>\n      <td>1.000000</td>\n      <td>0.666667</td>\n      <td>35.333333</td>\n      <td>0.000000</td>\n      <td>0.333333</td>\n      <td>512.329200</td>\n      <td>1.000000</td>\n      <td>0.000000</td>\n      <td>0.000000</td>\n      <td>3</td>\n    </tr>\n  </tbody>\n</table>\n</div>"
     },
     "execution_count": 40,
     "metadata": {},
     "output_type": "execute_result"
    }
   ],
   "source": [
    "titanic_cluster_data['Counts'] = pd.Series(titanic_data.groupby(['cluster_group']).size())\n",
    "titanic_cluster_data"
   ],
   "metadata": {
    "collapsed": false,
    "ExecuteTime": {
     "end_time": "2023-12-02T19:32:45.216608700Z",
     "start_time": "2023-12-02T19:32:45.196380Z"
    }
   },
   "id": "bfccd272612b897"
  },
  {
   "cell_type": "markdown",
   "source": [
    "Да ги погледнеме податоците за вториот кластер (кластер на преживеани), можете да ја забележите вредноста на билетот што ја платиле, која за тоа време е прилично висока. "
   ],
   "metadata": {
    "collapsed": false
   },
   "id": "5db7ede5657692ec"
  },
  {
   "cell_type": "code",
   "execution_count": 41,
   "outputs": [
    {
     "data": {
      "text/plain": "        Survived  Pclass        Sex        Age      SibSp      Parch  \\\ncount  31.000000    31.0  31.000000  31.000000  31.000000  31.000000   \nmean    0.741935     1.0   0.258065  32.223226   0.709677   1.032258   \nstd     0.444803     0.0   0.444803  15.327994   1.006431   1.016001   \nmin     0.000000     1.0   0.000000   0.920000   0.000000   0.000000   \n25%     0.500000     1.0   0.000000  22.000000   0.000000   0.000000   \n50%     1.000000     1.0   0.000000  31.000000   0.000000   1.000000   \n75%     1.000000     1.0   0.500000  41.500000   1.000000   2.000000   \nmax     1.000000     1.0   1.000000  64.000000   3.000000   4.000000   \n\n             Fare  Embarked_C  Embarked_Q  Embarked_S  cluster_group  \ncount   31.000000   31.000000        31.0   31.000000           31.0  \nmean   192.008732    0.419355         0.0    0.580645            1.0  \nstd     50.203716    0.501610         0.0    0.501610            0.0  \nmin    133.650000    0.000000         0.0    0.000000            1.0  \n25%    151.550000    0.000000         0.0    0.000000            1.0  \n50%    164.866700    0.000000         0.0    1.000000            1.0  \n75%    237.522900    1.000000         0.0    1.000000            1.0  \nmax    263.000000    1.000000         0.0    1.000000            1.0  ",
      "text/html": "<div>\n<style scoped>\n    .dataframe tbody tr th:only-of-type {\n        vertical-align: middle;\n    }\n\n    .dataframe tbody tr th {\n        vertical-align: top;\n    }\n\n    .dataframe thead th {\n        text-align: right;\n    }\n</style>\n<table border=\"1\" class=\"dataframe\">\n  <thead>\n    <tr style=\"text-align: right;\">\n      <th></th>\n      <th>Survived</th>\n      <th>Pclass</th>\n      <th>Sex</th>\n      <th>Age</th>\n      <th>SibSp</th>\n      <th>Parch</th>\n      <th>Fare</th>\n      <th>Embarked_C</th>\n      <th>Embarked_Q</th>\n      <th>Embarked_S</th>\n      <th>cluster_group</th>\n    </tr>\n  </thead>\n  <tbody>\n    <tr>\n      <th>count</th>\n      <td>31.000000</td>\n      <td>31.0</td>\n      <td>31.000000</td>\n      <td>31.000000</td>\n      <td>31.000000</td>\n      <td>31.000000</td>\n      <td>31.000000</td>\n      <td>31.000000</td>\n      <td>31.0</td>\n      <td>31.000000</td>\n      <td>31.0</td>\n    </tr>\n    <tr>\n      <th>mean</th>\n      <td>0.741935</td>\n      <td>1.0</td>\n      <td>0.258065</td>\n      <td>32.223226</td>\n      <td>0.709677</td>\n      <td>1.032258</td>\n      <td>192.008732</td>\n      <td>0.419355</td>\n      <td>0.0</td>\n      <td>0.580645</td>\n      <td>1.0</td>\n    </tr>\n    <tr>\n      <th>std</th>\n      <td>0.444803</td>\n      <td>0.0</td>\n      <td>0.444803</td>\n      <td>15.327994</td>\n      <td>1.006431</td>\n      <td>1.016001</td>\n      <td>50.203716</td>\n      <td>0.501610</td>\n      <td>0.0</td>\n      <td>0.501610</td>\n      <td>0.0</td>\n    </tr>\n    <tr>\n      <th>min</th>\n      <td>0.000000</td>\n      <td>1.0</td>\n      <td>0.000000</td>\n      <td>0.920000</td>\n      <td>0.000000</td>\n      <td>0.000000</td>\n      <td>133.650000</td>\n      <td>0.000000</td>\n      <td>0.0</td>\n      <td>0.000000</td>\n      <td>1.0</td>\n    </tr>\n    <tr>\n      <th>25%</th>\n      <td>0.500000</td>\n      <td>1.0</td>\n      <td>0.000000</td>\n      <td>22.000000</td>\n      <td>0.000000</td>\n      <td>0.000000</td>\n      <td>151.550000</td>\n      <td>0.000000</td>\n      <td>0.0</td>\n      <td>0.000000</td>\n      <td>1.0</td>\n    </tr>\n    <tr>\n      <th>50%</th>\n      <td>1.000000</td>\n      <td>1.0</td>\n      <td>0.000000</td>\n      <td>31.000000</td>\n      <td>0.000000</td>\n      <td>1.000000</td>\n      <td>164.866700</td>\n      <td>0.000000</td>\n      <td>0.0</td>\n      <td>1.000000</td>\n      <td>1.0</td>\n    </tr>\n    <tr>\n      <th>75%</th>\n      <td>1.000000</td>\n      <td>1.0</td>\n      <td>0.500000</td>\n      <td>41.500000</td>\n      <td>1.000000</td>\n      <td>2.000000</td>\n      <td>237.522900</td>\n      <td>1.000000</td>\n      <td>0.0</td>\n      <td>1.000000</td>\n      <td>1.0</td>\n    </tr>\n    <tr>\n      <th>max</th>\n      <td>1.000000</td>\n      <td>1.0</td>\n      <td>1.000000</td>\n      <td>64.000000</td>\n      <td>3.000000</td>\n      <td>4.000000</td>\n      <td>263.000000</td>\n      <td>1.000000</td>\n      <td>0.0</td>\n      <td>1.000000</td>\n      <td>1.0</td>\n    </tr>\n  </tbody>\n</table>\n</div>"
     },
     "execution_count": 41,
     "metadata": {},
     "output_type": "execute_result"
    }
   ],
   "source": [
    "titanic_data[titanic_data['cluster_group'] == 1].describe()"
   ],
   "metadata": {
    "collapsed": false,
    "ExecuteTime": {
     "end_time": "2023-12-02T19:33:01.989104100Z",
     "start_time": "2023-12-02T19:33:01.952285600Z"
    }
   },
   "id": "837b9253f81f00b0"
  },
  {
   "cell_type": "code",
   "execution_count": 42,
   "outputs": [
    {
     "data": {
      "text/plain": "     Survived  Pclass  Sex    Age  SibSp  Parch      Fare  Embarked_C  \\\n27          0       1    1  19.00      3      2  263.0000           0   \n88          1       1    0  23.00      3      2  263.0000           0   \n118         0       1    1  24.00      0      1  247.5208           1   \n195         1       1    0  58.00      0      0  146.5208           1   \n268         1       1    0  58.00      0      1  153.4625           0   \n269         1       1    0  35.00      0      0  135.6333           0   \n297         0       1    0   2.00      1      2  151.5500           0   \n299         1       1    0  50.00      0      1  247.5208           1   \n305         1       1    1   0.92      1      2  151.5500           0   \n311         1       1    0  18.00      2      2  262.3750           1   \n318         1       1    0  31.00      0      2  164.8667           0   \n319         1       1    0  40.00      1      1  134.5000           1   \n325         1       1    0  36.00      0      0  135.6333           1   \n332         0       1    1  38.00      0      1  153.4625           0   \n337         1       1    0  41.00      0      0  134.5000           1   \n341         1       1    0  24.00      3      2  263.0000           0   \n373         0       1    1  22.00      0      0  135.6333           1   \n377         0       1    1  27.00      0      2  211.5000           1   \n380         1       1    0  42.00      0      0  227.5250           1   \n438         0       1    1  64.00      1      4  263.0000           0   \n498         0       1    0  25.00      1      2  151.5500           0   \n609         1       1    0  40.00      0      0  153.4625           0   \n660         1       1    1  50.00      2      0  133.6500           0   \n689         1       1    0  15.00      0      1  211.3375           0   \n700         1       1    0  18.00      1      0  227.5250           1   \n708         1       1    0  22.00      0      0  151.5500           0   \n716         1       1    0  38.00      0      0  227.5250           1   \n730         1       1    0  29.00      0      0  211.3375           0   \n742         1       1    0  21.00      2      2  262.3750           1   \n779         1       1    0  43.00      0      1  211.3375           0   \n856         1       1    0  45.00      1      1  164.8667           0   \n\n     Embarked_Q  Embarked_S  cluster_group  \n27            0           1            1.0  \n88            0           1            1.0  \n118           0           0            1.0  \n195           0           0            1.0  \n268           0           1            1.0  \n269           0           1            1.0  \n297           0           1            1.0  \n299           0           0            1.0  \n305           0           1            1.0  \n311           0           0            1.0  \n318           0           1            1.0  \n319           0           0            1.0  \n325           0           0            1.0  \n332           0           1            1.0  \n337           0           0            1.0  \n341           0           1            1.0  \n373           0           0            1.0  \n377           0           0            1.0  \n380           0           0            1.0  \n438           0           1            1.0  \n498           0           1            1.0  \n609           0           1            1.0  \n660           0           1            1.0  \n689           0           1            1.0  \n700           0           0            1.0  \n708           0           1            1.0  \n716           0           0            1.0  \n730           0           1            1.0  \n742           0           0            1.0  \n779           0           1            1.0  \n856           0           1            1.0  ",
      "text/html": "<div>\n<style scoped>\n    .dataframe tbody tr th:only-of-type {\n        vertical-align: middle;\n    }\n\n    .dataframe tbody tr th {\n        vertical-align: top;\n    }\n\n    .dataframe thead th {\n        text-align: right;\n    }\n</style>\n<table border=\"1\" class=\"dataframe\">\n  <thead>\n    <tr style=\"text-align: right;\">\n      <th></th>\n      <th>Survived</th>\n      <th>Pclass</th>\n      <th>Sex</th>\n      <th>Age</th>\n      <th>SibSp</th>\n      <th>Parch</th>\n      <th>Fare</th>\n      <th>Embarked_C</th>\n      <th>Embarked_Q</th>\n      <th>Embarked_S</th>\n      <th>cluster_group</th>\n    </tr>\n  </thead>\n  <tbody>\n    <tr>\n      <th>27</th>\n      <td>0</td>\n      <td>1</td>\n      <td>1</td>\n      <td>19.00</td>\n      <td>3</td>\n      <td>2</td>\n      <td>263.0000</td>\n      <td>0</td>\n      <td>0</td>\n      <td>1</td>\n      <td>1.0</td>\n    </tr>\n    <tr>\n      <th>88</th>\n      <td>1</td>\n      <td>1</td>\n      <td>0</td>\n      <td>23.00</td>\n      <td>3</td>\n      <td>2</td>\n      <td>263.0000</td>\n      <td>0</td>\n      <td>0</td>\n      <td>1</td>\n      <td>1.0</td>\n    </tr>\n    <tr>\n      <th>118</th>\n      <td>0</td>\n      <td>1</td>\n      <td>1</td>\n      <td>24.00</td>\n      <td>0</td>\n      <td>1</td>\n      <td>247.5208</td>\n      <td>1</td>\n      <td>0</td>\n      <td>0</td>\n      <td>1.0</td>\n    </tr>\n    <tr>\n      <th>195</th>\n      <td>1</td>\n      <td>1</td>\n      <td>0</td>\n      <td>58.00</td>\n      <td>0</td>\n      <td>0</td>\n      <td>146.5208</td>\n      <td>1</td>\n      <td>0</td>\n      <td>0</td>\n      <td>1.0</td>\n    </tr>\n    <tr>\n      <th>268</th>\n      <td>1</td>\n      <td>1</td>\n      <td>0</td>\n      <td>58.00</td>\n      <td>0</td>\n      <td>1</td>\n      <td>153.4625</td>\n      <td>0</td>\n      <td>0</td>\n      <td>1</td>\n      <td>1.0</td>\n    </tr>\n    <tr>\n      <th>269</th>\n      <td>1</td>\n      <td>1</td>\n      <td>0</td>\n      <td>35.00</td>\n      <td>0</td>\n      <td>0</td>\n      <td>135.6333</td>\n      <td>0</td>\n      <td>0</td>\n      <td>1</td>\n      <td>1.0</td>\n    </tr>\n    <tr>\n      <th>297</th>\n      <td>0</td>\n      <td>1</td>\n      <td>0</td>\n      <td>2.00</td>\n      <td>1</td>\n      <td>2</td>\n      <td>151.5500</td>\n      <td>0</td>\n      <td>0</td>\n      <td>1</td>\n      <td>1.0</td>\n    </tr>\n    <tr>\n      <th>299</th>\n      <td>1</td>\n      <td>1</td>\n      <td>0</td>\n      <td>50.00</td>\n      <td>0</td>\n      <td>1</td>\n      <td>247.5208</td>\n      <td>1</td>\n      <td>0</td>\n      <td>0</td>\n      <td>1.0</td>\n    </tr>\n    <tr>\n      <th>305</th>\n      <td>1</td>\n      <td>1</td>\n      <td>1</td>\n      <td>0.92</td>\n      <td>1</td>\n      <td>2</td>\n      <td>151.5500</td>\n      <td>0</td>\n      <td>0</td>\n      <td>1</td>\n      <td>1.0</td>\n    </tr>\n    <tr>\n      <th>311</th>\n      <td>1</td>\n      <td>1</td>\n      <td>0</td>\n      <td>18.00</td>\n      <td>2</td>\n      <td>2</td>\n      <td>262.3750</td>\n      <td>1</td>\n      <td>0</td>\n      <td>0</td>\n      <td>1.0</td>\n    </tr>\n    <tr>\n      <th>318</th>\n      <td>1</td>\n      <td>1</td>\n      <td>0</td>\n      <td>31.00</td>\n      <td>0</td>\n      <td>2</td>\n      <td>164.8667</td>\n      <td>0</td>\n      <td>0</td>\n      <td>1</td>\n      <td>1.0</td>\n    </tr>\n    <tr>\n      <th>319</th>\n      <td>1</td>\n      <td>1</td>\n      <td>0</td>\n      <td>40.00</td>\n      <td>1</td>\n      <td>1</td>\n      <td>134.5000</td>\n      <td>1</td>\n      <td>0</td>\n      <td>0</td>\n      <td>1.0</td>\n    </tr>\n    <tr>\n      <th>325</th>\n      <td>1</td>\n      <td>1</td>\n      <td>0</td>\n      <td>36.00</td>\n      <td>0</td>\n      <td>0</td>\n      <td>135.6333</td>\n      <td>1</td>\n      <td>0</td>\n      <td>0</td>\n      <td>1.0</td>\n    </tr>\n    <tr>\n      <th>332</th>\n      <td>0</td>\n      <td>1</td>\n      <td>1</td>\n      <td>38.00</td>\n      <td>0</td>\n      <td>1</td>\n      <td>153.4625</td>\n      <td>0</td>\n      <td>0</td>\n      <td>1</td>\n      <td>1.0</td>\n    </tr>\n    <tr>\n      <th>337</th>\n      <td>1</td>\n      <td>1</td>\n      <td>0</td>\n      <td>41.00</td>\n      <td>0</td>\n      <td>0</td>\n      <td>134.5000</td>\n      <td>1</td>\n      <td>0</td>\n      <td>0</td>\n      <td>1.0</td>\n    </tr>\n    <tr>\n      <th>341</th>\n      <td>1</td>\n      <td>1</td>\n      <td>0</td>\n      <td>24.00</td>\n      <td>3</td>\n      <td>2</td>\n      <td>263.0000</td>\n      <td>0</td>\n      <td>0</td>\n      <td>1</td>\n      <td>1.0</td>\n    </tr>\n    <tr>\n      <th>373</th>\n      <td>0</td>\n      <td>1</td>\n      <td>1</td>\n      <td>22.00</td>\n      <td>0</td>\n      <td>0</td>\n      <td>135.6333</td>\n      <td>1</td>\n      <td>0</td>\n      <td>0</td>\n      <td>1.0</td>\n    </tr>\n    <tr>\n      <th>377</th>\n      <td>0</td>\n      <td>1</td>\n      <td>1</td>\n      <td>27.00</td>\n      <td>0</td>\n      <td>2</td>\n      <td>211.5000</td>\n      <td>1</td>\n      <td>0</td>\n      <td>0</td>\n      <td>1.0</td>\n    </tr>\n    <tr>\n      <th>380</th>\n      <td>1</td>\n      <td>1</td>\n      <td>0</td>\n      <td>42.00</td>\n      <td>0</td>\n      <td>0</td>\n      <td>227.5250</td>\n      <td>1</td>\n      <td>0</td>\n      <td>0</td>\n      <td>1.0</td>\n    </tr>\n    <tr>\n      <th>438</th>\n      <td>0</td>\n      <td>1</td>\n      <td>1</td>\n      <td>64.00</td>\n      <td>1</td>\n      <td>4</td>\n      <td>263.0000</td>\n      <td>0</td>\n      <td>0</td>\n      <td>1</td>\n      <td>1.0</td>\n    </tr>\n    <tr>\n      <th>498</th>\n      <td>0</td>\n      <td>1</td>\n      <td>0</td>\n      <td>25.00</td>\n      <td>1</td>\n      <td>2</td>\n      <td>151.5500</td>\n      <td>0</td>\n      <td>0</td>\n      <td>1</td>\n      <td>1.0</td>\n    </tr>\n    <tr>\n      <th>609</th>\n      <td>1</td>\n      <td>1</td>\n      <td>0</td>\n      <td>40.00</td>\n      <td>0</td>\n      <td>0</td>\n      <td>153.4625</td>\n      <td>0</td>\n      <td>0</td>\n      <td>1</td>\n      <td>1.0</td>\n    </tr>\n    <tr>\n      <th>660</th>\n      <td>1</td>\n      <td>1</td>\n      <td>1</td>\n      <td>50.00</td>\n      <td>2</td>\n      <td>0</td>\n      <td>133.6500</td>\n      <td>0</td>\n      <td>0</td>\n      <td>1</td>\n      <td>1.0</td>\n    </tr>\n    <tr>\n      <th>689</th>\n      <td>1</td>\n      <td>1</td>\n      <td>0</td>\n      <td>15.00</td>\n      <td>0</td>\n      <td>1</td>\n      <td>211.3375</td>\n      <td>0</td>\n      <td>0</td>\n      <td>1</td>\n      <td>1.0</td>\n    </tr>\n    <tr>\n      <th>700</th>\n      <td>1</td>\n      <td>1</td>\n      <td>0</td>\n      <td>18.00</td>\n      <td>1</td>\n      <td>0</td>\n      <td>227.5250</td>\n      <td>1</td>\n      <td>0</td>\n      <td>0</td>\n      <td>1.0</td>\n    </tr>\n    <tr>\n      <th>708</th>\n      <td>1</td>\n      <td>1</td>\n      <td>0</td>\n      <td>22.00</td>\n      <td>0</td>\n      <td>0</td>\n      <td>151.5500</td>\n      <td>0</td>\n      <td>0</td>\n      <td>1</td>\n      <td>1.0</td>\n    </tr>\n    <tr>\n      <th>716</th>\n      <td>1</td>\n      <td>1</td>\n      <td>0</td>\n      <td>38.00</td>\n      <td>0</td>\n      <td>0</td>\n      <td>227.5250</td>\n      <td>1</td>\n      <td>0</td>\n      <td>0</td>\n      <td>1.0</td>\n    </tr>\n    <tr>\n      <th>730</th>\n      <td>1</td>\n      <td>1</td>\n      <td>0</td>\n      <td>29.00</td>\n      <td>0</td>\n      <td>0</td>\n      <td>211.3375</td>\n      <td>0</td>\n      <td>0</td>\n      <td>1</td>\n      <td>1.0</td>\n    </tr>\n    <tr>\n      <th>742</th>\n      <td>1</td>\n      <td>1</td>\n      <td>0</td>\n      <td>21.00</td>\n      <td>2</td>\n      <td>2</td>\n      <td>262.3750</td>\n      <td>1</td>\n      <td>0</td>\n      <td>0</td>\n      <td>1.0</td>\n    </tr>\n    <tr>\n      <th>779</th>\n      <td>1</td>\n      <td>1</td>\n      <td>0</td>\n      <td>43.00</td>\n      <td>0</td>\n      <td>1</td>\n      <td>211.3375</td>\n      <td>0</td>\n      <td>0</td>\n      <td>1</td>\n      <td>1.0</td>\n    </tr>\n    <tr>\n      <th>856</th>\n      <td>1</td>\n      <td>1</td>\n      <td>0</td>\n      <td>45.00</td>\n      <td>1</td>\n      <td>1</td>\n      <td>164.8667</td>\n      <td>0</td>\n      <td>0</td>\n      <td>1</td>\n      <td>1.0</td>\n    </tr>\n  </tbody>\n</table>\n</div>"
     },
     "execution_count": 42,
     "metadata": {},
     "output_type": "execute_result"
    }
   ],
   "source": [
    "titanic_data[titanic_data['cluster_group'] == 1]"
   ],
   "metadata": {
    "collapsed": false,
    "ExecuteTime": {
     "end_time": "2023-12-02T19:33:16.085549800Z",
     "start_time": "2023-12-02T19:33:16.062859200Z"
    }
   },
   "id": "cbb8f177753f561a"
  },
  {
   "cell_type": "markdown",
   "source": [
    "## Самостојна работа"
   ],
   "metadata": {
    "collapsed": false
   },
   "id": "98093c32cabd6c56"
  },
  {
   "cell_type": "markdown",
   "source": [
    "Пробајте го алгоритмот со bandiwdth=30 и анализирајте ги резултатите.\n",
    "Колку кластери добивате вака?\n",
    "Колку од овие кластери се репрезентативни?\n",
    "Пробајте да ги објасните кластерите преку информациите за патниците во соодветните кластери"
   ],
   "metadata": {
    "collapsed": false
   },
   "id": "8b7811b6f442555f"
  },
  {
   "cell_type": "markdown",
   "source": [
    "### Ги предаваме податоците на MeanShift алгоритмот"
   ],
   "metadata": {
    "collapsed": false
   },
   "id": "4f7d82f238cd8fa9"
  },
  {
   "cell_type": "code",
   "execution_count": 50,
   "outputs": [
    {
     "data": {
      "text/plain": "MeanShift(bandwidth=30)",
      "text/html": "<style>#sk-container-id-4 {color: black;background-color: white;}#sk-container-id-4 pre{padding: 0;}#sk-container-id-4 div.sk-toggleable {background-color: white;}#sk-container-id-4 label.sk-toggleable__label {cursor: pointer;display: block;width: 100%;margin-bottom: 0;padding: 0.3em;box-sizing: border-box;text-align: center;}#sk-container-id-4 label.sk-toggleable__label-arrow:before {content: \"▸\";float: left;margin-right: 0.25em;color: #696969;}#sk-container-id-4 label.sk-toggleable__label-arrow:hover:before {color: black;}#sk-container-id-4 div.sk-estimator:hover label.sk-toggleable__label-arrow:before {color: black;}#sk-container-id-4 div.sk-toggleable__content {max-height: 0;max-width: 0;overflow: hidden;text-align: left;background-color: #f0f8ff;}#sk-container-id-4 div.sk-toggleable__content pre {margin: 0.2em;color: black;border-radius: 0.25em;background-color: #f0f8ff;}#sk-container-id-4 input.sk-toggleable__control:checked~div.sk-toggleable__content {max-height: 200px;max-width: 100%;overflow: auto;}#sk-container-id-4 input.sk-toggleable__control:checked~label.sk-toggleable__label-arrow:before {content: \"▾\";}#sk-container-id-4 div.sk-estimator input.sk-toggleable__control:checked~label.sk-toggleable__label {background-color: #d4ebff;}#sk-container-id-4 div.sk-label input.sk-toggleable__control:checked~label.sk-toggleable__label {background-color: #d4ebff;}#sk-container-id-4 input.sk-hidden--visually {border: 0;clip: rect(1px 1px 1px 1px);clip: rect(1px, 1px, 1px, 1px);height: 1px;margin: -1px;overflow: hidden;padding: 0;position: absolute;width: 1px;}#sk-container-id-4 div.sk-estimator {font-family: monospace;background-color: #f0f8ff;border: 1px dotted black;border-radius: 0.25em;box-sizing: border-box;margin-bottom: 0.5em;}#sk-container-id-4 div.sk-estimator:hover {background-color: #d4ebff;}#sk-container-id-4 div.sk-parallel-item::after {content: \"\";width: 100%;border-bottom: 1px solid gray;flex-grow: 1;}#sk-container-id-4 div.sk-label:hover label.sk-toggleable__label {background-color: #d4ebff;}#sk-container-id-4 div.sk-serial::before {content: \"\";position: absolute;border-left: 1px solid gray;box-sizing: border-box;top: 0;bottom: 0;left: 50%;z-index: 0;}#sk-container-id-4 div.sk-serial {display: flex;flex-direction: column;align-items: center;background-color: white;padding-right: 0.2em;padding-left: 0.2em;position: relative;}#sk-container-id-4 div.sk-item {position: relative;z-index: 1;}#sk-container-id-4 div.sk-parallel {display: flex;align-items: stretch;justify-content: center;background-color: white;position: relative;}#sk-container-id-4 div.sk-item::before, #sk-container-id-4 div.sk-parallel-item::before {content: \"\";position: absolute;border-left: 1px solid gray;box-sizing: border-box;top: 0;bottom: 0;left: 50%;z-index: -1;}#sk-container-id-4 div.sk-parallel-item {display: flex;flex-direction: column;z-index: 1;position: relative;background-color: white;}#sk-container-id-4 div.sk-parallel-item:first-child::after {align-self: flex-end;width: 50%;}#sk-container-id-4 div.sk-parallel-item:last-child::after {align-self: flex-start;width: 50%;}#sk-container-id-4 div.sk-parallel-item:only-child::after {width: 0;}#sk-container-id-4 div.sk-dashed-wrapped {border: 1px dashed gray;margin: 0 0.4em 0.5em 0.4em;box-sizing: border-box;padding-bottom: 0.4em;background-color: white;}#sk-container-id-4 div.sk-label label {font-family: monospace;font-weight: bold;display: inline-block;line-height: 1.2em;}#sk-container-id-4 div.sk-label-container {text-align: center;}#sk-container-id-4 div.sk-container {/* jupyter's `normalize.less` sets `[hidden] { display: none; }` but bootstrap.min.css set `[hidden] { display: none !important; }` so we also need the `!important` here to be able to override the default hidden behavior on the sphinx rendered scikit-learn.org. See: https://github.com/scikit-learn/scikit-learn/issues/21755 */display: inline-block !important;position: relative;}#sk-container-id-4 div.sk-text-repr-fallback {display: none;}</style><div id=\"sk-container-id-4\" class=\"sk-top-container\"><div class=\"sk-text-repr-fallback\"><pre>MeanShift(bandwidth=30)</pre><b>In a Jupyter environment, please rerun this cell to show the HTML representation or trust the notebook. <br />On GitHub, the HTML representation is unable to render, please try loading this page with nbviewer.org.</b></div><div class=\"sk-container\" hidden><div class=\"sk-item\"><div class=\"sk-estimator sk-toggleable\"><input class=\"sk-toggleable__control sk-hidden--visually\" id=\"sk-estimator-id-4\" type=\"checkbox\" checked><label for=\"sk-estimator-id-4\" class=\"sk-toggleable__label sk-toggleable__label-arrow\">MeanShift</label><div class=\"sk-toggleable__content\"><pre>MeanShift(bandwidth=30)</pre></div></div></div></div></div>"
     },
     "execution_count": 50,
     "metadata": {},
     "output_type": "execute_result"
    }
   ],
   "source": [
    "from sklearn.cluster import MeanShift\n",
    "\n",
    "analyzer = MeanShift(bandwidth=30)\n",
    "analyzer.fit(titanic_data)"
   ],
   "metadata": {
    "collapsed": false,
    "ExecuteTime": {
     "end_time": "2023-12-02T19:40:22.995920Z",
     "start_time": "2023-12-02T19:40:21.490534500Z"
    }
   },
   "id": "6831bf4c63830e50"
  },
  {
   "cell_type": "markdown",
   "source": [
    "### Гледаме колку категории добивме"
   ],
   "metadata": {
    "collapsed": false
   },
   "id": "47f1e249432a6ac9"
  },
  {
   "cell_type": "code",
   "execution_count": 47,
   "outputs": [
    {
     "data": {
      "text/plain": "array([0, 1, 2, 3, 4], dtype=int64)"
     },
     "execution_count": 47,
     "metadata": {},
     "output_type": "execute_result"
    }
   ],
   "source": [
    "labels = analyzer.labels_\n",
    "import numpy as np\n",
    "\n",
    "np.unique(labels)"
   ],
   "metadata": {
    "collapsed": false,
    "ExecuteTime": {
     "end_time": "2023-12-02T19:38:40.493792700Z",
     "start_time": "2023-12-02T19:38:40.478000200Z"
    }
   },
   "id": "816491ba399c307b"
  },
  {
   "cell_type": "markdown",
   "source": [
    "### Додаваме нова колона во DataFrame-от за групата на кластерот"
   ],
   "metadata": {
    "collapsed": false
   },
   "id": "569d366824195cce"
  },
  {
   "cell_type": "code",
   "execution_count": 48,
   "outputs": [],
   "source": [
    "titanic_data['cluster_group'] = np.nan\n",
    "data_length = len(titanic_data)\n",
    "for i in range(data_length):\n",
    "    titanic_data.iloc[i, titanic_data.columns.get_loc('cluster_group')] = labels[i]"
   ],
   "metadata": {
    "collapsed": false,
    "ExecuteTime": {
     "end_time": "2023-12-02T19:38:40.937550400Z",
     "start_time": "2023-12-02T19:38:40.897669900Z"
    }
   },
   "id": "cbace9ef65c3ccff"
  },
  {
   "cell_type": "markdown",
   "source": [
    "### Гледаме (Counts) колку патници припаѓаат по секој кластер"
   ],
   "metadata": {
    "collapsed": false
   },
   "id": "ff63924bfe70c1e4"
  },
  {
   "cell_type": "code",
   "execution_count": 49,
   "outputs": [
    {
     "data": {
      "text/plain": "               Survived    Pclass       Sex        Age     SibSp     Parch  \\\ncluster_group                                                                \n0.0            0.336918  2.525090  0.679211  28.256720  0.439068  0.370968   \n1.0            0.611111  1.296296  0.527778  36.148148  0.814815  0.500000   \n2.0            0.733333  1.000000  0.366667  32.430667  0.600000  0.866667   \n3.0            0.733333  1.000000  0.266667  30.333333  1.000000  1.333333   \n4.0            1.000000  1.000000  0.666667  35.333333  0.000000  0.333333   \n\n                     Fare  Embarked_C  Embarked_Q  Embarked_S  Counts  \ncluster_group                                                          \n0.0             15.434139    0.121864    0.046595    0.831541     558  \n1.0             65.622688    0.333333    0.018519    0.629630     108  \n2.0            131.183883    0.500000    0.000000    0.500000      30  \n3.0            239.991940    0.533333    0.000000    0.466667      15  \n4.0            512.329200    1.000000    0.000000    0.000000       3  ",
      "text/html": "<div>\n<style scoped>\n    .dataframe tbody tr th:only-of-type {\n        vertical-align: middle;\n    }\n\n    .dataframe tbody tr th {\n        vertical-align: top;\n    }\n\n    .dataframe thead th {\n        text-align: right;\n    }\n</style>\n<table border=\"1\" class=\"dataframe\">\n  <thead>\n    <tr style=\"text-align: right;\">\n      <th></th>\n      <th>Survived</th>\n      <th>Pclass</th>\n      <th>Sex</th>\n      <th>Age</th>\n      <th>SibSp</th>\n      <th>Parch</th>\n      <th>Fare</th>\n      <th>Embarked_C</th>\n      <th>Embarked_Q</th>\n      <th>Embarked_S</th>\n      <th>Counts</th>\n    </tr>\n    <tr>\n      <th>cluster_group</th>\n      <th></th>\n      <th></th>\n      <th></th>\n      <th></th>\n      <th></th>\n      <th></th>\n      <th></th>\n      <th></th>\n      <th></th>\n      <th></th>\n      <th></th>\n    </tr>\n  </thead>\n  <tbody>\n    <tr>\n      <th>0.0</th>\n      <td>0.336918</td>\n      <td>2.525090</td>\n      <td>0.679211</td>\n      <td>28.256720</td>\n      <td>0.439068</td>\n      <td>0.370968</td>\n      <td>15.434139</td>\n      <td>0.121864</td>\n      <td>0.046595</td>\n      <td>0.831541</td>\n      <td>558</td>\n    </tr>\n    <tr>\n      <th>1.0</th>\n      <td>0.611111</td>\n      <td>1.296296</td>\n      <td>0.527778</td>\n      <td>36.148148</td>\n      <td>0.814815</td>\n      <td>0.500000</td>\n      <td>65.622688</td>\n      <td>0.333333</td>\n      <td>0.018519</td>\n      <td>0.629630</td>\n      <td>108</td>\n    </tr>\n    <tr>\n      <th>2.0</th>\n      <td>0.733333</td>\n      <td>1.000000</td>\n      <td>0.366667</td>\n      <td>32.430667</td>\n      <td>0.600000</td>\n      <td>0.866667</td>\n      <td>131.183883</td>\n      <td>0.500000</td>\n      <td>0.000000</td>\n      <td>0.500000</td>\n      <td>30</td>\n    </tr>\n    <tr>\n      <th>3.0</th>\n      <td>0.733333</td>\n      <td>1.000000</td>\n      <td>0.266667</td>\n      <td>30.333333</td>\n      <td>1.000000</td>\n      <td>1.333333</td>\n      <td>239.991940</td>\n      <td>0.533333</td>\n      <td>0.000000</td>\n      <td>0.466667</td>\n      <td>15</td>\n    </tr>\n    <tr>\n      <th>4.0</th>\n      <td>1.000000</td>\n      <td>1.000000</td>\n      <td>0.666667</td>\n      <td>35.333333</td>\n      <td>0.000000</td>\n      <td>0.333333</td>\n      <td>512.329200</td>\n      <td>1.000000</td>\n      <td>0.000000</td>\n      <td>0.000000</td>\n      <td>3</td>\n    </tr>\n  </tbody>\n</table>\n</div>"
     },
     "execution_count": 49,
     "metadata": {},
     "output_type": "execute_result"
    }
   ],
   "source": [
    "titanic_cluster_data = titanic_data.groupby(['cluster_group']).mean()\n",
    "titanic_cluster_data['Counts'] = pd.Series(titanic_data.groupby(['cluster_group']).size())\n",
    "titanic_cluster_data"
   ],
   "metadata": {
    "collapsed": false,
    "ExecuteTime": {
     "end_time": "2023-12-02T19:38:41.977623600Z",
     "start_time": "2023-12-02T19:38:41.943879600Z"
    }
   },
   "id": "5a3123f908914774"
  }
 ],
 "metadata": {
  "kernelspec": {
   "display_name": "Python 3",
   "language": "python",
   "name": "python3"
  },
  "language_info": {
   "codemirror_mode": {
    "name": "ipython",
    "version": 2
   },
   "file_extension": ".py",
   "mimetype": "text/x-python",
   "name": "python",
   "nbconvert_exporter": "python",
   "pygments_lexer": "ipython2",
   "version": "2.7.6"
  }
 },
 "nbformat": 4,
 "nbformat_minor": 5
}
