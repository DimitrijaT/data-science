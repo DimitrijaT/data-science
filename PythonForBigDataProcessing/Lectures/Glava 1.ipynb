{
 "nbformat": 4,
 "nbformat_minor": 0,
 "metadata": {
  "colab": {
   "name": "Glava 1 - Voved.ipynb",
   "provenance": [],
   "collapsed_sections": [],
   "toc_visible": true,
   "authorship_tag": "ABX9TyOK6McHBUHc9ORmdX7g6YSm"
  },
  "kernelspec": {
   "name": "python3",
   "display_name": "Python 3"
  },
  "language_info": {
   "name": "python"
  }
 },
 "cells": [
  {
   "cell_type": "markdown",
   "metadata": {
    "id": "30GyfhLCNB8F"
   },
   "source": [
    "#Помош"
   ]
  },
  {
   "cell_type": "code",
   "metadata": {
    "id": "pxjsxS8ZI7b6",
    "executionInfo": {
     "status": "ok",
     "timestamp": 1632318262712,
     "user_tz": -120,
     "elapsed": 478,
     "user": {
      "displayName": "Sasho Gramatikov",
      "photoUrl": "https://lh3.googleusercontent.com/a-/AOh14GiORR1CaMGmxwNR-W7YS7ssbav8FspEHqAMlMKGkHM=s64",
      "userId": "11468980100954515276"
     }
    }
   },
   "source": [
    "niza=\"Pravila za Python\"\n",
    "niza?\n"
   ],
   "execution_count": 5,
   "outputs": []
  },
  {
   "cell_type": "code",
   "metadata": {
    "id": "-BM4yhKGJMly",
    "executionInfo": {
     "status": "ok",
     "timestamp": 1632318264560,
     "user_tz": -120,
     "elapsed": 970,
     "user": {
      "displayName": "Sasho Gramatikov",
      "photoUrl": "https://lh3.googleusercontent.com/a-/AOh14GiORR1CaMGmxwNR-W7YS7ssbav8FspEHqAMlMKGkHM=s64",
      "userId": "11468980100954515276"
     }
    }
   },
   "source": [
    "niza.*num*?"
   ],
   "execution_count": 6,
   "outputs": []
  },
  {
   "cell_type": "markdown",
   "metadata": {
    "id": "WDan46xKIrGx"
   },
   "source": [
    "#Порамнување\n",
    "\n"
   ]
  },
  {
   "cell_type": "markdown",
   "metadata": {
    "id": "UooE5p9kythw"
   },
   "source": [
    "За разлика од поголемиот дел на програмски јазици, каде блоковите код се „отвораат“ и „затвораат“ со { и }, кај Python тоа се постигнува со соодветно порамнување на наредбите. Сите наредби со исто порамнување припаѓаат на ист блок. Потребно е да се внимава бројот на празни места пред секоја наредба од еден блок да биде еднаков. \n",
    "Порамнувањето е дел од синтаксата на Python, а не само начин за пишување на поразбирлив и полесно читлив код. Доколку порамнувањето не е запазено, интерпретерот ќе исфрли грешка. \n"
   ]
  },
  {
   "cell_type": "code",
   "metadata": {
    "id": "U9nn8Tsm0bgq",
    "colab": {
     "base_uri": "https://localhost:8080/"
    },
    "executionInfo": {
     "status": "ok",
     "timestamp": 1632318264617,
     "user_tz": -120,
     "elapsed": 173,
     "user": {
      "displayName": "Sasho Gramatikov",
      "photoUrl": "https://lh3.googleusercontent.com/a-/AOh14GiORR1CaMGmxwNR-W7YS7ssbav8FspEHqAMlMKGkHM=s64",
      "userId": "11468980100954515276"
     }
    },
    "outputId": "fe0b9370-450a-46a0-9d10-26bd3a6bf691"
   },
   "source": [
    "x=3\n",
    "y=5\n",
    "if x>y:\n",
    "  max=x\n",
    "  print(\"Maksimumot e x\")\n",
    "else:\n",
    "\tmax=y\n",
    "\tprint(\"Maksimumot e y\")\n"
   ],
   "execution_count": 7,
   "outputs": [
    {
     "output_type": "stream",
     "name": "stdout",
     "text": [
      "Maksimumot e y\n"
     ]
    }
   ]
  },
  {
   "cell_type": "markdown",
   "metadata": {
    "id": "Yvc_KQMNIljp"
   },
   "source": [
    "#Коментари"
   ]
  },
  {
   "cell_type": "markdown",
   "metadata": {
    "id": "M2nLkXcbzJr7"
   },
   "source": [
    "Секој текст кој следува после знакот # се третира како коментар, без разлика дали станува збор за коментар на почетокот на редот или после некоја наредба. \n",
    "Друг начин за вметување на повеќелиниски коментари во Python е преку користење на ситнаската за пишување на повеќелиниски текст\n",
    "И покрај тоа што повеќелинискиот текст има валидна вредност, тој ќе биде игнориран од интерпретерот бидејќи не е доделен како вредност на променлива, па затоа може да се користи како коментар.\n"
   ]
  },
  {
   "cell_type": "code",
   "metadata": {
    "id": "pHN50YXRIKZx",
    "colab": {
     "base_uri": "https://localhost:8080/",
     "height": 52
    },
    "executionInfo": {
     "status": "ok",
     "timestamp": 1632318264630,
     "user_tz": -120,
     "elapsed": 177,
     "user": {
      "displayName": "Sasho Gramatikov",
      "photoUrl": "https://lh3.googleusercontent.com/a-/AOh14GiORR1CaMGmxwNR-W7YS7ssbav8FspEHqAMlMKGkHM=s64",
      "userId": "11468980100954515276"
     }
    },
    "outputId": "5a1dc0b7-0823-4e69-cbb0-0425de5993f8"
   },
   "source": [
    "#ova e komentar\n",
    "print(\"Python\") #ova e komenatar \n",
    "# povekje\n",
    "# liniski \n",
    "# komentar\n",
    "\"\"\"\n",
    "povekje\n",
    "liniski\n",
    "komentar\n",
    "\"\"\"\n"
   ],
   "execution_count": 8,
   "outputs": [
    {
     "output_type": "stream",
     "name": "stdout",
     "text": [
      "Python\n"
     ]
    },
    {
     "output_type": "execute_result",
     "data": {
      "application/vnd.google.colaboratory.intrinsic+json": {
       "type": "string"
      },
      "text/plain": [
       "'\\npovekje\\nliniski\\nkomentar\\n'"
      ]
     },
     "metadata": {},
     "execution_count": 8
    }
   ]
  },
  {
   "cell_type": "markdown",
   "metadata": {
    "id": "dMuFJbB4SpD-"
   },
   "source": [
    "#Променливи"
   ]
  },
  {
   "cell_type": "markdown",
   "metadata": {
    "id": "VlfmBLC8zTfK"
   },
   "source": [
    "Променливите во Python не се декларираат и се креираат во моментот кога ќе им се додели вредност. Типот на променлива се определува според вредноста која ѝ се доделува и може да биде променет доколку се промени и типот на доделената вредност.\n"
   ]
  },
  {
   "cell_type": "code",
   "metadata": {
    "colab": {
     "base_uri": "https://localhost:8080/"
    },
    "id": "uaUdKCAQ3EZd",
    "executionInfo": {
     "status": "ok",
     "timestamp": 1632318264631,
     "user_tz": -120,
     "elapsed": 174,
     "user": {
      "displayName": "Sasho Gramatikov",
      "photoUrl": "https://lh3.googleusercontent.com/a-/AOh14GiORR1CaMGmxwNR-W7YS7ssbav8FspEHqAMlMKGkHM=s64",
      "userId": "11468980100954515276"
     }
    },
    "outputId": "c15f39ae-62d0-4f21-8e76-351a5870e017"
   },
   "source": [
    "pi=3.14\n",
    "type(pi)\n",
    "\n"
   ],
   "execution_count": 9,
   "outputs": [
    {
     "output_type": "execute_result",
     "data": {
      "text/plain": [
       "float"
      ]
     },
     "metadata": {},
     "execution_count": 9
    }
   ]
  },
  {
   "cell_type": "code",
   "metadata": {
    "colab": {
     "base_uri": "https://localhost:8080/"
    },
    "id": "vFlEoRm6S36m",
    "executionInfo": {
     "status": "ok",
     "timestamp": 1632318264631,
     "user_tz": -120,
     "elapsed": 170,
     "user": {
      "displayName": "Sasho Gramatikov",
      "photoUrl": "https://lh3.googleusercontent.com/a-/AOh14GiORR1CaMGmxwNR-W7YS7ssbav8FspEHqAMlMKGkHM=s64",
      "userId": "11468980100954515276"
     }
    },
    "outputId": "0eb93a67-67ad-4091-f22c-9b16ef9c2a63"
   },
   "source": [
    "pi=\"3.14\"\n",
    "type(pi)\n"
   ],
   "execution_count": 10,
   "outputs": [
    {
     "output_type": "execute_result",
     "data": {
      "text/plain": [
       "str"
      ]
     },
     "metadata": {},
     "execution_count": 10
    }
   ]
  },
  {
   "cell_type": "markdown",
   "metadata": {
    "id": "fvYGCO55vTW_"
   },
   "source": [
    "#Типови на податоци"
   ]
  },
  {
   "cell_type": "markdown",
   "metadata": {
    "id": "KeOSfbPVzje0"
   },
   "source": [
    "Секоја променлива чува податок кој припаѓа на одреден тип. Типовите се групирани во нумерички (int, float, complex), текстуални (str), секвентни (list, tuple, range), пресликувачки (dict), збирни (set, frozenset), вистинитосни (bool) и бинарни (butes, bytearray, memoryview). \n",
    "Меѓу сите овие типови, основната група на типови можат да складираат единечна вредност (уште се нарекуваат скаларни типови на податоци) и во нив спаѓаат int, float, str, bool, bytes и None. \n",
    "\n",
    "Основниот нумерички тип на податок е int и тој може да складира цели броеви.\n",
    "Податочниот тип float се користи за складирање на децимални броеви, поточно, броеви со подвижна запирка. Броевите може да се внесуваат и во научна нотација.\n",
    "За складирање на вистинитосните вредности True и False се користи податочниот тип bool. \n",
    "\n"
   ]
  },
  {
   "cell_type": "code",
   "metadata": {
    "colab": {
     "base_uri": "https://localhost:8080/"
    },
    "id": "2I7rZWyBvVmj",
    "executionInfo": {
     "status": "ok",
     "timestamp": 1632318264632,
     "user_tz": -120,
     "elapsed": 166,
     "user": {
      "displayName": "Sasho Gramatikov",
      "photoUrl": "https://lh3.googleusercontent.com/a-/AOh14GiORR1CaMGmxwNR-W7YS7ssbav8FspEHqAMlMKGkHM=s64",
      "userId": "11468980100954515276"
     }
    },
    "outputId": "d996216c-255f-4fbb-82a4-c18729200c0a"
   },
   "source": [
    "a=-128935\n",
    "type(a)"
   ],
   "execution_count": 11,
   "outputs": [
    {
     "output_type": "execute_result",
     "data": {
      "text/plain": [
       "int"
      ]
     },
     "metadata": {},
     "execution_count": 11
    }
   ]
  },
  {
   "cell_type": "code",
   "metadata": {
    "id": "tByBuBTLw4Ey",
    "executionInfo": {
     "status": "ok",
     "timestamp": 1632318264632,
     "user_tz": -120,
     "elapsed": 161,
     "user": {
      "displayName": "Sasho Gramatikov",
      "photoUrl": "https://lh3.googleusercontent.com/a-/AOh14GiORR1CaMGmxwNR-W7YS7ssbav8FspEHqAMlMKGkHM=s64",
      "userId": "11468980100954515276"
     }
    }
   },
   "source": [
    "e=2.71828\n",
    "plank=6.62607e-34"
   ],
   "execution_count": 12,
   "outputs": []
  },
  {
   "cell_type": "markdown",
   "metadata": {
    "id": "97j5uoCDz-wq"
   },
   "source": [
    "##bool"
   ]
  },
  {
   "cell_type": "markdown",
   "metadata": {
    "id": "PkJ5pMls0HDM"
   },
   "source": [
    "Сите променливи кои не се од типот bool и истовремено  се празни или имаат вредност  0 може да се евалуираат во вредност False со помош на функцијата bool(). Сите останати променливи се евалуираат во вредност True.\n"
   ]
  },
  {
   "cell_type": "code",
   "metadata": {
    "colab": {
     "base_uri": "https://localhost:8080/"
    },
    "id": "GljlVprByBTF",
    "executionInfo": {
     "status": "ok",
     "timestamp": 1632318264635,
     "user_tz": -120,
     "elapsed": 137,
     "user": {
      "displayName": "Sasho Gramatikov",
      "photoUrl": "https://lh3.googleusercontent.com/a-/AOh14GiORR1CaMGmxwNR-W7YS7ssbav8FspEHqAMlMKGkHM=s64",
      "userId": "11468980100954515276"
     }
    },
    "outputId": "749c688f-376d-4578-d49a-98fb900b5a49"
   },
   "source": [
    "c = 4 < 5\n",
    "c"
   ],
   "execution_count": 18,
   "outputs": [
    {
     "output_type": "execute_result",
     "data": {
      "text/plain": [
       "True"
      ]
     },
     "metadata": {},
     "execution_count": 18
    }
   ]
  },
  {
   "cell_type": "code",
   "metadata": {
    "colab": {
     "base_uri": "https://localhost:8080/"
    },
    "id": "MbF7HyVAzeqV",
    "executionInfo": {
     "status": "ok",
     "timestamp": 1632318264635,
     "user_tz": -120,
     "elapsed": 132,
     "user": {
      "displayName": "Sasho Gramatikov",
      "photoUrl": "https://lh3.googleusercontent.com/a-/AOh14GiORR1CaMGmxwNR-W7YS7ssbav8FspEHqAMlMKGkHM=s64",
      "userId": "11468980100954515276"
     }
    },
    "outputId": "8de96c77-7cf7-426b-cc77-dc1e8cf64810"
   },
   "source": [
    "print(bool(\"\"))\n",
    "print(bool(\"Python\"))\n",
    "print(bool(0))"
   ],
   "execution_count": 19,
   "outputs": [
    {
     "output_type": "stream",
     "name": "stdout",
     "text": [
      "False\n",
      "True\n",
      "False\n"
     ]
    }
   ]
  },
  {
   "cell_type": "markdown",
   "metadata": {
    "id": "2ymE3K1TK7M6"
   },
   "source": [
    "## Текстуални типови (str)\n",
    "\n",
    "\n",
    "\n",
    "\n"
   ]
  },
  {
   "cell_type": "markdown",
   "metadata": {
    "id": "wdSZ7Kxx0Sib"
   },
   "source": [
    " \n",
    "Типот str е текстуален тип на податок дефиниран како низа од Unicode знаци сместени помеѓу единечни наводи '...' или двојни наводи \"...\"."
   ]
  },
  {
   "cell_type": "code",
   "metadata": {
    "id": "NkCqv5BmMtsy",
    "colab": {
     "base_uri": "https://localhost:8080/"
    },
    "executionInfo": {
     "status": "ok",
     "timestamp": 1632318264635,
     "user_tz": -120,
     "elapsed": 128,
     "user": {
      "displayName": "Sasho Gramatikov",
      "photoUrl": "https://lh3.googleusercontent.com/a-/AOh14GiORR1CaMGmxwNR-W7YS7ssbav8FspEHqAMlMKGkHM=s64",
      "userId": "11468980100954515276"
     }
    },
    "outputId": "c7ab5beb-1ea8-486e-81ac-00f515026863"
   },
   "source": [
    "niza=\"tekstualen podatok\"\n",
    "print(niza)"
   ],
   "execution_count": 20,
   "outputs": [
    {
     "output_type": "stream",
     "name": "stdout",
     "text": [
      "tekstualen podatok\n"
     ]
    }
   ]
  },
  {
   "cell_type": "markdown",
   "metadata": {
    "id": "XPxOCvk81BRi"
   },
   "source": [
    "Текстуланите низи можат да се внесуваат и прикажуваат во повеќе линии ако знаците се сместени помеѓу три единечни наводи '''... ''' или три двојни наводи \" \" \"...\" \" \"."
   ]
  },
  {
   "cell_type": "code",
   "metadata": {
    "colab": {
     "base_uri": "https://localhost:8080/"
    },
    "id": "k5cAe6t3KyzJ",
    "executionInfo": {
     "status": "ok",
     "timestamp": 1632318264636,
     "user_tz": -120,
     "elapsed": 123,
     "user": {
      "displayName": "Sasho Gramatikov",
      "photoUrl": "https://lh3.googleusercontent.com/a-/AOh14GiORR1CaMGmxwNR-W7YS7ssbav8FspEHqAMlMKGkHM=s64",
      "userId": "11468980100954515276"
     }
    },
    "outputId": "d5d839bf-271a-46cb-de60-b8b633a831ef"
   },
   "source": [
    "niza=\"\"\"tekstualen \n",
    "podatok vo povekje\n",
    "redovi\"\"\"\n",
    "print(niza)"
   ],
   "execution_count": 21,
   "outputs": [
    {
     "output_type": "stream",
     "name": "stdout",
     "text": [
      "tekstualen \n",
      "podatok vo povekje\n",
      "redovi\n"
     ]
    }
   ]
  },
  {
   "cell_type": "markdown",
   "metadata": {
    "id": "rsfy2K9G1M7y"
   },
   "source": [
    "Нов ред за прикажува со знакот \\n. За прикажување на единечен навод ' во текст внесен со единечни наводи се користи знакот за излез \\ (escape character)  придружен со единечен навод '. Дококу наводот е внесен во текст со двојни наводи, тогаш се внесува без знакот за излез \\. Истите правила важат и за прикажување на двоен навод во текст внесен со двојни наводи или единечни наводи."
   ]
  },
  {
   "cell_type": "code",
   "metadata": {
    "colab": {
     "base_uri": "https://localhost:8080/"
    },
    "id": "5UouE5vt5Rqe",
    "executionInfo": {
     "status": "ok",
     "timestamp": 1632318264636,
     "user_tz": -120,
     "elapsed": 118,
     "user": {
      "displayName": "Sasho Gramatikov",
      "photoUrl": "https://lh3.googleusercontent.com/a-/AOh14GiORR1CaMGmxwNR-W7YS7ssbav8FspEHqAMlMKGkHM=s64",
      "userId": "11468980100954515276"
     }
    },
    "outputId": "9feceb69-7951-48fe-98c1-85446e2d1153"
   },
   "source": [
    "niza1='edinechni navodi'\n",
    "niza2=\"dvojni navodi\"\n",
    "print('edinechen navod \\' vo edinechni navodi')\n",
    "print(\"edinechen navod ' vo dvojni navodi\")\n",
    "print(\"dvoen navod \\\" vo dvojni navodi\")\n",
    "print('dvoen navod \" vo edinechni navodi')\n",
    "\n",
    "\n"
   ],
   "execution_count": 22,
   "outputs": [
    {
     "output_type": "stream",
     "name": "stdout",
     "text": [
      "edinechen navod ' vo edinechni navodi\n",
      "edinechen navod ' vo dvojni navodi\n",
      "dvoen navod \" vo dvojni navodi\n",
      "dvoen navod \" vo edinechni navodi\n"
     ]
    }
   ]
  },
  {
   "cell_type": "markdown",
   "metadata": {
    "id": "v3kfEHQtX1Tt"
   },
   "source": [
    "За прикажување на знакот \\ се користи \\\\. Бидејќи знакот \\ се користи при внесување на патеки од датотечниот систем, со цел да се избегне многукратно внесување на \\\\ кај подолги патеки, пред самата низа се внесува знакот r (кратенка од raw) и директориумите се одвојуваат само со еден знак \\. Со користење на знакот r пред низата интерпретерот ги третира сите знаци онакви какви што се, без потреба да се користи знакот за излез \\.\n"
   ]
  },
  {
   "cell_type": "code",
   "metadata": {
    "colab": {
     "base_uri": "https://localhost:8080/"
    },
    "id": "NCTvmoc0yDlT",
    "executionInfo": {
     "status": "ok",
     "timestamp": 1632318264637,
     "user_tz": -120,
     "elapsed": 115,
     "user": {
      "displayName": "Sasho Gramatikov",
      "photoUrl": "https://lh3.googleusercontent.com/a-/AOh14GiORR1CaMGmxwNR-W7YS7ssbav8FspEHqAMlMKGkHM=s64",
      "userId": "11468980100954515276"
     }
    },
    "outputId": "0d8aa912-e32e-44ef-f186-884a829980f1"
   },
   "source": [
    "print(\"c:\\\\python\\\\datoteka.py\")\n",
    "print(r\"c:\\python\\proekt1\\zadacha2\\srkipta.py\")\n"
   ],
   "execution_count": 23,
   "outputs": [
    {
     "output_type": "stream",
     "name": "stdout",
     "text": [
      "c:\\python\\datoteka.py\n",
      "c:\\python\\proekt1\\zadacha2\\srkipta.py\n"
     ]
    }
   ]
  },
  {
   "cell_type": "markdown",
   "metadata": {
    "id": "_PS_SDvvX7BS"
   },
   "source": [
    "Текстуалните низи можат да се спојат со операторот +."
   ]
  },
  {
   "cell_type": "code",
   "metadata": {
    "colab": {
     "base_uri": "https://localhost:8080/"
    },
    "id": "7zhgMGFInXQX",
    "executionInfo": {
     "status": "ok",
     "timestamp": 1632318264637,
     "user_tz": -120,
     "elapsed": 110,
     "user": {
      "displayName": "Sasho Gramatikov",
      "photoUrl": "https://lh3.googleusercontent.com/a-/AOh14GiORR1CaMGmxwNR-W7YS7ssbav8FspEHqAMlMKGkHM=s64",
      "userId": "11468980100954515276"
     }
    },
    "outputId": "51104212-5b57-4abc-d472-a9c2eebc13eb"
   },
   "source": [
    "niza1 = \"golemi \"\n",
    "niza2 = \"podatoci\"\n",
    "print(niza1 + niza2)"
   ],
   "execution_count": 24,
   "outputs": [
    {
     "output_type": "stream",
     "name": "stdout",
     "text": [
      "golemi podatoci\n"
     ]
    }
   ]
  },
  {
   "cell_type": "markdown",
   "metadata": {
    "id": "33NicYfKX-lB"
   },
   "source": [
    "Должината на текстуална низа може да се добие со функцијата len()."
   ]
  },
  {
   "cell_type": "code",
   "metadata": {
    "colab": {
     "base_uri": "https://localhost:8080/"
    },
    "id": "qAI1SZodrX70",
    "executionInfo": {
     "status": "ok",
     "timestamp": 1632318264638,
     "user_tz": -120,
     "elapsed": 106,
     "user": {
      "displayName": "Sasho Gramatikov",
      "photoUrl": "https://lh3.googleusercontent.com/a-/AOh14GiORR1CaMGmxwNR-W7YS7ssbav8FspEHqAMlMKGkHM=s64",
      "userId": "11468980100954515276"
     }
    },
    "outputId": "b9b970f1-7f0e-46ae-ac6b-9411a9eb4e8a"
   },
   "source": [
    "print(len(\"golemi podatoci\"))"
   ],
   "execution_count": 25,
   "outputs": [
    {
     "output_type": "stream",
     "name": "stdout",
     "text": [
      "15\n"
     ]
    }
   ]
  },
  {
   "cell_type": "markdown",
   "metadata": {
    "id": "MvaDO5c5YCcy"
   },
   "source": [
    "Текстуалните променливи претставуваат низи од знаци до кои  може да се пристапи користејќи ги нивните индекси, односно позиции во рамките на низата и средни загради []. "
   ]
  },
  {
   "cell_type": "code",
   "metadata": {
    "colab": {
     "base_uri": "https://localhost:8080/"
    },
    "id": "XST0OZmphdIp",
    "executionInfo": {
     "status": "ok",
     "timestamp": 1632318264638,
     "user_tz": -120,
     "elapsed": 101,
     "user": {
      "displayName": "Sasho Gramatikov",
      "photoUrl": "https://lh3.googleusercontent.com/a-/AOh14GiORR1CaMGmxwNR-W7YS7ssbav8FspEHqAMlMKGkHM=s64",
      "userId": "11468980100954515276"
     }
    },
    "outputId": "de4ce4cc-6ddc-48bb-9a97-036dea3cf195"
   },
   "source": [
    "niza=\"tekstualna niza\"\n",
    "print(niza[0])    # znak so indeks 0 (prv)\n",
    "print(niza[1:4])  # od indkes 1 do 4 (bez 4)\n",
    "print(niza[:5])   # od pochetod do indeks 5 (bez 5)\n",
    "print(niza[11:])  # od indeks 11 do kraj\n",
    "print(niza[-2])   # znak so indeks -2 (pretposleden)\n",
    "print(niza[-4:])  # od indeks -4 (4-ti od krajot) do kraj\n",
    "niza.count?\n"
   ],
   "execution_count": 26,
   "outputs": [
    {
     "output_type": "stream",
     "name": "stdout",
     "text": [
      "t\n",
      "eks\n",
      "tekst\n",
      "niza\n",
      "z\n",
      "niza\n"
     ]
    }
   ]
  },
  {
   "cell_type": "markdown",
   "metadata": {
    "id": "OlwwSxyOYGYp"
   },
   "source": [
    "Содржината на променливите од типот str е непроменлива, односно, не може да се менуваат еднаш штом им се додели иницијална вредност. Затоа, промената на содржината на знакот со индекс 4 резултира со грешка. "
   ]
  },
  {
   "cell_type": "code",
   "metadata": {
    "colab": {
     "base_uri": "https://localhost:8080/",
     "height": 163
    },
    "id": "gMTh8pGVldzb",
    "executionInfo": {
     "status": "error",
     "timestamp": 1632318317541,
     "user_tz": -120,
     "elapsed": 255,
     "user": {
      "displayName": "Sasho Gramatikov",
      "photoUrl": "https://lh3.googleusercontent.com/a-/AOh14GiORR1CaMGmxwNR-W7YS7ssbav8FspEHqAMlMKGkHM=s64",
      "userId": "11468980100954515276"
     }
    },
    "outputId": "2f774fea-7a6a-4b86-9bcd-6bc76f273cbd"
   },
   "source": [
    "niza[0]=\"m\""
   ],
   "execution_count": 28,
   "outputs": [
    {
     "output_type": "error",
     "ename": "TypeError",
     "evalue": "ignored",
     "traceback": [
      "\u001B[0;31m---------------------------------------------------------------------------\u001B[0m",
      "\u001B[0;31mTypeError\u001B[0m                                 Traceback (most recent call last)",
      "\u001B[0;32m<ipython-input-28-88f352e4ecc6>\u001B[0m in \u001B[0;36m<module>\u001B[0;34m()\u001B[0m\n\u001B[0;32m----> 1\u001B[0;31m \u001B[0mniza\u001B[0m\u001B[0;34m[\u001B[0m\u001B[0;36m0\u001B[0m\u001B[0;34m]\u001B[0m\u001B[0;34m=\u001B[0m\u001B[0;34m\"m\"\u001B[0m\u001B[0;34m\u001B[0m\u001B[0;34m\u001B[0m\u001B[0m\n\u001B[0m",
      "\u001B[0;31mTypeError\u001B[0m: 'str' object does not support item assignment"
     ]
    }
   ]
  },
  {
   "cell_type": "markdown",
   "metadata": {
    "id": "pZaGmUdze4O5"
   },
   "source": [
    "##bytes\n",
    "\n"
   ]
  },
  {
   "cell_type": "markdown",
   "metadata": {
    "id": "4OfJgNrAYQF6"
   },
   "source": [
    "Податоци кои се претставени како низа од бајти припаѓаат на типот bytes. Најчесто, овој тип на податоци се користи при работа со датотеки, бидејќи во нив податоците се запишуваат во бајти. Податоците од типот bytes се чуваат како 8-битни броеви и можат да се користат за чување на низи од ASCII знаци. Една ASCII текстуална низа може да се претвори во низа од бајти со додавање на знакот b пред самата низа. За внесување на знаци кои не се  ASCII, се користи \\x на што се прилепува UTF-8 кодот за знакот (после \\x следат два hex знака). Друга опција за внесување на низа од бајти преку текст е со користење на функцијата encode('utf-8') која ги конвертира сите не-ASCII знаци во соодветен utf-8 код. Нејзина ниверзна функција за декодирање на utf-8 код во знак е decode('utf-8')."
   ]
  },
  {
   "cell_type": "code",
   "metadata": {
    "colab": {
     "base_uri": "https://localhost:8080/"
    },
    "id": "rtFz22oaY4BL",
    "executionInfo": {
     "status": "ok",
     "timestamp": 1632318318767,
     "user_tz": -120,
     "elapsed": 510,
     "user": {
      "displayName": "Sasho Gramatikov",
      "photoUrl": "https://lh3.googleusercontent.com/a-/AOh14GiORR1CaMGmxwNR-W7YS7ssbav8FspEHqAMlMKGkHM=s64",
      "userId": "11468980100954515276"
     }
    },
    "outputId": "7bd1175c-ea05-45d8-c568-aec88e44d20b"
   },
   "source": [
    "ascii=b\"niza od bajti na ASCII znaci\"     #bajt niza od ASCII znaci\n",
    "krl1=b\"ne-ASCII: \\xd1\\x9c\\xd0\\xb5\"   #bajt niza od utf-8 kodovi za ќе\n",
    "krl2=\"ne-ASCII: ќе\".encode('utf-8')  #konverzija na str vo bytes so encode()\n",
    "print(ascii)\n",
    "print(krl2)\n",
    "print(krl1.decode('utf-8')) #konverzija od bytes vo str so decode()\n"
   ],
   "execution_count": 29,
   "outputs": [
    {
     "output_type": "stream",
     "name": "stdout",
     "text": [
      "b'niza od bajti na ASCII znaci'\n",
      "b'ne-ASCII: \\xd1\\x9c\\xd0\\xb5'\n",
      "ne-ASCII: ќе\n"
     ]
    }
   ]
  },
  {
   "cell_type": "markdown",
   "metadata": {
    "id": "RV1clEDDYVyq"
   },
   "source": [
    "Исто како и str, податоците од типот bytes се непроменливи (immutable)"
   ]
  },
  {
   "cell_type": "markdown",
   "metadata": {
    "id": "Ut5uLUGKYZa3"
   },
   "source": [
    "##None"
   ]
  },
  {
   "cell_type": "markdown",
   "metadata": {
    "id": "J2Vq2dLQYbRg"
   },
   "source": [
    "None е вредност која се користи за репрезентација на null вредности на променливи или објекти. None не е само резервиран збор, туку претставува објект од типот NoneType. Вообичаено се користи како повратна вредност на функции кои не враќаат вредност (немаат return) или како предефинирана вредност при дефинирање на аргументи на функција (вредност што аргументите ја добиваат доколку се пропушти нејзино дефинирање при повикот).  "
   ]
  },
  {
   "cell_type": "code",
   "metadata": {
    "colab": {
     "base_uri": "https://localhost:8080/"
    },
    "id": "wmxsYN3Tk_-0",
    "executionInfo": {
     "status": "ok",
     "timestamp": 1632318318768,
     "user_tz": -120,
     "elapsed": 77,
     "user": {
      "displayName": "Sasho Gramatikov",
      "photoUrl": "https://lh3.googleusercontent.com/a-/AOh14GiORR1CaMGmxwNR-W7YS7ssbav8FspEHqAMlMKGkHM=s64",
      "userId": "11468980100954515276"
     }
    },
    "outputId": "c1e8c561-7102-4f5e-bf25-55469ac78e97"
   },
   "source": [
    "x=None\n",
    "type(x)\n"
   ],
   "execution_count": 30,
   "outputs": [
    {
     "output_type": "execute_result",
     "data": {
      "text/plain": [
       "NoneType"
      ]
     },
     "metadata": {},
     "execution_count": 30
    }
   ]
  },
  {
   "cell_type": "markdown",
   "metadata": {
    "id": "MzRjxq1lZhh4"
   },
   "source": [
    "##Конверзија на типови"
   ]
  },
  {
   "cell_type": "markdown",
   "metadata": {
    "id": "___26gHeZkiy"
   },
   "source": [
    "Конверзијата помеѓу основите типови на податоци int, float, str и bool може да се прави со истоимени функции како и самите оператори, односно, int(), float(), str() и bool()."
   ]
  },
  {
   "cell_type": "code",
   "metadata": {
    "id": "PKTK_P8xl-W2",
    "executionInfo": {
     "status": "ok",
     "timestamp": 1632318318771,
     "user_tz": -120,
     "elapsed": 52,
     "user": {
      "displayName": "Sasho Gramatikov",
      "photoUrl": "https://lh3.googleusercontent.com/a-/AOh14GiORR1CaMGmxwNR-W7YS7ssbav8FspEHqAMlMKGkHM=s64",
      "userId": "11468980100954515276"
     }
    }
   },
   "source": [
    "a = int(\"5\")      # a = 5\n",
    "b = int(3.14)     # b = 3\n",
    "c = int(True)     # c = 1\n",
    "d = float(\"3.14\") # d = 3.14\n",
    "e = float(1)      # e = 1.0\n",
    "f = str(15)       # f = \"15\"\n",
    "g = str(3.14)     # g = \"3.14\"\n",
    "h = bool(4)       # h = True\n"
   ],
   "execution_count": 35,
   "outputs": []
  },
  {
   "cell_type": "markdown",
   "metadata": {
    "id": "cG21RLZzZnMq"
   },
   "source": [
    "#Оператори\n",
    "##Аритметички оператори"
   ]
  },
  {
   "cell_type": "markdown",
   "metadata": {
    "id": "1IPlNUsVZzMV"
   },
   "source": [
    "За работа со нумерички податоци се користат стандардните оператори како и кај сите познати програмски јазици: \n",
    "\n",
    "---\n",
    "\n",
    "* \\+\tсобирање \n",
    "* \\-\tодземање\n",
    "* \\/\tделење\n",
    "* \\*\tмножење\n",
    "* **\tстепен\n",
    "* //\tцелобројно делење\n",
    "* %\tостаток при делење\n"
   ]
  },
  {
   "cell_type": "code",
   "metadata": {
    "colab": {
     "base_uri": "https://localhost:8080/"
    },
    "id": "6li2b-RO2goK",
    "executionInfo": {
     "status": "ok",
     "timestamp": 1632318264633,
     "user_tz": -120,
     "elapsed": 161,
     "user": {
      "displayName": "Sasho Gramatikov",
      "photoUrl": "https://lh3.googleusercontent.com/a-/AOh14GiORR1CaMGmxwNR-W7YS7ssbav8FspEHqAMlMKGkHM=s64",
      "userId": "11468980100954515276"
     }
    },
    "outputId": "ae725e78-1f88-46ad-9855-6be99bb9c831"
   },
   "source": [
    "5 + 3 * 2\n"
   ],
   "execution_count": 13,
   "outputs": [
    {
     "output_type": "execute_result",
     "data": {
      "text/plain": [
       "11"
      ]
     },
     "metadata": {},
     "execution_count": 13
    }
   ]
  },
  {
   "cell_type": "code",
   "metadata": {
    "colab": {
     "base_uri": "https://localhost:8080/"
    },
    "id": "kLSyvFwN2y3z",
    "executionInfo": {
     "status": "ok",
     "timestamp": 1632318264633,
     "user_tz": -120,
     "elapsed": 156,
     "user": {
      "displayName": "Sasho Gramatikov",
      "photoUrl": "https://lh3.googleusercontent.com/a-/AOh14GiORR1CaMGmxwNR-W7YS7ssbav8FspEHqAMlMKGkHM=s64",
      "userId": "11468980100954515276"
     }
    },
    "outputId": "54a22a94-b8f3-4b0e-cc04-ae47c899934f"
   },
   "source": [
    "type(7/4)"
   ],
   "execution_count": 14,
   "outputs": [
    {
     "output_type": "execute_result",
     "data": {
      "text/plain": [
       "float"
      ]
     },
     "metadata": {},
     "execution_count": 14
    }
   ]
  },
  {
   "cell_type": "markdown",
   "metadata": {
    "id": "dT72aBOWacUX"
   },
   "source": [
    "Кога се делат два броја од типот int со операторот за делење /, резултатот е секогаш од типот float. За целобројно делење на броеви од типот int се користи операторот //."
   ]
  },
  {
   "cell_type": "code",
   "metadata": {
    "colab": {
     "base_uri": "https://localhost:8080/"
    },
    "id": "sxxUVHBL3A6S",
    "executionInfo": {
     "status": "ok",
     "timestamp": 1632318264633,
     "user_tz": -120,
     "elapsed": 150,
     "user": {
      "displayName": "Sasho Gramatikov",
      "photoUrl": "https://lh3.googleusercontent.com/a-/AOh14GiORR1CaMGmxwNR-W7YS7ssbav8FspEHqAMlMKGkHM=s64",
      "userId": "11468980100954515276"
     }
    },
    "outputId": "614aad2d-6285-4e11-c730-5539d0e90b97"
   },
   "source": [
    "7 // 4"
   ],
   "execution_count": 15,
   "outputs": [
    {
     "output_type": "execute_result",
     "data": {
      "text/plain": [
       "1"
      ]
     },
     "metadata": {},
     "execution_count": 15
    }
   ]
  },
  {
   "cell_type": "markdown",
   "metadata": {
    "id": "afKWK1Ssag4m"
   },
   "source": [
    "Остатокот при делење на два цели броеви се добива со операторот %."
   ]
  },
  {
   "cell_type": "code",
   "metadata": {
    "colab": {
     "base_uri": "https://localhost:8080/"
    },
    "id": "n_8ixetM3Dep",
    "executionInfo": {
     "status": "ok",
     "timestamp": 1632318264634,
     "user_tz": -120,
     "elapsed": 147,
     "user": {
      "displayName": "Sasho Gramatikov",
      "photoUrl": "https://lh3.googleusercontent.com/a-/AOh14GiORR1CaMGmxwNR-W7YS7ssbav8FspEHqAMlMKGkHM=s64",
      "userId": "11468980100954515276"
     }
    },
    "outputId": "409776ef-9940-4cb0-e9e0-4cc8ca01ee51"
   },
   "source": [
    "7 % 4"
   ],
   "execution_count": 16,
   "outputs": [
    {
     "output_type": "execute_result",
     "data": {
      "text/plain": [
       "3"
      ]
     },
     "metadata": {},
     "execution_count": 16
    }
   ]
  },
  {
   "cell_type": "code",
   "metadata": {
    "colab": {
     "base_uri": "https://localhost:8080/"
    },
    "id": "ZH4NzhQl4u8D",
    "executionInfo": {
     "status": "ok",
     "timestamp": 1632318264634,
     "user_tz": -120,
     "elapsed": 142,
     "user": {
      "displayName": "Sasho Gramatikov",
      "photoUrl": "https://lh3.googleusercontent.com/a-/AOh14GiORR1CaMGmxwNR-W7YS7ssbav8FspEHqAMlMKGkHM=s64",
      "userId": "11468980100954515276"
     }
    },
    "outputId": "f2b9fc44-6bac-45d7-daab-6f0726be2599"
   },
   "source": [
    "7 ** 4"
   ],
   "execution_count": 17,
   "outputs": [
    {
     "output_type": "execute_result",
     "data": {
      "text/plain": [
       "2401"
      ]
     },
     "metadata": {},
     "execution_count": 17
    }
   ]
  },
  {
   "cell_type": "code",
   "metadata": {
    "colab": {
     "base_uri": "https://localhost:8080/"
    },
    "id": "gSgR0z9ZgqXc",
    "executionInfo": {
     "status": "ok",
     "timestamp": 1632318318769,
     "user_tz": -120,
     "elapsed": 72,
     "user": {
      "displayName": "Sasho Gramatikov",
      "photoUrl": "https://lh3.googleusercontent.com/a-/AOh14GiORR1CaMGmxwNR-W7YS7ssbav8FspEHqAMlMKGkHM=s64",
      "userId": "11468980100954515276"
     }
    },
    "outputId": "80616cb1-e2c8-43c4-dd1d-09aadecdb1f3"
   },
   "source": [
    "x = True or False\n",
    "print(x)"
   ],
   "execution_count": 31,
   "outputs": [
    {
     "output_type": "stream",
     "name": "stdout",
     "text": [
      "True\n"
     ]
    }
   ]
  },
  {
   "cell_type": "code",
   "metadata": {
    "colab": {
     "base_uri": "https://localhost:8080/"
    },
    "id": "4IgVUV9i8Cjy",
    "executionInfo": {
     "status": "ok",
     "timestamp": 1632318318769,
     "user_tz": -120,
     "elapsed": 68,
     "user": {
      "displayName": "Sasho Gramatikov",
      "photoUrl": "https://lh3.googleusercontent.com/a-/AOh14GiORR1CaMGmxwNR-W7YS7ssbav8FspEHqAMlMKGkHM=s64",
      "userId": "11468980100954515276"
     }
    },
    "outputId": "fbaaace5-1fe7-40fb-9748-cc7f4550005a"
   },
   "source": [
    "x = 5 | 2   # 000101 | 000010 = 000111\n",
    "print(x<<2) # 000111<<2 = 011100"
   ],
   "execution_count": 32,
   "outputs": [
    {
     "output_type": "stream",
     "name": "stdout",
     "text": [
      "28\n"
     ]
    }
   ]
  },
  {
   "cell_type": "markdown",
   "metadata": {
    "id": "FF3wdvMrap96"
   },
   "source": [
    "##Оператори за идентитет"
   ]
  },
  {
   "cell_type": "markdown",
   "metadata": {
    "id": "GGCLmLtGavi4"
   },
   "source": [
    "Операторите за идентитет споредуваат дали две променливи содржат референца до истиот објект, односно покажуваат до објект од иста мемориска локација. Споредбата враќа вредност од типот bool. При споредба на различни објекти со иста содржина се добива верност False. "
   ]
  },
  {
   "cell_type": "code",
   "metadata": {
    "colab": {
     "base_uri": "https://localhost:8080/"
    },
    "id": "Ayfr3CkbAkXc",
    "executionInfo": {
     "status": "ok",
     "timestamp": 1632318318770,
     "user_tz": -120,
     "elapsed": 62,
     "user": {
      "displayName": "Sasho Gramatikov",
      "photoUrl": "https://lh3.googleusercontent.com/a-/AOh14GiORR1CaMGmxwNR-W7YS7ssbav8FspEHqAMlMKGkHM=s64",
      "userId": "11468980100954515276"
     }
    },
    "outputId": "f9299f34-754c-45ed-d916-cff7710d277b"
   },
   "source": [
    "a = 1234\n",
    "b = 1234\n",
    "print(a is b)\n",
    "print(a == b)"
   ],
   "execution_count": 33,
   "outputs": [
    {
     "output_type": "stream",
     "name": "stdout",
     "text": [
      "False\n",
      "True\n"
     ]
    }
   ]
  },
  {
   "cell_type": "markdown",
   "metadata": {
    "id": "Q08fEGsGay5F"
   },
   "source": [
    "##Оператори за припадност"
   ]
  },
  {
   "cell_type": "code",
   "metadata": {
    "colab": {
     "base_uri": "https://localhost:8080/"
    },
    "id": "7gY3NDB5jNAh",
    "executionInfo": {
     "status": "ok",
     "timestamp": 1632318318770,
     "user_tz": -120,
     "elapsed": 56,
     "user": {
      "displayName": "Sasho Gramatikov",
      "photoUrl": "https://lh3.googleusercontent.com/a-/AOh14GiORR1CaMGmxwNR-W7YS7ssbav8FspEHqAMlMKGkHM=s64",
      "userId": "11468980100954515276"
     }
    },
    "outputId": "6070f1f0-1735-43eb-cb25-6f46d86ffa6c"
   },
   "source": [
    "tipovi = [\"str\", \"int\", \"float\", \"bool\"]\n",
    "print(\"int\" in tipovi)\n",
    "print(\"char\" not in tipovi)\n"
   ],
   "execution_count": 34,
   "outputs": [
    {
     "output_type": "stream",
     "name": "stdout",
     "text": [
      "True\n",
      "True\n"
     ]
    }
   ]
  },
  {
   "cell_type": "markdown",
   "metadata": {
    "id": "dz70a_Z7cOF0"
   },
   "source": [
    "#Податочни структури (листи, торки, множества и речници)"
   ]
  },
  {
   "cell_type": "markdown",
   "metadata": {
    "id": "iS6o19_yb96L"
   },
   "source": [
    "Податочните структури се една од најзначајните карактеристики на Python кои допринесуваат за неговата флексибилност при програмирањето. Тие претставуваат колекција од податоци, кои во зависност од тоа дали се подредени (индексирани), дали може да се менуваат по содржина или број на елементи или дали можат да содржат дупликати  можат да бидат дефинирани како:\n",
    "*\tлиста (list) – подредена, променлива колекција која може да содржи дупликати\n",
    "*\tторка (tuple) – подредена, непроменлива колекција која може да содржи дупликати\n",
    "*\tмножество (set) – неподредена, непроменлива колекција која не може да содржи дупликати\n",
    "*\tречник (dictionary) – подредена, променлива колекција од парови клуч-вредност која не може да содржи дупликати\n"
   ]
  },
  {
   "cell_type": "markdown",
   "metadata": {
    "id": "CBmW2Th0cE3W"
   },
   "source": [
    "##Листa (list)"
   ]
  },
  {
   "cell_type": "markdown",
   "metadata": {
    "id": "-go7eC6xcNMQ"
   },
   "source": [
    "Листа е подредена и променлива колекција од податоци. Податоците можат да бидат од ист или од различни типови и можат да имаат исти вредности. Податоците во листа се одвоени со запирки и сместени помеѓу големи загради []. "
   ]
  },
  {
   "cell_type": "code",
   "metadata": {
    "id": "WVo2pqLrcSOq",
    "executionInfo": {
     "status": "ok",
     "timestamp": 1632318318771,
     "user_tz": -120,
     "elapsed": 52,
     "user": {
      "displayName": "Sasho Gramatikov",
      "photoUrl": "https://lh3.googleusercontent.com/a-/AOh14GiORR1CaMGmxwNR-W7YS7ssbav8FspEHqAMlMKGkHM=s64",
      "userId": "11468980100954515276"
     }
    }
   },
   "source": [
    "strani = [\"istok\", \"zapad\", \"sever\", \"jug\"]\n",
    "prosti = [1, 3, 5, 7, 11, 13]\n",
    "grad = [\"Skopje\", 1000, True]"
   ],
   "execution_count": 36,
   "outputs": []
  },
  {
   "cell_type": "markdown",
   "metadata": {
    "id": "jc-qTGXxcQc2"
   },
   "source": [
    "Друг начин за креирање на листа е со користење на вградениот конструктор  list(iter) на кој како аргумент му се пренесува податочна структура која може да се итерира (iterable), како на пример листа, торка, множество или опсег (range). "
   ]
  },
  {
   "cell_type": "code",
   "metadata": {
    "colab": {
     "base_uri": "https://localhost:8080/"
    },
    "id": "dXME5nsczsUs",
    "executionInfo": {
     "status": "ok",
     "timestamp": 1632318318771,
     "user_tz": -120,
     "elapsed": 52,
     "user": {
      "displayName": "Sasho Gramatikov",
      "photoUrl": "https://lh3.googleusercontent.com/a-/AOh14GiORR1CaMGmxwNR-W7YS7ssbav8FspEHqAMlMKGkHM=s64",
      "userId": "11468980100954515276"
     }
    },
    "outputId": "708e3769-eab7-4b39-8ecc-99489a1059f1"
   },
   "source": [
    "list((1,2,3))"
   ],
   "execution_count": 37,
   "outputs": [
    {
     "output_type": "execute_result",
     "data": {
      "text/plain": [
       "[1, 2, 3]"
      ]
     },
     "metadata": {},
     "execution_count": 37
    }
   ]
  },
  {
   "cell_type": "markdown",
   "metadata": {
    "id": "kyqzRByUcTzZ"
   },
   "source": [
    "Опсег од рамномерно распределени цели броеви може да се добие со функцијата range(pochetok, kraj, chekor), каде pochetok е опционална почетната вредност на опсегот (предефинирана вредност е 0), kraj e задолжителна крајна вредност на опсегот, која не е вклучена во опсегот и chekor е опционална вредност на инкрементот (предефинирана вредност е 1)."
   ]
  },
  {
   "cell_type": "code",
   "metadata": {
    "colab": {
     "base_uri": "https://localhost:8080/"
    },
    "id": "G80vrK2pzwep",
    "executionInfo": {
     "status": "ok",
     "timestamp": 1632318318772,
     "user_tz": -120,
     "elapsed": 47,
     "user": {
      "displayName": "Sasho Gramatikov",
      "photoUrl": "https://lh3.googleusercontent.com/a-/AOh14GiORR1CaMGmxwNR-W7YS7ssbav8FspEHqAMlMKGkHM=s64",
      "userId": "11468980100954515276"
     }
    },
    "outputId": "088e666e-b465-44b9-a2ee-c1e14bf81caa"
   },
   "source": [
    "print(list(range(4)))\n",
    "print(list(range(4,10,2)))\n"
   ],
   "execution_count": 38,
   "outputs": [
    {
     "output_type": "stream",
     "name": "stdout",
     "text": [
      "[0, 1, 2, 3]\n",
      "[4, 6, 8]\n"
     ]
    }
   ]
  },
  {
   "cell_type": "markdown",
   "metadata": {
    "id": "tcgT0inSciaB"
   },
   "source": [
    "\n",
    "\n",
    "### Пристап до податоци\n",
    "\n",
    "\n"
   ]
  },
  {
   "cell_type": "markdown",
   "metadata": {
    "id": "Zyb7YBc5cuhl"
   },
   "source": [
    "Листата е подредена структура и до нејзините податоци може да се пристапи преку нивниот индекс кој започнува од вредност 0. Може да се користат и негативни индекси за пристап до елементите од листата, каде индексот -1 се однесува на последниот елемент, -2 на претпоследниот елемент итн."
   ]
  },
  {
   "cell_type": "code",
   "metadata": {
    "colab": {
     "base_uri": "https://localhost:8080/"
    },
    "id": "XrOq8MRDdidl",
    "executionInfo": {
     "status": "ok",
     "timestamp": 1632318318772,
     "user_tz": -120,
     "elapsed": 42,
     "user": {
      "displayName": "Sasho Gramatikov",
      "photoUrl": "https://lh3.googleusercontent.com/a-/AOh14GiORR1CaMGmxwNR-W7YS7ssbav8FspEHqAMlMKGkHM=s64",
      "userId": "11468980100954515276"
     }
    },
    "outputId": "1edfb261-0554-45d5-acd6-858cda16e1f5"
   },
   "source": [
    "print(strani[2])   # 'sever'\n",
    "print(prosti[-1])  # 13"
   ],
   "execution_count": 39,
   "outputs": [
    {
     "output_type": "stream",
     "name": "stdout",
     "text": [
      "sever\n",
      "13\n"
     ]
    }
   ]
  },
  {
   "cell_type": "markdown",
   "metadata": {
    "id": "DN4o8FOCczXJ"
   },
   "source": [
    "Пристапот до повеќе елементи од листа се прави со користење на опсези. Општиот формат на опсег е  pochetok:kraj:chekor  и ги дефинира сите индекси од pochetok до kraj -1 (без kraj) со чекор chekor. Предефинирана вредност на pochetok е 0 и неговата вредност се специфицира кога е потребен опсег кој не почнува од првиот елемент. Предефинираната вредност на kraj е големината на листата и неговата вредност се специфицира кога е потребен опсег кој не е до последниот елемент. Педефинираната вредност на chekor е 1 и неговата вредност се специфицира само кога е потребен опсег во кој се прескокнуваат елементи. Според тоа, доколку не се дефинира опсегот комплетно со сите три вредности, возможни се следните опсези: \n",
    "\n",
    "* pochetok:kraj:chekor\tсите индекси од  pochetok до kraj -1 со чекор chekor\n",
    "* :kraj\tсите индекси од 0 до kraj -1\n",
    "* :kraj:chekor\tсите индекси од 0 до kraj -1 со чекор chekor\n",
    "* pochetok:\tсите индекси од pochetok до последниот елемент\n",
    "* pochetok::chekor\tсите индекси од pochetok до последниот елемент  со чекор chekor\n",
    "* ::chekor\tсите индекси со чекор chekor\n"
   ]
  },
  {
   "cell_type": "code",
   "metadata": {
    "colab": {
     "base_uri": "https://localhost:8080/"
    },
    "id": "Qul5ni-RnG9f",
    "executionInfo": {
     "status": "ok",
     "timestamp": 1632318318773,
     "user_tz": -120,
     "elapsed": 39,
     "user": {
      "displayName": "Sasho Gramatikov",
      "photoUrl": "https://lh3.googleusercontent.com/a-/AOh14GiORR1CaMGmxwNR-W7YS7ssbav8FspEHqAMlMKGkHM=s64",
      "userId": "11468980100954515276"
     }
    },
    "outputId": "51ec1a85-e350-4c79-eae8-6443727f0648"
   },
   "source": [
    "print(strani[1:3])   # od indeks 1 do 2\n",
    "print(prosti[:3])    # od indeks 0 do 2\n",
    "print(prosti[3:])    # od indeks 3 do kraj\n",
    "print(prosti[1::2])  # od indeks 1 do kraj, sekoj vtor\n",
    "print(prosti[:4:2])  # od indeks 0 do 3, sekoj vtor \n",
    "print(prosti[::2])   # sekoj vtor element od cela lista\n",
    "\n"
   ],
   "execution_count": 40,
   "outputs": [
    {
     "output_type": "stream",
     "name": "stdout",
     "text": [
      "['zapad', 'sever']\n",
      "[1, 3, 5]\n",
      "[7, 11, 13]\n",
      "[3, 7, 13]\n",
      "[1, 5]\n",
      "[1, 5, 11]\n"
     ]
    }
   ]
  },
  {
   "cell_type": "markdown",
   "metadata": {
    "id": "hL7-1pUOdNYl"
   },
   "source": [
    "При дефинирање на опсези можат да се користат и негативни вредности за сите три елементи. Негативна вредност на елементот chekor значи изминување на елементите во обратен редослед, па во тој случај, pochetok и kraj си ги менуваат местата, односно pochetok го означува првиот елемент кој ќе се измине гледајќи од крајот на листата, а kraj го означува последниот елемент (најблиску до почетокот) и не е дел од опсегот."
   ]
  },
  {
   "cell_type": "code",
   "metadata": {
    "colab": {
     "base_uri": "https://localhost:8080/"
    },
    "id": "DhvjXF7dPF6B",
    "executionInfo": {
     "status": "ok",
     "timestamp": 1632318318773,
     "user_tz": -120,
     "elapsed": 33,
     "user": {
      "displayName": "Sasho Gramatikov",
      "photoUrl": "https://lh3.googleusercontent.com/a-/AOh14GiORR1CaMGmxwNR-W7YS7ssbav8FspEHqAMlMKGkHM=s64",
      "userId": "11468980100954515276"
     }
    },
    "outputId": "3fba49fd-0e51-4573-9651-8fd9096dae90"
   },
   "source": [
    "print(grad[-3:-1])  # od tretiot od krajot, do krajot\n",
    "print(prosti[4:1:-1]) # od indeks 4, nanazad do 1 (bez 1)\n",
    "print(prosti[4::-1]) # od indeks 4, nanazad\n",
    "print(prosti[::-2]) # sekoj vtor, nanazad"
   ],
   "execution_count": 41,
   "outputs": [
    {
     "output_type": "stream",
     "name": "stdout",
     "text": [
      "['Skopje', 1000]\n",
      "[11, 7, 5]\n",
      "[11, 7, 5, 3, 1]\n",
      "[13, 7, 3]\n"
     ]
    }
   ]
  },
  {
   "cell_type": "code",
   "metadata": {
    "colab": {
     "base_uri": "https://localhost:8080/"
    },
    "id": "cyX85hZnw6Jx",
    "executionInfo": {
     "status": "ok",
     "timestamp": 1632318318774,
     "user_tz": -120,
     "elapsed": 29,
     "user": {
      "displayName": "Sasho Gramatikov",
      "photoUrl": "https://lh3.googleusercontent.com/a-/AOh14GiORR1CaMGmxwNR-W7YS7ssbav8FspEHqAMlMKGkHM=s64",
      "userId": "11468980100954515276"
     }
    },
    "outputId": "153b9ec7-4aca-4c5a-c7ee-fa59311fe450"
   },
   "source": [
    "strani[-1] = \"JUG\"\n",
    "prosti[0:2] = [17, 19]\n",
    "grad[1:] = [False]\n",
    "print(strani)\n",
    "print(prosti)\n",
    "print(grad)"
   ],
   "execution_count": 42,
   "outputs": [
    {
     "output_type": "stream",
     "name": "stdout",
     "text": [
      "['istok', 'zapad', 'sever', 'JUG']\n",
      "[17, 19, 5, 7, 11, 13]\n",
      "['Skopje', False]\n"
     ]
    }
   ]
  },
  {
   "cell_type": "code",
   "metadata": {
    "colab": {
     "base_uri": "https://localhost:8080/"
    },
    "id": "d9xWAIxL16H0",
    "executionInfo": {
     "status": "ok",
     "timestamp": 1632318318774,
     "user_tz": -120,
     "elapsed": 23,
     "user": {
      "displayName": "Sasho Gramatikov",
      "photoUrl": "https://lh3.googleusercontent.com/a-/AOh14GiORR1CaMGmxwNR-W7YS7ssbav8FspEHqAMlMKGkHM=s64",
      "userId": "11468980100954515276"
     }
    },
    "outputId": "570b5ea5-74b2-4ade-fb22-7156d30d37e5"
   },
   "source": [
    "strani.append(\"severo-zapad\")\n",
    "print(strani)\n",
    "prosti.insert(2,17)\n",
    "print(prosti)\n",
    "prosti.remove(17)\n",
    "print(prosti)\n",
    "grad.pop(1)\n",
    "print(grad)"
   ],
   "execution_count": 43,
   "outputs": [
    {
     "output_type": "stream",
     "name": "stdout",
     "text": [
      "['istok', 'zapad', 'sever', 'JUG', 'severo-zapad']\n",
      "[17, 19, 17, 5, 7, 11, 13]\n",
      "[19, 17, 5, 7, 11, 13]\n",
      "['Skopje']\n"
     ]
    }
   ]
  },
  {
   "cell_type": "code",
   "metadata": {
    "colab": {
     "base_uri": "https://localhost:8080/"
    },
    "id": "ecDJmKr151h8",
    "executionInfo": {
     "status": "ok",
     "timestamp": 1632318318775,
     "user_tz": -120,
     "elapsed": 19,
     "user": {
      "displayName": "Sasho Gramatikov",
      "photoUrl": "https://lh3.googleusercontent.com/a-/AOh14GiORR1CaMGmxwNR-W7YS7ssbav8FspEHqAMlMKGkHM=s64",
      "userId": "11468980100954515276"
     }
    },
    "outputId": "c2e44769-e4e9-4ea7-b712-6bed8a6fba68"
   },
   "source": [
    "original = [2, 4, 6]\n",
    "kopija = original\n",
    "original.append(8)\n",
    "print(kopija)"
   ],
   "execution_count": 44,
   "outputs": [
    {
     "output_type": "stream",
     "name": "stdout",
     "text": [
      "[2, 4, 6, 8]\n"
     ]
    }
   ]
  },
  {
   "cell_type": "code",
   "metadata": {
    "colab": {
     "base_uri": "https://localhost:8080/"
    },
    "id": "WaQNttNP7D8-",
    "executionInfo": {
     "status": "ok",
     "timestamp": 1632318319354,
     "user_tz": -120,
     "elapsed": 593,
     "user": {
      "displayName": "Sasho Gramatikov",
      "photoUrl": "https://lh3.googleusercontent.com/a-/AOh14GiORR1CaMGmxwNR-W7YS7ssbav8FspEHqAMlMKGkHM=s64",
      "userId": "11468980100954515276"
     }
    },
    "outputId": "244f92c2-4c23-40c2-94cd-f7be22a2d9c5"
   },
   "source": [
    "original = [2, 4, 6]\n",
    "kopija = original.copy()\n",
    "original.append(8)\n",
    "print(kopija)"
   ],
   "execution_count": 45,
   "outputs": [
    {
     "output_type": "stream",
     "name": "stdout",
     "text": [
      "[2, 4, 6]\n"
     ]
    }
   ]
  },
  {
   "cell_type": "code",
   "metadata": {
    "colab": {
     "base_uri": "https://localhost:8080/"
    },
    "id": "Y12Fm66G8AV6",
    "executionInfo": {
     "status": "ok",
     "timestamp": 1632318319356,
     "user_tz": -120,
     "elapsed": 67,
     "user": {
      "displayName": "Sasho Gramatikov",
      "photoUrl": "https://lh3.googleusercontent.com/a-/AOh14GiORR1CaMGmxwNR-W7YS7ssbav8FspEHqAMlMKGkHM=s64",
      "userId": "11468980100954515276"
     }
    },
    "outputId": "439926af-e25c-4d80-aff2-a930f3e001d7"
   },
   "source": [
    "lista = [\"a\", \"b\"] + [3, 4]\n",
    "print(lista)\n",
    "lista.extend([True, False])\n",
    "print(lista.clear())"
   ],
   "execution_count": 46,
   "outputs": [
    {
     "output_type": "stream",
     "name": "stdout",
     "text": [
      "['a', 'b', 3, 4]\n",
      "None\n"
     ]
    }
   ]
  },
  {
   "cell_type": "code",
   "metadata": {
    "colab": {
     "base_uri": "https://localhost:8080/"
    },
    "id": "1Oiz5CJ1J9PH",
    "executionInfo": {
     "status": "ok",
     "timestamp": 1632318319357,
     "user_tz": -120,
     "elapsed": 61,
     "user": {
      "displayName": "Sasho Gramatikov",
      "photoUrl": "https://lh3.googleusercontent.com/a-/AOh14GiORR1CaMGmxwNR-W7YS7ssbav8FspEHqAMlMKGkHM=s64",
      "userId": "11468980100954515276"
     }
    },
    "outputId": "8442810d-00b8-4223-d1e2-e8d992445a08"
   },
   "source": [
    "lista = [\"Python\", \"C\", \"C++\", \"Java\", \"PHP\"]\n",
    "lista.sort()  # podreduvanjee po azbuchen red\n",
    "print(lista)  \n",
    "lista.sort(reverse=True)  # podreduvanjee vo obratna nasoka\n",
    "print(lista)\n",
    "lista.sort(key=len)    # podreduvanje spored f-ja len\n",
    "print(lista)"
   ],
   "execution_count": 47,
   "outputs": [
    {
     "output_type": "stream",
     "name": "stdout",
     "text": [
      "['C', 'C++', 'Java', 'PHP', 'Python']\n",
      "['Python', 'PHP', 'Java', 'C++', 'C']\n",
      "['C', 'PHP', 'C++', 'Java', 'Python']\n"
     ]
    }
   ]
  },
  {
   "cell_type": "code",
   "metadata": {
    "colab": {
     "base_uri": "https://localhost:8080/"
    },
    "id": "FB9FXYEXKdRR",
    "executionInfo": {
     "status": "ok",
     "timestamp": 1632318319359,
     "user_tz": -120,
     "elapsed": 58,
     "user": {
      "displayName": "Sasho Gramatikov",
      "photoUrl": "https://lh3.googleusercontent.com/a-/AOh14GiORR1CaMGmxwNR-W7YS7ssbav8FspEHqAMlMKGkHM=s64",
      "userId": "11468980100954515276"
     }
    },
    "outputId": "76e3434e-0952-4559-df06-ac336de30a73"
   },
   "source": [
    "lista = [12, 5, 7, 8, 5, 5, 11]\n",
    "print(lista.index(5))\n",
    "print(lista.count(5))\n"
   ],
   "execution_count": 48,
   "outputs": [
    {
     "output_type": "stream",
     "name": "stdout",
     "text": [
      "1\n",
      "3\n"
     ]
    }
   ]
  },
  {
   "cell_type": "code",
   "metadata": {
    "colab": {
     "base_uri": "https://localhost:8080/"
    },
    "id": "XNVg7XU2v_Fa",
    "executionInfo": {
     "status": "ok",
     "timestamp": 1632318319360,
     "user_tz": -120,
     "elapsed": 54,
     "user": {
      "displayName": "Sasho Gramatikov",
      "photoUrl": "https://lh3.googleusercontent.com/a-/AOh14GiORR1CaMGmxwNR-W7YS7ssbav8FspEHqAMlMKGkHM=s64",
      "userId": "11468980100954515276"
     }
    },
    "outputId": "506f5c33-0111-4a74-9cd7-aa162482bd7e"
   },
   "source": [
    "print(list(range(4)))\n",
    "print(list(range(4,10,2)))\n"
   ],
   "execution_count": 49,
   "outputs": [
    {
     "output_type": "stream",
     "name": "stdout",
     "text": [
      "[0, 1, 2, 3]\n",
      "[4, 6, 8]\n"
     ]
    }
   ]
  },
  {
   "cell_type": "markdown",
   "metadata": {
    "id": "DfqymlnFyy7t"
   },
   "source": [
    "Торки"
   ]
  },
  {
   "cell_type": "code",
   "metadata": {
    "colab": {
     "base_uri": "https://localhost:8080/"
    },
    "id": "jnfpgEBiy13N",
    "executionInfo": {
     "status": "ok",
     "timestamp": 1632318319361,
     "user_tz": -120,
     "elapsed": 49,
     "user": {
      "displayName": "Sasho Gramatikov",
      "photoUrl": "https://lh3.googleusercontent.com/a-/AOh14GiORR1CaMGmxwNR-W7YS7ssbav8FspEHqAMlMKGkHM=s64",
      "userId": "11468980100954515276"
     }
    },
    "outputId": "2f7c2e4f-7e8a-4ff2-b5cb-3b06e25a5325"
   },
   "source": [
    "celi = 23, 51, 88\n",
    "meshani = (1, '2', [2,3])\n",
    "opseg = tuple(range(3))\n",
    "parni = tuple([2, 4, 6, 8])\n",
    "print(celi)\n",
    "print(meshani)\n",
    "print(opseg)\n",
    "print(parni)"
   ],
   "execution_count": 50,
   "outputs": [
    {
     "output_type": "stream",
     "name": "stdout",
     "text": [
      "(23, 51, 88)\n",
      "(1, '2', [2, 3])\n",
      "(0, 1, 2)\n",
      "(2, 4, 6, 8)\n"
     ]
    }
   ]
  },
  {
   "cell_type": "code",
   "metadata": {
    "colab": {
     "base_uri": "https://localhost:8080/"
    },
    "id": "0iNhOzEdh7hG",
    "executionInfo": {
     "status": "ok",
     "timestamp": 1632318319363,
     "user_tz": -120,
     "elapsed": 46,
     "user": {
      "displayName": "Sasho Gramatikov",
      "photoUrl": "https://lh3.googleusercontent.com/a-/AOh14GiORR1CaMGmxwNR-W7YS7ssbav8FspEHqAMlMKGkHM=s64",
      "userId": "11468980100954515276"
     }
    },
    "outputId": "5da51476-02b5-465a-8451-59dfe3d79f06"
   },
   "source": [
    "torka = (1, 3) + ([True, False], (1.0, 3,5))\n",
    "print(torka)"
   ],
   "execution_count": 51,
   "outputs": [
    {
     "output_type": "stream",
     "name": "stdout",
     "text": [
      "(1, 3, [True, False], (1.0, 3, 5))\n"
     ]
    }
   ]
  },
  {
   "cell_type": "code",
   "metadata": {
    "colab": {
     "base_uri": "https://localhost:8080/"
    },
    "id": "lQHyAvQX2h3J",
    "executionInfo": {
     "status": "ok",
     "timestamp": 1632318319364,
     "user_tz": -120,
     "elapsed": 41,
     "user": {
      "displayName": "Sasho Gramatikov",
      "photoUrl": "https://lh3.googleusercontent.com/a-/AOh14GiORR1CaMGmxwNR-W7YS7ssbav8FspEHqAMlMKGkHM=s64",
      "userId": "11468980100954515276"
     }
    },
    "outputId": "dbe7a12b-fc35-4bf2-83c8-03b50bce9d04"
   },
   "source": [
    "print(celi[1])\n",
    "print(parni[0:2])"
   ],
   "execution_count": 52,
   "outputs": [
    {
     "output_type": "stream",
     "name": "stdout",
     "text": [
      "51\n",
      "(2, 4)\n"
     ]
    }
   ]
  },
  {
   "cell_type": "code",
   "metadata": {
    "id": "DY3qWFujQZIP",
    "colab": {
     "base_uri": "https://localhost:8080/",
     "height": 163
    },
    "executionInfo": {
     "status": "error",
     "timestamp": 1632318319926,
     "user_tz": -120,
     "elapsed": 597,
     "user": {
      "displayName": "Sasho Gramatikov",
      "photoUrl": "https://lh3.googleusercontent.com/a-/AOh14GiORR1CaMGmxwNR-W7YS7ssbav8FspEHqAMlMKGkHM=s64",
      "userId": "11468980100954515276"
     }
    },
    "outputId": "a2ccf0a3-4d64-428a-9b5c-28ea8539a7de"
   },
   "source": [
    "meshani[2] = 3"
   ],
   "execution_count": 53,
   "outputs": [
    {
     "output_type": "error",
     "ename": "TypeError",
     "evalue": "ignored",
     "traceback": [
      "\u001B[0;31m---------------------------------------------------------------------------\u001B[0m",
      "\u001B[0;31mTypeError\u001B[0m                                 Traceback (most recent call last)",
      "\u001B[0;32m<ipython-input-53-28594267a732>\u001B[0m in \u001B[0;36m<module>\u001B[0;34m()\u001B[0m\n\u001B[0;32m----> 1\u001B[0;31m \u001B[0mmeshani\u001B[0m\u001B[0;34m[\u001B[0m\u001B[0;36m2\u001B[0m\u001B[0;34m]\u001B[0m \u001B[0;34m=\u001B[0m \u001B[0;36m3\u001B[0m\u001B[0;34m\u001B[0m\u001B[0;34m\u001B[0m\u001B[0m\n\u001B[0m",
      "\u001B[0;31mTypeError\u001B[0m: 'tuple' object does not support item assignment"
     ]
    }
   ]
  },
  {
   "cell_type": "code",
   "metadata": {
    "colab": {
     "base_uri": "https://localhost:8080/"
    },
    "id": "_agjaODTNFPD",
    "executionInfo": {
     "status": "ok",
     "timestamp": 1632318331148,
     "user_tz": -120,
     "elapsed": 247,
     "user": {
      "displayName": "Sasho Gramatikov",
      "photoUrl": "https://lh3.googleusercontent.com/a-/AOh14GiORR1CaMGmxwNR-W7YS7ssbav8FspEHqAMlMKGkHM=s64",
      "userId": "11468980100954515276"
     }
    },
    "outputId": "6caf9aae-0bc9-4c90-a3f6-9784b79312a4"
   },
   "source": [
    "meshani[2][0] = 1\n",
    "meshani[2].append(5)\n",
    "print(meshani)\n"
   ],
   "execution_count": 54,
   "outputs": [
    {
     "output_type": "stream",
     "name": "stdout",
     "text": [
      "(1, '2', [1, 3, 5])\n"
     ]
    }
   ]
  },
  {
   "cell_type": "code",
   "metadata": {
    "colab": {
     "base_uri": "https://localhost:8080/"
    },
    "id": "4Ck37gu9VrGl",
    "executionInfo": {
     "status": "ok",
     "timestamp": 1632318332037,
     "user_tz": -120,
     "elapsed": 527,
     "user": {
      "displayName": "Sasho Gramatikov",
      "photoUrl": "https://lh3.googleusercontent.com/a-/AOh14GiORR1CaMGmxwNR-W7YS7ssbav8FspEHqAMlMKGkHM=s64",
      "userId": "11468980100954515276"
     }
    },
    "outputId": "4a680324-985d-44a7-dfda-13af33a21b73"
   },
   "source": [
    "lista = list(meshani) # lista = [1, '2', [1, 3, 5]] \n",
    "lista[2] = 3          # lista = [1, '2', 3] \n",
    "meshani = tuple(lista)\n",
    "print(meshani)"
   ],
   "execution_count": 55,
   "outputs": [
    {
     "output_type": "stream",
     "name": "stdout",
     "text": [
      "(1, '2', 3)\n"
     ]
    }
   ]
  },
  {
   "cell_type": "code",
   "metadata": {
    "colab": {
     "base_uri": "https://localhost:8080/"
    },
    "id": "TL24_kiDeHvz",
    "executionInfo": {
     "status": "ok",
     "timestamp": 1632318332039,
     "user_tz": -120,
     "elapsed": 77,
     "user": {
      "displayName": "Sasho Gramatikov",
      "photoUrl": "https://lh3.googleusercontent.com/a-/AOh14GiORR1CaMGmxwNR-W7YS7ssbav8FspEHqAMlMKGkHM=s64",
      "userId": "11468980100954515276"
     }
    },
    "outputId": "3feea64f-bb20-4069-d10c-721b4cd7c4a6"
   },
   "source": [
    "a, b, c = 1, True, 2.17 # a = 1, b = True, c = 2.17\n",
    "torka = (\"abc\", 34, [1,2], (True, False))\n",
    "w, *x, y  = torka # w=\"abc\" y = (True, False)\n",
    "print(x)"
   ],
   "execution_count": 56,
   "outputs": [
    {
     "output_type": "stream",
     "name": "stdout",
     "text": [
      "[34, [1, 2]]\n"
     ]
    }
   ]
  },
  {
   "cell_type": "code",
   "metadata": {
    "id": "NK7wT1AU0d2D",
    "executionInfo": {
     "status": "ok",
     "timestamp": 1632318332041,
     "user_tz": -120,
     "elapsed": 69,
     "user": {
      "displayName": "Sasho Gramatikov",
      "photoUrl": "https://lh3.googleusercontent.com/a-/AOh14GiORR1CaMGmxwNR-W7YS7ssbav8FspEHqAMlMKGkHM=s64",
      "userId": "11468980100954515276"
     }
    }
   },
   "source": [],
   "execution_count": 56,
   "outputs": []
  },
  {
   "cell_type": "code",
   "metadata": {
    "colab": {
     "base_uri": "https://localhost:8080/"
    },
    "id": "3Zo9Wr80rJL9",
    "executionInfo": {
     "status": "ok",
     "timestamp": 1632318332042,
     "user_tz": -120,
     "elapsed": 69,
     "user": {
      "displayName": "Sasho Gramatikov",
      "photoUrl": "https://lh3.googleusercontent.com/a-/AOh14GiORR1CaMGmxwNR-W7YS7ssbav8FspEHqAMlMKGkHM=s64",
      "userId": "11468980100954515276"
     }
    },
    "outputId": "e037475d-77a8-4eca-f97a-dba0a1ba7a4d"
   },
   "source": [
    "iterator1=[\"a\", \"b\", \"c\"]\n",
    "iterator2=(10, 20, 30, 40)\n",
    "torka = tuple(zip(iterator1, iterator2))\n",
    "print(torka)"
   ],
   "execution_count": 57,
   "outputs": [
    {
     "output_type": "stream",
     "name": "stdout",
     "text": [
      "(('a', 10), ('b', 20), ('c', 30))\n"
     ]
    }
   ]
  },
  {
   "cell_type": "markdown",
   "metadata": {
    "id": "d2qaakaxGPuV"
   },
   "source": [
    "Множества"
   ]
  },
  {
   "cell_type": "code",
   "metadata": {
    "colab": {
     "base_uri": "https://localhost:8080/"
    },
    "id": "f1rquJeAGSAr",
    "executionInfo": {
     "status": "ok",
     "timestamp": 1632318332042,
     "user_tz": -120,
     "elapsed": 63,
     "user": {
      "displayName": "Sasho Gramatikov",
      "photoUrl": "https://lh3.googleusercontent.com/a-/AOh14GiORR1CaMGmxwNR-W7YS7ssbav8FspEHqAMlMKGkHM=s64",
      "userId": "11468980100954515276"
     }
    },
    "outputId": "c28c7945-19a4-4d04-b3e0-339954bd40d9"
   },
   "source": [
    "cifri = {0, 1, 2, 3, 4, 5, 6, 7, 8, 9}\n",
    "samoglaski = set(['a', 'e', 'i', 'o', 'u', 'i', 'o'])\n",
    "print(cifri)\n",
    "print(samoglaski)"
   ],
   "execution_count": 58,
   "outputs": [
    {
     "output_type": "stream",
     "name": "stdout",
     "text": [
      "{0, 1, 2, 3, 4, 5, 6, 7, 8, 9}\n",
      "{'a', 'o', 'i', 'e', 'u'}\n"
     ]
    }
   ]
  },
  {
   "cell_type": "code",
   "metadata": {
    "colab": {
     "base_uri": "https://localhost:8080/"
    },
    "id": "yi9ErBR1JjBO",
    "executionInfo": {
     "status": "ok",
     "timestamp": 1632318332043,
     "user_tz": -120,
     "elapsed": 59,
     "user": {
      "displayName": "Sasho Gramatikov",
      "photoUrl": "https://lh3.googleusercontent.com/a-/AOh14GiORR1CaMGmxwNR-W7YS7ssbav8FspEHqAMlMKGkHM=s64",
      "userId": "11468980100954515276"
     }
    },
    "outputId": "830e92f6-a05a-4ca3-a143-99aceb5cfaa2"
   },
   "source": [
    "print(samoglaski)"
   ],
   "execution_count": 59,
   "outputs": [
    {
     "output_type": "stream",
     "name": "stdout",
     "text": [
      "{'a', 'o', 'i', 'e', 'u'}\n"
     ]
    }
   ]
  },
  {
   "cell_type": "code",
   "metadata": {
    "colab": {
     "base_uri": "https://localhost:8080/"
    },
    "id": "1aCKs5R8ObE5",
    "executionInfo": {
     "status": "ok",
     "timestamp": 1632318332044,
     "user_tz": -120,
     "elapsed": 54,
     "user": {
      "displayName": "Sasho Gramatikov",
      "photoUrl": "https://lh3.googleusercontent.com/a-/AOh14GiORR1CaMGmxwNR-W7YS7ssbav8FspEHqAMlMKGkHM=s64",
      "userId": "11468980100954515276"
     }
    },
    "outputId": "a33eda2d-b627-462b-ea6f-b0ace7df6a01"
   },
   "source": [
    "print('g' in samoglaski)"
   ],
   "execution_count": 60,
   "outputs": [
    {
     "output_type": "stream",
     "name": "stdout",
     "text": [
      "False\n"
     ]
    }
   ]
  },
  {
   "cell_type": "code",
   "metadata": {
    "colab": {
     "base_uri": "https://localhost:8080/"
    },
    "id": "5IZaxzcyPwtY",
    "executionInfo": {
     "status": "ok",
     "timestamp": 1632318332045,
     "user_tz": -120,
     "elapsed": 51,
     "user": {
      "displayName": "Sasho Gramatikov",
      "photoUrl": "https://lh3.googleusercontent.com/a-/AOh14GiORR1CaMGmxwNR-W7YS7ssbav8FspEHqAMlMKGkHM=s64",
      "userId": "11468980100954515276"
     }
    },
    "outputId": "f7ab0b67-cdbb-495e-9f19-0e9c289cd1e8"
   },
   "source": [
    "samoglaski.add('y')\n",
    "samoglaski.remove('o')\n",
    "print(samoglaski)\n",
    "samoglaski.update(['è', 'ì'])\n",
    "print(samoglaski)"
   ],
   "execution_count": 61,
   "outputs": [
    {
     "output_type": "stream",
     "name": "stdout",
     "text": [
      "{'a', 'i', 'y', 'e', 'u'}\n",
      "{'ì', 'a', 'è', 'i', 'y', 'e', 'u'}\n"
     ]
    }
   ]
  },
  {
   "cell_type": "code",
   "metadata": {
    "colab": {
     "base_uri": "https://localhost:8080/"
    },
    "id": "X-wjpdH0V6M3",
    "executionInfo": {
     "status": "ok",
     "timestamp": 1632318332046,
     "user_tz": -120,
     "elapsed": 47,
     "user": {
      "displayName": "Sasho Gramatikov",
      "photoUrl": "https://lh3.googleusercontent.com/a-/AOh14GiORR1CaMGmxwNR-W7YS7ssbav8FspEHqAMlMKGkHM=s64",
      "userId": "11468980100954515276"
     }
    },
    "outputId": "08fba945-fc9b-4ed7-d0e3-e52709b607b4"
   },
   "source": [
    "a = {1, 2, 3, 5, 8, 9}\n",
    "b = {2, 4, 6, 8}\n",
    "c= {1, 3, 5}\n",
    "print(a.union(b))\n",
    "print(a.intersection(b))\n",
    "print(a.difference(b))\n",
    "print(a.symmetric_difference(b))\n",
    "print(c.issubset(a))\n",
    "print(b.isdisjoint(c))"
   ],
   "execution_count": 62,
   "outputs": [
    {
     "output_type": "stream",
     "name": "stdout",
     "text": [
      "{1, 2, 3, 4, 5, 6, 8, 9}\n",
      "{8, 2}\n",
      "{1, 3, 5, 9}\n",
      "{1, 3, 4, 5, 6, 9}\n",
      "True\n",
      "True\n"
     ]
    }
   ]
  },
  {
   "cell_type": "markdown",
   "metadata": {
    "id": "Tr7UmDItYfhM"
   },
   "source": [
    "Речници"
   ]
  },
  {
   "cell_type": "code",
   "metadata": {
    "colab": {
     "base_uri": "https://localhost:8080/"
    },
    "id": "V8NJZ08FYiFK",
    "executionInfo": {
     "status": "ok",
     "timestamp": 1632318332047,
     "user_tz": -120,
     "elapsed": 42,
     "user": {
      "displayName": "Sasho Gramatikov",
      "photoUrl": "https://lh3.googleusercontent.com/a-/AOh14GiORR1CaMGmxwNR-W7YS7ssbav8FspEHqAMlMKGkHM=s64",
      "userId": "11468980100954515276"
     }
    },
    "outputId": "288f4d16-12a6-4d54-e8f2-0f130c8130f4"
   },
   "source": [
    "planeti = {1:\"Merkur\", 2:\"Venera\", 3:\"Zemja\"}\n",
    "lichnost = {\"ime\": \"Ana\", \"embg\":1206990455123, \"roditeli\": (\"Marija\", \"Ilin\")}\n",
    "print(planeti)\n",
    "print(lichnost)"
   ],
   "execution_count": 63,
   "outputs": [
    {
     "output_type": "stream",
     "name": "stdout",
     "text": [
      "{1: 'Merkur', 2: 'Venera', 3: 'Zemja'}\n",
      "{'ime': 'Ana', 'embg': 1206990455123, 'roditeli': ('Marija', 'Ilin')}\n"
     ]
    }
   ]
  },
  {
   "cell_type": "code",
   "metadata": {
    "colab": {
     "base_uri": "https://localhost:8080/"
    },
    "id": "EnQDeOONu6qe",
    "executionInfo": {
     "status": "ok",
     "timestamp": 1632318332047,
     "user_tz": -120,
     "elapsed": 37,
     "user": {
      "displayName": "Sasho Gramatikov",
      "photoUrl": "https://lh3.googleusercontent.com/a-/AOh14GiORR1CaMGmxwNR-W7YS7ssbav8FspEHqAMlMKGkHM=s64",
      "userId": "11468980100954515276"
     }
    },
    "outputId": "e3c10545-f2f1-4d94-c178-50228b0d618f"
   },
   "source": [
    "kluchevi = [1, 2, 3]\n",
    "vrednosti = ['Merkur', 'Venera', 'Zemja',]\n",
    "planeti=dict(zip(kluchevi, vrednosti))\n",
    "print(planeti)"
   ],
   "execution_count": 64,
   "outputs": [
    {
     "output_type": "stream",
     "name": "stdout",
     "text": [
      "{1: 'Merkur', 2: 'Venera', 3: 'Zemja'}\n"
     ]
    }
   ]
  },
  {
   "cell_type": "code",
   "metadata": {
    "colab": {
     "base_uri": "https://localhost:8080/"
    },
    "id": "fzEgglZYYyGb",
    "executionInfo": {
     "status": "ok",
     "timestamp": 1632318332048,
     "user_tz": -120,
     "elapsed": 33,
     "user": {
      "displayName": "Sasho Gramatikov",
      "photoUrl": "https://lh3.googleusercontent.com/a-/AOh14GiORR1CaMGmxwNR-W7YS7ssbav8FspEHqAMlMKGkHM=s64",
      "userId": "11468980100954515276"
     }
    },
    "outputId": "0e5acc13-2a23-47a6-8e53-cca50bbe197c"
   },
   "source": [
    "print(planeti[2])\n",
    "print(lichnost.get(\"roditeli\"))"
   ],
   "execution_count": 65,
   "outputs": [
    {
     "output_type": "stream",
     "name": "stdout",
     "text": [
      "Venera\n",
      "('Marija', 'Ilin')\n"
     ]
    }
   ]
  },
  {
   "cell_type": "code",
   "metadata": {
    "colab": {
     "base_uri": "https://localhost:8080/",
     "height": 86
    },
    "id": "C6JaGfZGdYM4",
    "executionInfo": {
     "status": "ok",
     "timestamp": 1632318332049,
     "user_tz": -120,
     "elapsed": 29,
     "user": {
      "displayName": "Sasho Gramatikov",
      "photoUrl": "https://lh3.googleusercontent.com/a-/AOh14GiORR1CaMGmxwNR-W7YS7ssbav8FspEHqAMlMKGkHM=s64",
      "userId": "11468980100954515276"
     }
    },
    "outputId": "6251fc0e-4905-4829-f176-991a8d9a8fc5"
   },
   "source": [
    "print(planeti.keys())\n",
    "print(planeti.values())\n",
    "print(planeti.items())\n",
    "list(planeti.items())[2][1]"
   ],
   "execution_count": 66,
   "outputs": [
    {
     "output_type": "stream",
     "name": "stdout",
     "text": [
      "dict_keys([1, 2, 3])\n",
      "dict_values(['Merkur', 'Venera', 'Zemja'])\n",
      "dict_items([(1, 'Merkur'), (2, 'Venera'), (3, 'Zemja')])\n"
     ]
    },
    {
     "output_type": "execute_result",
     "data": {
      "application/vnd.google.colaboratory.intrinsic+json": {
       "type": "string"
      },
      "text/plain": [
       "'Zemja'"
      ]
     },
     "metadata": {},
     "execution_count": 66
    }
   ]
  },
  {
   "cell_type": "code",
   "metadata": {
    "colab": {
     "base_uri": "https://localhost:8080/"
    },
    "id": "I6ft-bo6jmeF",
    "executionInfo": {
     "status": "ok",
     "timestamp": 1632318332050,
     "user_tz": -120,
     "elapsed": 24,
     "user": {
      "displayName": "Sasho Gramatikov",
      "photoUrl": "https://lh3.googleusercontent.com/a-/AOh14GiORR1CaMGmxwNR-W7YS7ssbav8FspEHqAMlMKGkHM=s64",
      "userId": "11468980100954515276"
     }
    },
    "outputId": "67c9a498-4c75-46e4-dc71-b93a9b321e5b"
   },
   "source": [
    "vrednosti = planeti.values()\n",
    "planeti[1]=\"Uran\"\n",
    "print(vrednosti)\n",
    "planeti_lista=list(vrednosti);\n",
    "print(planeti_lista)\n"
   ],
   "execution_count": 67,
   "outputs": [
    {
     "output_type": "stream",
     "name": "stdout",
     "text": [
      "dict_values(['Uran', 'Venera', 'Zemja'])\n",
      "['Uran', 'Venera', 'Zemja']\n"
     ]
    }
   ]
  },
  {
   "cell_type": "code",
   "metadata": {
    "colab": {
     "base_uri": "https://localhost:8080/"
    },
    "id": "NNnp3LMN6Imj",
    "executionInfo": {
     "status": "ok",
     "timestamp": 1632318332615,
     "user_tz": -120,
     "elapsed": 585,
     "user": {
      "displayName": "Sasho Gramatikov",
      "photoUrl": "https://lh3.googleusercontent.com/a-/AOh14GiORR1CaMGmxwNR-W7YS7ssbav8FspEHqAMlMKGkHM=s64",
      "userId": "11468980100954515276"
     }
    },
    "outputId": "84daa6a0-1ce0-47ee-d545-ad1abd628ff0"
   },
   "source": [
    "planeti[1] = \"Saturn\"\n",
    "planeti[4] = \"Mars\"\n",
    "planeti.update({2:\"Neptun\"})\n",
    "planeti.update({5:\"Jupiter\"})\n",
    "print(planeti)"
   ],
   "execution_count": 68,
   "outputs": [
    {
     "output_type": "stream",
     "name": "stdout",
     "text": [
      "{1: 'Saturn', 2: 'Neptun', 3: 'Zemja', 4: 'Mars', 5: 'Jupiter'}\n"
     ]
    }
   ]
  },
  {
   "cell_type": "code",
   "metadata": {
    "colab": {
     "base_uri": "https://localhost:8080/"
    },
    "id": "1cCGkAPmNOM_",
    "executionInfo": {
     "status": "ok",
     "timestamp": 1632318332616,
     "user_tz": -120,
     "elapsed": 119,
     "user": {
      "displayName": "Sasho Gramatikov",
      "photoUrl": "https://lh3.googleusercontent.com/a-/AOh14GiORR1CaMGmxwNR-W7YS7ssbav8FspEHqAMlMKGkHM=s64",
      "userId": "11468980100954515276"
     }
    },
    "outputId": "66fc85e2-73c6-413e-f24b-f83b2e7f39de"
   },
   "source": [
    "planeti.update({2:\"Venera\", 6:\"Pluton\"})\n",
    "print(planeti)\n",
    "planeti.pop(6)\n",
    "print(planeti)"
   ],
   "execution_count": 69,
   "outputs": [
    {
     "output_type": "stream",
     "name": "stdout",
     "text": [
      "{1: 'Saturn', 2: 'Venera', 3: 'Zemja', 4: 'Mars', 5: 'Jupiter', 6: 'Pluton'}\n",
      "{1: 'Saturn', 2: 'Venera', 3: 'Zemja', 4: 'Mars', 5: 'Jupiter'}\n"
     ]
    }
   ]
  },
  {
   "cell_type": "markdown",
   "metadata": {
    "id": "IVN2EjUZeJyJ"
   },
   "source": [
    "Контрола на тек"
   ]
  },
  {
   "cell_type": "code",
   "metadata": {
    "colab": {
     "base_uri": "https://localhost:8080/"
    },
    "id": "Zmm0tLrvRBpZ",
    "executionInfo": {
     "status": "ok",
     "timestamp": 1632318332618,
     "user_tz": -120,
     "elapsed": 114,
     "user": {
      "displayName": "Sasho Gramatikov",
      "photoUrl": "https://lh3.googleusercontent.com/a-/AOh14GiORR1CaMGmxwNR-W7YS7ssbav8FspEHqAMlMKGkHM=s64",
      "userId": "11468980100954515276"
     }
    },
    "outputId": "5e32ede0-2e53-4da4-faf4-7483d8c4fd4c"
   },
   "source": [
    "a, b = 5, 7\n",
    "if a < b:\n",
    "  print(\"a e pomalo od b\")"
   ],
   "execution_count": 70,
   "outputs": [
    {
     "output_type": "stream",
     "name": "stdout",
     "text": [
      "a e pomalo od b\n"
     ]
    }
   ]
  },
  {
   "cell_type": "code",
   "metadata": {
    "colab": {
     "base_uri": "https://localhost:8080/"
    },
    "id": "8PX1xDmOeLt3",
    "executionInfo": {
     "status": "ok",
     "timestamp": 1632318332618,
     "user_tz": -120,
     "elapsed": 109,
     "user": {
      "displayName": "Sasho Gramatikov",
      "photoUrl": "https://lh3.googleusercontent.com/a-/AOh14GiORR1CaMGmxwNR-W7YS7ssbav8FspEHqAMlMKGkHM=s64",
      "userId": "11468980100954515276"
     }
    },
    "outputId": "4bebb14b-804a-4202-d8ce-1ccb5302f27d"
   },
   "source": [
    "a, b = 12, 7\n",
    "if a < b:\n",
    "  print(\"a e pomalo od b\")\n",
    "  a -= 1\n",
    "elif a > b:\n",
    "  print(\"a e pogolemo od b\")\n",
    "  a += 1"
   ],
   "execution_count": 71,
   "outputs": [
    {
     "output_type": "stream",
     "name": "stdout",
     "text": [
      "a e pogolemo od b\n"
     ]
    }
   ]
  },
  {
   "cell_type": "code",
   "metadata": {
    "colab": {
     "base_uri": "https://localhost:8080/"
    },
    "id": "MyX60ZAsgYib",
    "executionInfo": {
     "status": "ok",
     "timestamp": 1632318332619,
     "user_tz": -120,
     "elapsed": 105,
     "user": {
      "displayName": "Sasho Gramatikov",
      "photoUrl": "https://lh3.googleusercontent.com/a-/AOh14GiORR1CaMGmxwNR-W7YS7ssbav8FspEHqAMlMKGkHM=s64",
      "userId": "11468980100954515276"
     }
    },
    "outputId": "687d83a1-c254-41f4-8130-33dad99362d7"
   },
   "source": [
    "a, b = 12, 12\n",
    "if a < b:\n",
    "  print(\"a e pomalo od b\")\n",
    "  a -= 1\n",
    "elif a > b:\n",
    "  print(\"a e pogolemo od b\")\n",
    "  a += 1\n",
    "else:\n",
    "  print(\"a e ednakvo na b\")"
   ],
   "execution_count": 72,
   "outputs": [
    {
     "output_type": "stream",
     "name": "stdout",
     "text": [
      "a e ednakvo na b\n"
     ]
    }
   ]
  },
  {
   "cell_type": "code",
   "metadata": {
    "colab": {
     "base_uri": "https://localhost:8080/"
    },
    "id": "VWijGUHfjhOz",
    "executionInfo": {
     "status": "ok",
     "timestamp": 1632318332620,
     "user_tz": -120,
     "elapsed": 101,
     "user": {
      "displayName": "Sasho Gramatikov",
      "photoUrl": "https://lh3.googleusercontent.com/a-/AOh14GiORR1CaMGmxwNR-W7YS7ssbav8FspEHqAMlMKGkHM=s64",
      "userId": "11468980100954515276"
     }
    },
    "outputId": "45bb6dd2-4955-4707-b696-d7386f295586"
   },
   "source": [
    "a, b = 12, 12\n",
    "if  a == b: print(\"a e ednakvo na b\")"
   ],
   "execution_count": 73,
   "outputs": [
    {
     "output_type": "stream",
     "name": "stdout",
     "text": [
      "a e ednakvo na b\n"
     ]
    }
   ]
  },
  {
   "cell_type": "code",
   "metadata": {
    "colab": {
     "base_uri": "https://localhost:8080/"
    },
    "id": "JEqiu68xhSU3",
    "executionInfo": {
     "status": "ok",
     "timestamp": 1632318332621,
     "user_tz": -120,
     "elapsed": 96,
     "user": {
      "displayName": "Sasho Gramatikov",
      "photoUrl": "https://lh3.googleusercontent.com/a-/AOh14GiORR1CaMGmxwNR-W7YS7ssbav8FspEHqAMlMKGkHM=s64",
      "userId": "11468980100954515276"
     }
    },
    "outputId": "885fa8b4-5213-4940-f643-8d0b2c5ff098"
   },
   "source": [
    "a, b = 12, 12\n",
    "print(\"a e pomalo b\") if  a < b  else print(\"a ne e pomalo b\")"
   ],
   "execution_count": 74,
   "outputs": [
    {
     "output_type": "stream",
     "name": "stdout",
     "text": [
      "a ne e pomalo b\n"
     ]
    }
   ]
  },
  {
   "cell_type": "code",
   "metadata": {
    "colab": {
     "base_uri": "https://localhost:8080/"
    },
    "id": "-5sJtuGUmBs-",
    "executionInfo": {
     "status": "ok",
     "timestamp": 1632318332622,
     "user_tz": -120,
     "elapsed": 92,
     "user": {
      "displayName": "Sasho Gramatikov",
      "photoUrl": "https://lh3.googleusercontent.com/a-/AOh14GiORR1CaMGmxwNR-W7YS7ssbav8FspEHqAMlMKGkHM=s64",
      "userId": "11468980100954515276"
     }
    },
    "outputId": "17d617f6-39af-4e08-86ae-a39955cfd6ab"
   },
   "source": [
    "a, b = 5, 12\n",
    "max = a if  a > b else b\n",
    "print(max)"
   ],
   "execution_count": 75,
   "outputs": [
    {
     "output_type": "stream",
     "name": "stdout",
     "text": [
      "12\n"
     ]
    }
   ]
  },
  {
   "cell_type": "markdown",
   "metadata": {
    "id": "S19lGt2Hk9nv"
   },
   "source": [
    "Јамки"
   ]
  },
  {
   "cell_type": "code",
   "metadata": {
    "colab": {
     "base_uri": "https://localhost:8080/"
    },
    "id": "WaRpeN35m3Yz",
    "executionInfo": {
     "status": "ok",
     "timestamp": 1632318332624,
     "user_tz": -120,
     "elapsed": 90,
     "user": {
      "displayName": "Sasho Gramatikov",
      "photoUrl": "https://lh3.googleusercontent.com/a-/AOh14GiORR1CaMGmxwNR-W7YS7ssbav8FspEHqAMlMKGkHM=s64",
      "userId": "11468980100954515276"
     }
    },
    "outputId": "0f8a30a8-9f82-44e9-d46d-0fa272134c9b"
   },
   "source": [
    "rabotni_denovi=[\"ponedelnik\", \"vtornik\", \"sredka\", \"cetvrtok\", \"petok\"]\n",
    "strani = [\"istok\", \"zapad\", \"sever\", \"jug\"]\n",
    "for strana in strani:\n",
    "  print(strana)"
   ],
   "execution_count": 76,
   "outputs": [
    {
     "output_type": "stream",
     "name": "stdout",
     "text": [
      "istok\n",
      "zapad\n",
      "sever\n",
      "jug\n"
     ]
    }
   ]
  },
  {
   "cell_type": "code",
   "metadata": {
    "colab": {
     "base_uri": "https://localhost:8080/"
    },
    "id": "vacEK-0vox5P",
    "executionInfo": {
     "status": "ok",
     "timestamp": 1632318332625,
     "user_tz": -120,
     "elapsed": 85,
     "user": {
      "displayName": "Sasho Gramatikov",
      "photoUrl": "https://lh3.googleusercontent.com/a-/AOh14GiORR1CaMGmxwNR-W7YS7ssbav8FspEHqAMlMKGkHM=s64",
      "userId": "11468980100954515276"
     }
    },
    "outputId": "9eccf1e0-2775-4a72-9f56-b2fabca9571a"
   },
   "source": [
    "\n",
    "for x in range(3):\n",
    "  print(x)\n",
    "else:\n",
    "  print(\"kraj\")\n"
   ],
   "execution_count": 77,
   "outputs": [
    {
     "output_type": "stream",
     "name": "stdout",
     "text": [
      "0\n",
      "1\n",
      "2\n",
      "kraj\n"
     ]
    }
   ]
  },
  {
   "cell_type": "code",
   "metadata": {
    "colab": {
     "base_uri": "https://localhost:8080/"
    },
    "id": "NNKP972aq2q3",
    "executionInfo": {
     "status": "ok",
     "timestamp": 1632318332625,
     "user_tz": -120,
     "elapsed": 80,
     "user": {
      "displayName": "Sasho Gramatikov",
      "photoUrl": "https://lh3.googleusercontent.com/a-/AOh14GiORR1CaMGmxwNR-W7YS7ssbav8FspEHqAMlMKGkHM=s64",
      "userId": "11468980100954515276"
     }
    },
    "outputId": "98c47f65-e6a9-43fe-b2e9-8833e1afbe9f"
   },
   "source": [
    "broevi = [1, 3, 4, 9, 0, 5 -1, 4]\n",
    "for x in broevi:\n",
    "  if x % 2 == 0:\n",
    "    continue\n",
    "  if x == -1:\n",
    "    break\n",
    "  print(x)"
   ],
   "execution_count": 78,
   "outputs": [
    {
     "output_type": "stream",
     "name": "stdout",
     "text": [
      "1\n",
      "3\n",
      "9\n"
     ]
    }
   ]
  },
  {
   "cell_type": "code",
   "metadata": {
    "colab": {
     "base_uri": "https://localhost:8080/"
    },
    "id": "UzwDdXGCtRy5",
    "executionInfo": {
     "status": "ok",
     "timestamp": 1632318332626,
     "user_tz": -120,
     "elapsed": 77,
     "user": {
      "displayName": "Sasho Gramatikov",
      "photoUrl": "https://lh3.googleusercontent.com/a-/AOh14GiORR1CaMGmxwNR-W7YS7ssbav8FspEHqAMlMKGkHM=s64",
      "userId": "11468980100954515276"
     }
    },
    "outputId": "79534948-7d6c-4780-bf2d-05953debe6ab"
   },
   "source": [
    "x, kvadrati = 0, []   \n",
    "while x < 5:\n",
    "  x += 1\n",
    "  kvadrati.append(x ** 2) \n",
    "print(kvadrati)"
   ],
   "execution_count": 79,
   "outputs": [
    {
     "output_type": "stream",
     "name": "stdout",
     "text": [
      "[1, 4, 9, 16, 25]\n"
     ]
    }
   ]
  },
  {
   "cell_type": "markdown",
   "metadata": {
    "id": "vKLPhGmOC_zf"
   },
   "source": [
    "Comprehension (разбирање)"
   ]
  },
  {
   "cell_type": "code",
   "metadata": {
    "colab": {
     "base_uri": "https://localhost:8080/"
    },
    "id": "rp4zb5EjETHZ",
    "executionInfo": {
     "status": "ok",
     "timestamp": 1632318332627,
     "user_tz": -120,
     "elapsed": 73,
     "user": {
      "displayName": "Sasho Gramatikov",
      "photoUrl": "https://lh3.googleusercontent.com/a-/AOh14GiORR1CaMGmxwNR-W7YS7ssbav8FspEHqAMlMKGkHM=s64",
      "userId": "11468980100954515276"
     }
    },
    "outputId": "c2cfa460-d7ad-4cdd-e6b3-8aa9fe5f7a70"
   },
   "source": [
    "lista = [2 ** x for x in range(10) ]\n",
    "mnozhestvo = {2 ** x for x in range(10) }\n",
    "rechnik ={x:2 ** x for x in range(10) }\n",
    "print(lista)\n",
    "print(mnozhestvo)\n",
    "print(rechnik)"
   ],
   "execution_count": 80,
   "outputs": [
    {
     "output_type": "stream",
     "name": "stdout",
     "text": [
      "[1, 2, 4, 8, 16, 32, 64, 128, 256, 512]\n",
      "{32, 1, 2, 64, 4, 128, 256, 512, 8, 16}\n",
      "{0: 1, 1: 2, 2: 4, 3: 8, 4: 16, 5: 32, 6: 64, 7: 128, 8: 256, 9: 512}\n"
     ]
    }
   ]
  },
  {
   "cell_type": "code",
   "metadata": {
    "colab": {
     "base_uri": "https://localhost:8080/"
    },
    "id": "o6t-PVOzHoNT",
    "executionInfo": {
     "status": "ok",
     "timestamp": 1632318332628,
     "user_tz": -120,
     "elapsed": 69,
     "user": {
      "displayName": "Sasho Gramatikov",
      "photoUrl": "https://lh3.googleusercontent.com/a-/AOh14GiORR1CaMGmxwNR-W7YS7ssbav8FspEHqAMlMKGkHM=s64",
      "userId": "11468980100954515276"
     }
    },
    "outputId": "5ae55f85-58eb-4e8a-a6f5-bdd5eeedcbb1"
   },
   "source": [
    "{x:2 ** x for x in range(10) }"
   ],
   "execution_count": 81,
   "outputs": [
    {
     "output_type": "execute_result",
     "data": {
      "text/plain": [
       "{0: 1, 1: 2, 2: 4, 3: 8, 4: 16, 5: 32, 6: 64, 7: 128, 8: 256, 9: 512}"
      ]
     },
     "metadata": {},
     "execution_count": 81
    }
   ]
  },
  {
   "cell_type": "code",
   "metadata": {
    "colab": {
     "base_uri": "https://localhost:8080/"
    },
    "id": "HMT3fjzADF33",
    "executionInfo": {
     "status": "ok",
     "timestamp": 1632318332629,
     "user_tz": -120,
     "elapsed": 65,
     "user": {
      "displayName": "Sasho Gramatikov",
      "photoUrl": "https://lh3.googleusercontent.com/a-/AOh14GiORR1CaMGmxwNR-W7YS7ssbav8FspEHqAMlMKGkHM=s64",
      "userId": "11468980100954515276"
     }
    },
    "outputId": "4dac7ef9-e165-4037-a5fa-0c314039e081"
   },
   "source": [
    "niza = \"mAli i GoLemI BUkvI\"\n",
    "bukvi = {x.lower() for x in niza if x.isupper()}\n",
    "print(bukvi)"
   ],
   "execution_count": 82,
   "outputs": [
    {
     "output_type": "stream",
     "name": "stdout",
     "text": [
      "{'l', 'a', 'i', 'u', 'b', 'g'}\n"
     ]
    }
   ]
  },
  {
   "cell_type": "code",
   "metadata": {
    "colab": {
     "base_uri": "https://localhost:8080/"
    },
    "id": "sCcTCr8hHUl8",
    "executionInfo": {
     "status": "ok",
     "timestamp": 1632318332629,
     "user_tz": -120,
     "elapsed": 60,
     "user": {
      "displayName": "Sasho Gramatikov",
      "photoUrl": "https://lh3.googleusercontent.com/a-/AOh14GiORR1CaMGmxwNR-W7YS7ssbav8FspEHqAMlMKGkHM=s64",
      "userId": "11468980100954515276"
     }
    },
    "outputId": "9157076b-af2d-4322-8b5f-c3ccdd12efb6"
   },
   "source": [
    "niza = \"mAli i GoLemI BUkvI\"\n",
    "bukvi = {(x.lower() if x not in \"AEIOU\" else x) for x in niza if x.isupper()}\n",
    "print(bukvi)"
   ],
   "execution_count": 83,
   "outputs": [
    {
     "output_type": "stream",
     "name": "stdout",
     "text": [
      "{'U', 'l', 'I', 'A', 'b', 'g'}\n"
     ]
    }
   ]
  },
  {
   "cell_type": "code",
   "metadata": {
    "colab": {
     "base_uri": "https://localhost:8080/"
    },
    "id": "waX00MpaK9NT",
    "executionInfo": {
     "status": "ok",
     "timestamp": 1632318332630,
     "user_tz": -120,
     "elapsed": 55,
     "user": {
      "displayName": "Sasho Gramatikov",
      "photoUrl": "https://lh3.googleusercontent.com/a-/AOh14GiORR1CaMGmxwNR-W7YS7ssbav8FspEHqAMlMKGkHM=s64",
      "userId": "11468980100954515276"
     }
    },
    "outputId": "28cbd641-cba1-4034-d3bf-d95f7f64d464"
   },
   "source": [
    "\"a\" in \"aeioiu\""
   ],
   "execution_count": 84,
   "outputs": [
    {
     "output_type": "execute_result",
     "data": {
      "text/plain": [
       "True"
      ]
     },
     "metadata": {},
     "execution_count": 84
    }
   ]
  },
  {
   "cell_type": "code",
   "metadata": {
    "colab": {
     "base_uri": "https://localhost:8080/"
    },
    "id": "28sE_TlJIBMk",
    "executionInfo": {
     "status": "ok",
     "timestamp": 1632318332632,
     "user_tz": -120,
     "elapsed": 53,
     "user": {
      "displayName": "Sasho Gramatikov",
      "photoUrl": "https://lh3.googleusercontent.com/a-/AOh14GiORR1CaMGmxwNR-W7YS7ssbav8FspEHqAMlMKGkHM=s64",
      "userId": "11468980100954515276"
     }
    },
    "outputId": "41719a8a-3f6f-4228-c2a8-b7ca0c564632"
   },
   "source": [
    "niza = [2, -3, 'a', 5, 'b', (2, 3), -5, 4]\n",
    "pozitivni = [(x if x > 0 else 0) for x in niza if type(x)==int]\n",
    "print(pozitivni)"
   ],
   "execution_count": 85,
   "outputs": [
    {
     "output_type": "stream",
     "name": "stdout",
     "text": [
      "[2, 0, 5, 0, 4]\n"
     ]
    }
   ]
  },
  {
   "cell_type": "markdown",
   "metadata": {
    "id": "D7hjVRduPcJi"
   },
   "source": [
    "Функции"
   ]
  },
  {
   "cell_type": "code",
   "metadata": {
    "colab": {
     "base_uri": "https://localhost:8080/"
    },
    "id": "H0V4JAu0PdoL",
    "executionInfo": {
     "status": "ok",
     "timestamp": 1632318332632,
     "user_tz": -120,
     "elapsed": 48,
     "user": {
      "displayName": "Sasho Gramatikov",
      "photoUrl": "https://lh3.googleusercontent.com/a-/AOh14GiORR1CaMGmxwNR-W7YS7ssbav8FspEHqAMlMKGkHM=s64",
      "userId": "11468980100954515276"
     }
    },
    "outputId": "c9c0080f-a9c6-4e27-a5c1-7783a135f232"
   },
   "source": [
    "def maksimum(x, y):\n",
    "  if (x > y):\n",
    "    return x\n",
    "  else:\n",
    "    return y\n",
    "print(maksimum(51, 75))\n",
    "print(maksimum(13425, 12910))"
   ],
   "execution_count": 86,
   "outputs": [
    {
     "output_type": "stream",
     "name": "stdout",
     "text": [
      "75\n",
      "13425\n"
     ]
    }
   ]
  },
  {
   "cell_type": "code",
   "metadata": {
    "colab": {
     "base_uri": "https://localhost:8080/"
    },
    "id": "LZXfuIxdcUle",
    "executionInfo": {
     "status": "ok",
     "timestamp": 1632318332634,
     "user_tz": -120,
     "elapsed": 45,
     "user": {
      "displayName": "Sasho Gramatikov",
      "photoUrl": "https://lh3.googleusercontent.com/a-/AOh14GiORR1CaMGmxwNR-W7YS7ssbav8FspEHqAMlMKGkHM=s64",
      "userId": "11468980100954515276"
     }
    },
    "outputId": "0610cb35-ba59-43b3-d092-64db07ee33b7"
   },
   "source": [
    "def sortiraj_promelnivi(x, y, z):\n",
    "  lista = [x, y, z]\n",
    "  lista.sort()\n",
    "  return tuple(lista)\n",
    "x, y, z = 9, 4, 5\n",
    "x, y, z = sortiraj_promelnivi(x, y, z)\n",
    "print(x,y,z)\n",
    "\n"
   ],
   "execution_count": 87,
   "outputs": [
    {
     "output_type": "stream",
     "name": "stdout",
     "text": [
      "4 5 9\n"
     ]
    }
   ]
  },
  {
   "cell_type": "code",
   "metadata": {
    "colab": {
     "base_uri": "https://localhost:8080/"
    },
    "id": "kUbZC8G8ac3z",
    "executionInfo": {
     "status": "ok",
     "timestamp": 1632318332634,
     "user_tz": -120,
     "elapsed": 40,
     "user": {
      "displayName": "Sasho Gramatikov",
      "photoUrl": "https://lh3.googleusercontent.com/a-/AOh14GiORR1CaMGmxwNR-W7YS7ssbav8FspEHqAMlMKGkHM=s64",
      "userId": "11468980100954515276"
     }
    },
    "outputId": "259679e5-6656-4c69-be15-66d37cd8860c"
   },
   "source": [
    "def stepen(x, n = 1):\n",
    "    return x ** n\n",
    "print(stepen(5, 2))\n",
    "print(stepen(5))"
   ],
   "execution_count": 88,
   "outputs": [
    {
     "output_type": "stream",
     "name": "stdout",
     "text": [
      "25\n",
      "5\n"
     ]
    }
   ]
  },
  {
   "cell_type": "code",
   "metadata": {
    "id": "r9f4bn1_cTDW",
    "executionInfo": {
     "status": "ok",
     "timestamp": 1632318332635,
     "user_tz": -120,
     "elapsed": 36,
     "user": {
      "displayName": "Sasho Gramatikov",
      "photoUrl": "https://lh3.googleusercontent.com/a-/AOh14GiORR1CaMGmxwNR-W7YS7ssbav8FspEHqAMlMKGkHM=s64",
      "userId": "11468980100954515276"
     }
    }
   },
   "source": [],
   "execution_count": 88,
   "outputs": []
  },
  {
   "cell_type": "markdown",
   "metadata": {
    "id": "ETXiQwmEwCq-"
   },
   "source": [
    "Класи и објекти"
   ]
  },
  {
   "cell_type": "code",
   "metadata": {
    "colab": {
     "base_uri": "https://localhost:8080/"
    },
    "id": "EaU1eAUXwEvq",
    "executionInfo": {
     "status": "ok",
     "timestamp": 1632318332635,
     "user_tz": -120,
     "elapsed": 36,
     "user": {
      "displayName": "Sasho Gramatikov",
      "photoUrl": "https://lh3.googleusercontent.com/a-/AOh14GiORR1CaMGmxwNR-W7YS7ssbav8FspEHqAMlMKGkHM=s64",
      "userId": "11468980100954515276"
     }
    },
    "outputId": "f189ae6c-eb83-43e8-8f38-7bc395733155"
   },
   "source": [
    "class Kurs:\n",
    "  kursevi = 0\n",
    "  def __init__(self, ime, traenje, predznaenje):\n",
    "    self.ime = ime\n",
    "    self.traenje = traenje\n",
    "    self.predznaenje = predznaenje\n",
    "    Kurs.kursevi += 1\n",
    "  def pechati(self):\n",
    "    print(\"Kursot '{0}' trae {1} denovi i {2} potrebno predznaenje. Vkupno {3} kurs(evi)\".format(self.ime, self.traenje, \"e\" if self.predznaenje else \"ne e\",Kurs.kursevi))\n",
    "  def prodolzhi(self, denovi):\n",
    "    self.traenje += denovi\n",
    "kurs1 = Kurs(\"Python za obrabotka na golemi podatoci\", 7, False)\n",
    "kurs1.prodolzhi(3)\n",
    "kurs1.pechati()\n",
    "kurs2 = Kurs(\"Napreden Python\", 5,True)\n",
    "kurs2.pechati()"
   ],
   "execution_count": 89,
   "outputs": [
    {
     "output_type": "stream",
     "name": "stdout",
     "text": [
      "Kursot 'Python za obrabotka na golemi podatoci' trae 10 denovi i ne e potrebno predznaenje. Vkupno 1 kurs(evi)\n",
      "Kursot 'Napreden Python' trae 5 denovi i e potrebno predznaenje. Vkupno 2 kurs(evi)\n"
     ]
    }
   ]
  },
  {
   "cell_type": "markdown",
   "metadata": {
    "id": "KCzDRt42-Ux3"
   },
   "source": [
    "Модули"
   ]
  },
  {
   "cell_type": "code",
   "metadata": {
    "colab": {
     "base_uri": "https://localhost:8080/"
    },
    "id": "gOkBaIHNGRPv",
    "executionInfo": {
     "status": "ok",
     "timestamp": 1632318510272,
     "user_tz": -120,
     "elapsed": 270,
     "user": {
      "displayName": "Sasho Gramatikov",
      "photoUrl": "https://lh3.googleusercontent.com/a-/AOh14GiORR1CaMGmxwNR-W7YS7ssbav8FspEHqAMlMKGkHM=s64",
      "userId": "11468980100954515276"
     }
    },
    "outputId": "08d7b4ce-21a1-4062-a0fb-ea8df8b7daff"
   },
   "source": [
    "import math\n",
    "print(math.pow(3,10))"
   ],
   "execution_count": 92,
   "outputs": [
    {
     "output_type": "stream",
     "name": "stdout",
     "text": [
      "59049.0\n"
     ]
    }
   ]
  },
  {
   "cell_type": "code",
   "metadata": {
    "colab": {
     "base_uri": "https://localhost:8080/"
    },
    "id": "zFwmZ1ftGiJ3",
    "executionInfo": {
     "status": "ok",
     "timestamp": 1632318510764,
     "user_tz": -120,
     "elapsed": 35,
     "user": {
      "displayName": "Sasho Gramatikov",
      "photoUrl": "https://lh3.googleusercontent.com/a-/AOh14GiORR1CaMGmxwNR-W7YS7ssbav8FspEHqAMlMKGkHM=s64",
      "userId": "11468980100954515276"
     }
    },
    "outputId": "b98cc0a6-fcbc-4ac5-9b5d-11183499e656"
   },
   "source": [
    "import math as m\n",
    "print(m.pow(3,10))"
   ],
   "execution_count": 93,
   "outputs": [
    {
     "output_type": "stream",
     "name": "stdout",
     "text": [
      "59049.0\n"
     ]
    }
   ]
  },
  {
   "cell_type": "code",
   "metadata": {
    "colab": {
     "base_uri": "https://localhost:8080/"
    },
    "id": "0lKwkqODCrId",
    "executionInfo": {
     "status": "ok",
     "timestamp": 1632318527667,
     "user_tz": -120,
     "elapsed": 411,
     "user": {
      "displayName": "Sasho Gramatikov",
      "photoUrl": "https://lh3.googleusercontent.com/a-/AOh14GiORR1CaMGmxwNR-W7YS7ssbav8FspEHqAMlMKGkHM=s64",
      "userId": "11468980100954515276"
     }
    },
    "outputId": "f9116750-5898-46fb-bcbb-f8c813c80f1c"
   },
   "source": [
    "from math import pow, log10\n",
    "print(pow(3,10))\n",
    "print(log10(200))"
   ],
   "execution_count": 95,
   "outputs": [
    {
     "output_type": "stream",
     "name": "stdout",
     "text": [
      "59049.0\n",
      "2.3010299956639813\n"
     ]
    }
   ]
  },
  {
   "cell_type": "markdown",
   "metadata": {
    "id": "LLwP2WOOL4Sb"
   },
   "source": [
    "Датотеки"
   ]
  },
  {
   "cell_type": "code",
   "metadata": {
    "id": "8P3y190TL6aO",
    "executionInfo": {
     "status": "ok",
     "timestamp": 1632318527668,
     "user_tz": -120,
     "elapsed": 44,
     "user": {
      "displayName": "Sasho Gramatikov",
      "photoUrl": "https://lh3.googleusercontent.com/a-/AOh14GiORR1CaMGmxwNR-W7YS7ssbav8FspEHqAMlMKGkHM=s64",
      "userId": "11468980100954515276"
     }
    }
   },
   "source": [
    "f = open(\"datoteka.txt\", \"w\")\n",
    "f.write(\"Prva linija\\nVtora linija\\nTreta linija\")\n",
    "f.close()"
   ],
   "execution_count": 96,
   "outputs": []
  },
  {
   "cell_type": "code",
   "metadata": {
    "colab": {
     "base_uri": "https://localhost:8080/"
    },
    "id": "8QLSUD4XNK9C",
    "executionInfo": {
     "status": "ok",
     "timestamp": 1632318527668,
     "user_tz": -120,
     "elapsed": 43,
     "user": {
      "displayName": "Sasho Gramatikov",
      "photoUrl": "https://lh3.googleusercontent.com/a-/AOh14GiORR1CaMGmxwNR-W7YS7ssbav8FspEHqAMlMKGkHM=s64",
      "userId": "11468980100954515276"
     }
    },
    "outputId": "7aca73f1-1847-44df-9181-d34915157dfa"
   },
   "source": [
    "f = open(\"datoteka.txt\")\n",
    "print(f.read(8)) # prochitaj 8 znaci\n",
    "print(f.tell())  # vrati ja tekovnota pozicija\n",
    "print(f.read())  # prochitaj gi site ostanati znaci\n",
    "f.seek(0)        # postavi ja tekovnata pozcija na pochetok\n",
    "print(f.readlines(1)) # prochitaj edna linija\n",
    "f.close()        # zatvori ja datotekata"
   ],
   "execution_count": 97,
   "outputs": [
    {
     "output_type": "stream",
     "name": "stdout",
     "text": [
      "Prva lin\n",
      "8\n",
      "ija\n",
      "Vtora linija\n",
      "Treta linija\n",
      "['Prva linija\\n']\n"
     ]
    }
   ]
  },
  {
   "cell_type": "code",
   "metadata": {
    "colab": {
     "base_uri": "https://localhost:8080/"
    },
    "id": "yzkJQZ8JMl-N",
    "executionInfo": {
     "status": "ok",
     "timestamp": 1632318527669,
     "user_tz": -120,
     "elapsed": 32,
     "user": {
      "displayName": "Sasho Gramatikov",
      "photoUrl": "https://lh3.googleusercontent.com/a-/AOh14GiORR1CaMGmxwNR-W7YS7ssbav8FspEHqAMlMKGkHM=s64",
      "userId": "11468980100954515276"
     }
    },
    "outputId": "7630cae4-e2e7-4f42-db4c-e5bbf8a3cffe"
   },
   "source": [
    "f = open(\"datoteka.txt\")\n",
    "for linija in f:\n",
    "  print(linija)\n",
    "f.close()"
   ],
   "execution_count": 98,
   "outputs": [
    {
     "output_type": "stream",
     "name": "stdout",
     "text": [
      "Prva linija\n",
      "\n",
      "Vtora linija\n",
      "\n",
      "Treta linija\n"
     ]
    }
   ]
  },
  {
   "cell_type": "code",
   "metadata": {
    "colab": {
     "base_uri": "https://localhost:8080/"
    },
    "id": "UMgKXnvjXJzN",
    "executionInfo": {
     "status": "ok",
     "timestamp": 1632318527669,
     "user_tz": -120,
     "elapsed": 26,
     "user": {
      "displayName": "Sasho Gramatikov",
      "photoUrl": "https://lh3.googleusercontent.com/a-/AOh14GiORR1CaMGmxwNR-W7YS7ssbav8FspEHqAMlMKGkHM=s64",
      "userId": "11468980100954515276"
     }
    },
    "outputId": "b21b9c1b-185e-4c3c-f39e-ba4f194cc32c"
   },
   "source": [
    "with open(\"datoteka.txt\") as f:\n",
    "  print(f.read())"
   ],
   "execution_count": 99,
   "outputs": [
    {
     "output_type": "stream",
     "name": "stdout",
     "text": [
      "Prva linija\n",
      "Vtora linija\n",
      "Treta linija\n"
     ]
    }
   ]
  },
  {
   "cell_type": "markdown",
   "metadata": {
    "id": "NmKnDMDpadNc"
   },
   "source": [
    "Влез и излез"
   ]
  },
  {
   "cell_type": "code",
   "metadata": {
    "colab": {
     "base_uri": "https://localhost:8080/"
    },
    "id": "QJdKWvtGafeg",
    "executionInfo": {
     "status": "ok",
     "timestamp": 1632318545580,
     "user_tz": -120,
     "elapsed": 17920,
     "user": {
      "displayName": "Sasho Gramatikov",
      "photoUrl": "https://lh3.googleusercontent.com/a-/AOh14GiORR1CaMGmxwNR-W7YS7ssbav8FspEHqAMlMKGkHM=s64",
      "userId": "11468980100954515276"
     }
    },
    "outputId": "45761028-da4c-428c-d700-b24e4a2264af"
   },
   "source": [
    "vnes = input(\"Vnesete go imeto na vashiot kurs:\\n\")\n",
    "print(vnes)"
   ],
   "execution_count": 100,
   "outputs": [
    {
     "output_type": "stream",
     "name": "stdout",
     "text": [
      "Vnesete go imeto na vashiot kurs:\n",
      "Python za golemi podatoci\n",
      "Python za golemi podatoci\n"
     ]
    }
   ]
  },
  {
   "cell_type": "code",
   "metadata": {
    "colab": {
     "base_uri": "https://localhost:8080/"
    },
    "id": "GB9ZUtkXiDyd",
    "executionInfo": {
     "status": "ok",
     "timestamp": 1632318545581,
     "user_tz": -120,
     "elapsed": 31,
     "user": {
      "displayName": "Sasho Gramatikov",
      "photoUrl": "https://lh3.googleusercontent.com/a-/AOh14GiORR1CaMGmxwNR-W7YS7ssbav8FspEHqAMlMKGkHM=s64",
      "userId": "11468980100954515276"
     }
    },
    "outputId": "e41bd445-c069-4472-dc95-553e178e6776"
   },
   "source": [
    "print(\"Pechatenje na tri vrednosti: {}, {} i {}\".format(29, 13.52, \"Python\"))"
   ],
   "execution_count": 101,
   "outputs": [
    {
     "output_type": "stream",
     "name": "stdout",
     "text": [
      "Pechatenje na tri vrednosti: 29, 13.52 i Python\n"
     ]
    }
   ]
  },
  {
   "cell_type": "code",
   "metadata": {
    "colab": {
     "base_uri": "https://localhost:8080/"
    },
    "id": "TpTo6ek3kPCj",
    "executionInfo": {
     "status": "ok",
     "timestamp": 1632318545582,
     "user_tz": -120,
     "elapsed": 29,
     "user": {
      "displayName": "Sasho Gramatikov",
      "photoUrl": "https://lh3.googleusercontent.com/a-/AOh14GiORR1CaMGmxwNR-W7YS7ssbav8FspEHqAMlMKGkHM=s64",
      "userId": "11468980100954515276"
     }
    },
    "outputId": "c1f8e528-86d3-4767-9253-70833ea2943a"
   },
   "source": [
    "print(\"Indkesirano pechatenje na tri vrednosti: {2}, {1} i {0}\".format(29, 13.52, \"Python\"))"
   ],
   "execution_count": 102,
   "outputs": [
    {
     "output_type": "stream",
     "name": "stdout",
     "text": [
      "Indkesirano pechatenje na tri vrednosti: Python, 13.52 i 29\n"
     ]
    }
   ]
  },
  {
   "cell_type": "code",
   "metadata": {
    "colab": {
     "base_uri": "https://localhost:8080/"
    },
    "id": "5j5Ryw0LgTTV",
    "executionInfo": {
     "status": "ok",
     "timestamp": 1632318545583,
     "user_tz": -120,
     "elapsed": 22,
     "user": {
      "displayName": "Sasho Gramatikov",
      "photoUrl": "https://lh3.googleusercontent.com/a-/AOh14GiORR1CaMGmxwNR-W7YS7ssbav8FspEHqAMlMKGkHM=s64",
      "userId": "11468980100954515276"
     }
    },
    "outputId": "3f08b187-4e1b-4a5b-9899-fa159dd905c6"
   },
   "source": [
    "print(\"\"\"Formatirano pechatenje na \n",
    "cel broj so 3 cifri: {:3d},\n",
    "decimalen broj so vkupno 5 cifri, od koi 3 decimalni: {:5.3f} \n",
    "obichen tekst: {}\"\"\".format(29, 13.52, \"Python\"))"
   ],
   "execution_count": 103,
   "outputs": [
    {
     "output_type": "stream",
     "name": "stdout",
     "text": [
      "Formatirano pechatenje na \n",
      "cel broj so 3 cifri:  29,\n",
      "decimalen broj so vkupno 5 cifri, od koi 3 decimalni: 13.520 \n",
      "obichen tekst: Python\n"
     ]
    }
   ]
  },
  {
   "cell_type": "code",
   "metadata": {
    "id": "k33P-ZlMkMcz",
    "executionInfo": {
     "status": "ok",
     "timestamp": 1632318545583,
     "user_tz": -120,
     "elapsed": 10,
     "user": {
      "displayName": "Sasho Gramatikov",
      "photoUrl": "https://lh3.googleusercontent.com/a-/AOh14GiORR1CaMGmxwNR-W7YS7ssbav8FspEHqAMlMKGkHM=s64",
      "userId": "11468980100954515276"
     }
    }
   },
   "source": [],
   "execution_count": 103,
   "outputs": []
  },
  {
   "cell_type": "markdown",
   "metadata": {
    "id": "QcUQhQYn0nqx"
   },
   "source": [
    "Грешки"
   ]
  },
  {
   "cell_type": "code",
   "metadata": {
    "colab": {
     "base_uri": "https://localhost:8080/"
    },
    "id": "QN1UEJKK1FLB",
    "executionInfo": {
     "status": "ok",
     "timestamp": 1632318566153,
     "user_tz": -120,
     "elapsed": 20579,
     "user": {
      "displayName": "Sasho Gramatikov",
      "photoUrl": "https://lh3.googleusercontent.com/a-/AOh14GiORR1CaMGmxwNR-W7YS7ssbav8FspEHqAMlMKGkHM=s64",
      "userId": "11468980100954515276"
     }
    },
    "outputId": "a7dd5823-cd67-401a-8ba4-145b5ef3073a"
   },
   "source": [
    "pateka = input(\"Vnesete pateka na datoteka za chitanje.\\n\")\n",
    "try:\n",
    "  f=open(pateka)\n",
    "  f.read()\n",
    "  print(\"Datotekata e uspeshno prochitana\");\n",
    "  f.close()\n",
    "except:\n",
    "  print(\"Datotekata ne postoi\");\n"
   ],
   "execution_count": 104,
   "outputs": [
    {
     "output_type": "stream",
     "name": "stdout",
     "text": [
      "Vnesete pateka na datoteka za chitanje.\n",
      "datoteka.txt\n",
      "Datotekata e uspeshno prochitana\n"
     ]
    }
   ]
  }
 ]
}
