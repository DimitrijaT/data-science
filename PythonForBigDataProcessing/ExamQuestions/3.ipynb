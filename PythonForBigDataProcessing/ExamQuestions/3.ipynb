{
 "cells": [
  {
   "cell_type": "code",
   "execution_count": 2,
   "outputs": [],
   "source": [
    "import pandas as pd"
   ],
   "metadata": {
    "collapsed": false,
    "ExecuteTime": {
     "end_time": "2023-11-30T18:33:34.521350400Z",
     "start_time": "2023-11-30T18:33:34.501572100Z"
    }
   },
   "id": "bac4f95d1c76c0ae"
  },
  {
   "cell_type": "markdown",
   "source": [
    "Дадена е една табела со податоци од испит, со име Ispit, чии што колони се 'indeks', 'teorija', 'zadachi' и 'vkupno'."
   ],
   "metadata": {
    "collapsed": false
   },
   "id": "b660604c25cc14a2"
  },
  {
   "cell_type": "code",
   "execution_count": 3,
   "outputs": [
    {
     "data": {
      "text/plain": "   indeks  teorija  zadachi  vkupno\n0  203235       60       25      85\n1  123456       15       50      65",
      "text/html": "<div>\n<style scoped>\n    .dataframe tbody tr th:only-of-type {\n        vertical-align: middle;\n    }\n\n    .dataframe tbody tr th {\n        vertical-align: top;\n    }\n\n    .dataframe thead th {\n        text-align: right;\n    }\n</style>\n<table border=\"1\" class=\"dataframe\">\n  <thead>\n    <tr style=\"text-align: right;\">\n      <th></th>\n      <th>indeks</th>\n      <th>teorija</th>\n      <th>zadachi</th>\n      <th>vkupno</th>\n    </tr>\n  </thead>\n  <tbody>\n    <tr>\n      <th>0</th>\n      <td>203235</td>\n      <td>60</td>\n      <td>25</td>\n      <td>85</td>\n    </tr>\n    <tr>\n      <th>1</th>\n      <td>123456</td>\n      <td>15</td>\n      <td>50</td>\n      <td>65</td>\n    </tr>\n  </tbody>\n</table>\n</div>"
     },
     "execution_count": 3,
     "metadata": {},
     "output_type": "execute_result"
    }
   ],
   "source": [
    "studenti = {'indeks': [203235, 123456], 'teorija': [60, 15], 'zadachi': [25, 50], 'vkupno': [85, 65]}\n",
    "\n",
    "Ispit = pd.DataFrame(studenti)\n",
    "Ispit"
   ],
   "metadata": {
    "collapsed": false,
    "ExecuteTime": {
     "end_time": "2023-11-30T18:33:35.241292100Z",
     "start_time": "2023-11-30T18:33:35.203744300Z"
    }
   },
   "id": "c616553961554a21"
  },
  {
   "cell_type": "markdown",
   "source": [
    " Со наредбата Polozheni = Ispit.loc[Ispit['vkupno']>50, ['indeks', 'vkupno']] се добива:"
   ],
   "metadata": {
    "collapsed": false
   },
   "id": "f1c9403d7b31b106"
  },
  {
   "cell_type": "markdown",
   "source": [
    "loc(x,y)\n",
    "x = земи ги сите редици каде што вредноста во вкупно е поголема од 50\n",
    "y = во новата табела новите колони се 'indeks', 'vkupno'"
   ],
   "metadata": {
    "collapsed": false
   },
   "id": "7975e96f044b7db6"
  },
  {
   "cell_type": "code",
   "execution_count": 4,
   "outputs": [],
   "source": [
    "Polozheni = Ispit.loc[Ispit['vkupno'] > 50, ['indeks', 'vkupno']]"
   ],
   "metadata": {
    "collapsed": false,
    "ExecuteTime": {
     "end_time": "2023-11-30T18:33:36.160576600Z",
     "start_time": "2023-11-30T18:33:36.147194100Z"
    }
   },
   "id": "5943b9de23e25ceb"
  },
  {
   "cell_type": "code",
   "execution_count": 5,
   "outputs": [
    {
     "data": {
      "text/plain": "   indeks  vkupno\n0  203235      85\n1  123456      65",
      "text/html": "<div>\n<style scoped>\n    .dataframe tbody tr th:only-of-type {\n        vertical-align: middle;\n    }\n\n    .dataframe tbody tr th {\n        vertical-align: top;\n    }\n\n    .dataframe thead th {\n        text-align: right;\n    }\n</style>\n<table border=\"1\" class=\"dataframe\">\n  <thead>\n    <tr style=\"text-align: right;\">\n      <th></th>\n      <th>indeks</th>\n      <th>vkupno</th>\n    </tr>\n  </thead>\n  <tbody>\n    <tr>\n      <th>0</th>\n      <td>203235</td>\n      <td>85</td>\n    </tr>\n    <tr>\n      <th>1</th>\n      <td>123456</td>\n      <td>65</td>\n    </tr>\n  </tbody>\n</table>\n</div>"
     },
     "execution_count": 5,
     "metadata": {},
     "output_type": "execute_result"
    }
   ],
   "source": [
    "Polozheni"
   ],
   "metadata": {
    "collapsed": false,
    "ExecuteTime": {
     "end_time": "2023-11-30T18:33:36.556526400Z",
     "start_time": "2023-11-30T18:33:36.534572600Z"
    }
   },
   "id": "656adbf711e5b450"
  },
  {
   "cell_type": "markdown",
   "source": [
    "За да се добие колоната од индекси е потребно да се употреби наредбата "
   ],
   "metadata": {
    "collapsed": false
   },
   "id": "875eebaacf610223"
  },
  {
   "cell_type": "code",
   "execution_count": 6,
   "outputs": [
    {
     "ename": "SyntaxError",
     "evalue": "invalid syntax (3044888778.py, line 1)",
     "output_type": "error",
     "traceback": [
      "\u001B[1;36m  Cell \u001B[1;32mIn[6], line 1\u001B[1;36m\u001B[0m\n\u001B[1;33m    'Ispit'.\u001B[0m\n\u001B[1;37m            ^\u001B[0m\n\u001B[1;31mSyntaxError\u001B[0m\u001B[1;31m:\u001B[0m invalid syntax\n"
     ]
    }
   ],
   "source": [
    "'Ispit'.\n",
    "'indeks'"
   ],
   "metadata": {
    "collapsed": false,
    "ExecuteTime": {
     "end_time": "2023-11-30T18:33:37.230264900Z",
     "start_time": "2023-11-30T18:33:37.213748300Z"
    }
   },
   "id": "e474534a1fd1962f"
  },
  {
   "cell_type": "code",
   "execution_count": 7,
   "outputs": [
    {
     "name": "stdout",
     "output_type": "stream",
     "text": [
      "indeks\n"
     ]
    }
   ],
   "source": [
    "print('indeks')"
   ],
   "metadata": {
    "collapsed": false,
    "ExecuteTime": {
     "end_time": "2023-11-30T18:33:37.422782Z",
     "start_time": "2023-11-30T18:33:37.405325400Z"
    }
   },
   "id": "40fbdafdbfc8abb8"
  },
  {
   "cell_type": "code",
   "execution_count": 8,
   "outputs": [
    {
     "ename": "NameError",
     "evalue": "name 'indeks' is not defined",
     "output_type": "error",
     "traceback": [
      "\u001B[1;31m---------------------------------------------------------------------------\u001B[0m",
      "\u001B[1;31mNameError\u001B[0m                                 Traceback (most recent call last)",
      "Cell \u001B[1;32mIn[8], line 1\u001B[0m\n\u001B[1;32m----> 1\u001B[0m Ispit[\u001B[43mindeks\u001B[49m]\n",
      "\u001B[1;31mNameError\u001B[0m: name 'indeks' is not defined"
     ]
    }
   ],
   "source": [
    "Ispit[indeks]"
   ],
   "metadata": {
    "collapsed": false,
    "ExecuteTime": {
     "end_time": "2023-11-30T18:33:37.630352900Z",
     "start_time": "2023-11-30T18:33:37.571861Z"
    }
   },
   "id": "2aa4efff783a5e86"
  },
  {
   "cell_type": "code",
   "execution_count": 9,
   "outputs": [
    {
     "data": {
      "text/plain": "0    203235\n1    123456\nName: indeks, dtype: int64"
     },
     "execution_count": 9,
     "metadata": {},
     "output_type": "execute_result"
    }
   ],
   "source": [
    "Ispit['indeks']"
   ],
   "metadata": {
    "collapsed": false,
    "ExecuteTime": {
     "end_time": "2023-11-30T18:33:37.788435500Z",
     "start_time": "2023-11-30T18:33:37.762368700Z"
    }
   },
   "id": "bcd2983e1e8a8fbf"
  },
  {
   "cell_type": "markdown",
   "source": [
    "Дадена е една табела со податоци од некој испит, која што е сместена во објект од видот DataFrame, при што насловите на колоните се 'ime', 'prezime', 'indeks', 'teorija' и 'zadachi'. Името на објектот е ispit. "
   ],
   "metadata": {
    "collapsed": false
   },
   "id": "8415003c12bbc0f5"
  },
  {
   "cell_type": "code",
   "execution_count": 10,
   "outputs": [],
   "source": [
    "studenti2 = {'ime': ['Dimitrija', 'Oswalt'], 'prezime': ['Timeski', 'Donald'], 'indeks': [203235, 123456],\n",
    "             'teorija': [60, 15], 'zadachi': [25, 50]}"
   ],
   "metadata": {
    "collapsed": false,
    "ExecuteTime": {
     "end_time": "2023-11-30T18:33:38.917706800Z",
     "start_time": "2023-11-30T18:33:38.890331Z"
    }
   },
   "id": "ec7eb02a643f676b"
  },
  {
   "cell_type": "code",
   "execution_count": 11,
   "outputs": [
    {
     "data": {
      "text/plain": "         ime  prezime  indeks  teorija  zadachi\n0  Dimitrija  Timeski  203235       60       25\n1     Oswalt   Donald  123456       15       50",
      "text/html": "<div>\n<style scoped>\n    .dataframe tbody tr th:only-of-type {\n        vertical-align: middle;\n    }\n\n    .dataframe tbody tr th {\n        vertical-align: top;\n    }\n\n    .dataframe thead th {\n        text-align: right;\n    }\n</style>\n<table border=\"1\" class=\"dataframe\">\n  <thead>\n    <tr style=\"text-align: right;\">\n      <th></th>\n      <th>ime</th>\n      <th>prezime</th>\n      <th>indeks</th>\n      <th>teorija</th>\n      <th>zadachi</th>\n    </tr>\n  </thead>\n  <tbody>\n    <tr>\n      <th>0</th>\n      <td>Dimitrija</td>\n      <td>Timeski</td>\n      <td>203235</td>\n      <td>60</td>\n      <td>25</td>\n    </tr>\n    <tr>\n      <th>1</th>\n      <td>Oswalt</td>\n      <td>Donald</td>\n      <td>123456</td>\n      <td>15</td>\n      <td>50</td>\n    </tr>\n  </tbody>\n</table>\n</div>"
     },
     "execution_count": 11,
     "metadata": {},
     "output_type": "execute_result"
    }
   ],
   "source": [
    "Studenti2 = pd.DataFrame(studenti2)\n",
    "Studenti2"
   ],
   "metadata": {
    "collapsed": false,
    "ExecuteTime": {
     "end_time": "2023-11-30T18:33:39.180119300Z",
     "start_time": "2023-11-30T18:33:39.133686Z"
    }
   },
   "id": "26b9677c47aace6a"
  },
  {
   "cell_type": "markdown",
   "source": [
    "За извлекување на името на студентот кој што се наоѓа во вториот ред (броејќи од 1) треба да се употреби наредбата "
   ],
   "metadata": {
    "collapsed": false
   },
   "id": "2c63e1f1f9ef7a10"
  },
  {
   "cell_type": "code",
   "execution_count": 12,
   "outputs": [
    {
     "data": {
      "text/plain": "203235"
     },
     "execution_count": 12,
     "metadata": {},
     "output_type": "execute_result"
    }
   ],
   "source": [
    "Studenti2.iloc[0, 2]"
   ],
   "metadata": {
    "collapsed": false,
    "ExecuteTime": {
     "end_time": "2023-11-30T18:33:39.589589700Z",
     "start_time": "2023-11-30T18:33:39.572984100Z"
    }
   },
   "id": "7a724df9558e65f5"
  },
  {
   "cell_type": "code",
   "execution_count": 13,
   "outputs": [
    {
     "data": {
      "text/plain": "1    Oswalt\nName: ime, dtype: object"
     },
     "execution_count": 13,
     "metadata": {},
     "output_type": "execute_result"
    }
   ],
   "source": [
    "Studenti2.loc[1:, \"ime\"]"
   ],
   "metadata": {
    "collapsed": false,
    "ExecuteTime": {
     "end_time": "2023-11-30T18:33:39.922720200Z",
     "start_time": "2023-11-30T18:33:39.904603100Z"
    }
   },
   "id": "b5c6f28c51d85ed9"
  },
  {
   "cell_type": "markdown",
   "source": [
    "Дадена е една листа од податоци, broevi = [1,2,-1,3].\n",
    " \n",
    "За да се добие низа во Пандас (објект од видот Series со име SeriesObjekt), е потребно да се употреби наредбата \n",
    "\n",
    "SeriesObjekt = pandas.IME_NA_NAREDBA(broevi)"
   ],
   "metadata": {
    "collapsed": false
   },
   "id": "80dfd724406ec25a"
  },
  {
   "cell_type": "code",
   "execution_count": 14,
   "outputs": [],
   "source": [
    "broevi = [1, 2, -1, 3]\n",
    "SeriesObjekt = pd.Series(broevi)"
   ],
   "metadata": {
    "collapsed": false,
    "ExecuteTime": {
     "end_time": "2023-11-30T18:33:40.360559Z",
     "start_time": "2023-11-30T18:33:40.343653400Z"
    }
   },
   "id": "92ea395665729531"
  },
  {
   "cell_type": "code",
   "execution_count": 15,
   "outputs": [
    {
     "data": {
      "text/plain": "0    1\n1    2\n2   -1\n3    3\ndtype: int64"
     },
     "execution_count": 15,
     "metadata": {},
     "output_type": "execute_result"
    }
   ],
   "source": [
    "SeriesObjekt"
   ],
   "metadata": {
    "collapsed": false,
    "ExecuteTime": {
     "end_time": "2023-11-30T18:33:40.637221800Z",
     "start_time": "2023-11-30T18:33:40.621587Z"
    }
   },
   "id": "5d1a701eaefb35c7"
  },
  {
   "cell_type": "markdown",
   "source": [
    "За да се пристапи до елементот -1, треба да се употреби наредбата SeriesObjekt[Х], каде што на местото на бројот Х треба да стои"
   ],
   "metadata": {
    "collapsed": false
   },
   "id": "166bd27c3341ed5e"
  },
  {
   "cell_type": "code",
   "execution_count": 16,
   "outputs": [
    {
     "data": {
      "text/plain": "-1"
     },
     "execution_count": 16,
     "metadata": {},
     "output_type": "execute_result"
    }
   ],
   "source": [
    "SeriesObjekt[2]"
   ],
   "metadata": {
    "collapsed": false,
    "ExecuteTime": {
     "end_time": "2023-11-30T18:33:41.677715400Z",
     "start_time": "2023-11-30T18:33:41.663961100Z"
    }
   },
   "id": "ca27f6993e609456"
  }
 ],
 "metadata": {
  "kernelspec": {
   "display_name": "Python 3",
   "language": "python",
   "name": "python3"
  },
  "language_info": {
   "codemirror_mode": {
    "name": "ipython",
    "version": 2
   },
   "file_extension": ".py",
   "mimetype": "text/x-python",
   "name": "python",
   "nbconvert_exporter": "python",
   "pygments_lexer": "ipython2",
   "version": "2.7.6"
  }
 },
 "nbformat": 4,
 "nbformat_minor": 5
}
