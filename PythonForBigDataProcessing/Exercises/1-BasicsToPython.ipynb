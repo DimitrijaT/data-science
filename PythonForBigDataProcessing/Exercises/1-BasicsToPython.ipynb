{
 "nbformat": 4,
 "nbformat_minor": 0,
 "metadata": {
  "colab": {
   "name": "Glava 1 - Voved - Vezhbi.ipynb",
   "provenance": [],
   "collapsed_sections": [],
   "toc_visible": true
  },
  "kernelspec": {
   "name": "python3",
   "display_name": "Python 3"
  },
  "language_info": {
   "name": "python"
  }
 },
 "cells": [
  {
   "cell_type": "markdown",
   "metadata": {
    "id": "30GyfhLCNB8F"
   },
   "source": [
    "#Помош"
   ]
  },
  {
   "cell_type": "code",
   "metadata": {
    "id": "pxjsxS8ZI7b6"
   },
   "source": [
    "niza=\"Pravila za Python\"\n",
    "niza?\n"
   ],
   "execution_count": 218,
   "outputs": []
  },
  {
   "cell_type": "code",
   "metadata": {
    "id": "-BM4yhKGJMly"
   },
   "source": [
    "niza.*num*?"
   ],
   "execution_count": 219,
   "outputs": []
  },
  {
   "cell_type": "markdown",
   "metadata": {
    "id": "WDan46xKIrGx"
   },
   "source": [
    "#Порамнување\n",
    "\n"
   ]
  },
  {
   "cell_type": "markdown",
   "metadata": {
    "id": "zmpSpbduXiSP"
   },
   "source": [
    "Да се напише пример за порамнување користејќи наредба за контрола на тек if - elseif - else"
   ]
  },
  {
   "cell_type": "code",
   "metadata": {
    "id": "U9nn8Tsm0bgq",
    "colab": {
     "base_uri": "https://localhost:8080/"
    },
    "outputId": "a09688a2-e548-433e-f255-93287179a20c"
   },
   "source": [
    "x=3\n",
    "y=5\n",
    "if x>y:\n",
    "  print(\"x > y\")\n",
    "elif x<y:\n",
    "  print(\"x < y\")\n",
    "else:\n",
    "\tprint(\"x == y\")\n"
   ],
   "execution_count": 220,
   "outputs": [
    {
     "output_type": "stream",
     "name": "stdout",
     "text": [
      "x < y\n"
     ]
    }
   ]
  },
  {
   "cell_type": "markdown",
   "metadata": {
    "id": "Yvc_KQMNIljp"
   },
   "source": [
    "#Коментари"
   ]
  },
  {
   "cell_type": "markdown",
   "metadata": {
    "id": "of6MhNG7Xs4m"
   },
   "source": [
    "Да се напише пример за еднолиниски и повеќелиниски коментари."
   ]
  },
  {
   "cell_type": "code",
   "metadata": {
    "id": "pHN50YXRIKZx",
    "colab": {
     "base_uri": "https://localhost:8080/",
     "height": 52
    },
    "outputId": "7823dba9-19fd-4b64-d6c2-5400fedbcefc"
   },
   "source": [
    "#Ednloliniski komentar\n",
    "print(\"Python\") #komentar vo linija so kodot\n",
    "# dve\n",
    "# linii \n",
    "'''dve linii\n",
    "komentar'''\n"
   ],
   "execution_count": 221,
   "outputs": [
    {
     "output_type": "stream",
     "name": "stdout",
     "text": [
      "Python\n"
     ]
    },
    {
     "output_type": "execute_result",
     "data": {
      "application/vnd.google.colaboratory.intrinsic+json": {
       "type": "string"
      },
      "text/plain": [
       "'dve linii\\nkomentar'"
      ]
     },
     "metadata": {},
     "execution_count": 221
    }
   ]
  },
  {
   "cell_type": "markdown",
   "metadata": {
    "id": "dMuFJbB4SpD-"
   },
   "source": [
    "#Променливи"
   ]
  },
  {
   "cell_type": "markdown",
   "metadata": {
    "id": "3Ght1Ec5X0dn"
   },
   "source": [
    "Да се креира променлива на која ќе ѝ се додели децимална вредност и потоа да се провери типот на податокот. Да се повтори истото за вредноста сместена помеѓу наводи."
   ]
  },
  {
   "cell_type": "code",
   "metadata": {
    "colab": {
     "base_uri": "https://localhost:8080/"
    },
    "id": "uaUdKCAQ3EZd",
    "outputId": "42858ad4-3688-4b93-e1f0-4c23cedec38b"
   },
   "source": [
    "t=39.6\n",
    "type(t)\n",
    "\n"
   ],
   "execution_count": 222,
   "outputs": [
    {
     "output_type": "execute_result",
     "data": {
      "text/plain": [
       "float"
      ]
     },
     "metadata": {},
     "execution_count": 222
    }
   ]
  },
  {
   "cell_type": "code",
   "metadata": {
    "colab": {
     "base_uri": "https://localhost:8080/"
    },
    "id": "vFlEoRm6S36m",
    "outputId": "afe8c0cb-73a9-43c6-c946-9fb7fc03e87b"
   },
   "source": [
    "t=\"39.6\"\n",
    "type(t)\n"
   ],
   "execution_count": 223,
   "outputs": [
    {
     "output_type": "execute_result",
     "data": {
      "text/plain": [
       "str"
      ]
     },
     "metadata": {},
     "execution_count": 223
    }
   ]
  },
  {
   "cell_type": "markdown",
   "metadata": {
    "id": "fvYGCO55vTW_"
   },
   "source": [
    "#Типови на податоци"
   ]
  },
  {
   "cell_type": "markdown",
   "metadata": {
    "id": "KeOSfbPVzje0"
   },
   "source": [
    "##int\n"
   ]
  },
  {
   "cell_type": "code",
   "metadata": {
    "colab": {
     "base_uri": "https://localhost:8080/"
    },
    "id": "2I7rZWyBvVmj",
    "outputId": "da83246e-d326-466c-f5f9-e5d20f49fb05"
   },
   "source": [
    "a=35\n",
    "type(a)"
   ],
   "execution_count": 224,
   "outputs": [
    {
     "output_type": "execute_result",
     "data": {
      "text/plain": [
       "int"
      ]
     },
     "metadata": {},
     "execution_count": 224
    }
   ]
  },
  {
   "cell_type": "markdown",
   "metadata": {
    "id": "BP31nYC6BWR4"
   },
   "source": [
    "##float"
   ]
  },
  {
   "cell_type": "code",
   "metadata": {
    "id": "tByBuBTLw4Ey"
   },
   "source": [
    "c=2.901\n",
    "d=2.35e+2"
   ],
   "execution_count": 225,
   "outputs": []
  },
  {
   "cell_type": "markdown",
   "metadata": {
    "id": "97j5uoCDz-wq"
   },
   "source": [
    "##bool"
   ]
  },
  {
   "cell_type": "code",
   "metadata": {
    "id": "OS0mvWZRYJ7u"
   },
   "source": [],
   "execution_count": 225,
   "outputs": []
  },
  {
   "cell_type": "code",
   "metadata": {
    "colab": {
     "base_uri": "https://localhost:8080/"
    },
    "id": "GljlVprByBTF",
    "outputId": "73253aca-84c1-4d64-e825-26f82bc187ee"
   },
   "source": [
    "e = \"kratko\" > \"dolgo\"\n",
    "e"
   ],
   "execution_count": 226,
   "outputs": [
    {
     "output_type": "execute_result",
     "data": {
      "text/plain": [
       "True"
      ]
     },
     "metadata": {},
     "execution_count": 226
    }
   ]
  },
  {
   "cell_type": "markdown",
   "metadata": {
    "id": "XT3uFKDwYXGP"
   },
   "source": [
    "Да се провери во која bool вредност ќе се евалулираат \" \", \"druga vrednst\", 0, 5 и None"
   ]
  },
  {
   "cell_type": "code",
   "metadata": {
    "colab": {
     "base_uri": "https://localhost:8080/"
    },
    "id": "MbF7HyVAzeqV",
    "outputId": "20fb0675-ea30-4e17-8015-a87d08f71786"
   },
   "source": [
    "print(bool(\"\"))\n",
    "print(bool(\"druga vrednost\"))\n",
    "print(bool(0))\n",
    "print(bool(5))\n",
    "print(bool(None))"
   ],
   "execution_count": 227,
   "outputs": [
    {
     "output_type": "stream",
     "name": "stdout",
     "text": [
      "False\n",
      "True\n",
      "False\n",
      "True\n",
      "False\n"
     ]
    }
   ]
  },
  {
   "cell_type": "markdown",
   "metadata": {
    "id": "2ymE3K1TK7M6"
   },
   "source": [
    "## Текстуални типови (str)\n",
    "\n",
    "\n",
    "\n",
    "\n"
   ]
  },
  {
   "cell_type": "code",
   "metadata": {
    "id": "NkCqv5BmMtsy",
    "colab": {
     "base_uri": "https://localhost:8080/"
    },
    "outputId": "004e09cb-015d-409a-95d9-0ca673bfec66"
   },
   "source": [
    "niza=\"niza od znaci e od tip str\"\n",
    "print(niza)"
   ],
   "execution_count": 228,
   "outputs": [
    {
     "output_type": "stream",
     "name": "stdout",
     "text": [
      "niza od znaci e od tip str\n"
     ]
    }
   ]
  },
  {
   "cell_type": "markdown",
   "metadata": {
    "id": "XPxOCvk81BRi"
   },
   "source": [
    "Да се доделат повеќе редови текст како вредност на променлива и потоа да се испечати променливата. "
   ]
  },
  {
   "cell_type": "code",
   "metadata": {
    "colab": {
     "base_uri": "https://localhost:8080/"
    },
    "id": "k5cAe6t3KyzJ",
    "outputId": "c6b5bf49-1df9-41ce-e7e0-1bab2ef1877e"
   },
   "source": [
    "niza=\"\"\"niza od \n",
    "znaci \n",
    "vo \n",
    "povekje \n",
    "redovi\"\"\"\n",
    "print(niza)"
   ],
   "execution_count": 229,
   "outputs": [
    {
     "output_type": "stream",
     "name": "stdout",
     "text": [
      "niza od \n",
      "znaci \n",
      "vo \n",
      "povekje \n",
      "redovi\n"
     ]
    }
   ]
  },
  {
   "cell_type": "markdown",
   "metadata": {
    "id": "LgZ3S6udYodH"
   },
   "source": [
    "Да се дадат примери со печатење на единечен и двоен навод како дел од текстуална низа."
   ]
  },
  {
   "cell_type": "markdown",
   "metadata": {
    "id": "u9D1h3arYvdv"
   },
   "source": []
  },
  {
   "cell_type": "code",
   "metadata": {
    "colab": {
     "base_uri": "https://localhost:8080/"
    },
    "id": "5UouE5vt5Rqe",
    "outputId": "29ca32c7-1128-4255-dbd5-10dd28373f2f"
   },
   "source": [
    "niza1='edinechni navodi'\n",
    "niza2=\"dvojni navodi\"\n",
    "print('edinechen navod \\' vo edinechni navodi')\n",
    "print(\"edinechen navod ' vo dvojni navodi\")\n",
    "print(\"dvoen navod \\\" vo dvojni navodi\")\n",
    "print('dvoen navod \" vo edinechni navodi')\n",
    "\n",
    "\n"
   ],
   "execution_count": 230,
   "outputs": [
    {
     "output_type": "stream",
     "name": "stdout",
     "text": [
      "edinechen navod ' vo edinechni navodi\n",
      "edinechen navod ' vo dvojni navodi\n",
      "dvoen navod \" vo dvojni navodi\n",
      "dvoen navod \" vo edinechni navodi\n"
     ]
    }
   ]
  },
  {
   "cell_type": "markdown",
   "metadata": {
    "id": "ogoOdNxHYy71"
   },
   "source": [
    "Да се дадат примери со печатење на \\ како дел од текстуална низа."
   ]
  },
  {
   "cell_type": "code",
   "metadata": {
    "colab": {
     "base_uri": "https://localhost:8080/"
    },
    "id": "NCTvmoc0yDlT",
    "outputId": "0ebcbc2e-0f90-4d87-e1c6-ba830d2c87d3"
   },
   "source": [
    "print(\"c:\\\\Downloads\\\\videos\\\\video1.mp4\")\n",
    "print(r\"c:\\Downloads\\videos\\video1.mp4\")\n"
   ],
   "execution_count": 231,
   "outputs": [
    {
     "output_type": "stream",
     "name": "stdout",
     "text": [
      "c:\\Downloads\\videos\\video1.mp4\n",
      "c:\\Downloads\\videos\\video1.mp4\n"
     ]
    }
   ]
  },
  {
   "cell_type": "markdown",
   "metadata": {
    "id": "WtUefjhKY28t"
   },
   "source": [
    "Да се изврши конткатенација на две текстуални низи и да се испечати должината на добиената низа."
   ]
  },
  {
   "cell_type": "code",
   "metadata": {
    "colab": {
     "base_uri": "https://localhost:8080/"
    },
    "id": "7zhgMGFInXQX",
    "outputId": "496ce3f3-d976-4683-fc27-16d900806bc3"
   },
   "source": [
    "niza1 = \"prv del \"\n",
    "niza2 = \"vtor del\"\n",
    "print(niza1 + niza2)"
   ],
   "execution_count": 232,
   "outputs": [
    {
     "output_type": "stream",
     "name": "stdout",
     "text": [
      "prv del vtor del\n"
     ]
    }
   ]
  },
  {
   "cell_type": "code",
   "metadata": {
    "colab": {
     "base_uri": "https://localhost:8080/"
    },
    "id": "qAI1SZodrX70",
    "outputId": "ac64789f-75c5-4c58-9c72-f7a6810148dc"
   },
   "source": [
    "print(len(\"niza1 + niza2\"))"
   ],
   "execution_count": 233,
   "outputs": [
    {
     "output_type": "stream",
     "name": "stdout",
     "text": [
      "13\n"
     ]
    }
   ]
  },
  {
   "cell_type": "markdown",
   "metadata": {
    "id": "KMV0BPHuY911"
   },
   "source": [
    "Да се пристапи до знакот со индекс 2, знаците со индекс 2 до 4, сите знаци од почеток до индекс 4, сите знаи од индекс 5 до крај и третиот знак од крај од произволна текстуална низа."
   ]
  },
  {
   "cell_type": "code",
   "metadata": {
    "colab": {
     "base_uri": "https://localhost:8080/"
    },
    "id": "XST0OZmphdIp",
    "outputId": "bd227512-2d5f-43c0-8b61-118e284a95ba"
   },
   "source": [
    "niza=\"tekstualna niza\"\n",
    "print(niza[2])    # znak so indeks 2 (tret)\n",
    "print(niza[2:5])  # od indkes 2 do 5 (bez 5)\n",
    "print(niza[:5])   # od pochetod do indeks 5 (bez 5)\n",
    "print(niza[5:])  # od indeks 5 do kraj\n",
    "print(niza[-3])   # znak so indeks -3 (tret pred kraj)\n",
    "niza.count?\n",
    "1"
   ],
   "execution_count": 234,
   "outputs": [
    {
     "output_type": "stream",
     "name": "stdout",
     "text": [
      "k\n",
      "kst\n",
      "tekst\n",
      "ualna niza\n",
      "i\n"
     ]
    },
    {
     "output_type": "execute_result",
     "data": {
      "text/plain": [
       "1"
      ]
     },
     "metadata": {},
     "execution_count": 234
    }
   ]
  },
  {
   "cell_type": "markdown",
   "metadata": {
    "id": "pZaGmUdze4O5"
   },
   "source": [
    "##bytes\n",
    "\n"
   ]
  },
  {
   "cell_type": "markdown",
   "metadata": {
    "id": "__Ojdb_mZQ49"
   },
   "source": [
    "Да се дадат примери на променливи кои претставуваат низи од бајтикои ќе содрижат ASCII и не-ASCII знци (доделени преку utf-8 кодови или преку енкодирање) и потоа да се испечати нивната содржина."
   ]
  },
  {
   "cell_type": "code",
   "metadata": {
    "colab": {
     "base_uri": "https://localhost:8080/"
    },
    "id": "rtFz22oaY4BL",
    "outputId": "32aee78f-5b95-4db5-b71b-f35eedcb5471"
   },
   "source": [
    "ascii=b\"bajti so ASCII\"     #bajt niza od ASCII znaci\n",
    "krl1=b\"ne-ASCII: \\xd1\\x93\\xd1\\x9f\"   #bajt niza od utf-8 kodovi za ќе\n",
    "krl2=\"ne-ASCII: ѓџ\".encode('utf-8')  #konverzija na str vo bytes so encode()\n",
    "print(ascii)\n",
    "print(krl2)\n",
    "print(krl1.decode('utf-8')) #konverzija od bytes vo str so decode()\n"
   ],
   "execution_count": 235,
   "outputs": [
    {
     "output_type": "stream",
     "name": "stdout",
     "text": [
      "b'bajti so ASCII'\n",
      "b'ne-ASCII: \\xd1\\x93\\xd1\\x9f'\n",
      "ne-ASCII: ѓџ\n"
     ]
    }
   ]
  },
  {
   "cell_type": "markdown",
   "metadata": {
    "id": "Ut5uLUGKYZa3"
   },
   "source": [
    "##None"
   ]
  },
  {
   "cell_type": "markdown",
   "metadata": {
    "id": "fQG578-UZu9U"
   },
   "source": [
    "Да се испечати типот на вредноста None."
   ]
  },
  {
   "cell_type": "code",
   "metadata": {
    "colab": {
     "base_uri": "https://localhost:8080/"
    },
    "id": "wmxsYN3Tk_-0",
    "outputId": "32166400-7390-42c3-f08a-e9bdb0574693"
   },
   "source": [
    "x=None\n",
    "type(x)\n"
   ],
   "execution_count": 236,
   "outputs": [
    {
     "output_type": "execute_result",
     "data": {
      "text/plain": [
       "NoneType"
      ]
     },
     "metadata": {},
     "execution_count": 236
    }
   ]
  },
  {
   "cell_type": "markdown",
   "metadata": {
    "id": "MzRjxq1lZhh4"
   },
   "source": [
    "##Конверзија на типови"
   ]
  },
  {
   "cell_type": "markdown",
   "metadata": {
    "id": "Vn7wBXHqZz5M"
   },
   "source": [
    "Да се дадат примери за конверзија на вредности во различни типови на податоци."
   ]
  },
  {
   "cell_type": "code",
   "metadata": {
    "id": "PKTK_P8xl-W2",
    "colab": {
     "base_uri": "https://localhost:8080/"
    },
    "outputId": "0303b758-1ded-4464-c133-2849db54d5ea"
   },
   "source": [
    "a = int(\"12\")      \n",
    "b = int(36.9)    \n",
    "c = int(False)     \n",
    "d = float(\"3.14\") \n",
    "e = float(12)      \n",
    "f = str(1242)      \n",
    "g = str(36.9)     \n",
    "h = bool(3)      \n",
    "print(a, b, c, d, e, f, g, h)\n"
   ],
   "execution_count": 237,
   "outputs": [
    {
     "output_type": "stream",
     "name": "stdout",
     "text": [
      "12 36 0 3.14 12.0 1242 36.9 True\n"
     ]
    }
   ]
  },
  {
   "cell_type": "markdown",
   "metadata": {
    "id": "cG21RLZzZnMq"
   },
   "source": [
    "#Оператори\n",
    "##Аритметички оператори"
   ]
  },
  {
   "cell_type": "markdown",
   "metadata": {
    "id": "M8AZ_mtXZ444"
   },
   "source": [
    "Да се даде пример за аритметички операции и да се испечати типот на податоците добиени при вавките операции."
   ]
  },
  {
   "cell_type": "code",
   "metadata": {
    "colab": {
     "base_uri": "https://localhost:8080/"
    },
    "id": "6li2b-RO2goK",
    "outputId": "14f9e0cf-9954-42ef-f398-b4ba94123969"
   },
   "source": [
    "2 + 4 * -1\n"
   ],
   "execution_count": 238,
   "outputs": [
    {
     "output_type": "execute_result",
     "data": {
      "text/plain": [
       "-2"
      ]
     },
     "metadata": {},
     "execution_count": 238
    }
   ]
  },
  {
   "cell_type": "code",
   "metadata": {
    "colab": {
     "base_uri": "https://localhost:8080/"
    },
    "id": "kLSyvFwN2y3z",
    "outputId": "912823f3-8eca-4b20-f00e-77b37a845172"
   },
   "source": [
    "type(8/4)"
   ],
   "execution_count": 239,
   "outputs": [
    {
     "output_type": "execute_result",
     "data": {
      "text/plain": [
       "float"
      ]
     },
     "metadata": {},
     "execution_count": 239
    }
   ]
  },
  {
   "cell_type": "markdown",
   "metadata": {
    "id": "dT72aBOWacUX"
   },
   "source": [
    "Да се даде пример за целобројно делење, остаток при целобројно делење, степен на операндите 8 и 4."
   ]
  },
  {
   "cell_type": "code",
   "metadata": {
    "colab": {
     "base_uri": "https://localhost:8080/"
    },
    "id": "sxxUVHBL3A6S",
    "outputId": "f70ecb43-14fb-40e6-bbf4-62f35b82c200"
   },
   "source": [
    "8 // 4"
   ],
   "execution_count": 240,
   "outputs": [
    {
     "output_type": "execute_result",
     "data": {
      "text/plain": [
       "2"
      ]
     },
     "metadata": {},
     "execution_count": 240
    }
   ]
  },
  {
   "cell_type": "markdown",
   "metadata": {
    "id": "afKWK1Ssag4m"
   },
   "source": [
    "Остатокот при делење на два цели броеви се добива со операторот %."
   ]
  },
  {
   "cell_type": "code",
   "metadata": {
    "colab": {
     "base_uri": "https://localhost:8080/"
    },
    "id": "n_8ixetM3Dep",
    "outputId": "bfc8824f-b861-4e2a-86b7-82f2e0562d0a"
   },
   "source": [
    "8 % 4"
   ],
   "execution_count": 241,
   "outputs": [
    {
     "output_type": "execute_result",
     "data": {
      "text/plain": [
       "0"
      ]
     },
     "metadata": {},
     "execution_count": 241
    }
   ]
  },
  {
   "cell_type": "code",
   "metadata": {
    "colab": {
     "base_uri": "https://localhost:8080/"
    },
    "id": "ZH4NzhQl4u8D",
    "outputId": "683722ed-118a-4e5e-daf1-2e32760b6d08"
   },
   "source": [
    "8 ** 4"
   ],
   "execution_count": 242,
   "outputs": [
    {
     "output_type": "execute_result",
     "data": {
      "text/plain": [
       "4096"
      ]
     },
     "metadata": {},
     "execution_count": 242
    }
   ]
  },
  {
   "cell_type": "markdown",
   "metadata": {
    "id": "d69qxNvlaZXa"
   },
   "source": [
    "Да се испечати вредноста добиена при операцијата логичко ИЛИ на две различни булови вредности."
   ]
  },
  {
   "cell_type": "code",
   "metadata": {
    "colab": {
     "base_uri": "https://localhost:8080/"
    },
    "id": "gSgR0z9ZgqXc",
    "outputId": "e3862c6d-dae7-49ec-f9ac-c4705903208c"
   },
   "source": [
    "x = True or False\n",
    "print(x)"
   ],
   "execution_count": 243,
   "outputs": [
    {
     "output_type": "stream",
     "name": "stdout",
     "text": [
      "True\n"
     ]
    }
   ]
  },
  {
   "cell_type": "markdown",
   "metadata": {
    "id": "2HbZS-hQagny"
   },
   "source": [
    "Да се испечати резултатот добиен од операцијата логичко или на ниво на битови помеѓу вредностите 7 и 9, ако тој резултат потоа се помести за еден бит на десно."
   ]
  },
  {
   "cell_type": "code",
   "metadata": {
    "colab": {
     "base_uri": "https://localhost:8080/"
    },
    "id": "4IgVUV9i8Cjy",
    "outputId": "a24c9b2b-29c9-4e9b-83ee-0d4b7b3bcce6"
   },
   "source": [
    "x = 7 | 9   # 000111 | 001001 = 001111\n",
    "print(x>>1) # 001111>>1 = 000111"
   ],
   "execution_count": 244,
   "outputs": [
    {
     "output_type": "stream",
     "name": "stdout",
     "text": [
      "7\n"
     ]
    }
   ]
  },
  {
   "cell_type": "markdown",
   "metadata": {
    "id": "Q08fEGsGay5F"
   },
   "source": [
    "##Оператори за припадност"
   ]
  },
  {
   "cell_type": "markdown",
   "metadata": {
    "id": "RQGwS0fDawmq"
   },
   "source": [
    "листа"
   ]
  },
  {
   "cell_type": "markdown",
   "metadata": {
    "id": "AMvj_97GarV_"
   },
   "source": [
    "Да се дадат примери за операторите на припадност во произволна  од броеви."
   ]
  },
  {
   "cell_type": "code",
   "metadata": {
    "colab": {
     "base_uri": "https://localhost:8080/"
    },
    "id": "7gY3NDB5jNAh",
    "outputId": "f4e2095b-4bc6-4902-9b18-69efc6f73d3b"
   },
   "source": [
    "broevi = [1, 2, 3, 4]\n",
    "print(4 not in broevi)\n",
    "print(3 in broevi)\n"
   ],
   "execution_count": 245,
   "outputs": [
    {
     "output_type": "stream",
     "name": "stdout",
     "text": [
      "False\n",
      "True\n"
     ]
    }
   ]
  },
  {
   "cell_type": "markdown",
   "metadata": {
    "id": "dz70a_Z7cOF0"
   },
   "source": [
    "#Податочни структури (листи, торки, множества и речници)"
   ]
  },
  {
   "cell_type": "markdown",
   "metadata": {
    "id": "CBmW2Th0cE3W"
   },
   "source": [
    "##Листa (list)"
   ]
  },
  {
   "cell_type": "markdown",
   "metadata": {
    "id": "Dz-5HyS-ax2y"
   },
   "source": [
    "Да се креираат листите samoglaski составена (составена од знаци), parni (составна од парните броевие од 2 до 10) и lichnost (составена од име, возраст и пол)."
   ]
  },
  {
   "cell_type": "code",
   "metadata": {
    "id": "WVo2pqLrcSOq"
   },
   "source": [
    "samoglaski = [\"a\", \"e\", \"i\", \"o\", \"u\"]\n",
    "parni = [2, 4, 6, 8, 10]\n",
    "lichnost = [\"Bojan\", 24, \"m\"]"
   ],
   "execution_count": 246,
   "outputs": []
  },
  {
   "cell_type": "markdown",
   "metadata": {
    "id": "oGTOG1k-a63f"
   },
   "source": [
    "Да се креира листа од торка од броеви."
   ]
  },
  {
   "cell_type": "code",
   "metadata": {
    "colab": {
     "base_uri": "https://localhost:8080/"
    },
    "id": "dXME5nsczsUs",
    "outputId": "08183809-51f8-4353-e7d4-5d15321aa6d2"
   },
   "source": [
    "list((2,4,6,8,10))"
   ],
   "execution_count": 247,
   "outputs": [
    {
     "output_type": "execute_result",
     "data": {
      "text/plain": [
       "[2, 4, 6, 8, 10]"
      ]
     },
     "metadata": {},
     "execution_count": 247
    }
   ]
  },
  {
   "cell_type": "markdown",
   "metadata": {
    "id": "WfnqwzBNa-EK"
   },
   "source": [
    "Да се креира листа со вредности од 0 до 9 и листа со вредности од 0 до 90, каде елементите се разликуваат за 10."
   ]
  },
  {
   "cell_type": "code",
   "metadata": {
    "colab": {
     "base_uri": "https://localhost:8080/"
    },
    "id": "G80vrK2pzwep",
    "outputId": "9c13f266-2841-459d-db51-2f1031ed5ff5"
   },
   "source": [
    "print(list(range(10)))\n",
    "print(list(range(0,100,10)))\n"
   ],
   "execution_count": 248,
   "outputs": [
    {
     "output_type": "stream",
     "name": "stdout",
     "text": [
      "[0, 1, 2, 3, 4, 5, 6, 7, 8, 9]\n",
      "[0, 10, 20, 30, 40, 50, 60, 70, 80, 90]\n"
     ]
    }
   ]
  },
  {
   "cell_type": "markdown",
   "metadata": {
    "id": "YHtW65uSbGRI"
   },
   "source": [
    "Да се пристапи до третиот елемент од листата samoglaski и претпоследниот елемент од листата parni."
   ]
  },
  {
   "cell_type": "code",
   "metadata": {
    "colab": {
     "base_uri": "https://localhost:8080/"
    },
    "id": "XrOq8MRDdidl",
    "outputId": "5d116b08-5690-43b1-8862-2d1b2fa2d653"
   },
   "source": [
    "print(samoglaski[2])  \n",
    "print(parni[-2])  "
   ],
   "execution_count": 249,
   "outputs": [
    {
     "output_type": "stream",
     "name": "stdout",
     "text": [
      "i\n",
      "8\n"
     ]
    }
   ]
  },
  {
   "cell_type": "markdown",
   "metadata": {
    "id": "ffAKTPo6iAeq"
   },
   "source": [
    "Да се пристапи до елементите со индекс од 1 до 3, секој втор елемент, сите елементи во обратен редослед и елементите од индекс 3 до крај, но во одреден редослед од листата samoglaski. Исто така, да се пристапи до сите елементи од почеток до индекс 1, сите елементи од индекс 2 до крај, секој втор елемент од индекс 1 до крај и секој втор елемент од почеток до индекс 3 од листата parni."
   ]
  },
  {
   "cell_type": "code",
   "metadata": {
    "colab": {
     "base_uri": "https://localhost:8080/"
    },
    "id": "Qul5ni-RnG9f",
    "outputId": "7a53d76e-eea1-4acc-d63d-6ca2f62aad51"
   },
   "source": [
    "print(samoglaski[1:4])  \n",
    "print(parni[:2])  \n",
    "print(parni[2:])   \n",
    "print(parni[2::2]) \n",
    "print(parni[:4:2])  \n",
    "print(samoglaski[::2])   \n",
    "print(samoglaski[::-1])   \n",
    "print(samoglaski[3::-1])   \n",
    "\n"
   ],
   "execution_count": 250,
   "outputs": [
    {
     "output_type": "stream",
     "name": "stdout",
     "text": [
      "['e', 'i', 'o']\n",
      "[2, 4]\n",
      "[6, 8, 10]\n",
      "[6, 10]\n",
      "[2, 6]\n",
      "['a', 'i', 'u']\n",
      "['u', 'o', 'i', 'e', 'a']\n",
      "['o', 'i', 'e', 'a']\n"
     ]
    }
   ]
  },
  {
   "cell_type": "markdown",
   "metadata": {
    "id": "rj1AAa-uiey1"
   },
   "source": [
    "Да се додели вредност \"O\" на прептоследниот елемент на samoglaski, и вредност [12, 14] на елементите со индекс од 1 до 2 на листата parni. Потоа, да се испечати новата содржина на листите."
   ]
  },
  {
   "cell_type": "code",
   "metadata": {
    "colab": {
     "base_uri": "https://localhost:8080/"
    },
    "id": "cyX85hZnw6Jx",
    "outputId": "bff7ecc8-248d-4025-ba1d-6c8916acdfc9"
   },
   "source": [
    "samoglaski[-2] = \"O\"\n",
    "parni[1:3] = [12, 14]\n",
    "print(samoglaski)\n",
    "print(parni)"
   ],
   "execution_count": 251,
   "outputs": [
    {
     "output_type": "stream",
     "name": "stdout",
     "text": [
      "['a', 'e', 'i', 'O', 'u']\n",
      "[2, 12, 14, 8, 10]\n"
     ]
    }
   ]
  },
  {
   "cell_type": "markdown",
   "metadata": {
    "id": "5U3EMJ0EixgA"
   },
   "source": [
    "Да се додаде елементот 22 на крајот од parni. Потоа на 5-та позиција да се додаде елементот 12. Да се отстрани првиот елемент со вредност 12. Да се прочита вредноста на елементот со индекс 2 и да се исфрли од листата."
   ]
  },
  {
   "cell_type": "code",
   "metadata": {
    "colab": {
     "base_uri": "https://localhost:8080/"
    },
    "id": "d9xWAIxL16H0",
    "outputId": "79e86680-749a-40da-f928-cf60e0ef8312"
   },
   "source": [
    "parni.append(22)\n",
    "print(parni)\n",
    "parni.insert(4,12)\n",
    "print(parni)\n",
    "parni.remove(12)\n",
    "print(parni)\n",
    "parni.pop(2)\n",
    "print(parni)"
   ],
   "execution_count": 252,
   "outputs": [
    {
     "output_type": "stream",
     "name": "stdout",
     "text": [
      "[2, 12, 14, 8, 10, 22]\n",
      "[2, 12, 14, 8, 12, 10, 22]\n",
      "[2, 14, 8, 12, 10, 22]\n",
      "[2, 14, 12, 10, 22]\n"
     ]
    }
   ]
  },
  {
   "cell_type": "markdown",
   "metadata": {
    "id": "u4szJScUjSvm"
   },
   "source": [
    "Да се креира нова променлива накоја како вредност ќе и се додели листата parni. Потоа, да се додаде елемнтот 100 на листата parni и да се испечати содржината на новата променлива. Што може да се заклучи?"
   ]
  },
  {
   "cell_type": "code",
   "metadata": {
    "colab": {
     "base_uri": "https://localhost:8080/"
    },
    "id": "ecDJmKr151h8",
    "outputId": "f8940bb4-491c-429f-a2b5-137459676c95"
   },
   "source": [
    "kopija_parni = parni\n",
    "parni.append(100)\n",
    "print(kopija_parni)"
   ],
   "execution_count": 253,
   "outputs": [
    {
     "output_type": "stream",
     "name": "stdout",
     "text": [
      "[2, 14, 12, 10, 22, 100]\n"
     ]
    }
   ]
  },
  {
   "cell_type": "markdown",
   "metadata": {
    "id": "jWc46Z9Hjid_"
   },
   "source": [
    "Да се креира нова променлива накоја како вредност ќе и се додели КОПИЈА на листата parni. Потоа, да се додаде елемнтот 100 на листата parni и да се испечати содржината на новата променлива. Што може да се заклучи?"
   ]
  },
  {
   "cell_type": "code",
   "metadata": {
    "colab": {
     "base_uri": "https://localhost:8080/"
    },
    "id": "WaQNttNP7D8-",
    "outputId": "4971538e-b777-4dfe-df30-bd509e65e2e4"
   },
   "source": [
    "kopija_parni = parni.copy()\n",
    "parni.append(100)\n",
    "print(kopija_parni)"
   ],
   "execution_count": 254,
   "outputs": [
    {
     "output_type": "stream",
     "name": "stdout",
     "text": [
      "[2, 14, 12, 10, 22, 100]\n"
     ]
    }
   ]
  },
  {
   "cell_type": "markdown",
   "metadata": {
    "id": "War1jpNAjmb-"
   },
   "source": [
    "Да се изврши контактенација на две различни листи. Пота да се прошири листата со нова листа. Да се испечати листата и на крајот да се испразни целата нејзина содржина."
   ]
  },
  {
   "cell_type": "code",
   "metadata": {
    "colab": {
     "base_uri": "https://localhost:8080/"
    },
    "id": "Y12Fm66G8AV6",
    "outputId": "c9d41921-7723-4f2c-c5f6-ff0ccc871fae"
   },
   "source": [
    "lista = [1, 2, 3] + [\"4\", \"5\"]\n",
    "print(lista)\n",
    "lista.extend([True, False])\n",
    "print(lista)\n",
    "print(lista.clear())"
   ],
   "execution_count": 255,
   "outputs": [
    {
     "output_type": "stream",
     "name": "stdout",
     "text": [
      "[1, 2, 3, '4', '5']\n",
      "[1, 2, 3, '4', '5', True, False]\n",
      "None\n"
     ]
    }
   ]
  },
  {
   "cell_type": "markdown",
   "metadata": {
    "id": "HFp5VRLtj0eM"
   },
   "source": [
    "Да се подреди листата samoglaski по азбучен ред во двете насоки (растечка и опаѓачка)"
   ]
  },
  {
   "cell_type": "code",
   "metadata": {
    "colab": {
     "base_uri": "https://localhost:8080/"
    },
    "id": "1Oiz5CJ1J9PH",
    "outputId": "a35da8da-6621-414a-e08b-106b7fcd0a96"
   },
   "source": [
    "samoglaski.sort()  # podreduvanjee po azbuchen red\n",
    "print(samoglaski)  \n",
    "samoglaski.sort(reverse=True)  # podreduvanjee vo obratna nasoka\n",
    "print(samoglaski)"
   ],
   "execution_count": 256,
   "outputs": [
    {
     "output_type": "stream",
     "name": "stdout",
     "text": [
      "['O', 'a', 'e', 'i', 'u']\n",
      "['u', 'i', 'e', 'a', 'O']\n"
     ]
    }
   ]
  },
  {
   "cell_type": "markdown",
   "metadata": {
    "id": "fWOl_y-wj--f"
   },
   "source": [
    "Да се испечати индексот на елементот 'a' и бројто на појавувања на елементот 'o'."
   ]
  },
  {
   "cell_type": "code",
   "metadata": {
    "colab": {
     "base_uri": "https://localhost:8080/"
    },
    "id": "FB9FXYEXKdRR",
    "outputId": "2c1b9d11-8c60-41c2-bd90-92e497be1705"
   },
   "source": [
    "print(samoglaski.index('a'))\n",
    "print(samoglaski.count('o'))\n"
   ],
   "execution_count": 257,
   "outputs": [
    {
     "output_type": "stream",
     "name": "stdout",
     "text": [
      "3\n",
      "0\n"
     ]
    }
   ]
  },
  {
   "cell_type": "markdown",
   "metadata": {
    "id": "DfqymlnFyy7t"
   },
   "source": [
    "##Торка (tuple)"
   ]
  },
  {
   "cell_type": "markdown",
   "metadata": {
    "id": "NRTr5kLAkNsj"
   },
   "source": [
    "Да се креираат торките parni (парни цифри), meshani (составена од нумеричка вредност, текстулана вредност и торка), opseg (составена од опсег од 0 до 9) и prosti (сотавена од прости прости броеви од 1 до 11). Да се испечати содржината на сите торки."
   ]
  },
  {
   "cell_type": "code",
   "metadata": {
    "colab": {
     "base_uri": "https://localhost:8080/"
    },
    "id": "jnfpgEBiy13N",
    "outputId": "4a856440-c6b0-42df-e53b-0ffb44914d48"
   },
   "source": [
    "parni = 2, 4, 6, 8\n",
    "meshani = (2, 'tekst', (32,23,17))\n",
    "opseg = tuple(range(10))\n",
    "prosti = tuple([1, 3, 5, 7, 11])\n",
    "print(parni)\n",
    "print(meshani)\n",
    "print(opseg)\n",
    "print(prosti)"
   ],
   "execution_count": 258,
   "outputs": [
    {
     "output_type": "stream",
     "name": "stdout",
     "text": [
      "(2, 4, 6, 8)\n",
      "(2, 'tekst', (32, 23, 17))\n",
      "(0, 1, 2, 3, 4, 5, 6, 7, 8, 9)\n",
      "(1, 3, 5, 7, 11)\n"
     ]
    }
   ]
  },
  {
   "cell_type": "markdown",
   "metadata": {
    "id": "ucQ07Ysakj3Z"
   },
   "source": [
    "Да се креира торка со конкатнација на две различни торки и да се испечати содржината."
   ]
  },
  {
   "cell_type": "code",
   "metadata": {
    "colab": {
     "base_uri": "https://localhost:8080/"
    },
    "id": "0iNhOzEdh7hG",
    "outputId": "d57c2ed0-dc82-4718-f9d7-58f21ac7d82e"
   },
   "source": [
    "torka = (2,) + ([\"m\", \"f\"], [4, 3,5])\n",
    "print(torka)"
   ],
   "execution_count": 259,
   "outputs": [
    {
     "output_type": "stream",
     "name": "stdout",
     "text": [
      "(2, ['m', 'f'], [4, 3, 5])\n"
     ]
    }
   ]
  },
  {
   "cell_type": "markdown",
   "metadata": {
    "id": "Df2waknnkor9"
   },
   "source": [
    "Да се испечати вториот елемент од торката prosti и елементите од почеток до индекс 1."
   ]
  },
  {
   "cell_type": "code",
   "metadata": {
    "colab": {
     "base_uri": "https://localhost:8080/"
    },
    "id": "lQHyAvQX2h3J",
    "outputId": "874ec5a9-4ade-457a-c805-d552c33f7c84"
   },
   "source": [
    "print(prosti[1])\n",
    "print(parni[:2])"
   ],
   "execution_count": 260,
   "outputs": [
    {
     "output_type": "stream",
     "name": "stdout",
     "text": [
      "3\n",
      "(2, 4)\n"
     ]
    }
   ]
  },
  {
   "cell_type": "markdown",
   "metadata": {
    "id": "ec1M-etSkxdf"
   },
   "source": [
    "Да се промени содржината на торка користејќи листа."
   ]
  },
  {
   "cell_type": "code",
   "metadata": {
    "colab": {
     "base_uri": "https://localhost:8080/"
    },
    "id": "4Ck37gu9VrGl",
    "outputId": "94fcfb91-89d9-4c5a-f54b-ff14090300ac"
   },
   "source": [
    "lista = list(meshani) \n",
    "lista[1] = \"x\"         \n",
    "meshani = tuple(lista)\n",
    "print(meshani)"
   ],
   "execution_count": 261,
   "outputs": [
    {
     "output_type": "stream",
     "name": "stdout",
     "text": [
      "(2, 'x', (32, 23, 17))\n"
     ]
    }
   ]
  },
  {
   "cell_type": "markdown",
   "metadata": {
    "id": "GbyzRzBfk6Ud"
   },
   "source": [
    "Да се доделат вредности во еден ред на 2 променливи од торка со 2 елементи. Потоа да се доделат вредности во еден ред на 3 променливи од торка со 4 елементи така што вишокот елементи ќе бидат доделиени на последната променлива."
   ]
  },
  {
   "cell_type": "code",
   "metadata": {
    "colab": {
     "base_uri": "https://localhost:8080/"
    },
    "id": "TL24_kiDeHvz",
    "outputId": "a1bec3e9-b64b-40e9-ed0e-ca58e3aef0a6"
   },
   "source": [
    "x, y = \"x\", \"y\"\n",
    "torka = (\"w\", \"x\", \"y\", \"z\")\n",
    "w, x, *y  = torka \n",
    "print(y)"
   ],
   "execution_count": 262,
   "outputs": [
    {
     "output_type": "stream",
     "name": "stdout",
     "text": [
      "['y', 'z']\n"
     ]
    }
   ]
  },
  {
   "cell_type": "code",
   "metadata": {
    "id": "NK7wT1AU0d2D"
   },
   "source": [],
   "execution_count": 262,
   "outputs": []
  },
  {
   "cell_type": "markdown",
   "metadata": {
    "id": "MEJ1NFYklO6G"
   },
   "source": [
    "Да се креира торка од торки, каде секоја торка ќе претставува координати на точка. Димензиите x и y на точките да се прочитаат од посебни листи (или торки)."
   ]
  },
  {
   "cell_type": "code",
   "metadata": {
    "colab": {
     "base_uri": "https://localhost:8080/"
    },
    "id": "3Zo9Wr80rJL9",
    "outputId": "5ad3f278-09ad-48e4-b16b-388984941f1b"
   },
   "source": [
    "x=[1, 2, 3]\n",
    "y=(10, 11, 12)\n",
    "koordinati = tuple(zip(x, y))\n",
    "print(koordinati)"
   ],
   "execution_count": 263,
   "outputs": [
    {
     "output_type": "stream",
     "name": "stdout",
     "text": [
      "((1, 10), (2, 11), (3, 12))\n"
     ]
    }
   ]
  },
  {
   "cell_type": "markdown",
   "metadata": {
    "id": "d2qaakaxGPuV"
   },
   "source": [
    "##Множество (set)"
   ]
  },
  {
   "cell_type": "markdown",
   "metadata": {
    "id": "haQ8No0vlhkH"
   },
   "source": [
    "Да се креира множество од парни цифири parni и множество од имиња на бои boi. "
   ]
  },
  {
   "cell_type": "code",
   "metadata": {
    "colab": {
     "base_uri": "https://localhost:8080/"
    },
    "id": "f1rquJeAGSAr",
    "outputId": "3f3de03e-cc47-42f5-e01d-026bad46541c"
   },
   "source": [
    "parni = {2, 4, 6, 8}\n",
    "boi = set(['sina', 'zelena', 'crvena', 'zholata', 'bela'])\n",
    "print(parni)\n",
    "print(boi)"
   ],
   "execution_count": 264,
   "outputs": [
    {
     "output_type": "stream",
     "name": "stdout",
     "text": [
      "{8, 2, 4, 6}\n",
      "{'zelena', 'bela', 'crvena', 'sina', 'zholata'}\n"
     ]
    }
   ]
  },
  {
   "cell_type": "markdown",
   "metadata": {
    "id": "aPxWe2PfloYi"
   },
   "source": [
    "Да се провери припадноста на даден елемент во множеството boi."
   ]
  },
  {
   "cell_type": "code",
   "metadata": {
    "colab": {
     "base_uri": "https://localhost:8080/"
    },
    "id": "1aCKs5R8ObE5",
    "outputId": "bba3b6d0-293b-4c15-d52a-4513c71122e2"
   },
   "source": [
    "print('crna' in boi)"
   ],
   "execution_count": 265,
   "outputs": [
    {
     "output_type": "stream",
     "name": "stdout",
     "text": [
      "False\n"
     ]
    }
   ]
  },
  {
   "cell_type": "markdown",
   "metadata": {
    "id": "WloLxxkOlsxN"
   },
   "source": [
    "Да се додаде елементот 10 во множеството parni. Потоа, да се отстрани елементот 2 и да се додадат одеднаш елементите 14 и 16."
   ]
  },
  {
   "cell_type": "code",
   "metadata": {
    "colab": {
     "base_uri": "https://localhost:8080/"
    },
    "id": "5IZaxzcyPwtY",
    "outputId": "f9540c82-6fad-4765-b33e-352c2abb2c88"
   },
   "source": [
    "parni.add(10)\n",
    "parni.remove(2)\n",
    "print(parni)\n",
    "parni.update([14, 16])\n",
    "print(parni)"
   ],
   "execution_count": 266,
   "outputs": [
    {
     "output_type": "stream",
     "name": "stdout",
     "text": [
      "{4, 6, 8, 10}\n",
      "{4, 6, 8, 10, 14, 16}\n"
     ]
    }
   ]
  },
  {
   "cell_type": "markdown",
   "metadata": {
    "id": "w6n8taErs51x"
   },
   "source": [
    "Да се дефинираат три множества кои ќе имаат барем еден заеднички елемент. Потоа да се извршат операциите унија, пресек, разлика, симетрична разлика, да се провери дали едно множество е подмножество на друго и дали едно множество е компелтно различно (без ниеден заенички елемнт) од друго."
   ]
  },
  {
   "cell_type": "code",
   "metadata": {
    "colab": {
     "base_uri": "https://localhost:8080/"
    },
    "id": "X-wjpdH0V6M3",
    "outputId": "4006902e-7624-4e31-f819-f302ab089359"
   },
   "source": [
    "a = {'a','b','g','h','j'}\n",
    "b = {'w','g','h','x'}\n",
    "c= {'w','g','a'}\n",
    "print(a.union(b))\n",
    "print(a.intersection(b))\n",
    "print(a.difference(b))\n",
    "print(a.symmetric_difference(b))\n",
    "print(c.issubset(a))\n",
    "print(b.isdisjoint(c))"
   ],
   "execution_count": 267,
   "outputs": [
    {
     "output_type": "stream",
     "name": "stdout",
     "text": [
      "{'j', 'a', 'x', 'b', 'g', 'w', 'h'}\n",
      "{'g', 'h'}\n",
      "{'j', 'b', 'a'}\n",
      "{'j', 'a', 'b', 'w', 'x'}\n",
      "False\n",
      "False\n"
     ]
    }
   ]
  },
  {
   "cell_type": "markdown",
   "metadata": {
    "id": "Tr7UmDItYfhM"
   },
   "source": [
    "##Речник (dictionary)"
   ]
  },
  {
   "cell_type": "markdown",
   "metadata": {
    "id": "3lLaBXM3tURA"
   },
   "source": [
    "Да се креира речник lichnosti (со цела вредност како клуч) и drzhava (имиња на атрибути како клуч: ime, zhiteli и gradovi). Атрибутот градови треба да содржи торка од градови. Да се испечати содржината на речниците"
   ]
  },
  {
   "cell_type": "code",
   "metadata": {
    "colab": {
     "base_uri": "https://localhost:8080/"
    },
    "id": "V8NJZ08FYiFK",
    "outputId": "08c327c5-38cc-46ae-f23a-72c0d6f4ac88"
   },
   "source": [
    "lichnosti = {12:\"Ivan\", 32:\"Elena\", 59:\"Bojan\"}\n",
    "drzhava = {\"ime\": \"Severna Makedonija\", \"zhiteli\":2000000, \"gradovi\": (\"Skopje\", \"Bitola\",\"Ohrid\")}\n",
    "print(lichnosti)\n",
    "print(drzhava)"
   ],
   "execution_count": 268,
   "outputs": [
    {
     "output_type": "stream",
     "name": "stdout",
     "text": [
      "{12: 'Ivan', 32: 'Elena', 59: 'Bojan'}\n",
      "{'ime': 'Severna Makedonija', 'zhiteli': 2000000, 'gradovi': ('Skopje', 'Bitola', 'Ohrid')}\n"
     ]
    }
   ]
  },
  {
   "cell_type": "markdown",
   "metadata": {
    "id": "K2m9OPtJt0FE"
   },
   "source": [
    "Да се креира речник lichnosti така што клучевите и вредностите ќе се извлечат од две посебни листи."
   ]
  },
  {
   "cell_type": "code",
   "metadata": {
    "colab": {
     "base_uri": "https://localhost:8080/"
    },
    "id": "EnQDeOONu6qe",
    "outputId": "dbd2ccfc-f0c2-4486-f484-94e0c5fa2645"
   },
   "source": [
    "kluchevi = [12, 32, 59]\n",
    "vrednosti = ['Ivan', 'Elena', 'Bojan']\n",
    "lichnosti=dict(zip(kluchevi, vrednosti))\n",
    "print(lichnosti)"
   ],
   "execution_count": 269,
   "outputs": [
    {
     "output_type": "stream",
     "name": "stdout",
     "text": [
      "{12: 'Ivan', 32: 'Elena', 59: 'Bojan'}\n"
     ]
    }
   ]
  },
  {
   "cell_type": "markdown",
   "metadata": {
    "id": "M7PiqJxNt9p-"
   },
   "source": [
    "Да се испечати вредноста на по еден елемент од двете листи. Да се пристапи користејќи го соодветниот клуч."
   ]
  },
  {
   "cell_type": "code",
   "metadata": {
    "colab": {
     "base_uri": "https://localhost:8080/"
    },
    "id": "fzEgglZYYyGb",
    "outputId": "0d96c2ea-9d7b-4e37-9add-6cd65456c4c0"
   },
   "source": [
    "print(lichnosti[32])\n",
    "print(drzhava.get(\"gradovi\"))"
   ],
   "execution_count": 270,
   "outputs": [
    {
     "output_type": "stream",
     "name": "stdout",
     "text": [
      "Elena\n",
      "('Skopje', 'Bitola', 'Ohrid')\n"
     ]
    }
   ]
  },
  {
   "cell_type": "markdown",
   "metadata": {
    "id": "PRoR6HvjuJnd"
   },
   "source": [
    "Да се испечатат во форма на листа клучевите, вредностите и ставките на листата lichnosti. Да се пристапи до еден град од торката gradovi на даден елемент од листата drzhavi користејќи исклучиво иднекси."
   ]
  },
  {
   "cell_type": "code",
   "metadata": {
    "colab": {
     "base_uri": "https://localhost:8080/"
    },
    "id": "C6JaGfZGdYM4",
    "outputId": "8fc3ebec-7d11-46a9-8907-ff650c3a233a"
   },
   "source": [
    "print(lichnosti.keys())\n",
    "print(lichnosti.values())\n",
    "print(lichnosti.items())\n",
    "print(list(drzhava.items())[2][1][0])"
   ],
   "execution_count": 271,
   "outputs": [
    {
     "output_type": "stream",
     "name": "stdout",
     "text": [
      "dict_keys([12, 32, 59])\n",
      "dict_values(['Ivan', 'Elena', 'Bojan'])\n",
      "dict_items([(12, 'Ivan'), (32, 'Elena'), (59, 'Bojan')])\n",
      "Skopje\n"
     ]
    }
   ]
  },
  {
   "cell_type": "markdown",
   "metadata": {
    "id": "-5DcX-n2ufsC"
   },
   "source": [
    "Да се доделат вредностите од листата lichnosti на нова листа vrednosti. Потоа да се промени вредноста на еден елемент на lichonsti. Да се испечати содржината на новата листа. Што може да се заклучи?"
   ]
  },
  {
   "cell_type": "code",
   "metadata": {
    "colab": {
     "base_uri": "https://localhost:8080/"
    },
    "id": "I6ft-bo6jmeF",
    "outputId": "7c766d8b-c4fc-4d55-9a14-a3f604a89268"
   },
   "source": [
    "vrednosti = lichnosti.values()\n",
    "lichnosti[12]=\"Stefan\"\n",
    "print(vrednosti)\n",
    "lichnosti_lista=list(vrednosti);\n",
    "print(lichnosti_lista)\n"
   ],
   "execution_count": 272,
   "outputs": [
    {
     "output_type": "stream",
     "name": "stdout",
     "text": [
      "dict_values(['Stefan', 'Elena', 'Bojan'])\n",
      "['Stefan', 'Elena', 'Bojan']\n"
     ]
    }
   ]
  },
  {
   "cell_type": "markdown",
   "metadata": {
    "id": "RDoSRiitu6Ea"
   },
   "source": [
    "Да се променат вредностите на речникот така што ќе се додадат два нови елемента. Едниот елемент треба да го има истиот клуч како и постоечки елемент."
   ]
  },
  {
   "cell_type": "code",
   "metadata": {
    "colab": {
     "base_uri": "https://localhost:8080/"
    },
    "id": "NNnp3LMN6Imj",
    "outputId": "33f11df5-c67b-403e-b7ec-5cefd2a512bd"
   },
   "source": [
    "lichnosti.update({32:\"Ivana\", 35:\"Kalin\"})\n",
    "lichnosti.pop(59)\n",
    "print(lichnosti)"
   ],
   "execution_count": 273,
   "outputs": [
    {
     "output_type": "stream",
     "name": "stdout",
     "text": [
      "{12: 'Stefan', 32: 'Ivana', 35: 'Kalin'}\n"
     ]
    }
   ]
  },
  {
   "cell_type": "markdown",
   "metadata": {
    "id": "IVN2EjUZeJyJ"
   },
   "source": [
    "#Контрола на тек"
   ]
  },
  {
   "cell_type": "markdown",
   "metadata": {
    "id": "1haAyqaNvGKo"
   },
   "source": [
    "Да се напише кратка програма која за две произволни вредности ќе испечати дали првата вредност е поголема или помала од втората."
   ]
  },
  {
   "cell_type": "code",
   "metadata": {
    "colab": {
     "base_uri": "https://localhost:8080/"
    },
    "id": "8PX1xDmOeLt3",
    "outputId": "a8c4df8b-6c02-486d-b193-53a33ead0b69"
   },
   "source": [
    "a, b = 100, 50\n",
    "if a < b:\n",
    "  print(\"a e pomalo od b\")\n",
    "elif a > b:\n",
    "  print(\"a e pogolemo od b\")"
   ],
   "execution_count": 274,
   "outputs": [
    {
     "output_type": "stream",
     "name": "stdout",
     "text": [
      "a e pogolemo od b\n"
     ]
    }
   ]
  },
  {
   "cell_type": "markdown",
   "metadata": {
    "id": "fCneLyjWvPfy"
   },
   "source": [
    "Да се напише кратка програма која за две произволни вредности ќе испечати дали првата вредност е поголема, помала или еднаква на втората."
   ]
  },
  {
   "cell_type": "code",
   "metadata": {
    "colab": {
     "base_uri": "https://localhost:8080/"
    },
    "id": "MyX60ZAsgYib",
    "outputId": "d2556726-cace-41c8-d24e-3a09c9932f5d"
   },
   "source": [
    "a, b = 100, 100\n",
    "if a < b:\n",
    "  print(\"a e pomalo od b\")\n",
    "  a -= 1\n",
    "elif a > b:\n",
    "  print(\"a e pogolemo od b\")\n",
    "  a += 1\n",
    "else:\n",
    "  print(\"a e ednakvo na b\")"
   ],
   "execution_count": 275,
   "outputs": [
    {
     "output_type": "stream",
     "name": "stdout",
     "text": [
      "a e ednakvo na b\n"
     ]
    }
   ]
  },
  {
   "cell_type": "markdown",
   "metadata": {
    "id": "ovlMmYmyvUqN"
   },
   "source": [
    "Да се напише кратка програма која за две произволни вредности ќе испечати дали првата вредност е поголема или помала од втората. Наредбата за контрола на тек да биде испишана само во оден ред."
   ]
  },
  {
   "cell_type": "code",
   "metadata": {
    "colab": {
     "base_uri": "https://localhost:8080/"
    },
    "id": "JEqiu68xhSU3",
    "outputId": "79df7bbb-5238-4cc9-a5e0-8004a91e0668"
   },
   "source": [
    "a, b = 100, 100\n",
    "print(\"a e pomalo b\") if  a < b  else print(\"a ne e pomalo b\")"
   ],
   "execution_count": 276,
   "outputs": [
    {
     "output_type": "stream",
     "name": "stdout",
     "text": [
      "a ne e pomalo b\n"
     ]
    }
   ]
  },
  {
   "cell_type": "markdown",
   "metadata": {
    "id": "rAKt0TxSvg4i"
   },
   "source": [
    "Да се напише кратка програма за печатње на минимум од  две произволни вредности. Наредбата за контрола на тек да биде испишана само во оден ред."
   ]
  },
  {
   "cell_type": "code",
   "metadata": {
    "colab": {
     "base_uri": "https://localhost:8080/"
    },
    "id": "-5sJtuGUmBs-",
    "outputId": "9cee9c61-93c5-4016-a954-3ca11f8ff6b3"
   },
   "source": [
    "a, b = 5, 12\n",
    "minval = a if  a < b else b\n",
    "print(minval)"
   ],
   "execution_count": 277,
   "outputs": [
    {
     "output_type": "stream",
     "name": "stdout",
     "text": [
      "5\n"
     ]
    }
   ]
  },
  {
   "cell_type": "markdown",
   "metadata": {
    "id": "S19lGt2Hk9nv"
   },
   "source": [
    "#Јамки"
   ]
  },
  {
   "cell_type": "markdown",
   "metadata": {
    "id": "bOd5LEJgvqA4"
   },
   "source": [
    "Да се напише кракта програма која ќе ги испечати сите имиња (вредности) на речникот lichnosti."
   ]
  },
  {
   "cell_type": "code",
   "metadata": {
    "colab": {
     "base_uri": "https://localhost:8080/"
    },
    "id": "WaRpeN35m3Yz",
    "outputId": "6af63a1d-7070-4895-c0fa-7dc1850c7dc2"
   },
   "source": [
    "for stavka in lichnosti.items():\n",
    "  print(stavka[1])"
   ],
   "execution_count": 278,
   "outputs": [
    {
     "output_type": "stream",
     "name": "stdout",
     "text": [
      "Stefan\n",
      "Ivana\n",
      "Kalin\n"
     ]
    }
   ]
  },
  {
   "cell_type": "markdown",
   "metadata": {
    "id": "RKznXRt1vvpM"
   },
   "source": [
    "Да се повторни претходната задача, така што, откако ќе се изминат сите елементи, ќе се испечати kraj како дел од наредбата for."
   ]
  },
  {
   "cell_type": "code",
   "metadata": {
    "colab": {
     "base_uri": "https://localhost:8080/"
    },
    "id": "vacEK-0vox5P",
    "outputId": "01e8fc65-13d1-4162-8e04-8ede5c0d22f7"
   },
   "source": [
    "\n",
    "for stavka in lichnosti.items():\n",
    "  print(stavka[1])\n",
    "else:\n",
    "  print(\"kraj na rechnik\")\n"
   ],
   "execution_count": 279,
   "outputs": [
    {
     "output_type": "stream",
     "name": "stdout",
     "text": [
      "Stefan\n",
      "Ivana\n",
      "Kalin\n",
      "kraj na rechnik\n"
     ]
    }
   ]
  },
  {
   "cell_type": "markdown",
   "metadata": {
    "id": "y8tfstKkv417"
   },
   "source": [
    "Да се напише кратка програма користејќи ја наредбата for која за дадена листа од позитивни и негативни броеви ќе ги испечати само позитивните броеви и ќе ги прескокне сите преостанати наредби. Програмата треба да излезе од јамката ако во листата се сретне вредносто 0. "
   ]
  },
  {
   "cell_type": "code",
   "metadata": {
    "colab": {
     "base_uri": "https://localhost:8080/"
    },
    "id": "NNKP972aq2q3",
    "outputId": "5c6c1684-44c0-4028-cb30-a3848754e998"
   },
   "source": [
    "broevi = [1, -3, 4, -9, 0, 5 -1, 4]\n",
    "for x in broevi:\n",
    "  if x < 0 :\n",
    "    continue\n",
    "  if x == 0:\n",
    "    break\n",
    "  print(x)"
   ],
   "execution_count": 280,
   "outputs": [
    {
     "output_type": "stream",
     "name": "stdout",
     "text": [
      "1\n",
      "4\n"
     ]
    }
   ]
  },
  {
   "cell_type": "markdown",
   "metadata": {
    "id": "84ZVttPHwOwr"
   },
   "source": [
    "Да се напише крактка програма користејќи ја наредбата while која ќе испечати листа од остатоци при делење со 3 на броевите од 0 до 9."
   ]
  },
  {
   "cell_type": "code",
   "metadata": {
    "colab": {
     "base_uri": "https://localhost:8080/"
    },
    "id": "UzwDdXGCtRy5",
    "outputId": "b5cef098-ed3e-4a60-945c-27aa3453a9b5"
   },
   "source": [
    "x, ostatok3 = 0, []   \n",
    "while x < 10:\n",
    "  x += 1\n",
    "  ostatok3.append(x % 3) \n",
    "print(ostatok3)"
   ],
   "execution_count": 281,
   "outputs": [
    {
     "output_type": "stream",
     "name": "stdout",
     "text": [
      "[1, 2, 0, 1, 2, 0, 1, 2, 0, 1]\n"
     ]
    }
   ]
  },
  {
   "cell_type": "markdown",
   "metadata": {
    "id": "vKLPhGmOC_zf"
   },
   "source": [
    "#Comprehension (разбирање)"
   ]
  },
  {
   "cell_type": "markdown",
   "metadata": {
    "id": "V0KT4RI6wZlP"
   },
   "source": [
    "Да се креираат листа, множество и речник кои ќе ги содржат квадратите на опсегот од 0 до 6 со помош на разбирање (comprehension)."
   ]
  },
  {
   "cell_type": "code",
   "metadata": {
    "colab": {
     "base_uri": "https://localhost:8080/"
    },
    "id": "rp4zb5EjETHZ",
    "outputId": "03669592-b830-44e2-cd7a-4b1d38c5b72c"
   },
   "source": [
    "lista = [x ** 2 for x in range(7) ]\n",
    "mnozhestvo = {x ** 2 for x in range(7) }\n",
    "rechnik ={x:x ** 2 for x in range(7) }\n",
    "print(lista)\n",
    "print(mnozhestvo)\n",
    "print(rechnik)"
   ],
   "execution_count": 282,
   "outputs": [
    {
     "output_type": "stream",
     "name": "stdout",
     "text": [
      "[0, 1, 4, 9, 16, 25, 36]\n",
      "{0, 1, 4, 36, 9, 16, 25}\n",
      "{0: 0, 1: 1, 2: 4, 3: 9, 4: 16, 5: 25, 6: 36}\n"
     ]
    }
   ]
  },
  {
   "cell_type": "markdown",
   "metadata": {
    "id": "35J-nxX-wlFp"
   },
   "source": [
    "Со користење на разбирање, да се креира листа која ќе се состои од апсолутните вредности на негативните броеви од произволна изворлна листа од цели броеви."
   ]
  },
  {
   "cell_type": "code",
   "metadata": {
    "colab": {
     "base_uri": "https://localhost:8080/"
    },
    "id": "HMT3fjzADF33",
    "outputId": "c9c50df2-d28e-4240-ed4f-cb147fa888ab"
   },
   "source": [
    "broevi = [1, -3, 4, -9, 0, 5, -2, 4]\n",
    "negativni_abs = [-x for x in broevi if x < 0]\n",
    "print(negativni_abs)"
   ],
   "execution_count": 283,
   "outputs": [
    {
     "output_type": "stream",
     "name": "stdout",
     "text": [
      "[3, 9, 2]\n"
     ]
    }
   ]
  },
  {
   "cell_type": "markdown",
   "metadata": {
    "id": "bt8jatC4wzhd"
   },
   "source": [
    "Со користење на разбирање, да се креира листа која од текстуланите елементи на произволна изворна листа (со елементи од секаков тип) ќе ги испечати само првите знаци со мала буква на елементите со должина поголема од 1 или оригиналниот знак во спротивно."
   ]
  },
  {
   "cell_type": "code",
   "metadata": {
    "colab": {
     "base_uri": "https://localhost:8080/"
    },
    "id": "28sE_TlJIBMk",
    "outputId": "fb72e7b0-fe8b-4c3e-c479-29a9abe28caa"
   },
   "source": [
    "niza = [2, -3, 'Sa', 5, 'c', (2, 3), '*t', 4]\n",
    "pozitivni = [(x[0].lower() if len(x) > 1 else x) for x in niza if type(x)==str]\n",
    "print(pozitivni)"
   ],
   "execution_count": 284,
   "outputs": [
    {
     "output_type": "stream",
     "name": "stdout",
     "text": [
      "['s', 'c', '*']\n"
     ]
    }
   ]
  },
  {
   "cell_type": "markdown",
   "metadata": {
    "id": "D7hjVRduPcJi"
   },
   "source": [
    "#Функции"
   ]
  },
  {
   "cell_type": "markdown",
   "metadata": {
    "id": "6TUdSbv2xQ0S"
   },
   "source": [
    "Да се дефинира функција која ќе печати дали влезниот аргумент е прост број или не (деллив само со 1 и самиот со себе). Потоа, да се повика функијцата со неколку различни вредности за влезниот аргумент."
   ]
  },
  {
   "cell_type": "code",
   "metadata": {
    "colab": {
     "base_uri": "https://localhost:8080/"
    },
    "id": "H0V4JAu0PdoL",
    "outputId": "52b64b11-b055-4969-f07a-d8162bee4940"
   },
   "source": [
    "def prost(x):\n",
    "  if x == 1 : return True\n",
    "  for i in range(2, x // 2 + 1, 1):\n",
    "    if x % i == 0:\n",
    "      return False\n",
    "  return True\n",
    "print(prost(5))\n",
    "print(prost(4))\n"
   ],
   "execution_count": 285,
   "outputs": [
    {
     "output_type": "stream",
     "name": "stdout",
     "text": [
      "True\n",
      "False\n"
     ]
    }
   ]
  },
  {
   "cell_type": "markdown",
   "metadata": {
    "id": "ch9fU6Prxc2b"
   },
   "source": [
    "Да се дефинира функција која како влез добива нумеричка листа, а како излез враќа торка со минималниот и максималниот елемент на листата. Да повика функцијата со произволна листа како влезен аргумент. "
   ]
  },
  {
   "cell_type": "code",
   "metadata": {
    "colab": {
     "base_uri": "https://localhost:8080/"
    },
    "id": "LZXfuIxdcUle",
    "outputId": "40820abd-a403-4a5e-a75d-c72a8fc8cc21"
   },
   "source": [
    "\n",
    "def min_max(lista):\n",
    "  return min(lista), max(lista)\n",
    "xmin, xmax = min_max([5, 15, 2, 6, 7, 4])\n",
    "print(xmin, xmax)\n",
    "\n"
   ],
   "execution_count": 286,
   "outputs": [
    {
     "output_type": "stream",
     "name": "stdout",
     "text": [
      "2 15\n"
     ]
    }
   ]
  },
  {
   "cell_type": "code",
   "metadata": {
    "id": "r9f4bn1_cTDW"
   },
   "source": [],
   "execution_count": 286,
   "outputs": []
  },
  {
   "cell_type": "markdown",
   "metadata": {
    "id": "ETXiQwmEwCq-"
   },
   "source": [
    "#Класи и објекти"
   ]
  },
  {
   "cell_type": "markdown",
   "metadata": {
    "id": "Kxnz28_JxrLF"
   },
   "source": [
    "Да се дефинира класа испит со глобален атрибута kandidati и атрибути ime, sesija и oceni (речник со клуч индекс и вредност оцена). Да се дефинира конструктор кој ќе ја ажурира вредноста на сите кандидати од сите испити. Да се дефинира метод pechati кој ќе го печати името, сесијата и бројот на кандидати за испитот, како и сите кандидати од сите испити. Да се дефинира метод vnesi_ocena кој како влезен аргумент прима речник од индекси и оцени. Методот треба да ја ажурира оцената и бројот на кандидати за сите испити. Да се дефинира метод listaj_polozheni кој ќе ги печати индексите и оцените на сите положени кандидати. Да се направат две инстанци од класата кои ќе ги повикуваат дефинираните методи."
   ]
  },
  {
   "cell_type": "code",
   "metadata": {
    "colab": {
     "base_uri": "https://localhost:8080/"
    },
    "id": "EaU1eAUXwEvq",
    "outputId": "af89563a-b60a-4e46-d76e-7b3ad112bd3d"
   },
   "source": [
    "class Ispit:\n",
    "  kandidati = 0\n",
    "  def __init__(self, ime, sesija, oceni):\n",
    "    self.ime = ime\n",
    "    self.sesija = sesija\n",
    "    self.oceni = oceni\n",
    "    Ispit.kandidati += len(oceni)\n",
    "  def pechati(self):\n",
    "    print(\"Ispitot '{0}' vo {1} sesija ima {2} od vkupno {3} kandidati.\".format(self.ime, self.sesija, len(self.oceni), Ispit.kandidati))\n",
    "  def vnesi_ocena(self, indeks, ocena):\n",
    "    Ispit.kandidati -= len(self.oceni)\n",
    "    self.oceni.update({indeks:ocena})\n",
    "    Ispit.kandidati += len(self.oceni)\n",
    "  def listaj_polozheni(self):\n",
    "    for ocena in self.oceni.items():\n",
    "      if ocena[1] > 5 : print(ocena[0],ocena[1])\n",
    "ispit1 = Ispit(\"Osnovi na Python\", \"septemvriska\", {12451:5, 12557:8})\n",
    "ispit1.vnesi_ocena(163312,10)\n",
    "ispit1.pechati()\n",
    "ispit1.listaj_polozheni()\n",
    "ispit2 = Ispit(\"Napreden Python\", \"septemvriska\", {32991:6, 32300:9})\n",
    "ispit2.pechati()\n"
   ],
   "execution_count": 287,
   "outputs": [
    {
     "output_type": "stream",
     "name": "stdout",
     "text": [
      "Ispitot 'Osnovi na Python' vo septemvriska sesija ima 3 od vkupno 3 kandidati.\n",
      "12557 8\n",
      "163312 10\n",
      "Ispitot 'Napreden Python' vo septemvriska sesija ima 2 od vkupno 5 kandidati.\n"
     ]
    }
   ]
  },
  {
   "cell_type": "markdown",
   "metadata": {
    "id": "KCzDRt42-Ux3"
   },
   "source": [
    "#Модули"
   ]
  },
  {
   "cell_type": "markdown",
   "metadata": {
    "id": "u-pdNWTIywXL"
   },
   "source": [
    "Да се импоритра модулот math."
   ]
  },
  {
   "cell_type": "code",
   "metadata": {
    "colab": {
     "base_uri": "https://localhost:8080/"
    },
    "id": "gOkBaIHNGRPv",
    "outputId": "c35b02fa-4ff4-46ce-caba-2d5bc561e001"
   },
   "source": [
    "import math\n",
    "print(math.sqrt(16))"
   ],
   "execution_count": 288,
   "outputs": [
    {
     "output_type": "stream",
     "name": "stdout",
     "text": [
      "4.0\n"
     ]
    }
   ]
  },
  {
   "cell_type": "markdown",
   "metadata": {
    "id": "_dQRyPeOy4MU"
   },
   "source": [
    "Да се импоритра модулот math, но да се пристапува до неговите класи и методи преку името m."
   ]
  },
  {
   "cell_type": "markdown",
   "metadata": {
    "id": "cgfou_8ly1ex"
   },
   "source": []
  },
  {
   "cell_type": "code",
   "metadata": {
    "colab": {
     "base_uri": "https://localhost:8080/"
    },
    "id": "zFwmZ1ftGiJ3",
    "outputId": "4733e065-328f-4669-dde1-3a981f789987"
   },
   "source": [
    "import math as m\n",
    "print(m.sqrt(18))"
   ],
   "execution_count": 289,
   "outputs": [
    {
     "output_type": "stream",
     "name": "stdout",
     "text": [
      "4.242640687119285\n"
     ]
    }
   ]
  },
  {
   "cell_type": "markdown",
   "metadata": {
    "id": "lFdwy4YXy_Pl"
   },
   "source": [
    "Да се импоритра модулот math, но да се пристапува до неговите методи sqrte, degrees и својстовот pi директно, без да се наведува името (или скратеното име) на модулот."
   ]
  },
  {
   "cell_type": "code",
   "metadata": {
    "colab": {
     "base_uri": "https://localhost:8080/"
    },
    "id": "0lKwkqODCrId",
    "outputId": "0bcf205a-4608-46c7-f78a-52bd915d4fb5"
   },
   "source": [
    "from math import sqrt, degrees, pi\n",
    "print(sqrt(3))\n",
    "print(degrees(pi))"
   ],
   "execution_count": 290,
   "outputs": [
    {
     "output_type": "stream",
     "name": "stdout",
     "text": [
      "1.7320508075688772\n",
      "180.0\n"
     ]
    }
   ]
  },
  {
   "cell_type": "markdown",
   "metadata": {
    "id": "LLwP2WOOL4Sb"
   },
   "source": [
    "#Датотеки"
   ]
  },
  {
   "cell_type": "markdown",
   "metadata": {
    "id": "Gk6juw8hzM3o"
   },
   "source": [
    "Да се отвоир датотека за запишување со име dat.txt и да се внесат два реда текст. Подоа, датотеката да се затвори."
   ]
  },
  {
   "cell_type": "code",
   "metadata": {
    "id": "8P3y190TL6aO"
   },
   "source": [
    "f = open(\"dat.txt\", \"w\")\n",
    "f.write(\"Vezhba za kursot Python \\n za osnovni podatoci\")\n",
    "f.close()"
   ],
   "execution_count": 291,
   "outputs": []
  },
  {
   "cell_type": "markdown",
   "metadata": {
    "id": "Oiib2sqzzl98"
   },
   "source": [
    "Да се отвори претходната датотека за читање. Потоа да се прочитаат 4 знаци, да се врати индексот на тековната позиција, да се прочитаат сите преостанати знаци, да се врати покажувачот на почетокот и да се прочитаат сите линии. На крајот, датотеката да се затвори. "
   ]
  },
  {
   "cell_type": "code",
   "metadata": {
    "colab": {
     "base_uri": "https://localhost:8080/"
    },
    "id": "8QLSUD4XNK9C",
    "outputId": "f955f446-e13d-4b24-faaf-eb5d6a35c099"
   },
   "source": [
    "f = open(\"dat.txt\")\n",
    "print(f.read(4)) # prochitaj 4 znaci\n",
    "print(f.tell())  # vrati ja tekovnota pozicija\n",
    "print(f.read())  # prochitaj gi site ostanati znaci\n",
    "f.seek(0)        # postavi ja tekovnata pozcija na pochetok\n",
    "print(f.readlines()) # prochitaj gi site linii\n",
    "f.close()        # zatvori ja datotekata"
   ],
   "execution_count": 292,
   "outputs": [
    {
     "output_type": "stream",
     "name": "stdout",
     "text": [
      "Vezh\n",
      "4\n",
      "ba za kursot Python \n",
      " za osnovni podatoci\n",
      "['Vezhba za kursot Python \\n', ' za osnovni podatoci']\n"
     ]
    }
   ]
  },
  {
   "cell_type": "markdown",
   "metadata": {
    "id": "0FC17lOhzoWe"
   },
   "source": [
    "Да се измине и испечати секоја линија од датотеката dat.txt."
   ]
  },
  {
   "cell_type": "code",
   "metadata": {
    "colab": {
     "base_uri": "https://localhost:8080/"
    },
    "id": "yzkJQZ8JMl-N",
    "outputId": "8429e102-5e45-4278-a664-507c26a5f515"
   },
   "source": [
    "f = open(\"dat.txt\")\n",
    "for linija in f:\n",
    "  print(linija)\n",
    "f.close()"
   ],
   "execution_count": 293,
   "outputs": [
    {
     "output_type": "stream",
     "name": "stdout",
     "text": [
      "Vezhba za kursot Python \n",
      "\n",
      " za osnovni podatoci\n"
     ]
    }
   ]
  },
  {
   "cell_type": "markdown",
   "metadata": {
    "id": "2wroKDTfzuNs"
   },
   "source": [
    "Да се измине и испечати секоја линија од датотеката dat.txt без на крајот да има потреба од експлицитно затворање на датотеката."
   ]
  },
  {
   "cell_type": "code",
   "metadata": {
    "colab": {
     "base_uri": "https://localhost:8080/"
    },
    "id": "UMgKXnvjXJzN",
    "outputId": "79ecbc68-9781-46cb-8408-8f5e827fb080"
   },
   "source": [
    "with open(\"dat.txt\") as f:\n",
    "  print(f.read())"
   ],
   "execution_count": 294,
   "outputs": [
    {
     "output_type": "stream",
     "name": "stdout",
     "text": [
      "Vezhba za kursot Python \n",
      " za osnovni podatoci\n"
     ]
    }
   ]
  },
  {
   "cell_type": "markdown",
   "metadata": {
    "id": "NmKnDMDpadNc"
   },
   "source": [
    "#Влез и излез"
   ]
  },
  {
   "cell_type": "markdown",
   "metadata": {
    "id": "Arrjk_K1z03Y"
   },
   "source": [
    "Да се напише кратка програма која ќе испечати порака за внес на податоци и потоа ќе ги испечати внесените податоци."
   ]
  },
  {
   "cell_type": "code",
   "metadata": {
    "id": "QJdKWvtGafeg",
    "colab": {
     "base_uri": "https://localhost:8080/"
    },
    "outputId": "5d9f5dfb-3a13-49b9-90c8-bdc9f1bda771"
   },
   "source": [
    "vnes = input(\"Vnesete go vasheto ime:\\n\")\n",
    "print('vasheto ime e ', vnes)"
   ],
   "execution_count": 295,
   "outputs": [
    {
     "output_type": "stream",
     "name": "stdout",
     "text": [
      "Vnesete go vasheto ime:\n",
      "Vele\n",
      "vasheto ime e  Vele\n"
     ]
    }
   ]
  },
  {
   "cell_type": "markdown",
   "metadata": {
    "id": "QdsNUs3Kz9J2"
   },
   "source": [
    "Да се испечатат четири различни вредности користејќи ја синтаксата за форматироано печатење."
   ]
  },
  {
   "cell_type": "code",
   "metadata": {
    "colab": {
     "base_uri": "https://localhost:8080/"
    },
    "id": "GB9ZUtkXiDyd",
    "outputId": "66a42141-ecaa-40ff-b20a-cdd7b03dbd75"
   },
   "source": [
    "print(\"Pechatenje na chetiri vrednosti: {}, {}, {} i {}\".format(1.1, 11, \"tekts\", False))"
   ],
   "execution_count": 296,
   "outputs": [
    {
     "output_type": "stream",
     "name": "stdout",
     "text": [
      "Pechatenje na chetiri vrednosti: 1.1, 11, tekts i False\n"
     ]
    }
   ]
  },
  {
   "cell_type": "markdown",
   "metadata": {
    "id": "T3Wm785d0DRm"
   },
   "source": [
    "Да се испечатат четири различни вредности користејќи ја синтаксата за форматироано печатење со индекси."
   ]
  },
  {
   "cell_type": "code",
   "metadata": {
    "colab": {
     "base_uri": "https://localhost:8080/"
    },
    "id": "TpTo6ek3kPCj",
    "outputId": "42e0603c-5526-47cf-ab39-ac704d26e385"
   },
   "source": [
    "print(\"Indkesirano pechatenje na vrednostite: {3}, {2}, {1} i {0}\".format(1.1, 11, \"tekts\", False))"
   ],
   "execution_count": 297,
   "outputs": [
    {
     "output_type": "stream",
     "name": "stdout",
     "text": [
      "Indkesirano pechatenje na vrednostite: False, tekts, 11 i 1.1\n"
     ]
    }
   ]
  },
  {
   "cell_type": "markdown",
   "metadata": {
    "id": "p-nvDvUo0G2v"
   },
   "source": [
    "Да се испечаи содржината на цела вредност користејќи 4 места и содржината на децимална вредност со вкупно 8 цифри од кои 6 се децимални."
   ]
  },
  {
   "cell_type": "code",
   "metadata": {
    "id": "5j5Ryw0LgTTV",
    "colab": {
     "base_uri": "https://localhost:8080/"
    },
    "outputId": "89c72743-2030-46fa-8329-92a924437bad"
   },
   "source": [
    "print(\"\"\"Formatirano pechatenje na \n",
    "cel broj so 4 cifri: {:4d},\n",
    "decimalen broj so vkupno 8 cifri, od koi 6 decimalni: {:8.6f} \"\"\".format(123, 11.1))"
   ],
   "execution_count": 298,
   "outputs": [
    {
     "output_type": "stream",
     "name": "stdout",
     "text": [
      "Formatirano pechatenje na \n",
      "cel broj so 4 cifri:  123,\n",
      "decimalen broj so vkupno 8 cifri, od koi 6 decimalni: 11.100000 \n"
     ]
    }
   ]
  },
  {
   "cell_type": "code",
   "metadata": {
    "id": "k33P-ZlMkMcz"
   },
   "source": [],
   "execution_count": 298,
   "outputs": []
  },
  {
   "cell_type": "markdown",
   "metadata": {
    "id": "QcUQhQYn0nqx"
   },
   "source": [
    "#Справување со грешки"
   ]
  },
  {
   "cell_type": "markdown",
   "metadata": {
    "id": "7-Z0mewf0ZdU"
   },
   "source": [
    "Да се напише програма која ќе го испечати количниот од 100 и произволна вредност внесена од корисникот така што ќе биде земено во предвид справувањето со невалидни вредности за операцијата делење."
   ]
  },
  {
   "cell_type": "code",
   "metadata": {
    "id": "QN1UEJKK1FLB",
    "colab": {
     "base_uri": "https://localhost:8080/"
    },
    "outputId": "2e3c5d86-3cce-454a-c8cf-d50e66b61fbd"
   },
   "source": [
    "x = input(\"Vnesete broj (0 za greshka):\\n\")\n",
    "try:\n",
    "  print(\"{}/{} = {}\".format(y,x, 100 / int(x)));\n",
    "except:\n",
    "  print(\"vnesenata vrednst ne e validna\")\n"
   ],
   "execution_count": 299,
   "outputs": [
    {
     "output_type": "stream",
     "name": "stdout",
     "text": [
      "Vnesete broj (0 za greshka):\n",
      "0\n",
      "vnesenata vrednst ne e validna\n"
     ]
    }
   ]
  }
 ]
}
