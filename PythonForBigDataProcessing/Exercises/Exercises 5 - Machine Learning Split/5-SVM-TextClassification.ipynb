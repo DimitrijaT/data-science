{
 "cells": [
  {
   "cell_type": "markdown",
   "source": [
    "# Вежба 5: Користење на SVM за класификација на текст"
   ],
   "metadata": {
    "collapsed": false
   },
   "id": "5e8ed1378ed94f9d"
  },
  {
   "cell_type": "markdown",
   "source": [
    "Ќе користиме готово податочно множество кое го нуди scikit-learn. Ќе го користиме модулот fetch_20newsgroups модулот за да ги добиеме податоците. Множеството содржи околу 20000 инстанци кои се распределени во 20 категории"
   ],
   "metadata": {
    "collapsed": false
   },
   "id": "54e981e71dfceb7d"
  },
  {
   "cell_type": "code",
   "execution_count": 1,
   "outputs": [],
   "source": [
    "from sklearn.datasets import fetch_20newsgroups\n",
    "\n",
    "twenty_train = fetch_20newsgroups(subset='train', shuffle=True)"
   ],
   "metadata": {
    "collapsed": false,
    "ExecuteTime": {
     "end_time": "2023-12-02T17:46:15.764162500Z",
     "start_time": "2023-12-02T17:46:12.096979600Z"
    }
   },
   "id": "f730e741c7fa925e"
  },
  {
   "cell_type": "markdown",
   "source": [
    "twent_train претставува речник и со помош на следната наредба ги добиваме клучевите на овој речник. Документите се наоѓаат во data клучот, додека пак, категориите на секој документ се наоѓаат во target_names (ова се лабелите или y променливата)"
   ],
   "metadata": {
    "collapsed": false
   },
   "id": "30326a56aaa95d56"
  },
  {
   "cell_type": "code",
   "execution_count": 2,
   "outputs": [
    {
     "data": {
      "text/plain": "dict_keys(['data', 'filenames', 'target_names', 'target', 'DESCR'])"
     },
     "execution_count": 2,
     "metadata": {},
     "output_type": "execute_result"
    }
   ],
   "source": [
    "twenty_train.keys()"
   ],
   "metadata": {
    "collapsed": false,
    "ExecuteTime": {
     "end_time": "2023-12-02T17:46:48.644520100Z",
     "start_time": "2023-12-02T17:46:48.561600800Z"
    }
   },
   "id": "fcf35250c35653c6"
  },
  {
   "cell_type": "markdown",
   "source": [
    "Да видиме како изгледа текстот за еден документ. Станува збор за мејл поврзан со возила\n",
    "\n",
    "---\n",
    "\n"
   ],
   "metadata": {
    "collapsed": false
   },
   "id": "4cd50fb9efa33770"
  },
  {
   "cell_type": "code",
   "execution_count": 3,
   "outputs": [
    {
     "name": "stdout",
     "output_type": "stream",
     "text": [
      "From: lerxst@wam.umd.edu (where's my thing)\n",
      "Subject: WHAT car is this!?\n",
      "Nntp-Posting-Host: rac3.wam.umd.edu\n",
      "Organization: University of Maryland, College Park\n",
      "Lines: 15\n",
      "\n",
      " I was wondering if anyone out there could enlighten me on this car I saw\n",
      "the other day. It was a 2-door sports car, looked to be from the late 60s/\n",
      "early 70s. It was called a Bricklin. The doors were really small. In addition,\n",
      "the front bumper was separate from the rest of the body. This is \n",
      "all I know. If anyone can tellme a model name, engine specs, years\n",
      "of production, where this car is made, history, or whatever info you\n",
      "have on this funky looking car, please e-mail.\n",
      "\n",
      "Thanks,\n",
      "- IL\n",
      "   ---- brought to you by your neighborhood Lerxst ----\n",
      "\n",
      "\n",
      "\n"
     ]
    }
   ],
   "source": [
    "print(twenty_train.data[0])"
   ],
   "metadata": {
    "collapsed": false,
    "ExecuteTime": {
     "end_time": "2023-12-02T17:47:13.320495400Z",
     "start_time": "2023-12-02T17:47:13.298126700Z"
    }
   },
   "id": "d5a14f28589f56cb"
  },
  {
   "cell_type": "markdown",
   "source": [
    "Сега да ги видиме 20-те категории"
   ],
   "metadata": {
    "collapsed": false
   },
   "id": "3af484b8ded65f4c"
  },
  {
   "cell_type": "code",
   "execution_count": 4,
   "outputs": [
    {
     "data": {
      "text/plain": "['alt.atheism',\n 'comp.graphics',\n 'comp.os.ms-windows.misc',\n 'comp.sys.ibm.pc.hardware',\n 'comp.sys.mac.hardware',\n 'comp.windows.x',\n 'misc.forsale',\n 'rec.autos',\n 'rec.motorcycles',\n 'rec.sport.baseball',\n 'rec.sport.hockey',\n 'sci.crypt',\n 'sci.electronics',\n 'sci.med',\n 'sci.space',\n 'soc.religion.christian',\n 'talk.politics.guns',\n 'talk.politics.mideast',\n 'talk.politics.misc',\n 'talk.religion.misc']"
     },
     "execution_count": 4,
     "metadata": {},
     "output_type": "execute_result"
    }
   ],
   "source": [
    "twenty_train.target_names"
   ],
   "metadata": {
    "collapsed": false,
    "ExecuteTime": {
     "end_time": "2023-12-02T17:47:44.185118900Z",
     "start_time": "2023-12-02T17:47:44.107063800Z"
    }
   },
   "id": "59b047a838a41956"
  },
  {
   "cell_type": "markdown",
   "source": [
    "Нашата категорична y зависна променлива треба да се изрази во нумеричка форма. За таа цел го имаме target клучот од речникот"
   ],
   "metadata": {
    "collapsed": false
   },
   "id": "1df85932fc477d2b"
  },
  {
   "cell_type": "code",
   "execution_count": 5,
   "outputs": [
    {
     "data": {
      "text/plain": "array([7, 4, 4, ..., 3, 1, 8])"
     },
     "execution_count": 5,
     "metadata": {},
     "output_type": "execute_result"
    }
   ],
   "source": [
    "twenty_train.target"
   ],
   "metadata": {
    "collapsed": false,
    "ExecuteTime": {
     "end_time": "2023-12-02T17:48:13.124328Z",
     "start_time": "2023-12-02T17:48:13.102717100Z"
    }
   },
   "id": "12c04e34212d4035"
  },
  {
   "cell_type": "markdown",
   "source": [
    "## CountVectorizer"
   ],
   "metadata": {
    "collapsed": false
   },
   "id": "429dd3c8b0ddf8fa"
  },
  {
   "cell_type": "markdown",
   "source": [
    "Секој документ е во текстуален формат и секој документ има потреба да се претстави во нумеричка форма. Ја прикажуваме големината на добиената sparse матрица."
   ],
   "metadata": {
    "collapsed": false
   },
   "id": "b1ca5446c464b8f0"
  },
  {
   "cell_type": "code",
   "execution_count": 7,
   "outputs": [
    {
     "data": {
      "text/plain": "(11314, 130107)"
     },
     "execution_count": 7,
     "metadata": {},
     "output_type": "execute_result"
    }
   ],
   "source": [
    "from sklearn.feature_extraction.text import CountVectorizer\n",
    "\n",
    "count_vect = CountVectorizer()\n",
    "\n",
    "X_train_counts = count_vect.fit_transform(twenty_train.data)\n",
    "X_train_counts.shape"
   ],
   "metadata": {
    "collapsed": false,
    "ExecuteTime": {
     "end_time": "2023-12-02T17:53:46.522359500Z",
     "start_time": "2023-12-02T17:53:44.413375300Z"
    }
   },
   "id": "19ddd7f8462fb771"
  },
  {
   "cell_type": "markdown",
   "source": [
    "Со следнава наредба го прикажуваме бројот на појавувања на секој збор во секој документ и тоа во следниов формат:\n",
    "(ID на документ, ID на збор)   Број на појавувања"
   ],
   "metadata": {
    "collapsed": false
   },
   "id": "336bfd3e30da0712"
  },
  {
   "cell_type": "code",
   "execution_count": 8,
   "outputs": [
    {
     "name": "stdout",
     "output_type": "stream",
     "text": [
      "  (0, 56979)\t3\n",
      "  (0, 75358)\t2\n",
      "  (0, 123162)\t2\n",
      "  (0, 118280)\t2\n",
      "  (0, 50527)\t2\n",
      "  (0, 124031)\t2\n",
      "  (0, 85354)\t1\n",
      "  (0, 114688)\t1\n",
      "  (0, 111322)\t1\n",
      "  (0, 123984)\t1\n",
      "  (0, 37780)\t5\n",
      "  (0, 68532)\t3\n",
      "  (0, 114731)\t5\n",
      "  (0, 87620)\t1\n",
      "  (0, 95162)\t1\n",
      "  (0, 64095)\t1\n",
      "  (0, 98949)\t1\n",
      "  (0, 90379)\t1\n",
      "  (0, 118983)\t1\n",
      "  (0, 89362)\t3\n",
      "  (0, 79666)\t1\n",
      "  (0, 40998)\t1\n",
      "  (0, 92081)\t1\n",
      "  (0, 76032)\t1\n",
      "  (0, 4605)\t1\n",
      "  :\t:\n",
      "  (0, 37565)\t1\n",
      "  (0, 113986)\t1\n",
      "  (0, 83256)\t1\n",
      "  (0, 86001)\t1\n",
      "  (0, 51730)\t1\n",
      "  (0, 109271)\t1\n",
      "  (0, 128026)\t1\n",
      "  (0, 96144)\t1\n",
      "  (0, 78784)\t1\n",
      "  (0, 63363)\t1\n",
      "  (0, 90252)\t1\n",
      "  (0, 123989)\t1\n",
      "  (0, 67156)\t1\n",
      "  (0, 128402)\t2\n",
      "  (0, 62221)\t1\n",
      "  (0, 57308)\t1\n",
      "  (0, 76722)\t1\n",
      "  (0, 94362)\t1\n",
      "  (0, 78955)\t1\n",
      "  (0, 114428)\t1\n",
      "  (0, 66098)\t1\n",
      "  (0, 35187)\t1\n",
      "  (0, 35983)\t1\n",
      "  (0, 128420)\t1\n",
      "  (0, 86580)\t1\n"
     ]
    }
   ],
   "source": [
    "print(X_train_counts[0])"
   ],
   "metadata": {
    "collapsed": false,
    "ExecuteTime": {
     "end_time": "2023-12-02T17:53:53.096629500Z",
     "start_time": "2023-12-02T17:53:53.080807400Z"
    }
   },
   "id": "d619de5539072338"
  },
  {
   "cell_type": "markdown",
   "source": [
    "## CountVectorizer + TfidfTransformer == TfidfVectorizer"
   ],
   "metadata": {
    "collapsed": false
   },
   "id": "75ea5d2db133a66d"
  },
  {
   "cell_type": "markdown",
   "source": [
    "Излезот од CountVectorizer го праќаме како влез на TfidfTransformer. TfidfTransformer е различно од TfidfVectorizer. TfidfVectorizer работи на самиот документ и директно креира вредност за секој (ID на документ, ID на збор) пар. Додека пак, TfidfTransformer бара на влез вреќа од зборови (што е всушност излезот од CountVectorizer)\n",
    "Односно:\n",
    "CountVectorizer + TfidfTransformer == TfidfVectorizer"
   ],
   "metadata": {
    "collapsed": false
   },
   "id": "f231d5623063699d"
  },
  {
   "cell_type": "code",
   "execution_count": 11,
   "outputs": [
    {
     "data": {
      "text/plain": "(11314, 130107)"
     },
     "execution_count": 11,
     "metadata": {},
     "output_type": "execute_result"
    }
   ],
   "source": [
    "from sklearn.feature_extraction.text import TfidfTransformer\n",
    "\n",
    "tfidf_transformer = TfidfTransformer()\n",
    "\n",
    "X_train_tfidf = tfidf_transformer.fit_transform(X_train_counts)\n",
    "X_train_tfidf.shape"
   ],
   "metadata": {
    "collapsed": false,
    "ExecuteTime": {
     "end_time": "2023-12-02T17:57:45.093939600Z",
     "start_time": "2023-12-02T17:57:45.009066300Z"
    }
   },
   "id": "fad6e68203894b70"
  },
  {
   "cell_type": "markdown",
   "source": [
    "Да ги видиме вредностите за првиот документ"
   ],
   "metadata": {
    "collapsed": false
   },
   "id": "85f0072a529d8bad"
  },
  {
   "cell_type": "code",
   "execution_count": 12,
   "outputs": [
    {
     "name": "stdout",
     "output_type": "stream",
     "text": [
      "  (0, 128420)\t0.04278499079283093\n",
      "  (0, 128402)\t0.05922294083277842\n",
      "  (0, 128026)\t0.060622095889758885\n",
      "  (0, 124931)\t0.08882569909852546\n",
      "  (0, 124031)\t0.10798795154169122\n",
      "  (0, 123989)\t0.08207027465330353\n",
      "  (0, 123984)\t0.036854292634593756\n",
      "  (0, 123796)\t0.049437556160455476\n",
      "  (0, 123292)\t0.14534718515938805\n",
      "  (0, 123162)\t0.2597090245735688\n",
      "  (0, 118983)\t0.037085978050619146\n",
      "  (0, 118280)\t0.2118680720828169\n",
      "  (0, 115475)\t0.042472629883573\n",
      "  (0, 114731)\t0.14447275512784058\n",
      "  (0, 114688)\t0.06214070986309586\n",
      "  (0, 114579)\t0.03671830826216751\n",
      "  (0, 114455)\t0.12287762616208957\n",
      "  (0, 114428)\t0.05511105154696676\n",
      "  (0, 113986)\t0.17691750674853082\n",
      "  (0, 111322)\t0.01915671802495043\n",
      "  (0, 109581)\t0.10809248404447917\n",
      "  (0, 109271)\t0.10844724822064673\n",
      "  (0, 108252)\t0.07526015712540636\n",
      "  (0, 106116)\t0.09869734624201922\n",
      "  (0, 104813)\t0.08462829788929047\n",
      "  :\t:\n",
      "  (0, 56979)\t0.057470154074851294\n",
      "  (0, 51793)\t0.13412921037839678\n",
      "  (0, 51730)\t0.09714744057976722\n",
      "  (0, 50527)\t0.054614286588587246\n",
      "  (0, 50111)\t0.08452530453354308\n",
      "  (0, 48620)\t0.11603642565244157\n",
      "  (0, 48618)\t0.10015015488700592\n",
      "  (0, 45295)\t0.06621689096551565\n",
      "  (0, 42876)\t0.04951998622750595\n",
      "  (0, 40998)\t0.0780136819691811\n",
      "  (0, 37780)\t0.38133891259493113\n",
      "  (0, 37565)\t0.03431760442478462\n",
      "  (0, 37433)\t0.06908779999621749\n",
      "  (0, 35983)\t0.03770448563619875\n",
      "  (0, 35612)\t0.1328075333935896\n",
      "  (0, 35187)\t0.09353930598317124\n",
      "  (0, 34995)\t0.16713176431412632\n",
      "  (0, 34181)\t0.08716420445779295\n",
      "  (0, 32311)\t0.029911858621703466\n",
      "  (0, 28615)\t0.10278592160069082\n",
      "  (0, 27436)\t0.037098931990947055\n",
      "  (0, 26073)\t0.09534869974107982\n",
      "  (0, 18299)\t0.138749083899155\n",
      "  (0, 16574)\t0.14155752531572685\n",
      "  (0, 4605)\t0.06332603952480323\n"
     ]
    }
   ],
   "source": [
    "print(X_train_tfidf[0])"
   ],
   "metadata": {
    "collapsed": false,
    "ExecuteTime": {
     "end_time": "2023-12-02T17:57:47.050462600Z",
     "start_time": "2023-12-02T17:57:47.026442500Z"
    }
   },
   "id": "c95825f1bb8ca1f2"
  },
  {
   "cell_type": "markdown",
   "source": [
    "## Support Vector Classification (LinearSVC)"
   ],
   "metadata": {
    "collapsed": false
   },
   "id": "71c14ade6012e403"
  },
  {
   "cell_type": "markdown",
   "source": [
    "Инстанцираме Линеарна SVC, како функција за пенализација користиме l2 норма (Euclidean distance)\n",
    "Со параметарот tol наведуваме толеранција за стопирање на тренирањето на нашиот модел. Ако загубите кои ги пресметуваме на нашата целна функција паднат под вредноста на tol (во случајов тоа е 0.001) процесот на тренирање ќе заврши и финалниот модел ќе биде креиран"
   ],
   "metadata": {
    "collapsed": false
   },
   "id": "53d65f72d36a22e9"
  },
  {
   "cell_type": "code",
   "execution_count": 13,
   "outputs": [
    {
     "data": {
      "text/plain": "LinearSVC(dual=False, tol=0.001)",
      "text/html": "<style>#sk-container-id-1 {color: black;background-color: white;}#sk-container-id-1 pre{padding: 0;}#sk-container-id-1 div.sk-toggleable {background-color: white;}#sk-container-id-1 label.sk-toggleable__label {cursor: pointer;display: block;width: 100%;margin-bottom: 0;padding: 0.3em;box-sizing: border-box;text-align: center;}#sk-container-id-1 label.sk-toggleable__label-arrow:before {content: \"▸\";float: left;margin-right: 0.25em;color: #696969;}#sk-container-id-1 label.sk-toggleable__label-arrow:hover:before {color: black;}#sk-container-id-1 div.sk-estimator:hover label.sk-toggleable__label-arrow:before {color: black;}#sk-container-id-1 div.sk-toggleable__content {max-height: 0;max-width: 0;overflow: hidden;text-align: left;background-color: #f0f8ff;}#sk-container-id-1 div.sk-toggleable__content pre {margin: 0.2em;color: black;border-radius: 0.25em;background-color: #f0f8ff;}#sk-container-id-1 input.sk-toggleable__control:checked~div.sk-toggleable__content {max-height: 200px;max-width: 100%;overflow: auto;}#sk-container-id-1 input.sk-toggleable__control:checked~label.sk-toggleable__label-arrow:before {content: \"▾\";}#sk-container-id-1 div.sk-estimator input.sk-toggleable__control:checked~label.sk-toggleable__label {background-color: #d4ebff;}#sk-container-id-1 div.sk-label input.sk-toggleable__control:checked~label.sk-toggleable__label {background-color: #d4ebff;}#sk-container-id-1 input.sk-hidden--visually {border: 0;clip: rect(1px 1px 1px 1px);clip: rect(1px, 1px, 1px, 1px);height: 1px;margin: -1px;overflow: hidden;padding: 0;position: absolute;width: 1px;}#sk-container-id-1 div.sk-estimator {font-family: monospace;background-color: #f0f8ff;border: 1px dotted black;border-radius: 0.25em;box-sizing: border-box;margin-bottom: 0.5em;}#sk-container-id-1 div.sk-estimator:hover {background-color: #d4ebff;}#sk-container-id-1 div.sk-parallel-item::after {content: \"\";width: 100%;border-bottom: 1px solid gray;flex-grow: 1;}#sk-container-id-1 div.sk-label:hover label.sk-toggleable__label {background-color: #d4ebff;}#sk-container-id-1 div.sk-serial::before {content: \"\";position: absolute;border-left: 1px solid gray;box-sizing: border-box;top: 0;bottom: 0;left: 50%;z-index: 0;}#sk-container-id-1 div.sk-serial {display: flex;flex-direction: column;align-items: center;background-color: white;padding-right: 0.2em;padding-left: 0.2em;position: relative;}#sk-container-id-1 div.sk-item {position: relative;z-index: 1;}#sk-container-id-1 div.sk-parallel {display: flex;align-items: stretch;justify-content: center;background-color: white;position: relative;}#sk-container-id-1 div.sk-item::before, #sk-container-id-1 div.sk-parallel-item::before {content: \"\";position: absolute;border-left: 1px solid gray;box-sizing: border-box;top: 0;bottom: 0;left: 50%;z-index: -1;}#sk-container-id-1 div.sk-parallel-item {display: flex;flex-direction: column;z-index: 1;position: relative;background-color: white;}#sk-container-id-1 div.sk-parallel-item:first-child::after {align-self: flex-end;width: 50%;}#sk-container-id-1 div.sk-parallel-item:last-child::after {align-self: flex-start;width: 50%;}#sk-container-id-1 div.sk-parallel-item:only-child::after {width: 0;}#sk-container-id-1 div.sk-dashed-wrapped {border: 1px dashed gray;margin: 0 0.4em 0.5em 0.4em;box-sizing: border-box;padding-bottom: 0.4em;background-color: white;}#sk-container-id-1 div.sk-label label {font-family: monospace;font-weight: bold;display: inline-block;line-height: 1.2em;}#sk-container-id-1 div.sk-label-container {text-align: center;}#sk-container-id-1 div.sk-container {/* jupyter's `normalize.less` sets `[hidden] { display: none; }` but bootstrap.min.css set `[hidden] { display: none !important; }` so we also need the `!important` here to be able to override the default hidden behavior on the sphinx rendered scikit-learn.org. See: https://github.com/scikit-learn/scikit-learn/issues/21755 */display: inline-block !important;position: relative;}#sk-container-id-1 div.sk-text-repr-fallback {display: none;}</style><div id=\"sk-container-id-1\" class=\"sk-top-container\"><div class=\"sk-text-repr-fallback\"><pre>LinearSVC(dual=False, tol=0.001)</pre><b>In a Jupyter environment, please rerun this cell to show the HTML representation or trust the notebook. <br />On GitHub, the HTML representation is unable to render, please try loading this page with nbviewer.org.</b></div><div class=\"sk-container\" hidden><div class=\"sk-item\"><div class=\"sk-estimator sk-toggleable\"><input class=\"sk-toggleable__control sk-hidden--visually\" id=\"sk-estimator-id-1\" type=\"checkbox\" checked><label for=\"sk-estimator-id-1\" class=\"sk-toggleable__label sk-toggleable__label-arrow\">LinearSVC</label><div class=\"sk-toggleable__content\"><pre>LinearSVC(dual=False, tol=0.001)</pre></div></div></div></div></div>"
     },
     "execution_count": 13,
     "metadata": {},
     "output_type": "execute_result"
    }
   ],
   "source": [
    "from sklearn.svm import LinearSVC\n",
    "\n",
    "clf_svc = LinearSVC(penalty='l2', dual=False, tol=1e-3)\n",
    "clf_svc.fit(X_train_tfidf, twenty_train.target)"
   ],
   "metadata": {
    "collapsed": false,
    "ExecuteTime": {
     "end_time": "2023-12-02T18:00:35.589355800Z",
     "start_time": "2023-12-02T18:00:30.288699700Z"
    }
   },
   "id": "3229c956c1bb62c4"
  },
  {
   "cell_type": "markdown",
   "source": [
    "## Pipeline"
   ],
   "metadata": {
    "collapsed": false
   },
   "id": "4713a524479822a7"
  },
  {
   "cell_type": "markdown",
   "source": [
    "За да го подготвиме податочното множество потребни се низа од трансформации. Ова се постигнува со Pipeline класата каде при инстанцирање се наведуваат по редослед соодветните трансформации врз податочното множество и тоа во нашиот случај е:\n",
    "\n",
    "\n",
    "1.   Креирање на вреќа од зборови\n",
    "2.   TF-IDF трансформација на вреќата од зборови и добивање TF-IDF вредност за секој (ID на документ, ID на збор) пар\n",
    "3.   Користење на линеарен SVM модел како класификатор (LinearSVC)\n",
    "\n"
   ],
   "metadata": {
    "collapsed": false
   },
   "id": "5bba8477dfc80d12"
  },
  {
   "cell_type": "code",
   "execution_count": 14,
   "outputs": [],
   "source": [
    "from sklearn.pipeline import Pipeline\n",
    "\n",
    "clf_svc_pipeline = Pipeline([\n",
    "    ('vect', CountVectorizer()),\n",
    "    ('tfidf', TfidfTransformer()),\n",
    "    ('clf', LinearSVC(penalty='l2', dual=False, tol=0.001))\n",
    "])"
   ],
   "metadata": {
    "collapsed": false,
    "ExecuteTime": {
     "end_time": "2023-12-02T18:02:54.908500300Z",
     "start_time": "2023-12-02T18:02:54.886304300Z"
    }
   },
   "id": "8083ae60fa545023"
  },
  {
   "cell_type": "markdown",
   "source": [
    "Со извршување на fit методот врз предефинираниот pipeline ќе започнаме со тренирањето на нашиот модел"
   ],
   "metadata": {
    "collapsed": false
   },
   "id": "cd40670acd0c218d"
  },
  {
   "cell_type": "code",
   "execution_count": 15,
   "outputs": [
    {
     "data": {
      "text/plain": "Pipeline(steps=[('vect', CountVectorizer()), ('tfidf', TfidfTransformer()),\n                ('clf', LinearSVC(dual=False, tol=0.001))])",
      "text/html": "<style>#sk-container-id-2 {color: black;background-color: white;}#sk-container-id-2 pre{padding: 0;}#sk-container-id-2 div.sk-toggleable {background-color: white;}#sk-container-id-2 label.sk-toggleable__label {cursor: pointer;display: block;width: 100%;margin-bottom: 0;padding: 0.3em;box-sizing: border-box;text-align: center;}#sk-container-id-2 label.sk-toggleable__label-arrow:before {content: \"▸\";float: left;margin-right: 0.25em;color: #696969;}#sk-container-id-2 label.sk-toggleable__label-arrow:hover:before {color: black;}#sk-container-id-2 div.sk-estimator:hover label.sk-toggleable__label-arrow:before {color: black;}#sk-container-id-2 div.sk-toggleable__content {max-height: 0;max-width: 0;overflow: hidden;text-align: left;background-color: #f0f8ff;}#sk-container-id-2 div.sk-toggleable__content pre {margin: 0.2em;color: black;border-radius: 0.25em;background-color: #f0f8ff;}#sk-container-id-2 input.sk-toggleable__control:checked~div.sk-toggleable__content {max-height: 200px;max-width: 100%;overflow: auto;}#sk-container-id-2 input.sk-toggleable__control:checked~label.sk-toggleable__label-arrow:before {content: \"▾\";}#sk-container-id-2 div.sk-estimator input.sk-toggleable__control:checked~label.sk-toggleable__label {background-color: #d4ebff;}#sk-container-id-2 div.sk-label input.sk-toggleable__control:checked~label.sk-toggleable__label {background-color: #d4ebff;}#sk-container-id-2 input.sk-hidden--visually {border: 0;clip: rect(1px 1px 1px 1px);clip: rect(1px, 1px, 1px, 1px);height: 1px;margin: -1px;overflow: hidden;padding: 0;position: absolute;width: 1px;}#sk-container-id-2 div.sk-estimator {font-family: monospace;background-color: #f0f8ff;border: 1px dotted black;border-radius: 0.25em;box-sizing: border-box;margin-bottom: 0.5em;}#sk-container-id-2 div.sk-estimator:hover {background-color: #d4ebff;}#sk-container-id-2 div.sk-parallel-item::after {content: \"\";width: 100%;border-bottom: 1px solid gray;flex-grow: 1;}#sk-container-id-2 div.sk-label:hover label.sk-toggleable__label {background-color: #d4ebff;}#sk-container-id-2 div.sk-serial::before {content: \"\";position: absolute;border-left: 1px solid gray;box-sizing: border-box;top: 0;bottom: 0;left: 50%;z-index: 0;}#sk-container-id-2 div.sk-serial {display: flex;flex-direction: column;align-items: center;background-color: white;padding-right: 0.2em;padding-left: 0.2em;position: relative;}#sk-container-id-2 div.sk-item {position: relative;z-index: 1;}#sk-container-id-2 div.sk-parallel {display: flex;align-items: stretch;justify-content: center;background-color: white;position: relative;}#sk-container-id-2 div.sk-item::before, #sk-container-id-2 div.sk-parallel-item::before {content: \"\";position: absolute;border-left: 1px solid gray;box-sizing: border-box;top: 0;bottom: 0;left: 50%;z-index: -1;}#sk-container-id-2 div.sk-parallel-item {display: flex;flex-direction: column;z-index: 1;position: relative;background-color: white;}#sk-container-id-2 div.sk-parallel-item:first-child::after {align-self: flex-end;width: 50%;}#sk-container-id-2 div.sk-parallel-item:last-child::after {align-self: flex-start;width: 50%;}#sk-container-id-2 div.sk-parallel-item:only-child::after {width: 0;}#sk-container-id-2 div.sk-dashed-wrapped {border: 1px dashed gray;margin: 0 0.4em 0.5em 0.4em;box-sizing: border-box;padding-bottom: 0.4em;background-color: white;}#sk-container-id-2 div.sk-label label {font-family: monospace;font-weight: bold;display: inline-block;line-height: 1.2em;}#sk-container-id-2 div.sk-label-container {text-align: center;}#sk-container-id-2 div.sk-container {/* jupyter's `normalize.less` sets `[hidden] { display: none; }` but bootstrap.min.css set `[hidden] { display: none !important; }` so we also need the `!important` here to be able to override the default hidden behavior on the sphinx rendered scikit-learn.org. See: https://github.com/scikit-learn/scikit-learn/issues/21755 */display: inline-block !important;position: relative;}#sk-container-id-2 div.sk-text-repr-fallback {display: none;}</style><div id=\"sk-container-id-2\" class=\"sk-top-container\"><div class=\"sk-text-repr-fallback\"><pre>Pipeline(steps=[(&#x27;vect&#x27;, CountVectorizer()), (&#x27;tfidf&#x27;, TfidfTransformer()),\n                (&#x27;clf&#x27;, LinearSVC(dual=False, tol=0.001))])</pre><b>In a Jupyter environment, please rerun this cell to show the HTML representation or trust the notebook. <br />On GitHub, the HTML representation is unable to render, please try loading this page with nbviewer.org.</b></div><div class=\"sk-container\" hidden><div class=\"sk-item sk-dashed-wrapped\"><div class=\"sk-label-container\"><div class=\"sk-label sk-toggleable\"><input class=\"sk-toggleable__control sk-hidden--visually\" id=\"sk-estimator-id-2\" type=\"checkbox\" ><label for=\"sk-estimator-id-2\" class=\"sk-toggleable__label sk-toggleable__label-arrow\">Pipeline</label><div class=\"sk-toggleable__content\"><pre>Pipeline(steps=[(&#x27;vect&#x27;, CountVectorizer()), (&#x27;tfidf&#x27;, TfidfTransformer()),\n                (&#x27;clf&#x27;, LinearSVC(dual=False, tol=0.001))])</pre></div></div></div><div class=\"sk-serial\"><div class=\"sk-item\"><div class=\"sk-estimator sk-toggleable\"><input class=\"sk-toggleable__control sk-hidden--visually\" id=\"sk-estimator-id-3\" type=\"checkbox\" ><label for=\"sk-estimator-id-3\" class=\"sk-toggleable__label sk-toggleable__label-arrow\">CountVectorizer</label><div class=\"sk-toggleable__content\"><pre>CountVectorizer()</pre></div></div></div><div class=\"sk-item\"><div class=\"sk-estimator sk-toggleable\"><input class=\"sk-toggleable__control sk-hidden--visually\" id=\"sk-estimator-id-4\" type=\"checkbox\" ><label for=\"sk-estimator-id-4\" class=\"sk-toggleable__label sk-toggleable__label-arrow\">TfidfTransformer</label><div class=\"sk-toggleable__content\"><pre>TfidfTransformer()</pre></div></div></div><div class=\"sk-item\"><div class=\"sk-estimator sk-toggleable\"><input class=\"sk-toggleable__control sk-hidden--visually\" id=\"sk-estimator-id-5\" type=\"checkbox\" ><label for=\"sk-estimator-id-5\" class=\"sk-toggleable__label sk-toggleable__label-arrow\">LinearSVC</label><div class=\"sk-toggleable__content\"><pre>LinearSVC(dual=False, tol=0.001)</pre></div></div></div></div></div></div></div>"
     },
     "execution_count": 15,
     "metadata": {},
     "output_type": "execute_result"
    }
   ],
   "source": [
    "clf_svc_pipeline.fit(twenty_train.data, twenty_train.target)"
   ],
   "metadata": {
    "collapsed": false,
    "ExecuteTime": {
     "end_time": "2023-12-02T18:03:15.868391500Z",
     "start_time": "2023-12-02T18:03:09.053539700Z"
    }
   },
   "id": "e191862c463921fe"
  },
  {
   "cell_type": "markdown",
   "source": [
    "Ги симнуваме тест податоците"
   ],
   "metadata": {
    "collapsed": false
   },
   "id": "eed6a6af45f52dd"
  },
  {
   "cell_type": "code",
   "execution_count": 17,
   "outputs": [],
   "source": [
    "twenty_test = fetch_20newsgroups(subset='test', shuffle=True)"
   ],
   "metadata": {
    "collapsed": false,
    "ExecuteTime": {
     "end_time": "2023-12-02T18:04:14.692798800Z",
     "start_time": "2023-12-02T18:04:14.507268100Z"
    }
   },
   "id": "969557b67a7b1a0a"
  },
  {
   "cell_type": "markdown",
   "source": [
    "Целиот pipeline се извршува и врз тест податоците"
   ],
   "metadata": {
    "collapsed": false
   },
   "id": "f377aecbafcc4207"
  },
  {
   "cell_type": "code",
   "execution_count": 18,
   "outputs": [],
   "source": [
    "predicted = clf_svc_pipeline.predict(twenty_test.data)"
   ],
   "metadata": {
    "collapsed": false,
    "ExecuteTime": {
     "end_time": "2023-12-02T18:04:16.935764300Z",
     "start_time": "2023-12-02T18:04:15.594211400Z"
    }
   },
   "id": "84ea29b936d1c5c0"
  },
  {
   "cell_type": "markdown",
   "source": [
    "Еден начин за да се евалуира моделот е да се пресмета неговата точност. Во случајов за околу 85% од текстовите од тест множеството нашиот модел бил во право во однос на класификацијата во соодветната категорија"
   ],
   "metadata": {
    "collapsed": false
   },
   "id": "6fe5ac2d0a50139d"
  },
  {
   "cell_type": "code",
   "execution_count": 20,
   "outputs": [
    {
     "data": {
      "text/plain": "0.8532926181625067"
     },
     "execution_count": 20,
     "metadata": {},
     "output_type": "execute_result"
    }
   ],
   "source": [
    "from sklearn.metrics import accuracy_score\n",
    "\n",
    "acc_svm = accuracy_score(twenty_test.target, predicted)\n",
    "acc_svm "
   ],
   "metadata": {
    "collapsed": false,
    "ExecuteTime": {
     "end_time": "2023-12-02T18:05:57.735773400Z",
     "start_time": "2023-12-02T18:05:57.712579900Z"
    }
   },
   "id": "631d64941f6942c"
  },
  {
   "cell_type": "markdown",
   "source": [
    "## Самостојна Работа"
   ],
   "metadata": {
    "collapsed": false
   },
   "id": "dfbc8fb687b8f1c2"
  },
  {
   "cell_type": "markdown",
   "source": [
    "Променето го SVM класификаторот да користи l1 норма, наместо l2 и извршете го потребниот код. Што приметувате? Дали точноста се подобри или влоши?"
   ],
   "metadata": {
    "collapsed": false
   },
   "id": "7c4b9dd91c4c931a"
  },
  {
   "cell_type": "markdown",
   "source": [
    "Сега наместо да го користиме TfidfTransformer да користиме само CountVectorizer во нашиот pipeline"
   ],
   "metadata": {
    "collapsed": false
   },
   "id": "ddce65cddd4b3f35"
  },
  {
   "cell_type": "code",
   "execution_count": 31,
   "outputs": [],
   "source": [
    "clf_svc_pipeline = Pipeline([\n",
    "    ('vect', CountVectorizer()),\n",
    "    ('clf', LinearSVC(penalty='l2', dual=False, tol=0.001))\n",
    "])"
   ],
   "metadata": {
    "collapsed": false,
    "ExecuteTime": {
     "end_time": "2023-12-02T18:11:42.902846200Z",
     "start_time": "2023-12-02T18:11:42.882327100Z"
    }
   },
   "id": "90afceb0916848c7"
  },
  {
   "cell_type": "markdown",
   "source": [
    "Што приметувате? Дали е подобро да се користи само вреќа од зборови или tf-idf трансформатор?"
   ],
   "metadata": {
    "collapsed": false
   },
   "id": "7cff57f15f99e70c"
  },
  {
   "cell_type": "code",
   "execution_count": 32,
   "outputs": [
    {
     "data": {
      "text/plain": "0.7987254381306426"
     },
     "execution_count": 32,
     "metadata": {},
     "output_type": "execute_result"
    }
   ],
   "source": [
    "clf_svc_pipeline.fit(twenty_train.data, twenty_train.target)\n",
    "predicted = clf_svc_pipeline.predict(twenty_test.data)\n",
    "acc_svm = accuracy_score(twenty_test.target, predicted)\n",
    "acc_svm"
   ],
   "metadata": {
    "collapsed": false,
    "ExecuteTime": {
     "end_time": "2023-12-02T18:12:01.208395900Z",
     "start_time": "2023-12-02T18:11:43.478422800Z"
    }
   },
   "id": "410b90bd16cdc421"
  }
 ],
 "metadata": {
  "kernelspec": {
   "display_name": "Python 3",
   "language": "python",
   "name": "python3"
  },
  "language_info": {
   "codemirror_mode": {
    "name": "ipython",
    "version": 2
   },
   "file_extension": ".py",
   "mimetype": "text/x-python",
   "name": "python",
   "nbconvert_exporter": "python",
   "pygments_lexer": "ipython2",
   "version": "2.7.6"
  }
 },
 "nbformat": 4,
 "nbformat_minor": 5
}
