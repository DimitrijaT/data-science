{
 "cells": [
  {
   "cell_type": "code",
   "execution_count": 1,
   "metadata": {
    "ExecuteTime": {
     "end_time": "2023-11-28T13:58:59.316633200Z",
     "start_time": "2023-11-28T13:58:58.732725700Z"
    }
   },
   "outputs": [
    {
     "name": "stdout",
     "output_type": "stream",
     "text": [
      "0      1\n",
      "1      3\n",
      "2    dva\n",
      "dtype: object\n"
     ]
    }
   ],
   "source": [
    "import pandas as pd\n",
    "podatoci = [1, 3, \"dva\"]\n",
    "niza = pd.Series(podatoci)\n",
    "print(niza)"
   ]
  },
  {
   "cell_type": "code",
   "execution_count": 2,
   "metadata": {
    "ExecuteTime": {
     "end_time": "2023-11-28T13:58:59.318054700Z",
     "start_time": "2023-11-28T13:58:59.247344Z"
    }
   },
   "outputs": [
    {
     "name": "stdout",
     "output_type": "stream",
     "text": [
      "a    1\n",
      "b    2\n",
      "c    3\n",
      "dtype: int64\n"
     ]
    }
   ],
   "source": [
    "import pandas as pd\n",
    "rechnik = {'a':1, 'b':2, 'c':3}\n",
    "niza = pd.Series(rechnik)\n",
    "print(niza)\n"
   ]
  },
  {
   "cell_type": "code",
   "execution_count": 3,
   "metadata": {
    "ExecuteTime": {
     "end_time": "2023-11-28T13:58:59.318562Z",
     "start_time": "2023-11-28T13:58:59.255761300Z"
    }
   },
   "outputs": [
    {
     "name": "stdout",
     "output_type": "stream",
     "text": [
      "prv       Kurs\n",
      "vtor        za\n",
      "tret    Pajton\n",
      "dtype: object\n"
     ]
    }
   ],
   "source": [
    "import pandas as pd\n",
    "podatoci = ['Kurs', 'za', 'Pajton']\n",
    "Indeks = ['prv', 'vtor', 'tret']\n",
    "niza = pd.Series(podatoci, index = Indeks)\n",
    "print(niza)\n"
   ]
  },
  {
   "cell_type": "code",
   "execution_count": 4,
   "metadata": {
    "ExecuteTime": {
     "end_time": "2023-11-28T13:58:59.318562Z",
     "start_time": "2023-11-28T13:58:59.272680200Z"
    }
   },
   "outputs": [
    {
     "name": "stdout",
     "output_type": "stream",
     "text": [
      "prv     1\n",
      "vtor   -2\n",
      "tret    2\n",
      "dtype: int32\n"
     ]
    }
   ],
   "source": [
    "import pandas as pd\n",
    "import numpy as np\n",
    "podatoci = np.asarray([1,-2,2])\n",
    "Indeks = ['prv', 'vtor', 'tret']\n",
    "niza = pd.Series(podatoci, index = Indeks)\n",
    "print(niza)"
   ]
  },
  {
   "cell_type": "code",
   "execution_count": 5,
   "metadata": {
    "ExecuteTime": {
     "end_time": "2023-11-28T13:58:59.343043Z",
     "start_time": "2023-11-28T13:58:59.290562200Z"
    }
   },
   "outputs": [
    {
     "name": "stdout",
     "output_type": "stream",
     "text": [
      "[ 1 -2  2]\n",
      "[1, -2, 2]\n",
      "[ 1 -2  2]\n"
     ]
    }
   ],
   "source": [
    "SamoPodatocite = niza.values\n",
    "VoLista = niza.to_list()\n",
    "VoNumpy = niza.to_numpy()\n",
    "print(SamoPodatocite)\n",
    "print(VoLista)\n",
    "print(VoNumpy)"
   ]
  },
  {
   "cell_type": "code",
   "execution_count": 6,
   "metadata": {
    "ExecuteTime": {
     "end_time": "2023-11-28T13:58:59.347616400Z",
     "start_time": "2023-11-28T13:58:59.303593500Z"
    }
   },
   "outputs": [
    {
     "name": "stdout",
     "output_type": "stream",
     "text": [
      "e\n",
      "0    g\n",
      "1    o\n",
      "2    l\n",
      "3    e\n",
      "4    m\n",
      "dtype: object\n",
      "12    o\n",
      "13    c\n",
      "14    i\n",
      "dtype: object\n"
     ]
    }
   ],
   "source": [
    "import pandas as pd\n",
    "import numpy as np\n",
    "podatoci = ['g', 'o', 'l', 'e', 'm', 'i', ' ', 'p', 'o', 'd', 'a', 't', 'o', 'c', 'i']\n",
    "niza = pd.Series(podatoci)\n",
    "print(niza[3]) # само четвртиот елемент (почетниот е со реден број 0)\n",
    "print(niza[:5]) # привите елементи се до петтиот (петтиот не е вклучен)\n",
    "print(niza[12:]) # од дванаесеттиот елемент се до крајот"
   ]
  },
  {
   "cell_type": "code",
   "execution_count": 7,
   "metadata": {
    "ExecuteTime": {
     "end_time": "2023-11-28T13:58:59.445302800Z",
     "start_time": "2023-11-28T13:58:59.318562Z"
    }
   },
   "outputs": [
    {
     "name": "stdout",
     "output_type": "stream",
     "text": [
      "2\n"
     ]
    }
   ],
   "source": [
    "import pandas as pd\n",
    "podatoci = [3, 2, 1]\n",
    "Indeks = ['prv', 'vtor', 'tret']\n",
    "niza = pd.Series(podatoci, index = Indeks)\n",
    "print(niza.loc['vtor'])"
   ]
  },
  {
   "cell_type": "code",
   "execution_count": 8,
   "metadata": {
    "ExecuteTime": {
     "end_time": "2023-11-28T13:58:59.635527400Z",
     "start_time": "2023-11-28T13:58:59.333833300Z"
    }
   },
   "outputs": [
    {
     "name": "stdout",
     "output_type": "stream",
     "text": [
      "prv     3\n",
      "tret    1\n",
      "dtype: int64\n"
     ]
    }
   ],
   "source": [
    "print(niza.loc[['prv', 'tret']])"
   ]
  },
  {
   "cell_type": "code",
   "execution_count": 9,
   "metadata": {
    "ExecuteTime": {
     "end_time": "2023-11-28T13:58:59.635527400Z",
     "start_time": "2023-11-28T13:58:59.351625600Z"
    }
   },
   "outputs": [
    {
     "name": "stdout",
     "output_type": "stream",
     "text": [
      "      proizvodi  promet  dobivka\n",
      "2018          7      12        9\n",
      "2019       2000    3500     2800\n",
      "2020        600    1400     1200\n"
     ]
    }
   ],
   "source": [
    "import pandas as pd\n",
    "redici = [2018, 2019, 2020]\n",
    "koloni = ['proizvodi','promet', 'dobivka']\n",
    "podatoci = [[7, 12, 9],[2000, 3500, 2800],[600, 1400, 1200]]\n",
    "tabela = pd.DataFrame(podatoci, index = redici, columns = koloni)\n",
    "print(tabela)"
   ]
  },
  {
   "cell_type": "code",
   "execution_count": 10,
   "metadata": {
    "ExecuteTime": {
     "end_time": "2023-11-28T13:58:59.636536200Z",
     "start_time": "2023-11-28T13:58:59.367817200Z"
    }
   },
   "outputs": [
    {
     "name": "stdout",
     "output_type": "stream",
     "text": [
      "      proizvodi  promet  dobivka\n",
      "2018          7    2000      600\n",
      "2019         12    3500     1400\n",
      "2020          9    2800     1200\n"
     ]
    }
   ],
   "source": [
    "import pandas as pd\n",
    "redici = [2018, 2019, 2020]\n",
    "podatoci = {'proizvodi':[7, 12, 9],'promet':[2000, 3500, 2800], 'dobivka':[600, 1400, 1200]}\n",
    "tabela = pd.DataFrame(podatoci, index = redici)\n",
    "print(tabela)"
   ]
  },
  {
   "cell_type": "code",
   "execution_count": 28,
   "metadata": {
    "ExecuteTime": {
     "end_time": "2023-11-28T14:00:49.138271300Z",
     "start_time": "2023-11-28T14:00:49.119357Z"
    }
   },
   "outputs": [
    {
     "name": "stdout",
     "output_type": "stream",
     "text": [
      "2018    2000\n",
      "2019    3500\n",
      "2020    2800\n",
      "Name: promet, dtype: int64\n"
     ]
    }
   ],
   "source": [
    "print(tabela['promet'])"
   ]
  },
  {
   "cell_type": "code",
   "execution_count": 12,
   "metadata": {
    "ExecuteTime": {
     "end_time": "2023-11-28T13:58:59.637601700Z",
     "start_time": "2023-11-28T13:58:59.397571100Z"
    }
   },
   "outputs": [
    {
     "name": "stdout",
     "output_type": "stream",
     "text": [
      "      proizvodi  dobivka\n",
      "2018          7      600\n",
      "2019         12     1400\n",
      "2020          9     1200\n"
     ]
    }
   ],
   "source": [
    "print(tabela[['proizvodi', 'dobivka']])"
   ]
  },
  {
   "cell_type": "code",
   "execution_count": 13,
   "metadata": {
    "ExecuteTime": {
     "end_time": "2023-11-28T13:58:59.637601700Z",
     "start_time": "2023-11-28T13:58:59.412923200Z"
    }
   },
   "outputs": [
    {
     "name": "stdout",
     "output_type": "stream",
     "text": [
      "12\n"
     ]
    }
   ],
   "source": [
    "print(tabela.iloc[1, 0])"
   ]
  },
  {
   "cell_type": "code",
   "execution_count": 14,
   "metadata": {
    "ExecuteTime": {
     "end_time": "2023-11-28T13:58:59.638109Z",
     "start_time": "2023-11-28T13:58:59.431170700Z"
    }
   },
   "outputs": [
    {
     "name": "stdout",
     "output_type": "stream",
     "text": [
      "proizvodi    9\n",
      "Name: 2020, dtype: int64\n"
     ]
    }
   ],
   "source": [
    "print(tabela.iloc[2, :1])"
   ]
  },
  {
   "cell_type": "code",
   "execution_count": 15,
   "metadata": {
    "ExecuteTime": {
     "end_time": "2023-11-28T13:58:59.686878400Z",
     "start_time": "2023-11-28T13:58:59.444298500Z"
    }
   },
   "outputs": [
    {
     "name": "stdout",
     "output_type": "stream",
     "text": [
      "      promet  dobivka\n",
      "2018    2000      600\n",
      "2019    3500     1400\n"
     ]
    }
   ],
   "source": [
    "print(tabela.iloc[0:2, 1:])"
   ]
  },
  {
   "cell_type": "code",
   "execution_count": 16,
   "metadata": {
    "ExecuteTime": {
     "end_time": "2023-11-28T13:58:59.687877600Z",
     "start_time": "2023-11-28T13:58:59.459408900Z"
    }
   },
   "outputs": [
    {
     "name": "stdout",
     "output_type": "stream",
     "text": [
      "7\n"
     ]
    }
   ],
   "source": [
    "print(tabela.loc[2018, 'proizvodi'])"
   ]
  },
  {
   "cell_type": "code",
   "execution_count": 17,
   "metadata": {
    "ExecuteTime": {
     "end_time": "2023-11-28T13:58:59.688381900Z",
     "start_time": "2023-11-28T13:58:59.476599200Z"
    }
   },
   "outputs": [
    {
     "name": "stdout",
     "output_type": "stream",
     "text": [
      "proizvodi      12\n",
      "promet       3500\n",
      "dobivka      1400\n",
      "Name: 2019, dtype: int64\n"
     ]
    }
   ],
   "source": [
    "print(tabela.loc[2019])"
   ]
  },
  {
   "cell_type": "code",
   "execution_count": 18,
   "metadata": {
    "ExecuteTime": {
     "end_time": "2023-11-28T13:58:59.689391200Z",
     "start_time": "2023-11-28T13:58:59.491679200Z"
    }
   },
   "outputs": [
    {
     "name": "stdout",
     "output_type": "stream",
     "text": [
      "2018    7\n",
      "2020    9\n",
      "Name: proizvodi, dtype: int64\n"
     ]
    }
   ],
   "source": [
    "print(tabela.loc[[2018, 2020], 'proizvodi'])"
   ]
  },
  {
   "cell_type": "code",
   "execution_count": 19,
   "metadata": {
    "ExecuteTime": {
     "end_time": "2023-11-28T13:58:59.690388900Z",
     "start_time": "2023-11-28T13:58:59.505617900Z"
    }
   },
   "outputs": [
    {
     "name": "stdout",
     "output_type": "stream",
     "text": [
      "      proizvodi  promet  dobivka\n",
      "2019         12    3500     1400\n",
      "2020          9    2800     1200\n"
     ]
    }
   ],
   "source": [
    "GolemaDobivka = tabela.loc[tabela['dobivka'] > 1000]\n",
    "print(GolemaDobivka)"
   ]
  },
  {
   "cell_type": "code",
   "execution_count": 20,
   "metadata": {
    "ExecuteTime": {
     "end_time": "2023-11-28T13:58:59.716561200Z",
     "start_time": "2023-11-28T13:58:59.521381700Z"
    }
   },
   "outputs": [
    {
     "name": "stdout",
     "output_type": "stream",
     "text": [
      "      promet  dobivka\n",
      "2019    3500     1400\n",
      "2020    2800     1200\n"
     ]
    }
   ],
   "source": [
    "GolemaDobivkaIPromet = tabela.loc[(tabela['dobivka'] > 1000) & (tabela['promet'] >= 2800),\n",
    "                                  ['promet', 'dobivka']]\n",
    "print(GolemaDobivkaIPromet)"
   ]
  },
  {
   "cell_type": "code",
   "execution_count": 21,
   "metadata": {
    "ExecuteTime": {
     "end_time": "2023-11-28T13:58:59.720661500Z",
     "start_time": "2023-11-28T13:58:59.537833900Z"
    }
   },
   "outputs": [
    {
     "name": "stdout",
     "output_type": "stream",
     "text": [
      "      proizvodi  promet  dobivka  plati  procent na dobivka\n",
      "2018          7    2000      600    200            0.300000\n",
      "2019         12    3500     1400    250            0.400000\n",
      "2020          9    2800     1200    250            0.428571\n"
     ]
    }
   ],
   "source": [
    "tabela['plati'] = [200, 250, 250]\n",
    "ProcentNaDobivka = tabela['dobivka'] / tabela['promet']\n",
    "tabela['procent na dobivka'] = ProcentNaDobivka\n",
    "print(tabela)"
   ]
  },
  {
   "cell_type": "code",
   "execution_count": 22,
   "metadata": {
    "ExecuteTime": {
     "end_time": "2023-11-28T13:58:59.721666300Z",
     "start_time": "2023-11-28T13:58:59.553641900Z"
    }
   },
   "outputs": [
    {
     "name": "stdout",
     "output_type": "stream",
     "text": [
      "      proizvodi  promet  dobivka  plati  procent na dobivka\n",
      "2019         12    3500     1400    250            0.400000\n",
      "2020          9    2800     1200    250            0.428571\n",
      "      proizvodi  promet  dobivka  plati\n",
      "2018          7    2000      600    200\n",
      "2019         12    3500     1400    250\n",
      "2020          9    2800     1200    250\n"
     ]
    }
   ],
   "source": [
    "print(tabela.drop([2018]))\n",
    "print(tabela.drop(['procent na dobivka'], axis=1))"
   ]
  },
  {
   "cell_type": "code",
   "execution_count": 23,
   "metadata": {
    "ExecuteTime": {
     "end_time": "2023-11-28T13:58:59.721666300Z",
     "start_time": "2023-11-28T13:58:59.568531600Z"
    }
   },
   "outputs": [
    {
     "name": "stdout",
     "output_type": "stream",
     "text": [
      "      proizvodi  promet  dobivka  plati   procent\n",
      "2018          7    2000      600    200  0.300000\n",
      "2019         12    3500     1400    250  0.400000\n",
      "2020          9    2800     1200    250  0.428571\n",
      "--------------------------------------------------\n",
      "           promet  dobivka  plati  procent na dobivka\n",
      "proizvodi                                            \n",
      "7            2000      600    200            0.300000\n",
      "12           3500     1400    250            0.400000\n",
      "9            2800     1200    250            0.428571\n"
     ]
    }
   ],
   "source": [
    "print(tabela.rename(columns={'procent na dobivka':'procent'}))\n",
    "print('--------------------------------------------------')\n",
    "print(tabela.set_index('proizvodi'))"
   ]
  },
  {
   "cell_type": "code",
   "execution_count": 2,
   "metadata": {},
   "outputs": [
    {
     "data": {
      "text/html": [
       "<div>\n",
       "<style scoped>\n",
       "    .dataframe tbody tr th:only-of-type {\n",
       "        vertical-align: middle;\n",
       "    }\n",
       "\n",
       "    .dataframe tbody tr th {\n",
       "        vertical-align: top;\n",
       "    }\n",
       "\n",
       "    .dataframe thead th {\n",
       "        text-align: right;\n",
       "    }\n",
       "</style>\n",
       "<table border=\"1\" class=\"dataframe\">\n",
       "  <thead>\n",
       "    <tr style=\"text-align: right;\">\n",
       "      <th></th>\n",
       "      <th>Date</th>\n",
       "      <th>Price</th>\n",
       "      <th>Open</th>\n",
       "      <th>High</th>\n",
       "      <th>Low</th>\n",
       "      <th>Vol.</th>\n",
       "      <th>Change %</th>\n",
       "    </tr>\n",
       "  </thead>\n",
       "  <tbody>\n",
       "    <tr>\n",
       "      <th>0</th>\n",
       "      <td>5-Apr-21</td>\n",
       "      <td>4,077.91</td>\n",
       "      <td>4,034.44</td>\n",
       "      <td>4,083.42</td>\n",
       "      <td>4,034.44</td>\n",
       "      <td>-</td>\n",
       "      <td>1.44%</td>\n",
       "    </tr>\n",
       "    <tr>\n",
       "      <th>1</th>\n",
       "      <td>1-Apr-21</td>\n",
       "      <td>4,019.87</td>\n",
       "      <td>3,992.78</td>\n",
       "      <td>4,020.63</td>\n",
       "      <td>3,992.78</td>\n",
       "      <td>-</td>\n",
       "      <td>1.18%</td>\n",
       "    </tr>\n",
       "    <tr>\n",
       "      <th>2</th>\n",
       "      <td>31-Mar-21</td>\n",
       "      <td>3,972.89</td>\n",
       "      <td>3,967.25</td>\n",
       "      <td>3,994.41</td>\n",
       "      <td>3,966.98</td>\n",
       "      <td>-</td>\n",
       "      <td>0.36%</td>\n",
       "    </tr>\n",
       "    <tr>\n",
       "      <th>3</th>\n",
       "      <td>30-Mar-21</td>\n",
       "      <td>3,958.55</td>\n",
       "      <td>3,963.34</td>\n",
       "      <td>3,968.01</td>\n",
       "      <td>3,944.35</td>\n",
       "      <td>-</td>\n",
       "      <td>-0.32%</td>\n",
       "    </tr>\n",
       "    <tr>\n",
       "      <th>4</th>\n",
       "      <td>29-Mar-21</td>\n",
       "      <td>3,971.09</td>\n",
       "      <td>3,969.31</td>\n",
       "      <td>3,981.83</td>\n",
       "      <td>3,943.25</td>\n",
       "      <td>-</td>\n",
       "      <td>-0.09%</td>\n",
       "    </tr>\n",
       "  </tbody>\n",
       "</table>\n",
       "</div>"
      ],
      "text/plain": [
       "        Date     Price      Open      High       Low Vol. Change %\n",
       "0   5-Apr-21  4,077.91  4,034.44  4,083.42  4,034.44    -    1.44%\n",
       "1   1-Apr-21  4,019.87  3,992.78  4,020.63  3,992.78    -    1.18%\n",
       "2  31-Mar-21  3,972.89  3,967.25  3,994.41  3,966.98    -    0.36%\n",
       "3  30-Mar-21  3,958.55  3,963.34  3,968.01  3,944.35    -   -0.32%\n",
       "4  29-Mar-21  3,971.09  3,969.31  3,981.83  3,943.25    -   -0.09%"
      ]
     },
     "execution_count": 2,
     "metadata": {},
     "output_type": "execute_result"
    }
   ],
   "source": [
    "VchitaniPodatociCSV = pd.read_csv('SandP500.csv')\n",
    "VchitaniPodatociCSV.head()"
   ]
  },
  {
   "cell_type": "code",
   "execution_count": 27,
   "metadata": {
    "ExecuteTime": {
     "end_time": "2023-11-28T14:00:26.722270200Z",
     "start_time": "2023-11-28T14:00:25.963243800Z"
    }
   },
   "outputs": [
    {
     "ename": "FileNotFoundError",
     "evalue": "[Errno 2] No such file or directory: 'MashkoNaselenieVoMakedonija.xlsx'",
     "output_type": "error",
     "traceback": [
      "\u001B[1;31m---------------------------------------------------------------------------\u001B[0m",
      "\u001B[1;31mFileNotFoundError\u001B[0m                         Traceback (most recent call last)",
      "Cell \u001B[1;32mIn[27], line 1\u001B[0m\n\u001B[1;32m----> 1\u001B[0m VchitaniPodatociEksel \u001B[38;5;241m=\u001B[39m \u001B[43mpd\u001B[49m\u001B[38;5;241;43m.\u001B[39;49m\u001B[43mread_excel\u001B[49m\u001B[43m(\u001B[49m\u001B[38;5;124;43m\"\u001B[39;49m\u001B[38;5;124;43mMashkoNaselenieVoMakedonija.xlsx\u001B[39;49m\u001B[38;5;124;43m\"\u001B[39;49m\u001B[43m,\u001B[49m\u001B[43m \u001B[49m\u001B[43msheet_name\u001B[49m\u001B[38;5;241;43m=\u001B[39;49m\u001B[38;5;241;43m1\u001B[39;49m\u001B[43m)\u001B[49m\n\u001B[0;32m      2\u001B[0m VchitaniPodatociEksel\u001B[38;5;241m.\u001B[39mhead()\n",
      "File \u001B[1;32m~\\anaconda3\\lib\\site-packages\\pandas\\util\\_decorators.py:311\u001B[0m, in \u001B[0;36mdeprecate_nonkeyword_arguments.<locals>.decorate.<locals>.wrapper\u001B[1;34m(*args, **kwargs)\u001B[0m\n\u001B[0;32m    305\u001B[0m \u001B[38;5;28;01mif\u001B[39;00m \u001B[38;5;28mlen\u001B[39m(args) \u001B[38;5;241m>\u001B[39m num_allow_args:\n\u001B[0;32m    306\u001B[0m     warnings\u001B[38;5;241m.\u001B[39mwarn(\n\u001B[0;32m    307\u001B[0m         msg\u001B[38;5;241m.\u001B[39mformat(arguments\u001B[38;5;241m=\u001B[39marguments),\n\u001B[0;32m    308\u001B[0m         \u001B[38;5;167;01mFutureWarning\u001B[39;00m,\n\u001B[0;32m    309\u001B[0m         stacklevel\u001B[38;5;241m=\u001B[39mstacklevel,\n\u001B[0;32m    310\u001B[0m     )\n\u001B[1;32m--> 311\u001B[0m \u001B[38;5;28;01mreturn\u001B[39;00m func(\u001B[38;5;241m*\u001B[39margs, \u001B[38;5;241m*\u001B[39m\u001B[38;5;241m*\u001B[39mkwargs)\n",
      "File \u001B[1;32m~\\anaconda3\\lib\\site-packages\\pandas\\io\\excel\\_base.py:457\u001B[0m, in \u001B[0;36mread_excel\u001B[1;34m(io, sheet_name, header, names, index_col, usecols, squeeze, dtype, engine, converters, true_values, false_values, skiprows, nrows, na_values, keep_default_na, na_filter, verbose, parse_dates, date_parser, thousands, decimal, comment, skipfooter, convert_float, mangle_dupe_cols, storage_options)\u001B[0m\n\u001B[0;32m    455\u001B[0m \u001B[38;5;28;01mif\u001B[39;00m \u001B[38;5;129;01mnot\u001B[39;00m \u001B[38;5;28misinstance\u001B[39m(io, ExcelFile):\n\u001B[0;32m    456\u001B[0m     should_close \u001B[38;5;241m=\u001B[39m \u001B[38;5;28;01mTrue\u001B[39;00m\n\u001B[1;32m--> 457\u001B[0m     io \u001B[38;5;241m=\u001B[39m \u001B[43mExcelFile\u001B[49m\u001B[43m(\u001B[49m\u001B[43mio\u001B[49m\u001B[43m,\u001B[49m\u001B[43m \u001B[49m\u001B[43mstorage_options\u001B[49m\u001B[38;5;241;43m=\u001B[39;49m\u001B[43mstorage_options\u001B[49m\u001B[43m,\u001B[49m\u001B[43m \u001B[49m\u001B[43mengine\u001B[49m\u001B[38;5;241;43m=\u001B[39;49m\u001B[43mengine\u001B[49m\u001B[43m)\u001B[49m\n\u001B[0;32m    458\u001B[0m \u001B[38;5;28;01melif\u001B[39;00m engine \u001B[38;5;129;01mand\u001B[39;00m engine \u001B[38;5;241m!=\u001B[39m io\u001B[38;5;241m.\u001B[39mengine:\n\u001B[0;32m    459\u001B[0m     \u001B[38;5;28;01mraise\u001B[39;00m \u001B[38;5;167;01mValueError\u001B[39;00m(\n\u001B[0;32m    460\u001B[0m         \u001B[38;5;124m\"\u001B[39m\u001B[38;5;124mEngine should not be specified when passing \u001B[39m\u001B[38;5;124m\"\u001B[39m\n\u001B[0;32m    461\u001B[0m         \u001B[38;5;124m\"\u001B[39m\u001B[38;5;124man ExcelFile - ExcelFile already has the engine set\u001B[39m\u001B[38;5;124m\"\u001B[39m\n\u001B[0;32m    462\u001B[0m     )\n",
      "File \u001B[1;32m~\\anaconda3\\lib\\site-packages\\pandas\\io\\excel\\_base.py:1376\u001B[0m, in \u001B[0;36mExcelFile.__init__\u001B[1;34m(self, path_or_buffer, engine, storage_options)\u001B[0m\n\u001B[0;32m   1374\u001B[0m     ext \u001B[38;5;241m=\u001B[39m \u001B[38;5;124m\"\u001B[39m\u001B[38;5;124mxls\u001B[39m\u001B[38;5;124m\"\u001B[39m\n\u001B[0;32m   1375\u001B[0m \u001B[38;5;28;01melse\u001B[39;00m:\n\u001B[1;32m-> 1376\u001B[0m     ext \u001B[38;5;241m=\u001B[39m \u001B[43minspect_excel_format\u001B[49m\u001B[43m(\u001B[49m\n\u001B[0;32m   1377\u001B[0m \u001B[43m        \u001B[49m\u001B[43mcontent_or_path\u001B[49m\u001B[38;5;241;43m=\u001B[39;49m\u001B[43mpath_or_buffer\u001B[49m\u001B[43m,\u001B[49m\u001B[43m \u001B[49m\u001B[43mstorage_options\u001B[49m\u001B[38;5;241;43m=\u001B[39;49m\u001B[43mstorage_options\u001B[49m\n\u001B[0;32m   1378\u001B[0m \u001B[43m    \u001B[49m\u001B[43m)\u001B[49m\n\u001B[0;32m   1379\u001B[0m     \u001B[38;5;28;01mif\u001B[39;00m ext \u001B[38;5;129;01mis\u001B[39;00m \u001B[38;5;28;01mNone\u001B[39;00m:\n\u001B[0;32m   1380\u001B[0m         \u001B[38;5;28;01mraise\u001B[39;00m \u001B[38;5;167;01mValueError\u001B[39;00m(\n\u001B[0;32m   1381\u001B[0m             \u001B[38;5;124m\"\u001B[39m\u001B[38;5;124mExcel file format cannot be determined, you must specify \u001B[39m\u001B[38;5;124m\"\u001B[39m\n\u001B[0;32m   1382\u001B[0m             \u001B[38;5;124m\"\u001B[39m\u001B[38;5;124man engine manually.\u001B[39m\u001B[38;5;124m\"\u001B[39m\n\u001B[0;32m   1383\u001B[0m         )\n",
      "File \u001B[1;32m~\\anaconda3\\lib\\site-packages\\pandas\\io\\excel\\_base.py:1250\u001B[0m, in \u001B[0;36minspect_excel_format\u001B[1;34m(content_or_path, storage_options)\u001B[0m\n\u001B[0;32m   1247\u001B[0m \u001B[38;5;28;01mif\u001B[39;00m \u001B[38;5;28misinstance\u001B[39m(content_or_path, \u001B[38;5;28mbytes\u001B[39m):\n\u001B[0;32m   1248\u001B[0m     content_or_path \u001B[38;5;241m=\u001B[39m BytesIO(content_or_path)\n\u001B[1;32m-> 1250\u001B[0m \u001B[38;5;28;01mwith\u001B[39;00m \u001B[43mget_handle\u001B[49m\u001B[43m(\u001B[49m\n\u001B[0;32m   1251\u001B[0m \u001B[43m    \u001B[49m\u001B[43mcontent_or_path\u001B[49m\u001B[43m,\u001B[49m\u001B[43m \u001B[49m\u001B[38;5;124;43m\"\u001B[39;49m\u001B[38;5;124;43mrb\u001B[39;49m\u001B[38;5;124;43m\"\u001B[39;49m\u001B[43m,\u001B[49m\u001B[43m \u001B[49m\u001B[43mstorage_options\u001B[49m\u001B[38;5;241;43m=\u001B[39;49m\u001B[43mstorage_options\u001B[49m\u001B[43m,\u001B[49m\u001B[43m \u001B[49m\u001B[43mis_text\u001B[49m\u001B[38;5;241;43m=\u001B[39;49m\u001B[38;5;28;43;01mFalse\u001B[39;49;00m\n\u001B[0;32m   1252\u001B[0m \u001B[43m\u001B[49m\u001B[43m)\u001B[49m \u001B[38;5;28;01mas\u001B[39;00m handle:\n\u001B[0;32m   1253\u001B[0m     stream \u001B[38;5;241m=\u001B[39m handle\u001B[38;5;241m.\u001B[39mhandle\n\u001B[0;32m   1254\u001B[0m     stream\u001B[38;5;241m.\u001B[39mseek(\u001B[38;5;241m0\u001B[39m)\n",
      "File \u001B[1;32m~\\anaconda3\\lib\\site-packages\\pandas\\io\\common.py:798\u001B[0m, in \u001B[0;36mget_handle\u001B[1;34m(path_or_buf, mode, encoding, compression, memory_map, is_text, errors, storage_options)\u001B[0m\n\u001B[0;32m    789\u001B[0m         handle \u001B[38;5;241m=\u001B[39m \u001B[38;5;28mopen\u001B[39m(\n\u001B[0;32m    790\u001B[0m             handle,\n\u001B[0;32m    791\u001B[0m             ioargs\u001B[38;5;241m.\u001B[39mmode,\n\u001B[1;32m   (...)\u001B[0m\n\u001B[0;32m    794\u001B[0m             newline\u001B[38;5;241m=\u001B[39m\u001B[38;5;124m\"\u001B[39m\u001B[38;5;124m\"\u001B[39m,\n\u001B[0;32m    795\u001B[0m         )\n\u001B[0;32m    796\u001B[0m     \u001B[38;5;28;01melse\u001B[39;00m:\n\u001B[0;32m    797\u001B[0m         \u001B[38;5;66;03m# Binary mode\u001B[39;00m\n\u001B[1;32m--> 798\u001B[0m         handle \u001B[38;5;241m=\u001B[39m \u001B[38;5;28;43mopen\u001B[39;49m\u001B[43m(\u001B[49m\u001B[43mhandle\u001B[49m\u001B[43m,\u001B[49m\u001B[43m \u001B[49m\u001B[43mioargs\u001B[49m\u001B[38;5;241;43m.\u001B[39;49m\u001B[43mmode\u001B[49m\u001B[43m)\u001B[49m\n\u001B[0;32m    799\u001B[0m     handles\u001B[38;5;241m.\u001B[39mappend(handle)\n\u001B[0;32m    801\u001B[0m \u001B[38;5;66;03m# Convert BytesIO or file objects passed with an encoding\u001B[39;00m\n",
      "\u001B[1;31mFileNotFoundError\u001B[0m: [Errno 2] No such file or directory: 'MashkoNaselenieVoMakedonija.xlsx'"
     ]
    }
   ],
   "source": [
    "VchitaniPodatociEksel = pd.read_excel(\"MashkoNaselenieVoMakedonija.xlsx\", sheet_name=1)\n",
    "VchitaniPodatociEksel.head()"
   ]
  },
  {
   "cell_type": "code",
   "execution_count": 8,
   "metadata": {},
   "outputs": [],
   "source": [
    "VchitaniPodatociCSV.to_excel('SandP500.xlsx')"
   ]
  },
  {
   "cell_type": "markdown",
   "metadata": {},
   "source": [
    "# Превземање податоци со API"
   ]
  },
  {
   "cell_type": "code",
   "execution_count": 38,
   "metadata": {},
   "outputs": [
    {
     "name": "stdout",
     "output_type": "stream",
     "text": [
      "404\n"
     ]
    }
   ],
   "source": [
    "import requests\n",
    "\n",
    "MestopolozhbaSkopje = {'lat':'41.99', 'lon':'21.425'}\n",
    "BaranjeZaPodatoci = requests.get('http://api.open-notify.org/podatoci.json')\n",
    "print(BaranjeZaPodatoci.status_code)"
   ]
  },
  {
   "cell_type": "code",
   "execution_count": 32,
   "metadata": {},
   "outputs": [
    {
     "name": "stdout",
     "output_type": "stream",
     "text": [
      "{'people': [{'name': 'Mark Vande Hei', 'craft': 'ISS'}, {'name': 'Oleg Novitskiy', 'craft': 'ISS'}, {'name': 'Pyotr Dubrov', 'craft': 'ISS'}, {'name': 'Thomas Pesquet', 'craft': 'ISS'}, {'name': 'Megan McArthur', 'craft': 'ISS'}, {'name': 'Shane Kimbrough', 'craft': 'ISS'}, {'name': 'Akihiko Hoshide', 'craft': 'ISS'}, {'name': 'Nie Haisheng', 'craft': 'Tiangong'}, {'name': 'Liu Boming', 'craft': 'Tiangong'}, {'name': 'Tang Hongbo', 'craft': 'Tiangong'}], 'number': 10, 'message': 'success'}\n"
     ]
    }
   ],
   "source": [
    "import requests\n",
    "\n",
    "MestopolozhbaSkopje = {'lat':'41.99', 'lon':'21.425'}\n",
    "BaranjeZaPodatoci = requests.get('http://api.open-notify.org/astros.json')\n",
    "print(BaranjeZaPodatoci.json())"
   ]
  },
  {
   "cell_type": "code",
   "execution_count": 34,
   "metadata": {},
   "outputs": [
    {
     "name": "stdout",
     "output_type": "stream",
     "text": [
      "{'message': 'success', 'request': {'altitude': 100, 'datetime': 1629274210, 'latitude': 41.99, 'longitude': 21.425, 'passes': 5}, 'response': [{'duration': 588, 'risetime': 1629275976}, {'duration': 612, 'risetime': 1629281827}, {'duration': 656, 'risetime': 1629287638}, {'duration': 541, 'risetime': 1629293477}, {'duration': 605, 'risetime': 1629347870}]}\n"
     ]
    }
   ],
   "source": [
    "import requests\n",
    "from datetime import datetime\n",
    "\n",
    "MestopolozhbaSkopje = {'lat':'41.99', 'lon':'21.425'}\n",
    "BaranjeZaPodatoci = requests.get('http://api.open-notify.org/iss-pass.json', \n",
    "                                 params=MestopolozhbaSkopje)\n",
    "print(BaranjeZaPodatoci.json())"
   ]
  },
  {
   "cell_type": "code",
   "execution_count": 35,
   "metadata": {},
   "outputs": [
    {
     "name": "stdout",
     "output_type": "stream",
     "text": [
      "2021-08-18 10:39:36\n",
      "2021-08-18 12:17:07\n",
      "2021-08-18 13:53:58\n",
      "2021-08-18 15:31:17\n",
      "2021-08-19 06:37:50\n"
     ]
    }
   ],
   "source": [
    "import requests\n",
    "from datetime import datetime\n",
    "\n",
    "MestopolozhbaSkopje = {'lat':'41.99', 'lon':'21.425'}\n",
    "BaranjeZaPodatoci = requests.get('http://api.open-notify.org/iss-pass.json', \n",
    "                                 params=MestopolozhbaSkopje)\n",
    "for i in BaranjeZaPodatoci.json()['response']:\n",
    "    print(datetime.fromtimestamp(i['risetime']))"
   ]
  },
  {
   "cell_type": "code",
   "execution_count": 36,
   "metadata": {},
   "outputs": [
    {
     "data": {
      "text/plain": [
       "{'count': 22,\n",
       " 'result': [{'description': 'APPLE INC',\n",
       "   'displaySymbol': 'AAPL',\n",
       "   'symbol': 'AAPL',\n",
       "   'type': 'Common Stock'},\n",
       "  {'description': 'Apple',\n",
       "   'displaySymbol': '13RI.L',\n",
       "   'symbol': '13RI.L',\n",
       "   'type': ''},\n",
       "  {'description': 'APPLE INC',\n",
       "   'displaySymbol': 'APC.HM',\n",
       "   'symbol': 'APC.HM',\n",
       "   'type': 'Common Stock'},\n",
       "  {'description': 'APPLE INC',\n",
       "   'displaySymbol': 'APC.F',\n",
       "   'symbol': 'APC.F',\n",
       "   'type': 'Common Stock'},\n",
       "  {'description': 'APPLE INC',\n",
       "   'displaySymbol': 'AAPL-RM.ME',\n",
       "   'symbol': 'AAPL-RM.ME',\n",
       "   'type': 'Common Stock'},\n",
       "  {'description': 'APPLE INC',\n",
       "   'displaySymbol': 'AAPL*.MX',\n",
       "   'symbol': 'AAPL*.MX',\n",
       "   'type': 'Common Stock'},\n",
       "  {'description': 'APPLE INC',\n",
       "   'displaySymbol': 'AAPLCL.SN',\n",
       "   'symbol': 'AAPLCL.SN',\n",
       "   'type': 'Common Stock'},\n",
       "  {'description': 'APPLE INC',\n",
       "   'displaySymbol': 'AAPLEUR.SW',\n",
       "   'symbol': 'AAPLEUR.SW',\n",
       "   'type': 'Common Stock'},\n",
       "  {'description': 'APPLE INC',\n",
       "   'displaySymbol': '0R2V.L',\n",
       "   'symbol': '0R2V.L',\n",
       "   'type': 'Common Stock'},\n",
       "  {'description': 'APPLE INC',\n",
       "   'displaySymbol': 'APC.SG',\n",
       "   'symbol': 'APC.SG',\n",
       "   'type': 'Common Stock'},\n",
       "  {'description': 'APPLE INC',\n",
       "   'displaySymbol': 'AAPL.VI',\n",
       "   'symbol': 'AAPL.VI',\n",
       "   'type': 'Common Stock'},\n",
       "  {'description': 'APPLE INC',\n",
       "   'displaySymbol': 'AAPL.SN',\n",
       "   'symbol': 'AAPL.SN',\n",
       "   'type': 'Common Stock'},\n",
       "  {'description': 'APPLE INC',\n",
       "   'displaySymbol': 'APC.BE',\n",
       "   'symbol': 'APC.BE',\n",
       "   'type': 'Common Stock'},\n",
       "  {'description': 'APPLE INC',\n",
       "   'displaySymbol': 'APC.DE',\n",
       "   'symbol': 'APC.DE',\n",
       "   'type': 'Common Stock'},\n",
       "  {'description': 'APPLE INC',\n",
       "   'displaySymbol': 'AAPL.MI',\n",
       "   'symbol': 'AAPL.MI',\n",
       "   'type': 'Common Stock'},\n",
       "  {'description': 'APPLE INC',\n",
       "   'displaySymbol': 'AAPL.BC',\n",
       "   'symbol': 'AAPL.BC',\n",
       "   'type': 'Common Stock'},\n",
       "  {'description': 'APPLE INC',\n",
       "   'displaySymbol': 'APC.MU',\n",
       "   'symbol': 'APC.MU',\n",
       "   'type': 'Common Stock'},\n",
       "  {'description': 'APPLE INC',\n",
       "   'displaySymbol': 'AAPLUSD.SW',\n",
       "   'symbol': 'AAPLUSD.SW',\n",
       "   'type': 'Common Stock'},\n",
       "  {'description': 'APPLE INC',\n",
       "   'displaySymbol': 'AAPL.SW',\n",
       "   'symbol': 'AAPL.SW',\n",
       "   'type': 'Common Stock'},\n",
       "  {'description': 'APPLE INC',\n",
       "   'displaySymbol': 'APC.DU',\n",
       "   'symbol': 'APC.DU',\n",
       "   'type': 'Common Stock'},\n",
       "  {'description': 'APPLE INC',\n",
       "   'displaySymbol': 'APC.HA',\n",
       "   'symbol': 'APC.HA',\n",
       "   'type': 'Common Stock'},\n",
       "  {'description': 'APPULSE CORP',\n",
       "   'displaySymbol': 'APL.V',\n",
       "   'symbol': 'APL.V',\n",
       "   'type': 'Common Stock'}]}"
      ]
     },
     "execution_count": 36,
     "metadata": {},
     "output_type": "execute_result"
    }
   ],
   "source": [
    "import requests\n",
    "\n",
    "BaranjeZaPodatoci = requests.get(\"https://finnhub.io/api/v1/search?q=apple&token=c2rskc2ad3icoseq11c0\")\n",
    "BaranjeZaPodatoci.json()"
   ]
  },
  {
   "cell_type": "markdown",
   "metadata": {},
   "source": [
    "# Работа со бази. Чанук база\n",
    "\n",
    "Базата е превземена од Интернет и е снимена во иста папка каде што е и оваа програма. Ќе направиме преглед да табелите (кои се), ќе вчитаме една табела и ќе ја сместиме во Пандас табела"
   ]
  },
  {
   "cell_type": "code",
   "execution_count": 25,
   "metadata": {
    "ExecuteTime": {
     "end_time": "2023-11-28T13:59:13.704748Z",
     "start_time": "2023-11-28T13:59:13.680409500Z"
    }
   },
   "outputs": [
    {
     "name": "stdout",
     "output_type": "stream",
     "text": [
      "[('albums',), ('sqlite_sequence',), ('artists',), ('customers',), ('employees',), ('genres',), ('invoices',), ('invoice_items',), ('media_types',), ('playlists',), ('playlist_track',), ('tracks',), ('sqlite_stat1',)]\n"
     ]
    }
   ],
   "source": [
    "import sqlite3\n",
    "import pandas as pd\n",
    "conn = sqlite3.connect('chinook.db')\n",
    "cursor = conn.cursor()\n",
    "cursor.execute(\"SELECT name FROM sqlite_master WHERE type='table';\")\n",
    "SpisokNaTabeli = cursor.fetchall()\n",
    "print(SpisokNaTabeli)"
   ]
  },
  {
   "cell_type": "code",
   "execution_count": 26,
   "metadata": {
    "ExecuteTime": {
     "end_time": "2023-11-28T13:59:14.716558900Z",
     "start_time": "2023-11-28T13:59:14.670332500Z"
    }
   },
   "outputs": [
    {
     "data": {
      "text/plain": "   0        1         2                    3    4                    5   \\\n0   1    Adams    Andrew      General Manager  NaN  1962-02-18 00:00:00   \n1   2  Edwards     Nancy        Sales Manager  1.0  1958-12-08 00:00:00   \n2   3  Peacock      Jane  Sales Support Agent  2.0  1973-08-29 00:00:00   \n3   4     Park  Margaret  Sales Support Agent  2.0  1947-09-19 00:00:00   \n4   5  Johnson     Steve  Sales Support Agent  2.0  1965-03-03 00:00:00   \n\n                    6                    7         8   9       10       11  \\\n0  2002-08-14 00:00:00  11120 Jasper Ave NW  Edmonton  AB  Canada  T5K 2N1   \n1  2002-05-01 00:00:00         825 8 Ave SW   Calgary  AB  Canada  T2P 2T3   \n2  2002-04-01 00:00:00        1111 6 Ave SW   Calgary  AB  Canada  T2P 5M5   \n3  2003-05-03 00:00:00     683 10 Street SW   Calgary  AB  Canada  T2P 5G3   \n4  2003-10-17 00:00:00         7727B 41 Ave   Calgary  AB  Canada  T3B 1Y7   \n\n                  12                 13                        14  \n0  +1 (780) 428-9482  +1 (780) 428-3457    andrew@chinookcorp.com  \n1  +1 (403) 262-3443  +1 (403) 262-3322     nancy@chinookcorp.com  \n2  +1 (403) 262-3443  +1 (403) 262-6712      jane@chinookcorp.com  \n3  +1 (403) 263-4423  +1 (403) 263-4289  margaret@chinookcorp.com  \n4   1 (780) 836-9987   1 (780) 836-9543     steve@chinookcorp.com  ",
      "text/html": "<div>\n<style scoped>\n    .dataframe tbody tr th:only-of-type {\n        vertical-align: middle;\n    }\n\n    .dataframe tbody tr th {\n        vertical-align: top;\n    }\n\n    .dataframe thead th {\n        text-align: right;\n    }\n</style>\n<table border=\"1\" class=\"dataframe\">\n  <thead>\n    <tr style=\"text-align: right;\">\n      <th></th>\n      <th>0</th>\n      <th>1</th>\n      <th>2</th>\n      <th>3</th>\n      <th>4</th>\n      <th>5</th>\n      <th>6</th>\n      <th>7</th>\n      <th>8</th>\n      <th>9</th>\n      <th>10</th>\n      <th>11</th>\n      <th>12</th>\n      <th>13</th>\n      <th>14</th>\n    </tr>\n  </thead>\n  <tbody>\n    <tr>\n      <th>0</th>\n      <td>1</td>\n      <td>Adams</td>\n      <td>Andrew</td>\n      <td>General Manager</td>\n      <td>NaN</td>\n      <td>1962-02-18 00:00:00</td>\n      <td>2002-08-14 00:00:00</td>\n      <td>11120 Jasper Ave NW</td>\n      <td>Edmonton</td>\n      <td>AB</td>\n      <td>Canada</td>\n      <td>T5K 2N1</td>\n      <td>+1 (780) 428-9482</td>\n      <td>+1 (780) 428-3457</td>\n      <td>andrew@chinookcorp.com</td>\n    </tr>\n    <tr>\n      <th>1</th>\n      <td>2</td>\n      <td>Edwards</td>\n      <td>Nancy</td>\n      <td>Sales Manager</td>\n      <td>1.0</td>\n      <td>1958-12-08 00:00:00</td>\n      <td>2002-05-01 00:00:00</td>\n      <td>825 8 Ave SW</td>\n      <td>Calgary</td>\n      <td>AB</td>\n      <td>Canada</td>\n      <td>T2P 2T3</td>\n      <td>+1 (403) 262-3443</td>\n      <td>+1 (403) 262-3322</td>\n      <td>nancy@chinookcorp.com</td>\n    </tr>\n    <tr>\n      <th>2</th>\n      <td>3</td>\n      <td>Peacock</td>\n      <td>Jane</td>\n      <td>Sales Support Agent</td>\n      <td>2.0</td>\n      <td>1973-08-29 00:00:00</td>\n      <td>2002-04-01 00:00:00</td>\n      <td>1111 6 Ave SW</td>\n      <td>Calgary</td>\n      <td>AB</td>\n      <td>Canada</td>\n      <td>T2P 5M5</td>\n      <td>+1 (403) 262-3443</td>\n      <td>+1 (403) 262-6712</td>\n      <td>jane@chinookcorp.com</td>\n    </tr>\n    <tr>\n      <th>3</th>\n      <td>4</td>\n      <td>Park</td>\n      <td>Margaret</td>\n      <td>Sales Support Agent</td>\n      <td>2.0</td>\n      <td>1947-09-19 00:00:00</td>\n      <td>2003-05-03 00:00:00</td>\n      <td>683 10 Street SW</td>\n      <td>Calgary</td>\n      <td>AB</td>\n      <td>Canada</td>\n      <td>T2P 5G3</td>\n      <td>+1 (403) 263-4423</td>\n      <td>+1 (403) 263-4289</td>\n      <td>margaret@chinookcorp.com</td>\n    </tr>\n    <tr>\n      <th>4</th>\n      <td>5</td>\n      <td>Johnson</td>\n      <td>Steve</td>\n      <td>Sales Support Agent</td>\n      <td>2.0</td>\n      <td>1965-03-03 00:00:00</td>\n      <td>2003-10-17 00:00:00</td>\n      <td>7727B 41 Ave</td>\n      <td>Calgary</td>\n      <td>AB</td>\n      <td>Canada</td>\n      <td>T3B 1Y7</td>\n      <td>1 (780) 836-9987</td>\n      <td>1 (780) 836-9543</td>\n      <td>steve@chinookcorp.com</td>\n    </tr>\n  </tbody>\n</table>\n</div>"
     },
     "execution_count": 26,
     "metadata": {},
     "output_type": "execute_result"
    }
   ],
   "source": [
    "import sqlite3\n",
    "import pandas as pd\n",
    "conn = sqlite3.connect('chinook.db')\n",
    "cursor = conn.cursor()\n",
    "cursor.execute(\"SELECT * FROM employees\")\n",
    "IzvlechenaTabela = cursor.fetchall()\n",
    "PandasTabela = pd.DataFrame(IzvlechenaTabela)\n",
    "PandasTabela.head()"
   ]
  },
  {
   "cell_type": "code",
   "execution_count": null,
   "metadata": {},
   "outputs": [],
   "source": []
  }
 ],
 "metadata": {
  "kernelspec": {
   "display_name": "Python 3",
   "language": "python",
   "name": "python3"
  },
  "language_info": {
   "codemirror_mode": {
    "name": "ipython",
    "version": 3
   },
   "file_extension": ".py",
   "mimetype": "text/x-python",
   "name": "python",
   "nbconvert_exporter": "python",
   "pygments_lexer": "ipython3",
   "version": "3.7.6"
  }
 },
 "nbformat": 4,
 "nbformat_minor": 4
}
