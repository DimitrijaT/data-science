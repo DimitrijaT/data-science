{
 "cells": [
  {
   "cell_type": "code",
   "execution_count": 1,
   "id": "initial_id",
   "metadata": {
    "collapsed": true,
    "ExecuteTime": {
     "end_time": "2023-11-26T13:08:43.745399300Z",
     "start_time": "2023-11-26T13:08:42.483014900Z"
    }
   },
   "outputs": [],
   "source": [
    "from pyspark.sql import SparkSession\n",
    "from pyspark.sql.functions import *\n",
    "from pyspark.ml import Pipeline\n",
    "from pyspark.ml.feature import VectorAssembler\n",
    "from pyspark.ml.feature import StringIndexer\n",
    "from pyspark.ml.classification import NaiveBayes\n",
    "from pyspark.ml.evaluation import MulticlassClassificationEvaluator\n",
    "import pandas as pd"
   ]
  },
  {
   "cell_type": "code",
   "execution_count": 2,
   "outputs": [],
   "source": [
    "vehicle_data = pd.read_csv(\"data/vehicle_stolen_dataset.csv\", header=None)"
   ],
   "metadata": {
    "collapsed": false,
    "ExecuteTime": {
     "end_time": "2023-11-26T13:08:43.773656600Z",
     "start_time": "2023-11-26T13:08:43.731898800Z"
    }
   },
   "id": "3af673245d5ea5bc"
  },
  {
   "cell_type": "code",
   "execution_count": 3,
   "outputs": [],
   "source": [
    "spark = SparkSession.builder.master(\"local\").getOrCreate()"
   ],
   "metadata": {
    "collapsed": false,
    "ExecuteTime": {
     "end_time": "2023-11-26T13:08:47.228858Z",
     "start_time": "2023-11-26T13:08:43.762280600Z"
    }
   },
   "id": "cf74c8bccd296b82"
  },
  {
   "cell_type": "code",
   "execution_count": 4,
   "outputs": [],
   "source": [
    "vehicle_df = spark.createDataFrame(vehicle_data)"
   ],
   "metadata": {
    "collapsed": false,
    "ExecuteTime": {
     "end_time": "2023-11-26T13:08:49.463017700Z",
     "start_time": "2023-11-26T13:08:47.229867400Z"
    }
   },
   "id": "fd85609e1ff60dce"
  },
  {
   "cell_type": "code",
   "execution_count": 5,
   "outputs": [
    {
     "name": "stdout",
     "output_type": "stream",
     "text": [
      "+----+------+-----+-----+---+\n",
      "|   0|     1|    2|    3|  4|\n",
      "+----+------+-----+-----+---+\n",
      "|N001|   BMW|black|night|yes|\n",
      "|N002|  Audi|black|night| no|\n",
      "|N003|NISSAN|black|night|yes|\n",
      "|N004|  VEGA|  red|  day|yes|\n",
      "|N005|   BMW| blue|  day| no|\n",
      "+----+------+-----+-----+---+\n"
     ]
    }
   ],
   "source": [
    "vehicle_df.show(5)"
   ],
   "metadata": {
    "collapsed": false,
    "ExecuteTime": {
     "end_time": "2023-11-26T13:08:51.090018100Z",
     "start_time": "2023-11-26T13:08:49.466526500Z"
    }
   },
   "id": "9c702eea47f925c7"
  },
  {
   "cell_type": "code",
   "execution_count": 6,
   "outputs": [],
   "source": [
    "vehicle_df = vehicle_df.select(\n",
    "    col(\"0\").alias(\"number_plate\"),\n",
    "    col(\"1\").alias(\"brand\"),\n",
    "    col(\"2\").alias(\"color\"),\n",
    "    col(\"3\").alias(\"time\"),\n",
    "    col(\"4\").alias(\"stolen\"),\n",
    ")"
   ],
   "metadata": {
    "collapsed": false,
    "ExecuteTime": {
     "end_time": "2023-11-26T13:08:51.166186100Z",
     "start_time": "2023-11-26T13:08:51.090018100Z"
    }
   },
   "id": "816dc299d23cc923"
  },
  {
   "cell_type": "code",
   "execution_count": 7,
   "outputs": [
    {
     "name": "stdout",
     "output_type": "stream",
     "text": [
      "+------------+------+-----+-----+------+\n",
      "|number_plate| brand|color| time|stolen|\n",
      "+------------+------+-----+-----+------+\n",
      "|        N001|   BMW|black|night|   yes|\n",
      "|        N002|  Audi|black|night|    no|\n",
      "|        N003|NISSAN|black|night|   yes|\n",
      "|        N004|  VEGA|  red|  day|   yes|\n",
      "|        N005|   BMW| blue|  day|    no|\n",
      "+------------+------+-----+-----+------+\n"
     ]
    }
   ],
   "source": [
    "vehicle_df.show(5)"
   ],
   "metadata": {
    "collapsed": false,
    "ExecuteTime": {
     "end_time": "2023-11-26T13:08:51.949242600Z",
     "start_time": "2023-11-26T13:08:51.137932700Z"
    }
   },
   "id": "1cec18794605351"
  },
  {
   "cell_type": "code",
   "execution_count": 8,
   "outputs": [],
   "source": [
    "indexers = [\n",
    "    StringIndexer(inputCol=\"brand\", outputCol=\"brand_index\"),\n",
    "    StringIndexer(inputCol=\"color\", outputCol=\"color_index\"),\n",
    "    StringIndexer(inputCol=\"time\", outputCol=\"time_index\"),\n",
    "    StringIndexer(inputCol=\"stolen\", outputCol=\"label\"),\n",
    "]"
   ],
   "metadata": {
    "collapsed": false,
    "ExecuteTime": {
     "end_time": "2023-11-26T13:08:52.021917900Z",
     "start_time": "2023-11-26T13:08:51.948240400Z"
    }
   },
   "id": "349e0c1f552fbfc3"
  },
  {
   "cell_type": "code",
   "execution_count": 9,
   "outputs": [],
   "source": [
    "pipeline = Pipeline(stages=indexers)"
   ],
   "metadata": {
    "collapsed": false,
    "ExecuteTime": {
     "end_time": "2023-11-26T13:08:52.074318600Z",
     "start_time": "2023-11-26T13:08:51.994215700Z"
    }
   },
   "id": "83874e0e10376665"
  },
  {
   "cell_type": "code",
   "execution_count": 10,
   "outputs": [],
   "source": [
    "indexed_vehicle_df = pipeline.fit(vehicle_df).transform(vehicle_df)"
   ],
   "metadata": {
    "collapsed": false,
    "ExecuteTime": {
     "end_time": "2023-11-26T13:08:55.817917800Z",
     "start_time": "2023-11-26T13:08:52.009660300Z"
    }
   },
   "id": "df7983e37a7c4a4f"
  },
  {
   "cell_type": "code",
   "execution_count": 11,
   "outputs": [
    {
     "name": "stdout",
     "output_type": "stream",
     "text": [
      "+------------+------+-----+-----+------+-----------+-----------+----------+-----+\n",
      "|number_plate|brand |color|time |stolen|brand_index|color_index|time_index|label|\n",
      "+------------+------+-----+-----+------+-----------+-----------+----------+-----+\n",
      "|N001        |BMW   |black|night|yes   |1.0        |0.0        |1.0       |0.0  |\n",
      "|N002        |Audi  |black|night|no    |0.0        |0.0        |1.0       |1.0  |\n",
      "|N003        |NISSAN|black|night|yes   |2.0        |0.0        |1.0       |0.0  |\n",
      "|N004        |VEGA  |red  |day  |yes   |3.0        |1.0        |0.0       |0.0  |\n",
      "|N005        |BMW   |blue |day  |no    |1.0        |2.0        |0.0       |1.0  |\n",
      "+------------+------+-----+-----+------+-----------+-----------+----------+-----+\n"
     ]
    }
   ],
   "source": [
    "indexed_vehicle_df.show(5, False)"
   ],
   "metadata": {
    "collapsed": false,
    "ExecuteTime": {
     "end_time": "2023-11-26T13:08:56.656746600Z",
     "start_time": "2023-11-26T13:08:55.817917800Z"
    }
   },
   "id": "5558a49ad712b00c"
  },
  {
   "cell_type": "code",
   "execution_count": 12,
   "outputs": [
    {
     "name": "stdout",
     "output_type": "stream",
     "text": [
      "+------------+------+-----+-----+------+-----------+-----------+----------+-----+-------------+\n",
      "|number_plate|brand |color|time |stolen|brand_index|color_index|time_index|label|features     |\n",
      "+------------+------+-----+-----+------+-----------+-----------+----------+-----+-------------+\n",
      "|N001        |BMW   |black|night|yes   |1.0        |0.0        |1.0       |0.0  |[1.0,0.0,1.0]|\n",
      "|N002        |Audi  |black|night|no    |0.0        |0.0        |1.0       |1.0  |[0.0,0.0,1.0]|\n",
      "|N003        |NISSAN|black|night|yes   |2.0        |0.0        |1.0       |0.0  |[2.0,0.0,1.0]|\n",
      "|N004        |VEGA  |red  |day  |yes   |3.0        |1.0        |0.0       |0.0  |[3.0,1.0,0.0]|\n",
      "|N005        |BMW   |blue |day  |no    |1.0        |2.0        |0.0       |1.0  |[1.0,2.0,0.0]|\n",
      "+------------+------+-----+-----+------+-----------+-----------+----------+-----+-------------+\n"
     ]
    }
   ],
   "source": [
    "vectorAssembler = VectorAssembler(inputCols=[\"brand_index\",\n",
    "                                             \"color_index\",\n",
    "                                             \"time_index\"],\n",
    "                                  outputCol= \"features\")\n",
    "vindexed_vehicle_df = vectorAssembler.transform(indexed_vehicle_df)\n",
    "\n",
    "vindexed_vehicle_df.show(5, False)"
   ],
   "metadata": {
    "collapsed": false,
    "ExecuteTime": {
     "end_time": "2023-11-26T13:08:57.700831900Z",
     "start_time": "2023-11-26T13:08:56.659136900Z"
    }
   },
   "id": "2a7513679017a147"
  },
  {
   "cell_type": "code",
   "execution_count": 13,
   "outputs": [],
   "source": [
    "splits = vindexed_vehicle_df.randomSplit([0.6,0.4], 42)"
   ],
   "metadata": {
    "collapsed": false,
    "ExecuteTime": {
     "end_time": "2023-11-26T13:08:57.760870Z",
     "start_time": "2023-11-26T13:08:57.702349Z"
    }
   },
   "id": "4d75d2ac3279ed89"
  },
  {
   "cell_type": "code",
   "execution_count": 14,
   "outputs": [],
   "source": [
    "train_df = splits[0]\n",
    "test_df = splits[1]"
   ],
   "metadata": {
    "collapsed": false,
    "ExecuteTime": {
     "end_time": "2023-11-26T13:08:57.827485800Z",
     "start_time": "2023-11-26T13:08:57.736097Z"
    }
   },
   "id": "1fe6bcbbda674cd"
  },
  {
   "cell_type": "code",
   "execution_count": 15,
   "outputs": [],
   "source": [
    "nb = NaiveBayes(modelType=\"multinomial\")\n",
    "\n",
    "nbmodel = nb.fit(train_df)"
   ],
   "metadata": {
    "collapsed": false,
    "ExecuteTime": {
     "end_time": "2023-11-26T13:08:59.290871800Z",
     "start_time": "2023-11-26T13:08:57.747768400Z"
    }
   },
   "id": "4ec249c45aad05ec"
  },
  {
   "cell_type": "code",
   "execution_count": 16,
   "outputs": [],
   "source": [
    "predictions_df = nbmodel.transform(test_df)"
   ],
   "metadata": {
    "collapsed": false,
    "ExecuteTime": {
     "end_time": "2023-11-26T13:08:59.367079900Z",
     "start_time": "2023-11-26T13:08:59.291941900Z"
    }
   },
   "id": "67b768349236a63a"
  },
  {
   "cell_type": "code",
   "execution_count": 17,
   "outputs": [
    {
     "name": "stdout",
     "output_type": "stream",
     "text": [
      "+------------+------+-----+-----+------+-----------+-----------+----------+-----+-------------+--------------------+--------------------+----------+\n",
      "|number_plate| brand|color| time|stolen|brand_index|color_index|time_index|label|     features|       rawPrediction|         probability|prediction|\n",
      "+------------+------+-----+-----+------+-----------+-----------+----------+-----+-------------+--------------------+--------------------+----------+\n",
      "|        N001|   BMW|black|night|   yes|        1.0|        0.0|       1.0|  0.0|[1.0,0.0,1.0]|[-2.8415815937267...|[0.70850202429149...|       0.0|\n",
      "|        N003|NISSAN|black|night|   yes|        2.0|        0.0|       1.0|  0.0|[2.0,0.0,1.0]|[-3.5347287742866...|[0.85868498527968...|       0.0|\n",
      "|        N005|   BMW| blue|  day|    no|        1.0|        2.0|       0.0|  1.0|[1.0,2.0,0.0]|[-3.2470467018348...|[0.80201649862511...|       0.0|\n",
      "|        N007|  VEGA|  red|night|    no|        3.0|        1.0|       1.0|  1.0|[3.0,1.0,1.0]|[-5.3264882435147...|[0.92678896750413...|       0.0|\n",
      "|        N009|  VEGA|black|  day|   yes|        3.0|        0.0|       0.0|  0.0|[3.0,0.0,0.0]|[-2.4361164856185...|[0.97330367074527...|       0.0|\n",
      "+------------+------+-----+-----+------+-----------+-----------+----------+-----+-------------+--------------------+--------------------+----------+\n"
     ]
    }
   ],
   "source": [
    "predictions_df.show(5)"
   ],
   "metadata": {
    "collapsed": false,
    "ExecuteTime": {
     "end_time": "2023-11-26T13:09:00.457839700Z",
     "start_time": "2023-11-26T13:08:59.369102800Z"
    }
   },
   "id": "a92cc63483922a1a"
  }
 ],
 "metadata": {
  "kernelspec": {
   "display_name": "Python 3",
   "language": "python",
   "name": "python3"
  },
  "language_info": {
   "codemirror_mode": {
    "name": "ipython",
    "version": 2
   },
   "file_extension": ".py",
   "mimetype": "text/x-python",
   "name": "python",
   "nbconvert_exporter": "python",
   "pygments_lexer": "ipython2",
   "version": "2.7.6"
  }
 },
 "nbformat": 4,
 "nbformat_minor": 5
}
