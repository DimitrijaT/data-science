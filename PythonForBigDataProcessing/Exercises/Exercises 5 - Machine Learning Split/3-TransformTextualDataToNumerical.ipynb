{
 "cells": [
  {
   "cell_type": "markdown",
   "source": [
    "# Вежба 3: Репрезентација на текстуални податоци во нумеричка форма"
   ],
   "metadata": {
    "collapsed": false
   },
   "id": "d45ff5e4bf0ea968"
  },
  {
   "cell_type": "markdown",
   "source": [
    "## CountVectorizer"
   ],
   "metadata": {
    "collapsed": false
   },
   "id": "92f0e9305813d4d6"
  },
  {
   "cell_type": "markdown",
   "source": [
    "Ја импортираме CountVectorizer класата со цел да работиме со frequencey-based репрезентација"
   ],
   "metadata": {
    "collapsed": false
   },
   "id": "d3013f1a2ecfb7ac"
  },
  {
   "cell_type": "code",
   "execution_count": 1,
   "outputs": [],
   "source": [
    "from sklearn.feature_extraction.text import CountVectorizer"
   ],
   "metadata": {
    "collapsed": false,
    "ExecuteTime": {
     "end_time": "2023-12-02T17:52:39.221932500Z",
     "start_time": "2023-12-02T17:52:38.554074600Z"
    }
   },
   "id": "7fae47b274055065"
  },
  {
   "cell_type": "markdown",
   "source": [
    "Ова е корпусот кој ќе го користиме и содржи 4 документи"
   ],
   "metadata": {
    "collapsed": false
   },
   "id": "dd411f13b361a47f"
  },
  {
   "cell_type": "code",
   "execution_count": 2,
   "outputs": [],
   "source": [
    "corpus = ['This is the first document.',\n",
    "          'This is the second document.',\n",
    "          'Third document. Document number three',\n",
    "          'Number four. To repeat, number four']"
   ],
   "metadata": {
    "collapsed": false,
    "ExecuteTime": {
     "end_time": "2023-12-02T17:52:39.236199100Z",
     "start_time": "2023-12-02T17:52:39.216739Z"
    }
   },
   "id": "ba15b7b532ea2414"
  },
  {
   "cell_type": "markdown",
   "source": [
    "Ја иницијализираме класата со CountVectorizer()\n",
    "За да секој збор во корпусот добие уникатно ID се користи vectorizer.fit(<data>). Со ова се учи целиот речник. \n",
    "Методот vectorizer.transform(<data>) ги назначува генерираните уникатни ID-а на соодветните зборови.\n",
    "Како и да е, најчесто се користат двата методи истовременo со користење на методот vectorizer.fit_transform(<data>) кој генерира торба од зборови\n",
    "bag_of_words е sparse 4x12 матрица бидејќи во корпусот има 4 документи со вкупно 12 зборови."
   ],
   "metadata": {
    "collapsed": false
   },
   "id": "3fd2c105a2e6648f"
  },
  {
   "cell_type": "code",
   "execution_count": 3,
   "outputs": [
    {
     "data": {
      "text/plain": "<4x12 sparse matrix of type '<class 'numpy.int64'>'\n\twith 18 stored elements in Compressed Sparse Row format>"
     },
     "execution_count": 3,
     "metadata": {},
     "output_type": "execute_result"
    }
   ],
   "source": [
    "vectorizer = CountVectorizer()\n",
    "bag_or_words = vectorizer.fit_transform(corpus)\n",
    "bag_or_words"
   ],
   "metadata": {
    "collapsed": false,
    "ExecuteTime": {
     "end_time": "2023-12-02T17:52:40.257585200Z",
     "start_time": "2023-12-02T17:52:40.247682400Z"
    }
   },
   "id": "edd9b0b820835fda"
  },
  {
   "cell_type": "code",
   "execution_count": 7,
   "outputs": [
    {
     "data": {
      "text/plain": "(4, 12)"
     },
     "execution_count": 7,
     "metadata": {},
     "output_type": "execute_result"
    }
   ],
   "source": [
    "bag_or_words.shape"
   ],
   "metadata": {
    "collapsed": false,
    "ExecuteTime": {
     "end_time": "2023-12-02T17:53:12.157415900Z",
     "start_time": "2023-12-02T17:53:12.143393Z"
    }
   },
   "id": "34c6237b92f170a7"
  },
  {
   "cell_type": "markdown",
   "source": [
    "Се печати bag_of_words во следниов формат:\n",
    "(ID на документ, ID на збор)    фреквенција на појавување"
   ],
   "metadata": {
    "collapsed": false
   },
   "id": "2612b04836b9064f"
  },
  {
   "cell_type": "code",
   "execution_count": 4,
   "outputs": [
    {
     "name": "stdout",
     "output_type": "stream",
     "text": [
      "  (0, 9)\t1\n",
      "  (0, 3)\t1\n",
      "  (0, 7)\t1\n",
      "  (0, 1)\t1\n",
      "  (0, 0)\t1\n",
      "  (1, 9)\t1\n",
      "  (1, 3)\t1\n",
      "  (1, 7)\t1\n",
      "  (1, 0)\t1\n",
      "  (1, 6)\t1\n",
      "  (2, 0)\t2\n",
      "  (2, 8)\t1\n",
      "  (2, 4)\t1\n",
      "  (2, 10)\t1\n",
      "  (3, 4)\t2\n",
      "  (3, 2)\t2\n",
      "  (3, 11)\t1\n",
      "  (3, 5)\t1\n"
     ]
    }
   ],
   "source": [
    "print(bag_or_words)"
   ],
   "metadata": {
    "collapsed": false,
    "ExecuteTime": {
     "end_time": "2023-11-30T19:54:51.019014900Z",
     "start_time": "2023-11-30T19:54:50.993578500Z"
    }
   },
   "id": "a82db5c6c796ddfc"
  },
  {
   "cell_type": "markdown",
   "source": [
    "За да го видиме ID-то на зборот second, го користиме следниов код"
   ],
   "metadata": {
    "collapsed": false
   },
   "id": "b162a751d0f27bc"
  },
  {
   "cell_type": "code",
   "execution_count": 5,
   "outputs": [
    {
     "data": {
      "text/plain": "6"
     },
     "execution_count": 5,
     "metadata": {},
     "output_type": "execute_result"
    }
   ],
   "source": [
    "vectorizer.vocabulary_.get('second')"
   ],
   "metadata": {
    "collapsed": false,
    "ExecuteTime": {
     "end_time": "2023-11-30T15:11:12.624666500Z",
     "start_time": "2023-11-30T15:11:12.592949400Z"
    }
   },
   "id": "a234fd3bea4afbf"
  },
  {
   "cell_type": "markdown",
   "source": [
    "Еве ги сите 12 зборови во речникот"
   ],
   "metadata": {
    "collapsed": false
   },
   "id": "382f1b1538074e30"
  },
  {
   "cell_type": "code",
   "execution_count": 5,
   "outputs": [
    {
     "data": {
      "text/plain": "{'this': 9,\n 'is': 3,\n 'the': 7,\n 'first': 1,\n 'document': 0,\n 'second': 6,\n 'third': 8,\n 'number': 4,\n 'three': 10,\n 'four': 2,\n 'to': 11,\n 'repeat': 5}"
     },
     "execution_count": 5,
     "metadata": {},
     "output_type": "execute_result"
    }
   ],
   "source": [
    "vectorizer.vocabulary_"
   ],
   "metadata": {
    "collapsed": false,
    "ExecuteTime": {
     "end_time": "2023-11-30T19:55:59.532808400Z",
     "start_time": "2023-11-30T19:55:59.500995500Z"
    }
   },
   "id": "d255e073143a3dd4"
  },
  {
   "cell_type": "code",
   "execution_count": 6,
   "outputs": [
    {
     "name": "stdout",
     "output_type": "stream",
     "text": [
      "1.4.2\n"
     ]
    }
   ],
   "source": [
    "import pandas as pd\n",
    "\n",
    "print(pd.__version__)"
   ],
   "metadata": {
    "collapsed": false,
    "ExecuteTime": {
     "end_time": "2023-11-30T19:56:11.910274400Z",
     "start_time": "2023-11-30T19:56:11.442656800Z"
    }
   },
   "id": "dcf6ddb0568b56f3"
  },
  {
   "cell_type": "markdown",
   "source": [
    "За да го видиме во табеларен формат ни треба pandas библиотеката. Во табелата редовите ги претставуваат документите, а колоните се зборовите од речникот. Вредностите се фреквенциите на секој збор во даден документ."
   ],
   "metadata": {
    "collapsed": false
   },
   "id": "1f1bc0dd1204a081"
  },
  {
   "cell_type": "code",
   "execution_count": 7,
   "outputs": [
    {
     "data": {
      "text/plain": "   document  first  four  is  number  repeat  second  the  third  this  three  \\\n0         1      1     0   1       0       0       0    1      0     1      0   \n1         1      0     0   1       0       0       1    1      0     1      0   \n2         2      0     0   0       1       0       0    0      1     0      1   \n3         0      0     2   0       2       1       0    0      0     0      0   \n\n   to  \n0   0  \n1   0  \n2   0  \n3   1  ",
      "text/html": "<div>\n<style scoped>\n    .dataframe tbody tr th:only-of-type {\n        vertical-align: middle;\n    }\n\n    .dataframe tbody tr th {\n        vertical-align: top;\n    }\n\n    .dataframe thead th {\n        text-align: right;\n    }\n</style>\n<table border=\"1\" class=\"dataframe\">\n  <thead>\n    <tr style=\"text-align: right;\">\n      <th></th>\n      <th>document</th>\n      <th>first</th>\n      <th>four</th>\n      <th>is</th>\n      <th>number</th>\n      <th>repeat</th>\n      <th>second</th>\n      <th>the</th>\n      <th>third</th>\n      <th>this</th>\n      <th>three</th>\n      <th>to</th>\n    </tr>\n  </thead>\n  <tbody>\n    <tr>\n      <th>0</th>\n      <td>1</td>\n      <td>1</td>\n      <td>0</td>\n      <td>1</td>\n      <td>0</td>\n      <td>0</td>\n      <td>0</td>\n      <td>1</td>\n      <td>0</td>\n      <td>1</td>\n      <td>0</td>\n      <td>0</td>\n    </tr>\n    <tr>\n      <th>1</th>\n      <td>1</td>\n      <td>0</td>\n      <td>0</td>\n      <td>1</td>\n      <td>0</td>\n      <td>0</td>\n      <td>1</td>\n      <td>1</td>\n      <td>0</td>\n      <td>1</td>\n      <td>0</td>\n      <td>0</td>\n    </tr>\n    <tr>\n      <th>2</th>\n      <td>2</td>\n      <td>0</td>\n      <td>0</td>\n      <td>0</td>\n      <td>1</td>\n      <td>0</td>\n      <td>0</td>\n      <td>0</td>\n      <td>1</td>\n      <td>0</td>\n      <td>1</td>\n      <td>0</td>\n    </tr>\n    <tr>\n      <th>3</th>\n      <td>0</td>\n      <td>0</td>\n      <td>2</td>\n      <td>0</td>\n      <td>2</td>\n      <td>1</td>\n      <td>0</td>\n      <td>0</td>\n      <td>0</td>\n      <td>0</td>\n      <td>0</td>\n      <td>1</td>\n    </tr>\n  </tbody>\n</table>\n</div>"
     },
     "execution_count": 7,
     "metadata": {},
     "output_type": "execute_result"
    }
   ],
   "source": [
    "pd.DataFrame(bag_or_words.toarray(), columns=vectorizer.get_feature_names_out())"
   ],
   "metadata": {
    "collapsed": false,
    "ExecuteTime": {
     "end_time": "2023-11-30T19:56:27.711317600Z",
     "start_time": "2023-11-30T19:56:27.674826100Z"
    }
   },
   "id": "85fc0bde4779e0fc"
  },
  {
   "cell_type": "markdown",
   "source": [
    "## TfidfVectorizer"
   ],
   "metadata": {
    "collapsed": false
   },
   "id": "5f13f2db6df22479"
  },
  {
   "cell_type": "markdown",
   "source": [
    "Еве пример како се користи TF-IDF алгоритам за доделување на вредност на секој од зборовите"
   ],
   "metadata": {
    "collapsed": false
   },
   "id": "2bbd5c13287fc976"
  },
  {
   "cell_type": "code",
   "execution_count": 8,
   "outputs": [],
   "source": [
    "from sklearn.feature_extraction.text import TfidfVectorizer\n",
    "\n",
    "vectorizer = TfidfVectorizer()\n",
    "bag_of_words = vectorizer.fit_transform(corpus)"
   ],
   "metadata": {
    "collapsed": false,
    "ExecuteTime": {
     "end_time": "2023-11-30T19:58:17.511179800Z",
     "start_time": "2023-11-30T19:58:17.461449Z"
    }
   },
   "id": "18a46b7c43dfb0ea"
  },
  {
   "cell_type": "markdown",
   "source": [
    "Еве ја bag_of_words репрезентацијата. Секој збор во секој документ има асоцирана TF-IDF вредност"
   ],
   "metadata": {
    "collapsed": false
   },
   "id": "ad38a2d3513bb9ee"
  },
  {
   "cell_type": "code",
   "execution_count": 9,
   "outputs": [
    {
     "name": "stdout",
     "output_type": "stream",
     "text": [
      "  (0, 0)\t0.3528554929793508\n",
      "  (0, 1)\t0.5528163151092931\n",
      "  (0, 7)\t0.43584673254990375\n",
      "  (0, 3)\t0.43584673254990375\n",
      "  (0, 9)\t0.43584673254990375\n",
      "  (1, 6)\t0.5528163151092931\n",
      "  (1, 0)\t0.3528554929793508\n",
      "  (1, 7)\t0.43584673254990375\n",
      "  (1, 3)\t0.43584673254990375\n",
      "  (1, 9)\t0.43584673254990375\n",
      "  (2, 10)\t0.4850008395708102\n",
      "  (2, 4)\t0.3823802326982809\n",
      "  (2, 8)\t0.4850008395708102\n",
      "  (2, 0)\t0.6191395067937654\n",
      "  (3, 5)\t0.3432724906138499\n",
      "  (3, 11)\t0.3432724906138499\n",
      "  (3, 2)\t0.6865449812276998\n",
      "  (3, 4)\t0.5412799489419371\n"
     ]
    }
   ],
   "source": [
    "print(bag_of_words)"
   ],
   "metadata": {
    "collapsed": false,
    "ExecuteTime": {
     "end_time": "2023-11-30T19:58:18.344534300Z",
     "start_time": "2023-11-30T19:58:18.312867500Z"
    }
   },
   "id": "105ee1768cbeccd3"
  },
  {
   "cell_type": "code",
   "execution_count": 10,
   "outputs": [
    {
     "data": {
      "text/plain": "6"
     },
     "execution_count": 10,
     "metadata": {},
     "output_type": "execute_result"
    }
   ],
   "source": [
    "vectorizer.vocabulary_.get('second')"
   ],
   "metadata": {
    "collapsed": false,
    "ExecuteTime": {
     "end_time": "2023-11-30T19:58:51.023588200Z",
     "start_time": "2023-11-30T19:58:50.970351700Z"
    }
   },
   "id": "8b9f3257a1f43023"
  },
  {
   "cell_type": "markdown",
   "source": [
    "Вредностите во табеларниот приказ сега се TF-IDF вредност, а не фреквенција на зборот"
   ],
   "metadata": {
    "collapsed": false
   },
   "id": "88000165dc7f5338"
  },
  {
   "cell_type": "code",
   "execution_count": 11,
   "outputs": [
    {
     "data": {
      "text/plain": "   document     first      four        is   number    repeat    second  \\\n0  0.352855  0.552816  0.000000  0.435847  0.00000  0.000000  0.000000   \n1  0.352855  0.000000  0.000000  0.435847  0.00000  0.000000  0.552816   \n2  0.619140  0.000000  0.000000  0.000000  0.38238  0.000000  0.000000   \n3  0.000000  0.000000  0.686545  0.000000  0.54128  0.343272  0.000000   \n\n        the     third      this     three        to  \n0  0.435847  0.000000  0.435847  0.000000  0.000000  \n1  0.435847  0.000000  0.435847  0.000000  0.000000  \n2  0.000000  0.485001  0.000000  0.485001  0.000000  \n3  0.000000  0.000000  0.000000  0.000000  0.343272  ",
      "text/html": "<div>\n<style scoped>\n    .dataframe tbody tr th:only-of-type {\n        vertical-align: middle;\n    }\n\n    .dataframe tbody tr th {\n        vertical-align: top;\n    }\n\n    .dataframe thead th {\n        text-align: right;\n    }\n</style>\n<table border=\"1\" class=\"dataframe\">\n  <thead>\n    <tr style=\"text-align: right;\">\n      <th></th>\n      <th>document</th>\n      <th>first</th>\n      <th>four</th>\n      <th>is</th>\n      <th>number</th>\n      <th>repeat</th>\n      <th>second</th>\n      <th>the</th>\n      <th>third</th>\n      <th>this</th>\n      <th>three</th>\n      <th>to</th>\n    </tr>\n  </thead>\n  <tbody>\n    <tr>\n      <th>0</th>\n      <td>0.352855</td>\n      <td>0.552816</td>\n      <td>0.000000</td>\n      <td>0.435847</td>\n      <td>0.00000</td>\n      <td>0.000000</td>\n      <td>0.000000</td>\n      <td>0.435847</td>\n      <td>0.000000</td>\n      <td>0.435847</td>\n      <td>0.000000</td>\n      <td>0.000000</td>\n    </tr>\n    <tr>\n      <th>1</th>\n      <td>0.352855</td>\n      <td>0.000000</td>\n      <td>0.000000</td>\n      <td>0.435847</td>\n      <td>0.00000</td>\n      <td>0.000000</td>\n      <td>0.552816</td>\n      <td>0.435847</td>\n      <td>0.000000</td>\n      <td>0.435847</td>\n      <td>0.000000</td>\n      <td>0.000000</td>\n    </tr>\n    <tr>\n      <th>2</th>\n      <td>0.619140</td>\n      <td>0.000000</td>\n      <td>0.000000</td>\n      <td>0.000000</td>\n      <td>0.38238</td>\n      <td>0.000000</td>\n      <td>0.000000</td>\n      <td>0.000000</td>\n      <td>0.485001</td>\n      <td>0.000000</td>\n      <td>0.485001</td>\n      <td>0.000000</td>\n    </tr>\n    <tr>\n      <th>3</th>\n      <td>0.000000</td>\n      <td>0.000000</td>\n      <td>0.686545</td>\n      <td>0.000000</td>\n      <td>0.54128</td>\n      <td>0.343272</td>\n      <td>0.000000</td>\n      <td>0.000000</td>\n      <td>0.000000</td>\n      <td>0.000000</td>\n      <td>0.000000</td>\n      <td>0.343272</td>\n    </tr>\n  </tbody>\n</table>\n</div>"
     },
     "execution_count": 11,
     "metadata": {},
     "output_type": "execute_result"
    }
   ],
   "source": [
    "pd.DataFrame(bag_of_words.toarray(), columns=vectorizer.get_feature_names_out())"
   ],
   "metadata": {
    "collapsed": false,
    "ExecuteTime": {
     "end_time": "2023-11-30T19:58:58.536942600Z",
     "start_time": "2023-11-30T19:58:58.482170Z"
    }
   },
   "id": "8eaf541408c573f5"
  },
  {
   "cell_type": "code",
   "execution_count": 12,
   "outputs": [
    {
     "data": {
      "text/plain": "{'this': 9,\n 'is': 3,\n 'the': 7,\n 'first': 1,\n 'document': 0,\n 'second': 6,\n 'third': 8,\n 'number': 4,\n 'three': 10,\n 'four': 2,\n 'to': 11,\n 'repeat': 5}"
     },
     "execution_count": 12,
     "metadata": {},
     "output_type": "execute_result"
    }
   ],
   "source": [
    "vectorizer.vocabulary_"
   ],
   "metadata": {
    "collapsed": false,
    "ExecuteTime": {
     "end_time": "2023-11-30T19:59:06.906522200Z",
     "start_time": "2023-11-30T19:59:06.850481300Z"
    }
   },
   "id": "bfc782ca1e92e9da"
  },
  {
   "cell_type": "markdown",
   "source": [
    "Во примеров наместо CountVectorizer користиме HashingVectorizer со кој вршиме хаширање на 12-те зборови во 8 корпи (n_features=8). Резултатот е НОРМАЛИЗИРАНА нумеричка репрезентација на сите зборови во 4-те документи. Забележете дека ID-то на зборовите сега е од 0 до 7, односно повеќе зборови се хеширале во иста корпа"
   ],
   "metadata": {
    "collapsed": false
   },
   "id": "8f0d3d025a4ffd80"
  },
  {
   "cell_type": "code",
   "execution_count": 13,
   "outputs": [
    {
     "name": "stdout",
     "output_type": "stream",
     "text": [
      "  (0, 0)\t-0.8944271909999159\n",
      "  (0, 5)\t0.4472135954999579\n",
      "  (0, 6)\t0.0\n",
      "  (1, 0)\t-0.5773502691896258\n",
      "  (1, 3)\t0.5773502691896258\n",
      "  (1, 5)\t0.5773502691896258\n",
      "  (1, 6)\t0.0\n",
      "  (2, 0)\t-0.7559289460184544\n",
      "  (2, 3)\t0.3779644730092272\n",
      "  (2, 5)\t0.3779644730092272\n",
      "  (2, 7)\t0.3779644730092272\n",
      "  (3, 0)\t0.31622776601683794\n",
      "  (3, 3)\t0.31622776601683794\n",
      "  (3, 5)\t0.6324555320336759\n",
      "  (3, 7)\t0.6324555320336759\n"
     ]
    }
   ],
   "source": [
    "from sklearn.feature_extraction.text import HashingVectorizer\n",
    "\n",
    "vectorizer = HashingVectorizer(n_features=8)\n",
    "feature_vector = vectorizer.fit_transform(corpus)\n",
    "print(feature_vector)"
   ],
   "metadata": {
    "collapsed": false,
    "ExecuteTime": {
     "end_time": "2023-11-30T19:59:59.374051700Z",
     "start_time": "2023-11-30T19:59:59.318499100Z"
    }
   },
   "id": "443bc82415d3ccd4"
  }
 ],
 "metadata": {
  "kernelspec": {
   "display_name": "Python 3",
   "language": "python",
   "name": "python3"
  },
  "language_info": {
   "codemirror_mode": {
    "name": "ipython",
    "version": 2
   },
   "file_extension": ".py",
   "mimetype": "text/x-python",
   "name": "python",
   "nbconvert_exporter": "python",
   "pygments_lexer": "ipython2",
   "version": "2.7.6"
  }
 },
 "nbformat": 4,
 "nbformat_minor": 5
}
