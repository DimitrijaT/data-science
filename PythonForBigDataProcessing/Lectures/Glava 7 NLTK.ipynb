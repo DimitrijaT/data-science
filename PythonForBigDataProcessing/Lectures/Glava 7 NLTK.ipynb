{
 "cells": [
  {
   "cell_type": "markdown",
   "source": [
    "# Пример 1"
   ],
   "metadata": {
    "collapsed": false
   },
   "id": "d1f62b7b5837d5c5"
  },
  {
   "cell_type": "markdown",
   "source": [
    "## Токенизација"
   ],
   "metadata": {
    "collapsed": false
   },
   "id": "4f11b6b68c019b72"
  },
  {
   "cell_type": "code",
   "execution_count": 5,
   "id": "initial_id",
   "metadata": {
    "collapsed": true,
    "ExecuteTime": {
     "end_time": "2023-12-03T18:46:20.450276800Z",
     "start_time": "2023-12-03T18:46:20.440382300Z"
    }
   },
   "outputs": [],
   "source": [
    "import nltk\n",
    "from nltk.tokenize import word_tokenize"
   ]
  },
  {
   "cell_type": "code",
   "execution_count": 7,
   "outputs": [
    {
     "data": {
      "text/plain": "['Ви', 'посакувам', 'успешен', 'ден', '!']"
     },
     "execution_count": 7,
     "metadata": {},
     "output_type": "execute_result"
    }
   ],
   "source": [
    "s = \"Ви посакувам успешен ден!\"\n",
    "word_tokenize(s)"
   ],
   "metadata": {
    "collapsed": false,
    "ExecuteTime": {
     "end_time": "2023-12-03T18:46:25.821953100Z",
     "start_time": "2023-12-03T18:46:25.805661Z"
    }
   },
   "id": "7be667bb0efcc0c9"
  },
  {
   "cell_type": "code",
   "execution_count": 8,
   "outputs": [
    {
     "data": {
      "text/plain": "['Ви', 'посакувам', 'успешен', 'ден!']"
     },
     "execution_count": 8,
     "metadata": {},
     "output_type": "execute_result"
    }
   ],
   "source": [
    "s.split(\" \")"
   ],
   "metadata": {
    "collapsed": false,
    "ExecuteTime": {
     "end_time": "2023-12-03T18:46:53.829257600Z",
     "start_time": "2023-12-03T18:46:53.822868300Z"
    }
   },
   "id": "1b31d491b481d4b0"
  },
  {
   "cell_type": "markdown",
   "source": [
    "# Пример 2"
   ],
   "metadata": {
    "collapsed": false
   },
   "id": "2aa608404f8c37f0"
  },
  {
   "cell_type": "markdown",
   "source": [
    "## Препознавање на сопствените именки за англискиот јазик"
   ],
   "metadata": {
    "collapsed": false
   },
   "id": "848d7e0a6a365b42"
  },
  {
   "cell_type": "code",
   "execution_count": 12,
   "outputs": [],
   "source": [
    "import nltk\n",
    "from nltk import ne_chunk\n",
    "from nltk.tokenize import word_tokenize"
   ],
   "metadata": {
    "collapsed": false,
    "ExecuteTime": {
     "end_time": "2023-12-03T18:52:54.550578Z",
     "start_time": "2023-12-03T18:52:54.537981100Z"
    }
   },
   "id": "9d29204de59f0e6"
  },
  {
   "cell_type": "code",
   "execution_count": 19,
   "outputs": [
    {
     "name": "stderr",
     "output_type": "stream",
     "text": [
      "[nltk_data] Downloading package averaged_perceptron_tagger to\n",
      "[nltk_data]     C:\\Users\\dimit\\AppData\\Roaming\\nltk_data...\n",
      "[nltk_data]   Package averaged_perceptron_tagger is already up-to-\n",
      "[nltk_data]       date!\n",
      "[nltk_data] Downloading package maxent_ne_chunker to\n",
      "[nltk_data]     C:\\Users\\dimit\\AppData\\Roaming\\nltk_data...\n",
      "[nltk_data]   Package maxent_ne_chunker is already up-to-date!\n",
      "[nltk_data] Downloading package words to\n",
      "[nltk_data]     C:\\Users\\dimit\\AppData\\Roaming\\nltk_data...\n",
      "[nltk_data]   Unzipping corpora\\words.zip.\n"
     ]
    },
    {
     "data": {
      "text/plain": "True"
     },
     "execution_count": 19,
     "metadata": {},
     "output_type": "execute_result"
    }
   ],
   "source": [
    "nltk.download('averaged_perceptron_tagger')\n",
    "nltk.download('maxent_ne_chunker')\n",
    "nltk.download('words')"
   ],
   "metadata": {
    "collapsed": false,
    "ExecuteTime": {
     "end_time": "2023-12-03T18:53:39.125220500Z",
     "start_time": "2023-12-03T18:53:36.781102100Z"
    }
   },
   "id": "da70e72e708fa58f"
  },
  {
   "cell_type": "code",
   "execution_count": 26,
   "outputs": [],
   "source": [
    "s = \"Mark is studying at Stanford University in California\""
   ],
   "metadata": {
    "collapsed": false,
    "ExecuteTime": {
     "end_time": "2023-12-03T18:55:53.907704800Z",
     "start_time": "2023-12-03T18:55:53.895978400Z"
    }
   },
   "id": "5167e1c76fe761b"
  },
  {
   "cell_type": "code",
   "execution_count": 27,
   "outputs": [
    {
     "name": "stdout",
     "output_type": "stream",
     "text": [
      "(S\n",
      "  (PERSON Mark/NNP)\n",
      "  is/VBZ\n",
      "  studying/VBG\n",
      "  at/IN\n",
      "  (ORGANIZATION Stanford/NNP University/NNP)\n",
      "  in/IN\n",
      "  (GPE California/NNP))\n"
     ]
    }
   ],
   "source": [
    "print(ne_chunk(nltk.pos_tag(word_tokenize(s)), binary=False))"
   ],
   "metadata": {
    "collapsed": false,
    "ExecuteTime": {
     "end_time": "2023-12-03T18:55:54.159242800Z",
     "start_time": "2023-12-03T18:55:54.129849300Z"
    }
   },
   "id": "4e8930bf4bf1f2c9"
  },
  {
   "cell_type": "markdown",
   "source": [
    "## Препознавање на сопствените именки за македонскиот јазик"
   ],
   "metadata": {
    "collapsed": false
   },
   "id": "a0dc85ef32fa5f22"
  },
  {
   "cell_type": "code",
   "execution_count": 28,
   "outputs": [],
   "source": [
    "s = \"Марко студира на ФИНКИ во Скопје\""
   ],
   "metadata": {
    "collapsed": false,
    "ExecuteTime": {
     "end_time": "2023-12-03T18:56:21.756908700Z",
     "start_time": "2023-12-03T18:56:21.746919800Z"
    }
   },
   "id": "28db808a44b1e7c5"
  },
  {
   "cell_type": "code",
   "execution_count": 29,
   "outputs": [
    {
     "name": "stdout",
     "output_type": "stream",
     "text": [
      "(S (PERSON Марко/JJ) студира/NNP на/NNP ФИНКИ/NNP во/NNP Скопје/NN)\n"
     ]
    }
   ],
   "source": [
    "print(ne_chunk(nltk.pos_tag(word_tokenize(s)), binary=False))"
   ],
   "metadata": {
    "collapsed": false,
    "ExecuteTime": {
     "end_time": "2023-12-03T18:56:22.053465800Z",
     "start_time": "2023-12-03T18:56:22.041065200Z"
    }
   },
   "id": "eb75ad67dfa10451"
  },
  {
   "cell_type": "markdown",
   "source": [
    "Не зависат од јазикот што се обработува:\n",
    "1. Токенизација\n",
    "2. Препознавање на сопствените именки (NER)\n",
    "3. Морфолошка сегментација\n",
    "4. Порамнување реченици од двојазичен превод\n",
    "5. Препознавање говор"
   ],
   "metadata": {
    "collapsed": false
   },
   "id": "b2fefd22a4a871a4"
  },
  {
   "cell_type": "markdown",
   "source": [
    "Зависат од јазикот што се обработува:\n",
    "1. WordNet\n",
    "2. Класификација на текстови\n",
    "3. Парсирање\n",
    "4. Тагирање\n",
    "5. Стемирање и Лематизација\n",
    "6. Одговарање прашања"
   ],
   "metadata": {
    "collapsed": false
   },
   "id": "27e5563985715938"
  },
  {
   "cell_type": "markdown",
   "source": [
    "## Паралелизација со помош на проток (Pipeline)"
   ],
   "metadata": {
    "collapsed": false
   },
   "id": "3fc5caaafe918991"
  },
  {
   "cell_type": "code",
   "execution_count": 36,
   "outputs": [],
   "source": [
    "from sklearn.feature_extraction.text import TfidfTransformer\n",
    "from sklearn.feature_extraction.text import CountVectorizer\n",
    "from sklearn.pipeline import Pipeline\n",
    "import numpy as np\n",
    "\n",
    "corpus = ['this is the first document.',\n",
    "          'this is the second document.',\n",
    "          'third document document number three',\n",
    "          'number four to repeat number four']\n",
    "vocabulary = ['this', 'is', 'first', 'second', 'third', 'repeat', 'document', 'number', 'to', ' four', 'the']"
   ],
   "metadata": {
    "collapsed": false,
    "ExecuteTime": {
     "end_time": "2023-12-03T19:45:38.908132500Z",
     "start_time": "2023-12-03T19:45:38.892590600Z"
    }
   },
   "id": "20aa9791735bd0bc"
  },
  {
   "cell_type": "code",
   "execution_count": 37,
   "outputs": [],
   "source": [
    "pipe = Pipeline([\n",
    "    ('count', CountVectorizer(vocabulary=vocabulary)),\n",
    "    ('tfid', TfidfTransformer())\n",
    "]).fit(corpus)"
   ],
   "metadata": {
    "collapsed": false,
    "ExecuteTime": {
     "end_time": "2023-12-03T19:45:39.521422100Z",
     "start_time": "2023-12-03T19:45:39.493454500Z"
    }
   },
   "id": "5d69efb94ba4317"
  },
  {
   "cell_type": "code",
   "execution_count": 38,
   "outputs": [
    {
     "data": {
      "text/plain": "array([[1, 1, 1, 0, 0, 0, 1, 0, 0, 0, 1],\n       [1, 1, 0, 1, 0, 0, 1, 0, 0, 0, 1],\n       [0, 0, 0, 0, 1, 0, 2, 1, 0, 0, 0],\n       [0, 0, 0, 0, 0, 1, 0, 2, 1, 0, 0]], dtype=int64)"
     },
     "execution_count": 38,
     "metadata": {},
     "output_type": "execute_result"
    }
   ],
   "source": [
    "pipe['count'].transform(corpus).toarray()"
   ],
   "metadata": {
    "collapsed": false,
    "ExecuteTime": {
     "end_time": "2023-12-03T19:45:39.700606Z",
     "start_time": "2023-12-03T19:45:39.663694500Z"
    }
   },
   "id": "dd70556556ac7179"
  },
  {
   "cell_type": "code",
   "execution_count": 39,
   "outputs": [
    {
     "data": {
      "text/plain": "array([1.51082562, 1.51082562, 1.91629073, 1.91629073, 1.91629073,\n       1.91629073, 1.22314355, 1.51082562, 1.91629073, 2.60943791,\n       1.51082562])"
     },
     "execution_count": 39,
     "metadata": {},
     "output_type": "execute_result"
    }
   ],
   "source": [
    "pipe['tfid'].idf_"
   ],
   "metadata": {
    "collapsed": false,
    "ExecuteTime": {
     "end_time": "2023-12-03T19:45:40.036426400Z",
     "start_time": "2023-12-03T19:45:40.024590200Z"
    }
   },
   "id": "67480bdad449e728"
  },
  {
   "cell_type": "code",
   "execution_count": 40,
   "outputs": [
    {
     "data": {
      "text/plain": "(4, 11)"
     },
     "execution_count": 40,
     "metadata": {},
     "output_type": "execute_result"
    }
   ],
   "source": [
    "pipe.transform(corpus).shape"
   ],
   "metadata": {
    "collapsed": false,
    "ExecuteTime": {
     "end_time": "2023-12-03T19:45:40.798596Z",
     "start_time": "2023-12-03T19:45:40.779278700Z"
    }
   },
   "id": "cbe6ac2fdf3f7efc"
  },
  {
   "cell_type": "markdown",
   "source": [
    "https://github.com/ParthasarathySubburaj/Medium_Blogs/tree/master/Multiprocessing_and_Multithreading_in_Python"
   ],
   "metadata": {
    "collapsed": false
   },
   "id": "11f7242225ecb4df"
  }
 ],
 "metadata": {
  "kernelspec": {
   "display_name": "Python 3",
   "language": "python",
   "name": "python3"
  },
  "language_info": {
   "codemirror_mode": {
    "name": "ipython",
    "version": 2
   },
   "file_extension": ".py",
   "mimetype": "text/x-python",
   "name": "python",
   "nbconvert_exporter": "python",
   "pygments_lexer": "ipython2",
   "version": "2.7.6"
  }
 },
 "nbformat": 4,
 "nbformat_minor": 5
}
