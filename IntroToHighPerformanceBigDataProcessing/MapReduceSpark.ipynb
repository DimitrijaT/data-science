{
 "cells": [
  {
   "cell_type": "code",
   "execution_count": 17,
   "id": "initial_id",
   "metadata": {
    "collapsed": true,
    "ExecuteTime": {
     "end_time": "2023-11-26T13:15:31.213935Z",
     "start_time": "2023-11-26T13:15:31.202339200Z"
    }
   },
   "outputs": [],
   "source": [
    "from pyspark.sql import SparkSession"
   ]
  },
  {
   "cell_type": "code",
   "execution_count": 18,
   "outputs": [],
   "source": [
    "sc = (SparkSession.builder.appName(\"PysparkWordExample\").config(\"spark.sql.shuffle.partitions\", \"50\")\n",
    "      .config(\"spark.driver.maxResultSize\", \"5g\")\n",
    "      .config(\"spark.sql.execution.arrow.enabled\", \"true\").getOrCreate())"
   ],
   "metadata": {
    "collapsed": false,
    "ExecuteTime": {
     "end_time": "2023-11-26T13:15:31.384106300Z",
     "start_time": "2023-11-26T13:15:31.361612100Z"
    }
   },
   "id": "98c223d2c34c93fb"
  },
  {
   "cell_type": "code",
   "execution_count": 20,
   "outputs": [
    {
     "name": "stdout",
     "output_type": "stream",
     "text": [
      "krusa: 2\n",
      "piper: 2\n",
      "patligjan: 1\n",
      "portokal: 3\n",
      "jabolko: 1\n",
      "tikva: 6\n",
      "pcenka: 1\n"
     ]
    }
   ],
   "source": [
    "text_file = sc.sparkContext.textFile(\"data/firstprogram.txt\")\n",
    "counts = (text_file.flatMap(lambda line: line.split(\" \"))\n",
    "          .map(lambda word: (word, 1))\n",
    "          .reduceByKey(lambda x, y: x + y))\n",
    "\n",
    "output = counts.collect()\n",
    "for (word, count) in output:\n",
    "    print(\"%s: %i\" % (word, count))"
   ],
   "metadata": {
    "collapsed": false,
    "ExecuteTime": {
     "end_time": "2023-11-26T13:15:42.400140600Z",
     "start_time": "2023-11-26T13:15:39.638226600Z"
    }
   },
   "id": "c6270897111be112"
  }
 ],
 "metadata": {
  "kernelspec": {
   "display_name": "Python 3",
   "language": "python",
   "name": "python3"
  },
  "language_info": {
   "codemirror_mode": {
    "name": "ipython",
    "version": 2
   },
   "file_extension": ".py",
   "mimetype": "text/x-python",
   "name": "python",
   "nbconvert_exporter": "python",
   "pygments_lexer": "ipython2",
   "version": "2.7.6"
  }
 },
 "nbformat": 4,
 "nbformat_minor": 5
}
